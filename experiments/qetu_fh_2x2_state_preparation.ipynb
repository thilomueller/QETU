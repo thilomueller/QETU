{
 "cells": [
  {
   "cell_type": "code",
   "execution_count": 1,
   "metadata": {},
   "outputs": [],
   "source": [
    "import sys\n",
    "\n",
    "from qetu_sim import *\n",
    "\n",
    "import numpy as np\n",
    "import scipy.linalg\n",
    "import itertools\n",
    "import matplotlib.pyplot as plt\n",
    "\n",
    "from qiskit import *\n",
    "from qiskit.transpiler import Layout\n",
    "from qiskit.quantum_info.operators import Operator\n",
    "from qiskit.circuit.library import Permutation\n",
    "from qiskit.visualization import *\n",
    "from qiskit_aer import AerSimulator"
   ]
  },
  {
   "cell_type": "code",
   "execution_count": 2,
   "metadata": {},
   "outputs": [],
   "source": [
    "u = 1\n",
    "t = 1\n",
    "delta_t = 1\n",
    "n = 1\n",
    "num_sites = 4"
   ]
  },
  {
   "cell_type": "code",
   "execution_count": 3,
   "metadata": {},
   "outputs": [
    {
     "name": "stderr",
     "output_type": "stream",
     "text": [
      "c:\\Python311\\Lib\\site-packages\\scipy\\sparse\\linalg\\_dsolve\\linsolve.py:229: SparseEfficiencyWarning: spsolve requires A be CSC or CSR matrix format\n",
      "  warn('spsolve requires A be CSC or CSR matrix format',\n",
      "c:\\Python311\\Lib\\site-packages\\scipy\\sparse\\linalg\\_dsolve\\linsolve.py:302: SparseEfficiencyWarning: spsolve is more efficient when sparse b is in the CSC matrix format\n",
      "  warn('spsolve is more efficient when sparse b '\n"
     ]
    }
   ],
   "source": [
    "ref_H_matrix = ref_fh_hamiltonian(u=u, t=t)\n",
    "ref_U_matrix = ref_fh_op(u=1, t=1, delta_t=1)"
   ]
  },
  {
   "cell_type": "code",
   "execution_count": 4,
   "metadata": {},
   "outputs": [
    {
     "name": "stdout",
     "output_type": "stream",
     "text": [
      "\n",
      "starting matlab engine..\n",
      "Degree: 2\t Trotter steps: 1\n",
      "-------------------------\n",
      "overlap: 0.02999102998113103\n",
      "overlap noise: 0.0016631336007637458\n",
      "\n",
      "starting matlab engine..\n",
      "\n",
      "stopping matlab engine..\n",
      "Degree: 4\t Trotter steps: 1\n",
      "-------------------------\n",
      "overlap: 0.034951289482428594\n",
      "overlap noise: 0.0009022824866188726\n",
      "\n",
      "starting matlab engine..\n",
      "\n",
      "stopping matlab engine..\n",
      "Degree: 6\t Trotter steps: 1\n",
      "-------------------------\n",
      "overlap: 0.07966886141039768\n",
      "overlap noise: 0.00037061069210988704\n",
      "\n",
      "starting matlab engine..\n",
      "\n",
      "stopping matlab engine..\n",
      "Degree: 8\t Trotter steps: 1\n",
      "-------------------------\n",
      "overlap: 0.16578542723998194\n",
      "overlap noise: 0.017197549886470626\n",
      "\n",
      "starting matlab engine..\n",
      "\n",
      "stopping matlab engine..\n",
      "Degree: 10\t Trotter steps: 1\n",
      "-------------------------\n",
      "overlap: 0.4161732939146569\n",
      "overlap noise: 0.00810328336478701\n",
      "\n",
      "starting matlab engine..\n",
      "\n",
      "stopping matlab engine..\n",
      "Degree: 12\t Trotter steps: 1\n",
      "-------------------------\n",
      "overlap: 0.5331749356879582\n"
     ]
    }
   ],
   "source": [
    "u = 1\n",
    "t = 1\n",
    "delta_t = 1\n",
    "degree_list = range(2,31,2)\n",
    "trotter_steps_list = range(1,2)\n",
    "overlap_list = []\n",
    "overlap_noise_list = []\n",
    "\n",
    "for degree in degree_list:\n",
    "    E_min, E_mu_m, E_mu_p, E_max = calculate_qsp_params(u, t)\n",
    "    qsp = QSPPhase()\n",
    "    phi_seq_su2 = qsp.cvx_qsp_heaviside(\n",
    "        degree, \n",
    "        E_min,\n",
    "        E_mu_m, \n",
    "        E_mu_p, \n",
    "        E_max\n",
    "    )\n",
    "    for trotter_steps in trotter_steps_list:\n",
    "        print(\"Degree: \" + str(degree) + \"\\t Trotter steps: \" + str(trotter_steps))\n",
    "        print(\"-------------------------\")\n",
    "        phi_vec = convert_Zrot_to_Xrot(phi_seq_su2)\n",
    "        QETU_circ = construct_QETU_circ(u, t, trotter_steps, phi_vec)\n",
    "        QETU_circ_WMI = transpile_QETU_to_WMI(QETU_circ)\n",
    "        initial_state = Statevector.from_label(\"0-+0++++0\")\n",
    "        final_state = qetu_sim(QETU_circ_WMI, initial_state)\n",
    "        ground_state_energy, ground_state_vector = calculate_reference_ground_state(u, t, False)\n",
    "        success_probability = scipy.linalg.norm(final_state)**2\n",
    "        overlap = abs(np.vdot(final_state / scipy.linalg.norm(final_state), ground_state_vector))**2\n",
    "        print(\"overlap: \" + str(overlap))\n",
    "        noise_model = wmi_grid_noise_model(depol_only=True)\n",
    "        initial_state_noise = Statevector.from_label(\"0-+0++++0\")\n",
    "        final_state_noise = qetu_sim_noise(QETU_circ_WMI, initial_state_noise, noise_model)\n",
    "        overlap_noise = abs(np.vdot(final_state_noise / scipy.linalg.norm(final_state_noise), ground_state_vector))**2\n",
    "        print(\"overlap noise: \" + str(overlap_noise))\n",
    "        overlap_list.append(overlap)\n",
    "        overlap_noise_list.append(overlap_noise)"
   ]
  },
  {
   "cell_type": "code",
   "execution_count": null,
   "metadata": {},
   "outputs": [
    {
     "data": {
      "text/plain": [
       "Text(0, 0.5, 'overlap')"
      ]
     },
     "execution_count": 5,
     "metadata": {},
     "output_type": "execute_result"
    },
    {
     "data": {
      "image/png": "[encoded data removed]",
      "text/plain": [
       "<Figure size 640x480 with 1 Axes>"
      ]
     },
     "metadata": {},
     "output_type": "display_data"
    }
   ],
   "source": [
    "plt.plot(degree_list, overlap_list)\n",
    "plt.plot(degree_list, overlap_noise_list)\n",
    "plt.xlabel(\"degree\")\n",
    "plt.ylabel(\"overlap\")"
   ]
  }
 ],
 "metadata": {
  "kernelspec": {
   "display_name": "Python 3",
   "language": "python",
   "name": "python3"
  },
  "language_info": {
   "codemirror_mode": {
    "name": "ipython",
    "version": 3
   },
   "file_extension": ".py",
   "mimetype": "text/x-python",
   "name": "python",
   "nbconvert_exporter": "python",
   "pygments_lexer": "ipython3",
   "version": "3.11.0"
  }
 },
 "nbformat": 4,
 "nbformat_minor": 2
}
