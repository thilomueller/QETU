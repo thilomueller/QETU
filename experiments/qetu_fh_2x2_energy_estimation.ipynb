{
 "cells": [
  {
   "cell_type": "code",
   "execution_count": 1,
   "metadata": {},
   "outputs": [],
   "source": [
    "import sys\n",
    "\n",
    "from qetu_sim import *\n",
    "\n",
    "import numpy as np\n",
    "import scipy.linalg\n",
    "import itertools\n",
    "import matplotlib.pyplot as plt\n",
    "\n",
    "from qiskit import *\n",
    "from qiskit.transpiler import Layout\n",
    "from qiskit.quantum_info.operators import Operator\n",
    "from qiskit.circuit.library import Permutation\n",
    "from qiskit.visualization import *\n",
    "from qiskit_aer import AerSimulator"
   ]
  },
  {
   "cell_type": "code",
   "execution_count": 2,
   "metadata": {},
   "outputs": [],
   "source": [
    "u = 1\n",
    "t = 1\n",
    "delta_t = 1\n",
    "n = 1\n",
    "num_sites = 4"
   ]
  },
  {
   "cell_type": "code",
   "execution_count": 3,
   "metadata": {},
   "outputs": [],
   "source": [
    "H_ref = ref_fh_hamiltonian(u=u, t=t, WMI_qubit_layout=True, include_aux=True)\n",
    "λ, v = np.linalg.eigh(H_ref)\n",
    "ground_state_energy = λ[0]\n",
    "ground_state_vector = v[:,0]"
   ]
  },
  {
   "cell_type": "code",
   "execution_count": 4,
   "metadata": {},
   "outputs": [
    {
     "name": "stdout",
     "output_type": "stream",
     "text": [
      "\n",
      "starting matlab engine..\n",
      "Degree: 30\t Trotter steps: 3\n",
      "-------------------------\n",
      "overlap: 0.989866727634288\n",
      "E0_meas: -22.185499999999998\n",
      "|E0 - E0_meas|: 0.4584918268267799\n"
     ]
    }
   ],
   "source": [
    "noise_model = wmi_grid_noise_model()\n",
    "sim_ideal = AerSimulator()\n",
    "sim_noise = AerSimulator(noise_model=noise_model)\n",
    "\n",
    "degree_list = range(30,31,2)\n",
    "trotter_steps_list = range(3,4)\n",
    "energy_estimation_list = []\n",
    "\n",
    "for degree in degree_list:\n",
    "    E_min, E_mu_m, E_mu_p, E_max = calculate_qsp_params(u, t)\n",
    "    qsp = QSPPhase()\n",
    "    phi_seq_su2 = qsp.cvx_qsp_heaviside(\n",
    "        degree, \n",
    "        E_min,\n",
    "        E_mu_m, \n",
    "        E_mu_p, \n",
    "        E_max\n",
    "    )\n",
    "    phi_vec = convert_Zrot_to_Xrot(phi_seq_su2)\n",
    "    for trotter_steps in trotter_steps_list:\n",
    "        print(\"Degree: \" + str(degree) + \"\\t Trotter steps: \" + str(trotter_steps))\n",
    "        print(\"-------------------------\")\n",
    "        # Construct quantum circuit\n",
    "        QETU_circ = construct_QETU_circ(u, t, trotter_steps, phi_vec)\n",
    "        QETU_circ_WMI = transpile_QETU_to_WMI(QETU_circ)\n",
    "        QETU_circ_WMI = add_pswap_labels(QETU_circ_WMI)\n",
    "        QETU_circ_WMI = add_sy_labels(QETU_circ_WMI)\n",
    "        QETU_circ_WMI = transpile(QETU_circ_WMI, sim_ideal, basis_gates=['pswap', 'cp', 'rz', 'sx', 'sy', 'x', 'y', 'unitary'])\n",
    "        # prepare ground state\n",
    "        initial_state = Statevector.from_label(\"+01+0-10-\")\n",
    "        circuit = QuantumCircuit(9, 1)\n",
    "        circuit.initialize(initial_state)\n",
    "        circuit.compose(QETU_circ_WMI, inplace=True)\n",
    "        circuit.measure(4, 0)\n",
    "        circuit.save_statevector()\n",
    "        result = sim_ideal.run(transpile(circuit, sim_ideal)).result()\n",
    "        psi = result.get_statevector(circuit)\n",
    "        final_state = psi.data.real\n",
    "        final_state_norm = final_state / np.linalg.norm(final_state, 2)\n",
    "        overlap = abs(np.vdot(final_state_norm, ground_state_vector))**2\n",
    "        print(\"overlap: \" + str(overlap))\n",
    "        # estimate ground state\n",
    "        E0_meas = estimate_ground_state_energy(final_state_norm, u=1, t=1, num_shots=1_000)\n",
    "        energy_estimation_list.append(E0_meas)\n",
    "        print(\"E0_meas: \" + str(E0_meas))\n",
    "        print(\"|E0 - E0_meas|: \" + str(abs(ground_state_energy - E0_meas)))"
   ]
  }
 ],
 "metadata": {
  "kernelspec": {
   "display_name": "Python 3",
   "language": "python",
   "name": "python3"
  },
  "language_info": {
   "codemirror_mode": {
    "name": "ipython",
    "version": 3
   },
   "file_extension": ".py",
   "mimetype": "text/x-python",
   "name": "python",
   "nbconvert_exporter": "python",
   "pygments_lexer": "ipython3",
   "version": "3.11.0"
  }
 },
 "nbformat": 4,
 "nbformat_minor": 2
}
