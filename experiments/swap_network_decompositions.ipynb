{
 "cells": [
  {
   "cell_type": "code",
   "execution_count": 1,
   "metadata": {},
   "outputs": [],
   "source": [
    "from sympy import *\n",
    "from sympy.physics.quantum import TensorProduct"
   ]
  },
  {
   "cell_type": "code",
   "execution_count": 2,
   "metadata": {},
   "outputs": [],
   "source": [
    "lam = Symbol(\"λ\")\n",
    "P = Matrix([[1,0], [0, exp(I*lam)]])\n",
    "OO = Matrix([[1,0], [0,0]])\n",
    "II = Matrix([[0,0], [0,1]])\n",
    "Id = Matrix([[1,0], [0,1]])\n",
    "X = Matrix([[0,1], [1,0]])\n",
    "Y = Matrix([[0,-I], [I,0]])\n",
    "Z = Matrix([[1,0], [0,-1]])\n",
    "Sig_plus = X + I*Y\n",
    "Sig_min = X - I*Y"
   ]
  },
  {
   "cell_type": "markdown",
   "metadata": {},
   "source": [
    "### fSim gate"
   ]
  },
  {
   "cell_type": "code",
   "execution_count": 3,
   "metadata": {},
   "outputs": [
    {
     "data": {
      "text/latex": [
       "$\\displaystyle \\left[\\begin{matrix}1 & 0 & 0 & 0\\\\0 & \\cos{\\left(θ \\right)} & - i \\sin{\\left(θ \\right)} & 0\\\\0 & - i \\sin{\\left(θ \\right)} & \\cos{\\left(θ \\right)} & 0\\\\0 & 0 & 0 & e^{- i φ}\\end{matrix}\\right]$"
      ],
      "text/plain": [
       "Matrix([\n",
       "[1,         0,         0,         0],\n",
       "[0,    cos(θ), -I*sin(θ),         0],\n",
       "[0, -I*sin(θ),    cos(θ),         0],\n",
       "[0,         0,         0, exp(-I*φ)]])"
      ]
     },
     "metadata": {},
     "output_type": "display_data"
    }
   ],
   "source": [
    "theta = Symbol(\"θ\")\n",
    "phi = Symbol(\"φ\")\n",
    "fSim = exp(-I*theta/2*(TensorProduct(X,X) + TensorProduct(Y,Y))) * exp(-I*phi/4*(TensorProduct(Id-Z,Id-Z)))\n",
    "display(simplify(fSim))"
   ]
  },
  {
   "cell_type": "markdown",
   "metadata": {},
   "source": [
    "### fSWAP gate"
   ]
  },
  {
   "cell_type": "code",
   "execution_count": 4,
   "metadata": {},
   "outputs": [
    {
     "data": {
      "text/latex": [
       "$\\displaystyle \\left[\\begin{matrix}1 & 0 & 0 & 0\\\\0 & 0 & 1 & 0\\\\0 & 1 & 0 & 0\\\\0 & 0 & 0 & -1\\end{matrix}\\right]$"
      ],
      "text/plain": [
       "Matrix([\n",
       "[1, 0, 0,  0],\n",
       "[0, 0, 1,  0],\n",
       "[0, 1, 0,  0],\n",
       "[0, 0, 0, -1]])"
      ]
     },
     "metadata": {},
     "output_type": "display_data"
    }
   ],
   "source": [
    "theta = pi\n",
    "phi = pi/2\n",
    "fSwap = exp(I*phi/2) * exp(-I*phi/2*(TensorProduct(X,X))) * exp(-I*phi/2*(TensorProduct(Y,Y))) * exp(-I*phi/2*(TensorProduct(Z,Z))) * exp(-I*pi/4*(TensorProduct(Id-Z,Id-Z)))\n",
    "display(simplify(fSwap))"
   ]
  },
  {
   "cell_type": "code",
   "execution_count": 6,
   "metadata": {},
   "outputs": [
    {
     "data": {
      "text/latex": [
       "$\\displaystyle \\left[\\begin{matrix}1 & 0 & 0 & 0\\\\0 & 0 & 1 & 0\\\\0 & 1 & 0 & 0\\\\0 & 0 & 0 & -1\\end{matrix}\\right]$"
      ],
      "text/plain": [
       "Matrix([\n",
       "[1, 0, 0,  0],\n",
       "[0, 0, 1,  0],\n",
       "[0, 1, 0,  0],\n",
       "[0, 0, 0, -1]])"
      ]
     },
     "metadata": {},
     "output_type": "display_data"
    }
   ],
   "source": [
    "fSwap = exp(I*phi/2) * exp(-I*phi/2*(TensorProduct(X,X) + TensorProduct(Y,Y) + (TensorProduct(Z,Z)))) * exp(-I*pi/4*(TensorProduct(Id-Z,Id-Z)))\n",
    "fSwap = simplify(fSwap)\n",
    "display(fSwap)"
   ]
  },
  {
   "cell_type": "code",
   "execution_count": 7,
   "metadata": {},
   "outputs": [
    {
     "data": {
      "text/latex": [
       "$\\displaystyle \\left[\\begin{matrix}e^{- \\frac{i \\pi}{4}} & 0 & 0 & 0\\\\0 & e^{\\frac{i \\pi}{4}} & 0 & 0\\\\0 & 0 & e^{\\frac{i \\pi}{4}} & 0\\\\0 & 0 & 0 & - e^{- \\frac{i \\pi}{4}}\\end{matrix}\\right]$"
      ],
      "text/plain": [
       "Matrix([\n",
       "[exp(-I*pi/4),           0,           0,             0],\n",
       "[           0, exp(I*pi/4),           0,             0],\n",
       "[           0,           0, exp(I*pi/4),             0],\n",
       "[           0,           0,           0, -exp(-I*pi/4)]])"
      ]
     },
     "execution_count": 7,
     "metadata": {},
     "output_type": "execute_result"
    }
   ],
   "source": [
    "exp(-I*pi/4*(TensorProduct(Z,Z))) * exp(-I*pi/4*(TensorProduct(Id-Z,Id-Z)))"
   ]
  },
  {
   "cell_type": "code",
   "execution_count": 8,
   "metadata": {},
   "outputs": [
    {
     "data": {
      "text/latex": [
       "$\\displaystyle \\left[\\begin{matrix}e^{- \\frac{i \\pi}{4}} & 0 & 0 & 0\\\\0 & e^{\\frac{i \\pi}{4}} & 0 & 0\\\\0 & 0 & e^{\\frac{i \\pi}{4}} & 0\\\\0 & 0 & 0 & - e^{- \\frac{i \\pi}{4}}\\end{matrix}\\right]$"
      ],
      "text/plain": [
       "Matrix([\n",
       "[exp(-I*pi/4),           0,           0,             0],\n",
       "[           0, exp(I*pi/4),           0,             0],\n",
       "[           0,           0, exp(I*pi/4),             0],\n",
       "[           0,           0,           0, -exp(-I*pi/4)]])"
      ]
     },
     "execution_count": 8,
     "metadata": {},
     "output_type": "execute_result"
    }
   ],
   "source": [
    "exp(-I*pi/4*(TensorProduct(Z,Z))) * exp(-I*pi/4*(TensorProduct(Id,Id) - TensorProduct(Id,Z) - TensorProduct(Z,Id) + TensorProduct(Z,Z)))"
   ]
  },
  {
   "cell_type": "code",
   "execution_count": 9,
   "metadata": {},
   "outputs": [
    {
     "data": {
      "text/latex": [
       "$\\displaystyle \\left[\\begin{matrix}1 & 0 & 0 & 0\\\\0 & 1 & 0 & 0\\\\0 & 0 & 1 & 0\\\\0 & 0 & 0 & -1\\end{matrix}\\right]$"
      ],
      "text/plain": [
       "Matrix([\n",
       "[1, 0, 0,  0],\n",
       "[0, 1, 0,  0],\n",
       "[0, 0, 1,  0],\n",
       "[0, 0, 0, -1]])"
      ]
     },
     "execution_count": 9,
     "metadata": {},
     "output_type": "execute_result"
    }
   ],
   "source": [
    "exp(-I*pi/4*(TensorProduct(Id,Id) - TensorProduct(Id,Z) - TensorProduct(Z,Id) + TensorProduct(Z,Z)))"
   ]
  },
  {
   "cell_type": "code",
   "execution_count": 10,
   "metadata": {},
   "outputs": [
    {
     "data": {
      "text/latex": [
       "$\\displaystyle \\left[\\begin{matrix}i & 0 & 0 & 0\\\\0 & 0 & i & 0\\\\0 & i & 0 & 0\\\\0 & 0 & 0 & - i\\end{matrix}\\right]$"
      ],
      "text/plain": [
       "Matrix([\n",
       "[I, 0, 0,  0],\n",
       "[0, 0, I,  0],\n",
       "[0, I, 0,  0],\n",
       "[0, 0, 0, -I]])"
      ]
     },
     "execution_count": 10,
     "metadata": {},
     "output_type": "execute_result"
    }
   ],
   "source": [
    "exp(I*pi/2*fSwap)"
   ]
  },
  {
   "cell_type": "code",
   "execution_count": 11,
   "metadata": {},
   "outputs": [
    {
     "data": {
      "text/latex": [
       "$\\displaystyle \\left[\\begin{matrix}1 & 0 & 0 & 0\\\\0 & 0 & -4 & 0\\\\0 & -4 & 0 & 0\\\\0 & 0 & 0 & -1.0\\end{matrix}\\right]$"
      ],
      "text/plain": [
       "Matrix([\n",
       "[1,  0,  0,    0],\n",
       "[0,  0, -4,    0],\n",
       "[0, -4,  0,    0],\n",
       "[0,  0,  0, -1.0]])"
      ]
     },
     "execution_count": 11,
     "metadata": {},
     "output_type": "execute_result"
    }
   ],
   "source": [
    "TensorProduct(Id, Id) + TensorProduct(Sig_plus*Z, Sig_min) + TensorProduct(Sig_min, Sig_plus*Z) - 1/2*TensorProduct(Id-Z, Id) - 1/2*TensorProduct(Id, Id-Z)"
   ]
  },
  {
   "cell_type": "code",
   "execution_count": 12,
   "metadata": {},
   "outputs": [
    {
     "data": {
      "text/latex": [
       "$\\displaystyle \\left[\\begin{matrix}1 & 0 & 0 & 0\\\\0 & 0 & 1 & 0\\\\0 & 1 & 0 & 0\\\\0 & 0 & 0 & -1\\end{matrix}\\right]$"
      ],
      "text/plain": [
       "Matrix([\n",
       "[1, 0, 0,  0],\n",
       "[0, 0, 1,  0],\n",
       "[0, 1, 0,  0],\n",
       "[0, 0, 0, -1]])"
      ]
     },
     "execution_count": 12,
     "metadata": {},
     "output_type": "execute_result"
    }
   ],
   "source": [
    "from sympy.physics.quantum.dagger import Dagger\n",
    "Dagger(fSwap)"
   ]
  },
  {
   "cell_type": "code",
   "execution_count": 13,
   "metadata": {},
   "outputs": [
    {
     "data": {
      "text/latex": [
       "$\\displaystyle \\left[\\begin{matrix}0 & 0 & 1 & 0\\\\0 & 0 & 0 & -1\\\\0 & 0 & 0 & 0\\\\0 & 0 & 0 & 0\\end{matrix}\\right]$"
      ],
      "text/plain": [
       "Matrix([\n",
       "[0, 0, 1,  0],\n",
       "[0, 0, 0, -1],\n",
       "[0, 0, 0,  0],\n",
       "[0, 0, 0,  0]])"
      ]
     },
     "execution_count": 13,
     "metadata": {},
     "output_type": "execute_result"
    }
   ],
   "source": [
    "fSwap * 1/2*(TensorProduct(Id,X) + I*TensorProduct(Id,Y)) * fSwap"
   ]
  },
  {
   "cell_type": "code",
   "execution_count": 14,
   "metadata": {},
   "outputs": [
    {
     "data": {
      "text/latex": [
       "$\\displaystyle \\left[\\begin{matrix}0 & 0 & 1.0 & 0\\\\0 & 0 & 0 & -1.0\\\\0 & 0 & 0 & 0\\\\0 & 0 & 0 & 0\\end{matrix}\\right]$"
      ],
      "text/plain": [
       "Matrix([\n",
       "[0, 0, 1.0,    0],\n",
       "[0, 0,   0, -1.0],\n",
       "[0, 0,   0,    0],\n",
       "[0, 0,   0,    0]])"
      ]
     },
     "execution_count": 14,
     "metadata": {},
     "output_type": "execute_result"
    }
   ],
   "source": [
    "1/2*(TensorProduct(X,Z) + I*TensorProduct(Y,Z))"
   ]
  },
  {
   "cell_type": "code",
   "execution_count": 15,
   "metadata": {},
   "outputs": [
    {
     "data": {
      "text/latex": [
       "$\\displaystyle \\left[\\begin{matrix}1 & 0 & 0 & 0\\\\0 & \\cos{\\left(\\Delta t \\right)} & i \\sin{\\left(\\Delta t \\right)} & 0\\\\0 & i \\sin{\\left(\\Delta t \\right)} & \\cos{\\left(\\Delta t \\right)} & 0\\\\0 & 0 & 0 & 1\\end{matrix}\\right]$"
      ],
      "text/plain": [
       "Matrix([\n",
       "[1,               0,               0, 0],\n",
       "[0,   cos(\\Delta t), I*sin(\\Delta t), 0],\n",
       "[0, I*sin(\\Delta t),   cos(\\Delta t), 0],\n",
       "[0,               0,               0, 1]])"
      ]
     },
     "execution_count": 15,
     "metadata": {},
     "output_type": "execute_result"
    }
   ],
   "source": [
    "t = Symbol(\"\\Delta t\")\n",
    "simplify(exp(I*t/2*(TensorProduct(X,X) + TensorProduct(Y,Y))))"
   ]
  },
  {
   "cell_type": "code",
   "execution_count": 16,
   "metadata": {},
   "outputs": [
    {
     "data": {
      "text/latex": [
       "$\\displaystyle \\left[\\begin{matrix}0 & -2\\\\-2 & 0\\end{matrix}\\right]$"
      ],
      "text/plain": [
       "Matrix([\n",
       "[ 0, -2],\n",
       "[-2,  0]])"
      ]
     },
     "execution_count": 16,
     "metadata": {},
     "output_type": "execute_result"
    }
   ],
   "source": [
    "-2*X"
   ]
  },
  {
   "cell_type": "code",
   "execution_count": 17,
   "metadata": {},
   "outputs": [
    {
     "data": {
      "text/latex": [
       "$\\displaystyle \\left[\\begin{matrix}0 & -0.5 + 0.5 i\\\\-0.5 - 0.5 i & 0\\end{matrix}\\right]$"
      ],
      "text/plain": [
       "Matrix([\n",
       "[           0, -0.5 + 0.5*I],\n",
       "[-0.5 - 0.5*I,            0]])"
      ]
     },
     "execution_count": 17,
     "metadata": {},
     "output_type": "execute_result"
    }
   ],
   "source": [
    "-1/2*(X+Y)"
   ]
  },
  {
   "cell_type": "code",
   "execution_count": 18,
   "metadata": {},
   "outputs": [
    {
     "data": {
      "text/latex": [
       "$\\displaystyle \\left[\\begin{array}{cccccccccccccccc}0 & 0 & 0 & 0 & 0 & 0 & 0 & 0 & 0 & 0 & 0 & 0 & 0 & 0 & 0 & 0\\\\0 & 0 & 0 & 0 & 0 & 0 & 0 & 0 & -4 & 0 & 0 & 0 & 0 & 0 & 0 & 0\\\\0 & 0 & 0 & 0 & 0 & 0 & 0 & 0 & 0 & 0 & 0 & 0 & 0 & 0 & 0 & 0\\\\0 & 0 & 0 & 0 & 0 & 0 & 0 & 0 & 0 & 0 & 4 & 0 & 0 & 0 & 0 & 0\\\\0 & 0 & 0 & 0 & 0 & 0 & 0 & 0 & 0 & 0 & 0 & 0 & 0 & 0 & 0 & 0\\\\0 & 0 & 0 & 0 & 0 & 0 & 0 & 0 & 0 & 0 & 0 & 0 & 4 & 0 & 0 & 0\\\\0 & 0 & 0 & 0 & 0 & 0 & 0 & 0 & 0 & 0 & 0 & 0 & 0 & 0 & 0 & 0\\\\0 & 0 & 0 & 0 & 0 & 0 & 0 & 0 & 0 & 0 & 0 & 0 & 0 & 0 & -4 & 0\\\\0 & -4 & 0 & 0 & 0 & 0 & 0 & 0 & 0 & 0 & 0 & 0 & 0 & 0 & 0 & 0\\\\0 & 0 & 0 & 0 & 0 & 0 & 0 & 0 & 0 & 0 & 0 & 0 & 0 & 0 & 0 & 0\\\\0 & 0 & 0 & 4 & 0 & 0 & 0 & 0 & 0 & 0 & 0 & 0 & 0 & 0 & 0 & 0\\\\0 & 0 & 0 & 0 & 0 & 0 & 0 & 0 & 0 & 0 & 0 & 0 & 0 & 0 & 0 & 0\\\\0 & 0 & 0 & 0 & 0 & 4 & 0 & 0 & 0 & 0 & 0 & 0 & 0 & 0 & 0 & 0\\\\0 & 0 & 0 & 0 & 0 & 0 & 0 & 0 & 0 & 0 & 0 & 0 & 0 & 0 & 0 & 0\\\\0 & 0 & 0 & 0 & 0 & 0 & 0 & -4 & 0 & 0 & 0 & 0 & 0 & 0 & 0 & 0\\\\0 & 0 & 0 & 0 & 0 & 0 & 0 & 0 & 0 & 0 & 0 & 0 & 0 & 0 & 0 & 0\\end{array}\\right]$"
      ],
      "text/plain": [
       "Matrix([\n",
       "[0,  0, 0, 0, 0, 0, 0,  0,  0, 0, 0, 0, 0, 0,  0, 0],\n",
       "[0,  0, 0, 0, 0, 0, 0,  0, -4, 0, 0, 0, 0, 0,  0, 0],\n",
       "[0,  0, 0, 0, 0, 0, 0,  0,  0, 0, 0, 0, 0, 0,  0, 0],\n",
       "[0,  0, 0, 0, 0, 0, 0,  0,  0, 0, 4, 0, 0, 0,  0, 0],\n",
       "[0,  0, 0, 0, 0, 0, 0,  0,  0, 0, 0, 0, 0, 0,  0, 0],\n",
       "[0,  0, 0, 0, 0, 0, 0,  0,  0, 0, 0, 0, 4, 0,  0, 0],\n",
       "[0,  0, 0, 0, 0, 0, 0,  0,  0, 0, 0, 0, 0, 0,  0, 0],\n",
       "[0,  0, 0, 0, 0, 0, 0,  0,  0, 0, 0, 0, 0, 0, -4, 0],\n",
       "[0, -4, 0, 0, 0, 0, 0,  0,  0, 0, 0, 0, 0, 0,  0, 0],\n",
       "[0,  0, 0, 0, 0, 0, 0,  0,  0, 0, 0, 0, 0, 0,  0, 0],\n",
       "[0,  0, 0, 4, 0, 0, 0,  0,  0, 0, 0, 0, 0, 0,  0, 0],\n",
       "[0,  0, 0, 0, 0, 0, 0,  0,  0, 0, 0, 0, 0, 0,  0, 0],\n",
       "[0,  0, 0, 0, 0, 4, 0,  0,  0, 0, 0, 0, 0, 0,  0, 0],\n",
       "[0,  0, 0, 0, 0, 0, 0,  0,  0, 0, 0, 0, 0, 0,  0, 0],\n",
       "[0,  0, 0, 0, 0, 0, 0, -4,  0, 0, 0, 0, 0, 0,  0, 0],\n",
       "[0,  0, 0, 0, 0, 0, 0,  0,  0, 0, 0, 0, 0, 0,  0, 0]])"
      ]
     },
     "execution_count": 18,
     "metadata": {},
     "output_type": "execute_result"
    }
   ],
   "source": [
    "TensorProduct(-Sig_plus, Z, Z, Sig_min) + TensorProduct(-Sig_min, Z, Z, Sig_plus)"
   ]
  },
  {
   "cell_type": "code",
   "execution_count": 19,
   "metadata": {},
   "outputs": [
    {
     "data": {
      "text/latex": [
       "$\\displaystyle \\left[\\begin{array}{cccccccccccccccc}0 & 0 & 0 & 0 & 0 & 0 & 0 & 0 & 0 & 0 & 0 & 0 & 0 & 0 & 0 & 0\\\\0 & 0 & 0 & 0 & 0 & 0 & 0 & 0 & -1.0 & 0 & 0 & 0 & 0 & 0 & 0 & 0\\\\0 & 0 & 0 & 0 & 0 & 0 & 0 & 0 & 0 & 0 & 0 & 0 & 0 & 0 & 0 & 0\\\\0 & 0 & 0 & 0 & 0 & 0 & 0 & 0 & 0 & 0 & 1.0 & 0 & 0 & 0 & 0 & 0\\\\0 & 0 & 0 & 0 & 0 & 0 & 0 & 0 & 0 & 0 & 0 & 0 & 0 & 0 & 0 & 0\\\\0 & 0 & 0 & 0 & 0 & 0 & 0 & 0 & 0 & 0 & 0 & 0 & 1.0 & 0 & 0 & 0\\\\0 & 0 & 0 & 0 & 0 & 0 & 0 & 0 & 0 & 0 & 0 & 0 & 0 & 0 & 0 & 0\\\\0 & 0 & 0 & 0 & 0 & 0 & 0 & 0 & 0 & 0 & 0 & 0 & 0 & 0 & -1.0 & 0\\\\0 & -1.0 & 0 & 0 & 0 & 0 & 0 & 0 & 0 & 0 & 0 & 0 & 0 & 0 & 0 & 0\\\\0 & 0 & 0 & 0 & 0 & 0 & 0 & 0 & 0 & 0 & 0 & 0 & 0 & 0 & 0 & 0\\\\0 & 0 & 0 & 1.0 & 0 & 0 & 0 & 0 & 0 & 0 & 0 & 0 & 0 & 0 & 0 & 0\\\\0 & 0 & 0 & 0 & 0 & 0 & 0 & 0 & 0 & 0 & 0 & 0 & 0 & 0 & 0 & 0\\\\0 & 0 & 0 & 0 & 0 & 1.0 & 0 & 0 & 0 & 0 & 0 & 0 & 0 & 0 & 0 & 0\\\\0 & 0 & 0 & 0 & 0 & 0 & 0 & 0 & 0 & 0 & 0 & 0 & 0 & 0 & 0 & 0\\\\0 & 0 & 0 & 0 & 0 & 0 & 0 & -1.0 & 0 & 0 & 0 & 0 & 0 & 0 & 0 & 0\\\\0 & 0 & 0 & 0 & 0 & 0 & 0 & 0 & 0 & 0 & 0 & 0 & 0 & 0 & 0 & 0\\end{array}\\right]$"
      ],
      "text/plain": [
       "Matrix([\n",
       "[0,    0, 0,   0, 0,   0, 0,    0,    0, 0,   0, 0,   0, 0,    0, 0],\n",
       "[0,    0, 0,   0, 0,   0, 0,    0, -1.0, 0,   0, 0,   0, 0,    0, 0],\n",
       "[0,    0, 0,   0, 0,   0, 0,    0,    0, 0,   0, 0,   0, 0,    0, 0],\n",
       "[0,    0, 0,   0, 0,   0, 0,    0,    0, 0, 1.0, 0,   0, 0,    0, 0],\n",
       "[0,    0, 0,   0, 0,   0, 0,    0,    0, 0,   0, 0,   0, 0,    0, 0],\n",
       "[0,    0, 0,   0, 0,   0, 0,    0,    0, 0,   0, 0, 1.0, 0,    0, 0],\n",
       "[0,    0, 0,   0, 0,   0, 0,    0,    0, 0,   0, 0,   0, 0,    0, 0],\n",
       "[0,    0, 0,   0, 0,   0, 0,    0,    0, 0,   0, 0,   0, 0, -1.0, 0],\n",
       "[0, -1.0, 0,   0, 0,   0, 0,    0,    0, 0,   0, 0,   0, 0,    0, 0],\n",
       "[0,    0, 0,   0, 0,   0, 0,    0,    0, 0,   0, 0,   0, 0,    0, 0],\n",
       "[0,    0, 0, 1.0, 0,   0, 0,    0,    0, 0,   0, 0,   0, 0,    0, 0],\n",
       "[0,    0, 0,   0, 0,   0, 0,    0,    0, 0,   0, 0,   0, 0,    0, 0],\n",
       "[0,    0, 0,   0, 0, 1.0, 0,    0,    0, 0,   0, 0,   0, 0,    0, 0],\n",
       "[0,    0, 0,   0, 0,   0, 0,    0,    0, 0,   0, 0,   0, 0,    0, 0],\n",
       "[0,    0, 0,   0, 0,   0, 0, -1.0,    0, 0,   0, 0,   0, 0,    0, 0],\n",
       "[0,    0, 0,   0, 0,   0, 0,    0,    0, 0,   0, 0,   0, 0,    0, 0]])"
      ]
     },
     "execution_count": 19,
     "metadata": {},
     "output_type": "execute_result"
    }
   ],
   "source": [
    "-1/2*(TensorProduct(X, Z, Z, X) + TensorProduct(Y, Z, Z, Y))"
   ]
  },
  {
   "cell_type": "code",
   "execution_count": 20,
   "metadata": {},
   "outputs": [
    {
     "data": {
      "text/latex": [
       "$\\displaystyle \\left[\\begin{array}{cccccccccccccccc}0 & 0 & 0 & 0 & 0 & 0 & 0 & 0 & 0 & 0 & 0 & 0 & 0 & 0 & 0 & 0\\\\0 & 0 & 0 & 0 & 0 & 0 & 0 & 0 & -4 & 0 & 0 & 0 & 0 & 0 & 0 & 0\\\\0 & 0 & 0 & 0 & 0 & 0 & 0 & 0 & 0 & 0 & 0 & 0 & 0 & 0 & 0 & 0\\\\0 & 0 & 0 & 0 & 0 & 0 & 0 & 0 & 0 & 0 & 4 & 0 & 0 & 0 & 0 & 0\\\\0 & 0 & 0 & 0 & 0 & 0 & 0 & 0 & 0 & 0 & 0 & 0 & 0 & 0 & 0 & 0\\\\0 & 0 & 0 & 0 & 0 & 0 & 0 & 0 & 0 & 0 & 0 & 0 & 4 & 0 & 0 & 0\\\\0 & 0 & 0 & 0 & 0 & 0 & 0 & 0 & 0 & 0 & 0 & 0 & 0 & 0 & 0 & 0\\\\0 & 0 & 0 & 0 & 0 & 0 & 0 & 0 & 0 & 0 & 0 & 0 & 0 & 0 & -4 & 0\\\\0 & -4 & 0 & 0 & 0 & 0 & 0 & 0 & 0 & 0 & 0 & 0 & 0 & 0 & 0 & 0\\\\0 & 0 & 0 & 0 & 0 & 0 & 0 & 0 & 0 & 0 & 0 & 0 & 0 & 0 & 0 & 0\\\\0 & 0 & 0 & 4 & 0 & 0 & 0 & 0 & 0 & 0 & 0 & 0 & 0 & 0 & 0 & 0\\\\0 & 0 & 0 & 0 & 0 & 0 & 0 & 0 & 0 & 0 & 0 & 0 & 0 & 0 & 0 & 0\\\\0 & 0 & 0 & 0 & 0 & 4 & 0 & 0 & 0 & 0 & 0 & 0 & 0 & 0 & 0 & 0\\\\0 & 0 & 0 & 0 & 0 & 0 & 0 & 0 & 0 & 0 & 0 & 0 & 0 & 0 & 0 & 0\\\\0 & 0 & 0 & 0 & 0 & 0 & 0 & -4 & 0 & 0 & 0 & 0 & 0 & 0 & 0 & 0\\\\0 & 0 & 0 & 0 & 0 & 0 & 0 & 0 & 0 & 0 & 0 & 0 & 0 & 0 & 0 & 0\\end{array}\\right]$"
      ],
      "text/plain": [
       "Matrix([\n",
       "[0,  0, 0, 0, 0, 0, 0,  0,  0, 0, 0, 0, 0, 0,  0, 0],\n",
       "[0,  0, 0, 0, 0, 0, 0,  0, -4, 0, 0, 0, 0, 0,  0, 0],\n",
       "[0,  0, 0, 0, 0, 0, 0,  0,  0, 0, 0, 0, 0, 0,  0, 0],\n",
       "[0,  0, 0, 0, 0, 0, 0,  0,  0, 0, 4, 0, 0, 0,  0, 0],\n",
       "[0,  0, 0, 0, 0, 0, 0,  0,  0, 0, 0, 0, 0, 0,  0, 0],\n",
       "[0,  0, 0, 0, 0, 0, 0,  0,  0, 0, 0, 0, 4, 0,  0, 0],\n",
       "[0,  0, 0, 0, 0, 0, 0,  0,  0, 0, 0, 0, 0, 0,  0, 0],\n",
       "[0,  0, 0, 0, 0, 0, 0,  0,  0, 0, 0, 0, 0, 0, -4, 0],\n",
       "[0, -4, 0, 0, 0, 0, 0,  0,  0, 0, 0, 0, 0, 0,  0, 0],\n",
       "[0,  0, 0, 0, 0, 0, 0,  0,  0, 0, 0, 0, 0, 0,  0, 0],\n",
       "[0,  0, 0, 4, 0, 0, 0,  0,  0, 0, 0, 0, 0, 0,  0, 0],\n",
       "[0,  0, 0, 0, 0, 0, 0,  0,  0, 0, 0, 0, 0, 0,  0, 0],\n",
       "[0,  0, 0, 0, 0, 4, 0,  0,  0, 0, 0, 0, 0, 0,  0, 0],\n",
       "[0,  0, 0, 0, 0, 0, 0,  0,  0, 0, 0, 0, 0, 0,  0, 0],\n",
       "[0,  0, 0, 0, 0, 0, 0, -4,  0, 0, 0, 0, 0, 0,  0, 0],\n",
       "[0,  0, 0, 0, 0, 0, 0,  0,  0, 0, 0, 0, 0, 0,  0, 0]])"
      ]
     },
     "execution_count": 20,
     "metadata": {},
     "output_type": "execute_result"
    }
   ],
   "source": [
    "-2*(TensorProduct(X, Z, Z, X) + TensorProduct(Y, Z, Z, Y))"
   ]
  },
  {
   "cell_type": "code",
   "execution_count": 21,
   "metadata": {},
   "outputs": [
    {
     "data": {
      "text/latex": [
       "$\\displaystyle \\left[\\begin{array}{cccccccccccccccc}1 & 0 & 0 & 0 & 0 & 0 & 0 & 0 & 0 & 0 & 0 & 0 & 0 & 0 & 0 & 0\\\\0 & 1 & 0 & 0 & 0 & 0 & 0 & 0 & 0 & 0 & 0 & 0 & 0 & 0 & 0 & 0\\\\0 & 0 & \\cos{\\left(4 \\Delta t \\right)} & 0 & 0 & 0 & 0 & 0 & - i \\sin{\\left(4 \\Delta t \\right)} & 0 & 0 & 0 & 0 & 0 & 0 & 0\\\\0 & 0 & 0 & \\cos{\\left(4 \\Delta t \\right)} & 0 & 0 & 0 & 0 & 0 & - i \\sin{\\left(4 \\Delta t \\right)} & 0 & 0 & 0 & 0 & 0 & 0\\\\0 & 0 & 0 & 0 & 1 & 0 & 0 & 0 & 0 & 0 & 0 & 0 & 0 & 0 & 0 & 0\\\\0 & 0 & 0 & 0 & 0 & 1 & 0 & 0 & 0 & 0 & 0 & 0 & 0 & 0 & 0 & 0\\\\0 & 0 & 0 & 0 & 0 & 0 & \\cos{\\left(4 \\Delta t \\right)} & 0 & 0 & 0 & 0 & 0 & i \\sin{\\left(4 \\Delta t \\right)} & 0 & 0 & 0\\\\0 & 0 & 0 & 0 & 0 & 0 & 0 & \\cos{\\left(4 \\Delta t \\right)} & 0 & 0 & 0 & 0 & 0 & i \\sin{\\left(4 \\Delta t \\right)} & 0 & 0\\\\0 & 0 & - i \\sin{\\left(4 \\Delta t \\right)} & 0 & 0 & 0 & 0 & 0 & \\cos{\\left(4 \\Delta t \\right)} & 0 & 0 & 0 & 0 & 0 & 0 & 0\\\\0 & 0 & 0 & - i \\sin{\\left(4 \\Delta t \\right)} & 0 & 0 & 0 & 0 & 0 & \\cos{\\left(4 \\Delta t \\right)} & 0 & 0 & 0 & 0 & 0 & 0\\\\0 & 0 & 0 & 0 & 0 & 0 & 0 & 0 & 0 & 0 & 1 & 0 & 0 & 0 & 0 & 0\\\\0 & 0 & 0 & 0 & 0 & 0 & 0 & 0 & 0 & 0 & 0 & 1 & 0 & 0 & 0 & 0\\\\0 & 0 & 0 & 0 & 0 & 0 & i \\sin{\\left(4 \\Delta t \\right)} & 0 & 0 & 0 & 0 & 0 & \\cos{\\left(4 \\Delta t \\right)} & 0 & 0 & 0\\\\0 & 0 & 0 & 0 & 0 & 0 & 0 & i \\sin{\\left(4 \\Delta t \\right)} & 0 & 0 & 0 & 0 & 0 & \\cos{\\left(4 \\Delta t \\right)} & 0 & 0\\\\0 & 0 & 0 & 0 & 0 & 0 & 0 & 0 & 0 & 0 & 0 & 0 & 0 & 0 & 1 & 0\\\\0 & 0 & 0 & 0 & 0 & 0 & 0 & 0 & 0 & 0 & 0 & 0 & 0 & 0 & 0 & 1\\end{array}\\right]$"
      ],
      "text/plain": [
       "Matrix([\n",
       "[1, 0,                  0,                  0, 0, 0,                 0,                 0,                  0,                  0, 0, 0,                 0,                 0, 0, 0],\n",
       "[0, 1,                  0,                  0, 0, 0,                 0,                 0,                  0,                  0, 0, 0,                 0,                 0, 0, 0],\n",
       "[0, 0,    cos(4*\\Delta t),                  0, 0, 0,                 0,                 0, -I*sin(4*\\Delta t),                  0, 0, 0,                 0,                 0, 0, 0],\n",
       "[0, 0,                  0,    cos(4*\\Delta t), 0, 0,                 0,                 0,                  0, -I*sin(4*\\Delta t), 0, 0,                 0,                 0, 0, 0],\n",
       "[0, 0,                  0,                  0, 1, 0,                 0,                 0,                  0,                  0, 0, 0,                 0,                 0, 0, 0],\n",
       "[0, 0,                  0,                  0, 0, 1,                 0,                 0,                  0,                  0, 0, 0,                 0,                 0, 0, 0],\n",
       "[0, 0,                  0,                  0, 0, 0,   cos(4*\\Delta t),                 0,                  0,                  0, 0, 0, I*sin(4*\\Delta t),                 0, 0, 0],\n",
       "[0, 0,                  0,                  0, 0, 0,                 0,   cos(4*\\Delta t),                  0,                  0, 0, 0,                 0, I*sin(4*\\Delta t), 0, 0],\n",
       "[0, 0, -I*sin(4*\\Delta t),                  0, 0, 0,                 0,                 0,    cos(4*\\Delta t),                  0, 0, 0,                 0,                 0, 0, 0],\n",
       "[0, 0,                  0, -I*sin(4*\\Delta t), 0, 0,                 0,                 0,                  0,    cos(4*\\Delta t), 0, 0,                 0,                 0, 0, 0],\n",
       "[0, 0,                  0,                  0, 0, 0,                 0,                 0,                  0,                  0, 1, 0,                 0,                 0, 0, 0],\n",
       "[0, 0,                  0,                  0, 0, 0,                 0,                 0,                  0,                  0, 0, 1,                 0,                 0, 0, 0],\n",
       "[0, 0,                  0,                  0, 0, 0, I*sin(4*\\Delta t),                 0,                  0,                  0, 0, 0,   cos(4*\\Delta t),                 0, 0, 0],\n",
       "[0, 0,                  0,                  0, 0, 0,                 0, I*sin(4*\\Delta t),                  0,                  0, 0, 0,                 0,   cos(4*\\Delta t), 0, 0],\n",
       "[0, 0,                  0,                  0, 0, 0,                 0,                 0,                  0,                  0, 0, 0,                 0,                 0, 1, 0],\n",
       "[0, 0,                  0,                  0, 0, 0,                 0,                 0,                  0,                  0, 0, 0,                 0,                 0, 0, 1]])"
      ]
     },
     "execution_count": 21,
     "metadata": {},
     "output_type": "execute_result"
    }
   ],
   "source": [
    "simplify(exp(-I*t*2*(TensorProduct(X,Z,X,Id) + TensorProduct(Y,Z,Y,Id))))"
   ]
  },
  {
   "cell_type": "code",
   "execution_count": 22,
   "metadata": {},
   "outputs": [
    {
     "data": {
      "text/latex": [
       "$\\displaystyle \\left[\\begin{array}{cccccccccccccccc}1 & 0 & 0 & 0 & 0 & 0 & 0 & 0 & 0 & 0 & 0 & 0 & 0 & 0 & 0 & 0\\\\0 & 1 & 0 & 0 & 0 & 0 & 0 & 0 & 0 & 0 & 0 & 0 & 0 & 0 & 0 & 0\\\\0 & 0 & 0 & 0 & 1 & 0 & 0 & 0 & 0 & 0 & 0 & 0 & 0 & 0 & 0 & 0\\\\0 & 0 & 0 & 0 & 0 & 1 & 0 & 0 & 0 & 0 & 0 & 0 & 0 & 0 & 0 & 0\\\\0 & 0 & 1 & 0 & 0 & 0 & 0 & 0 & 0 & 0 & 0 & 0 & 0 & 0 & 0 & 0\\\\0 & 0 & 0 & 1 & 0 & 0 & 0 & 0 & 0 & 0 & 0 & 0 & 0 & 0 & 0 & 0\\\\0 & 0 & 0 & 0 & 0 & 0 & -1 & 0 & 0 & 0 & 0 & 0 & 0 & 0 & 0 & 0\\\\0 & 0 & 0 & 0 & 0 & 0 & 0 & -1 & 0 & 0 & 0 & 0 & 0 & 0 & 0 & 0\\\\0 & 0 & 0 & 0 & 0 & 0 & 0 & 0 & 1 & 0 & 0 & 0 & 0 & 0 & 0 & 0\\\\0 & 0 & 0 & 0 & 0 & 0 & 0 & 0 & 0 & 1 & 0 & 0 & 0 & 0 & 0 & 0\\\\0 & 0 & 0 & 0 & 0 & 0 & 0 & 0 & 0 & 0 & 0 & 0 & 1 & 0 & 0 & 0\\\\0 & 0 & 0 & 0 & 0 & 0 & 0 & 0 & 0 & 0 & 0 & 0 & 0 & 1 & 0 & 0\\\\0 & 0 & 0 & 0 & 0 & 0 & 0 & 0 & 0 & 0 & 1 & 0 & 0 & 0 & 0 & 0\\\\0 & 0 & 0 & 0 & 0 & 0 & 0 & 0 & 0 & 0 & 0 & 1 & 0 & 0 & 0 & 0\\\\0 & 0 & 0 & 0 & 0 & 0 & 0 & 0 & 0 & 0 & 0 & 0 & 0 & 0 & -1 & 0\\\\0 & 0 & 0 & 0 & 0 & 0 & 0 & 0 & 0 & 0 & 0 & 0 & 0 & 0 & 0 & -1\\end{array}\\right]$"
      ],
      "text/plain": [
       "Matrix([\n",
       "[1, 0, 0, 0, 0, 0,  0,  0, 0, 0, 0, 0, 0, 0,  0,  0],\n",
       "[0, 1, 0, 0, 0, 0,  0,  0, 0, 0, 0, 0, 0, 0,  0,  0],\n",
       "[0, 0, 0, 0, 1, 0,  0,  0, 0, 0, 0, 0, 0, 0,  0,  0],\n",
       "[0, 0, 0, 0, 0, 1,  0,  0, 0, 0, 0, 0, 0, 0,  0,  0],\n",
       "[0, 0, 1, 0, 0, 0,  0,  0, 0, 0, 0, 0, 0, 0,  0,  0],\n",
       "[0, 0, 0, 1, 0, 0,  0,  0, 0, 0, 0, 0, 0, 0,  0,  0],\n",
       "[0, 0, 0, 0, 0, 0, -1,  0, 0, 0, 0, 0, 0, 0,  0,  0],\n",
       "[0, 0, 0, 0, 0, 0,  0, -1, 0, 0, 0, 0, 0, 0,  0,  0],\n",
       "[0, 0, 0, 0, 0, 0,  0,  0, 1, 0, 0, 0, 0, 0,  0,  0],\n",
       "[0, 0, 0, 0, 0, 0,  0,  0, 0, 1, 0, 0, 0, 0,  0,  0],\n",
       "[0, 0, 0, 0, 0, 0,  0,  0, 0, 0, 0, 0, 1, 0,  0,  0],\n",
       "[0, 0, 0, 0, 0, 0,  0,  0, 0, 0, 0, 0, 0, 1,  0,  0],\n",
       "[0, 0, 0, 0, 0, 0,  0,  0, 0, 0, 1, 0, 0, 0,  0,  0],\n",
       "[0, 0, 0, 0, 0, 0,  0,  0, 0, 0, 0, 1, 0, 0,  0,  0],\n",
       "[0, 0, 0, 0, 0, 0,  0,  0, 0, 0, 0, 0, 0, 0, -1,  0],\n",
       "[0, 0, 0, 0, 0, 0,  0,  0, 0, 0, 0, 0, 0, 0,  0, -1]])"
      ]
     },
     "metadata": {},
     "output_type": "display_data"
    }
   ],
   "source": [
    "theta = pi\n",
    "phi = pi/2\n",
    "fSwap23 = exp(I*phi/2) * exp(-I*phi/2*(TensorProduct(Id,X,X,Id) + TensorProduct(Id,Y,Y,Id) + (TensorProduct(Id,Z,Z,Id)))) * exp(-I*pi/4*(TensorProduct(Id,Id-Z,Id-Z,Id)))\n",
    "fSwap23 = simplify(fSwap23)\n",
    "display(fSwap23)"
   ]
  },
  {
   "cell_type": "code",
   "execution_count": 23,
   "metadata": {},
   "outputs": [
    {
     "data": {
      "text/latex": [
       "$\\displaystyle \\left[\\begin{array}{cccccccccccccccc}1 & 0 & 0 & 0 & 0 & 0 & 0 & 0 & 0 & 0 & 0 & 0 & 0 & 0 & 0 & 0\\\\0 & 1 & 0 & 0 & 0 & 0 & 0 & 0 & 0 & 0 & 0 & 0 & 0 & 0 & 0 & 0\\\\0 & 0 & \\cos{\\left(4 \\Delta t \\right)} & 0 & 0 & 0 & 0 & 0 & - i \\sin{\\left(4 \\Delta t \\right)} & 0 & 0 & 0 & 0 & 0 & 0 & 0\\\\0 & 0 & 0 & \\cos{\\left(4 \\Delta t \\right)} & 0 & 0 & 0 & 0 & 0 & - i \\sin{\\left(4 \\Delta t \\right)} & 0 & 0 & 0 & 0 & 0 & 0\\\\0 & 0 & 0 & 0 & 1 & 0 & 0 & 0 & 0 & 0 & 0 & 0 & 0 & 0 & 0 & 0\\\\0 & 0 & 0 & 0 & 0 & 1 & 0 & 0 & 0 & 0 & 0 & 0 & 0 & 0 & 0 & 0\\\\0 & 0 & 0 & 0 & 0 & 0 & \\cos{\\left(4 \\Delta t \\right)} & 0 & 0 & 0 & 0 & 0 & i \\sin{\\left(4 \\Delta t \\right)} & 0 & 0 & 0\\\\0 & 0 & 0 & 0 & 0 & 0 & 0 & \\cos{\\left(4 \\Delta t \\right)} & 0 & 0 & 0 & 0 & 0 & i \\sin{\\left(4 \\Delta t \\right)} & 0 & 0\\\\0 & 0 & - i \\sin{\\left(4 \\Delta t \\right)} & 0 & 0 & 0 & 0 & 0 & \\cos{\\left(4 \\Delta t \\right)} & 0 & 0 & 0 & 0 & 0 & 0 & 0\\\\0 & 0 & 0 & - i \\sin{\\left(4 \\Delta t \\right)} & 0 & 0 & 0 & 0 & 0 & \\cos{\\left(4 \\Delta t \\right)} & 0 & 0 & 0 & 0 & 0 & 0\\\\0 & 0 & 0 & 0 & 0 & 0 & 0 & 0 & 0 & 0 & 1 & 0 & 0 & 0 & 0 & 0\\\\0 & 0 & 0 & 0 & 0 & 0 & 0 & 0 & 0 & 0 & 0 & 1 & 0 & 0 & 0 & 0\\\\0 & 0 & 0 & 0 & 0 & 0 & i \\sin{\\left(4 \\Delta t \\right)} & 0 & 0 & 0 & 0 & 0 & \\cos{\\left(4 \\Delta t \\right)} & 0 & 0 & 0\\\\0 & 0 & 0 & 0 & 0 & 0 & 0 & i \\sin{\\left(4 \\Delta t \\right)} & 0 & 0 & 0 & 0 & 0 & \\cos{\\left(4 \\Delta t \\right)} & 0 & 0\\\\0 & 0 & 0 & 0 & 0 & 0 & 0 & 0 & 0 & 0 & 0 & 0 & 0 & 0 & 1 & 0\\\\0 & 0 & 0 & 0 & 0 & 0 & 0 & 0 & 0 & 0 & 0 & 0 & 0 & 0 & 0 & 1\\end{array}\\right]$"
      ],
      "text/plain": [
       "Matrix([\n",
       "[1, 0,                  0,                  0, 0, 0,                 0,                 0,                  0,                  0, 0, 0,                 0,                 0, 0, 0],\n",
       "[0, 1,                  0,                  0, 0, 0,                 0,                 0,                  0,                  0, 0, 0,                 0,                 0, 0, 0],\n",
       "[0, 0,    cos(4*\\Delta t),                  0, 0, 0,                 0,                 0, -I*sin(4*\\Delta t),                  0, 0, 0,                 0,                 0, 0, 0],\n",
       "[0, 0,                  0,    cos(4*\\Delta t), 0, 0,                 0,                 0,                  0, -I*sin(4*\\Delta t), 0, 0,                 0,                 0, 0, 0],\n",
       "[0, 0,                  0,                  0, 1, 0,                 0,                 0,                  0,                  0, 0, 0,                 0,                 0, 0, 0],\n",
       "[0, 0,                  0,                  0, 0, 1,                 0,                 0,                  0,                  0, 0, 0,                 0,                 0, 0, 0],\n",
       "[0, 0,                  0,                  0, 0, 0,   cos(4*\\Delta t),                 0,                  0,                  0, 0, 0, I*sin(4*\\Delta t),                 0, 0, 0],\n",
       "[0, 0,                  0,                  0, 0, 0,                 0,   cos(4*\\Delta t),                  0,                  0, 0, 0,                 0, I*sin(4*\\Delta t), 0, 0],\n",
       "[0, 0, -I*sin(4*\\Delta t),                  0, 0, 0,                 0,                 0,    cos(4*\\Delta t),                  0, 0, 0,                 0,                 0, 0, 0],\n",
       "[0, 0,                  0, -I*sin(4*\\Delta t), 0, 0,                 0,                 0,                  0,    cos(4*\\Delta t), 0, 0,                 0,                 0, 0, 0],\n",
       "[0, 0,                  0,                  0, 0, 0,                 0,                 0,                  0,                  0, 1, 0,                 0,                 0, 0, 0],\n",
       "[0, 0,                  0,                  0, 0, 0,                 0,                 0,                  0,                  0, 0, 1,                 0,                 0, 0, 0],\n",
       "[0, 0,                  0,                  0, 0, 0, I*sin(4*\\Delta t),                 0,                  0,                  0, 0, 0,   cos(4*\\Delta t),                 0, 0, 0],\n",
       "[0, 0,                  0,                  0, 0, 0,                 0, I*sin(4*\\Delta t),                  0,                  0, 0, 0,                 0,   cos(4*\\Delta t), 0, 0],\n",
       "[0, 0,                  0,                  0, 0, 0,                 0,                 0,                  0,                  0, 0, 0,                 0,                 0, 1, 0],\n",
       "[0, 0,                  0,                  0, 0, 0,                 0,                 0,                  0,                  0, 0, 0,                 0,                 0, 0, 1]])"
      ]
     },
     "execution_count": 23,
     "metadata": {},
     "output_type": "execute_result"
    }
   ],
   "source": [
    "simplify(fSwap23 * exp(-I*t*2*(TensorProduct(X,X,Id,Id) + TensorProduct(Y,Y,Id,Id))) * Dagger(fSwap23))"
   ]
  },
  {
   "cell_type": "code",
   "execution_count": 24,
   "metadata": {},
   "outputs": [
    {
     "data": {
      "text/latex": [
       "$\\displaystyle \\left[\\begin{matrix}1 & 0 & 0 & 0\\\\0 & \\cos{\\left(4 \\Delta t \\right)} & i \\sin{\\left(4 \\Delta t \\right)} & 0\\\\0 & i \\sin{\\left(4 \\Delta t \\right)} & \\cos{\\left(4 \\Delta t \\right)} & 0\\\\0 & 0 & 0 & 1\\end{matrix}\\right]$"
      ],
      "text/plain": [
       "Matrix([\n",
       "[1,                 0,                 0, 0],\n",
       "[0,   cos(4*\\Delta t), I*sin(4*\\Delta t), 0],\n",
       "[0, I*sin(4*\\Delta t),   cos(4*\\Delta t), 0],\n",
       "[0,                 0,                 0, 1]])"
      ]
     },
     "execution_count": 24,
     "metadata": {},
     "output_type": "execute_result"
    }
   ],
   "source": [
    "simplify(exp(-I*t*-2*(TensorProduct(X,X,) + TensorProduct(Y,Y))))"
   ]
  },
  {
   "cell_type": "code",
   "execution_count": 25,
   "metadata": {},
   "outputs": [
    {
     "data": {
      "text/latex": [
       "$\\displaystyle \\left[\\begin{matrix}1 & 0 & 0 & 0\\\\0 & 0 & - i & 0\\\\0 & - i & 0 & 0\\\\0 & 0 & 0 & 1\\end{matrix}\\right]$"
      ],
      "text/plain": [
       "Matrix([\n",
       "[1,  0,  0, 0],\n",
       "[0,  0, -I, 0],\n",
       "[0, -I,  0, 0],\n",
       "[0,  0,  0, 1]])"
      ]
     },
     "execution_count": 25,
     "metadata": {},
     "output_type": "execute_result"
    }
   ],
   "source": [
    "simplify(exp(-I*pi/4*(TensorProduct(X,X))) * exp(-I*pi/4*(TensorProduct(Y,Y))))"
   ]
  },
  {
   "cell_type": "code",
   "execution_count": 26,
   "metadata": {},
   "outputs": [
    {
     "data": {
      "text/latex": [
       "$\\displaystyle \\left[\\begin{matrix}1 & 0 & 0 & 0\\\\0 & 0 & - i & 0\\\\0 & - i & 0 & 0\\\\0 & 0 & 0 & 1\\end{matrix}\\right]$"
      ],
      "text/plain": [
       "Matrix([\n",
       "[1,  0,  0, 0],\n",
       "[0,  0, -I, 0],\n",
       "[0, -I,  0, 0],\n",
       "[0,  0,  0, 1]])"
      ]
     },
     "execution_count": 26,
     "metadata": {},
     "output_type": "execute_result"
    }
   ],
   "source": [
    "simplify(exp(-I*pi/4*(TensorProduct(X,X) + TensorProduct(Y,Y))))"
   ]
  },
  {
   "cell_type": "code",
   "execution_count": 27,
   "metadata": {},
   "outputs": [
    {
     "data": {
      "text/latex": [
       "$\\displaystyle \\left[\\begin{matrix}1 & 0 & 0 & 0\\\\0 & 0 & 1 & 0\\\\0 & 1 & 0 & 0\\\\0 & 0 & 0 & -1\\end{matrix}\\right]$"
      ],
      "text/plain": [
       "Matrix([\n",
       "[1, 0, 0,  0],\n",
       "[0, 0, 1,  0],\n",
       "[0, 1, 0,  0],\n",
       "[0, 0, 0, -1]])"
      ]
     },
     "metadata": {},
     "output_type": "display_data"
    }
   ],
   "source": [
    "fSwap = exp(I*phi/2) * exp(-I*phi/2*(TensorProduct(X,X) + TensorProduct(Y,Y) + (TensorProduct(Z,Z)))) * exp(-I*pi/4*(TensorProduct(Id,Id) + TensorProduct(-Z,Id) + TensorProduct(Id,-Z) + TensorProduct(-Z,-Z)))\n",
    "fSwap = simplify(fSwap)\n",
    "display(fSwap)"
   ]
  },
  {
   "cell_type": "code",
   "execution_count": 28,
   "metadata": {},
   "outputs": [
    {
     "data": {
      "text/latex": [
       "$\\displaystyle \\left[\\begin{matrix}1 & 0 & 0 & 0\\\\0 & 0 & 1 & 0\\\\0 & 1 & 0 & 0\\\\0 & 0 & 0 & -1\\end{matrix}\\right]$"
      ],
      "text/plain": [
       "Matrix([\n",
       "[1, 0, 0,  0],\n",
       "[0, 0, 1,  0],\n",
       "[0, 1, 0,  0],\n",
       "[0, 0, 0, -1]])"
      ]
     },
     "metadata": {},
     "output_type": "display_data"
    }
   ],
   "source": [
    "fSwap = exp(-I*pi/4*(TensorProduct(X,X) + TensorProduct(Y,Y) + (TensorProduct(Z,Z)))) * exp(-I*pi/4*(TensorProduct(-Z,Id) + TensorProduct(Id,-Z) + TensorProduct(-Z,-Z)))\n",
    "fSwap = simplify(fSwap)\n",
    "display(fSwap)"
   ]
  },
  {
   "cell_type": "code",
   "execution_count": 29,
   "metadata": {},
   "outputs": [
    {
     "data": {
      "text/latex": [
       "$\\displaystyle \\left[\\begin{matrix}\\cos{\\left(2 \\Delta t \\right)} & 0 & 0 & - \\sin{\\left(2 \\Delta t \\right)}\\\\0 & \\cos{\\left(2 \\Delta t \\right)} & \\sin{\\left(2 \\Delta t \\right)} & 0\\\\0 & - \\sin{\\left(2 \\Delta t \\right)} & \\cos{\\left(2 \\Delta t \\right)} & 0\\\\\\sin{\\left(2 \\Delta t \\right)} & 0 & 0 & \\cos{\\left(2 \\Delta t \\right)}\\end{matrix}\\right]$"
      ],
      "text/plain": [
       "Matrix([\n",
       "[cos(2*\\Delta t),                0,               0, -sin(2*\\Delta t)],\n",
       "[              0,  cos(2*\\Delta t), sin(2*\\Delta t),                0],\n",
       "[              0, -sin(2*\\Delta t), cos(2*\\Delta t),                0],\n",
       "[sin(2*\\Delta t),                0,               0,  cos(2*\\Delta t)]])"
      ]
     },
     "execution_count": 29,
     "metadata": {},
     "output_type": "execute_result"
    }
   ],
   "source": [
    "simplify(exp(-I*pi/4*TensorProduct(Z,Id)) * exp(I*2*t*(TensorProduct(Y,Y))) * exp(I*pi/4*TensorProduct(Z,Id)))"
   ]
  },
  {
   "cell_type": "code",
   "execution_count": 30,
   "metadata": {},
   "outputs": [
    {
     "data": {
      "text/latex": [
       "$\\displaystyle \\left[\\begin{matrix}\\cos{\\left(2 \\Delta t \\right)} & 0 & 0 & \\sin{\\left(2 \\Delta t \\right)}\\\\0 & \\cos{\\left(2 \\Delta t \\right)} & \\sin{\\left(2 \\Delta t \\right)} & 0\\\\0 & - \\sin{\\left(2 \\Delta t \\right)} & \\cos{\\left(2 \\Delta t \\right)} & 0\\\\- \\sin{\\left(2 \\Delta t \\right)} & 0 & 0 & \\cos{\\left(2 \\Delta t \\right)}\\end{matrix}\\right]$"
      ],
      "text/plain": [
       "Matrix([\n",
       "[ cos(2*\\Delta t),                0,               0, sin(2*\\Delta t)],\n",
       "[               0,  cos(2*\\Delta t), sin(2*\\Delta t),               0],\n",
       "[               0, -sin(2*\\Delta t), cos(2*\\Delta t),               0],\n",
       "[-sin(2*\\Delta t),                0,               0, cos(2*\\Delta t)]])"
      ]
     },
     "execution_count": 30,
     "metadata": {},
     "output_type": "execute_result"
    }
   ],
   "source": [
    "simplify(exp(I*2*t*(TensorProduct(Y,X))))"
   ]
  },
  {
   "cell_type": "code",
   "execution_count": 31,
   "metadata": {},
   "outputs": [
    {
     "data": {
      "text/latex": [
       "$\\displaystyle \\left[\\begin{matrix}1 & 0 & 0 & 0\\\\0 & \\cos{\\left(4 \\Delta t \\right)} & - i \\sin{\\left(4 \\Delta t \\right)} & 0\\\\0 & - i \\sin{\\left(4 \\Delta t \\right)} & \\cos{\\left(4 \\Delta t \\right)} & 0\\\\0 & 0 & 0 & 1\\end{matrix}\\right]$"
      ],
      "text/plain": [
       "Matrix([\n",
       "[1,                  0,                  0, 0],\n",
       "[0,    cos(4*\\Delta t), -I*sin(4*\\Delta t), 0],\n",
       "[0, -I*sin(4*\\Delta t),    cos(4*\\Delta t), 0],\n",
       "[0,                  0,                  0, 1]])"
      ]
     },
     "execution_count": 31,
     "metadata": {},
     "output_type": "execute_result"
    }
   ],
   "source": [
    "TensorProduct(Id, Z) * simplify(exp(I*2*t*(TensorProduct(X,X) + TensorProduct(Y,Y)))) * TensorProduct(Id, Z)"
   ]
  },
  {
   "cell_type": "code",
   "execution_count": 32,
   "metadata": {},
   "outputs": [
    {
     "data": {
      "text/latex": [
       "$\\displaystyle \\left[\\begin{matrix}1 & 0 & 0 & 0\\\\0 & \\cos{\\left(4 \\Delta t \\right)} & - i \\sin{\\left(4 \\Delta t \\right)} & 0\\\\0 & - i \\sin{\\left(4 \\Delta t \\right)} & \\cos{\\left(4 \\Delta t \\right)} & 0\\\\0 & 0 & 0 & 1\\end{matrix}\\right]$"
      ],
      "text/plain": [
       "Matrix([\n",
       "[1,                  0,                  0, 0],\n",
       "[0,    cos(4*\\Delta t), -I*sin(4*\\Delta t), 0],\n",
       "[0, -I*sin(4*\\Delta t),    cos(4*\\Delta t), 0],\n",
       "[0,                  0,                  0, 1]])"
      ]
     },
     "execution_count": 32,
     "metadata": {},
     "output_type": "execute_result"
    }
   ],
   "source": [
    "simplify(exp(-I*2*t*(TensorProduct(X,X) + TensorProduct(Y,Y))))"
   ]
  },
  {
   "cell_type": "code",
   "execution_count": 33,
   "metadata": {},
   "outputs": [
    {
     "data": {
      "text/latex": [
       "$\\displaystyle \\left[\\begin{array}{cccccccccccccccc}1 & 0 & 0 & 0 & 0 & 0 & 0 & 0 & 0 & 0 & 0 & 0 & 0 & 0 & 0 & 0\\\\0 & 1 & 0 & 0 & 0 & 0 & 0 & 0 & 0 & 0 & 0 & 0 & 0 & 0 & 0 & 0\\\\0 & 0 & \\cos{\\left(4 \\Delta t \\right)} & 0 & 0 & 0 & 0 & 0 & i \\sin{\\left(4 \\Delta t \\right)} & 0 & 0 & 0 & 0 & 0 & 0 & 0\\\\0 & 0 & 0 & \\cos{\\left(4 \\Delta t \\right)} & 0 & 0 & 0 & 0 & 0 & i \\sin{\\left(4 \\Delta t \\right)} & 0 & 0 & 0 & 0 & 0 & 0\\\\0 & 0 & 0 & 0 & 1 & 0 & 0 & 0 & 0 & 0 & 0 & 0 & 0 & 0 & 0 & 0\\\\0 & 0 & 0 & 0 & 0 & 1 & 0 & 0 & 0 & 0 & 0 & 0 & 0 & 0 & 0 & 0\\\\0 & 0 & 0 & 0 & 0 & 0 & \\cos{\\left(4 \\Delta t \\right)} & 0 & 0 & 0 & 0 & 0 & i \\sin{\\left(4 \\Delta t \\right)} & 0 & 0 & 0\\\\0 & 0 & 0 & 0 & 0 & 0 & 0 & \\cos{\\left(4 \\Delta t \\right)} & 0 & 0 & 0 & 0 & 0 & i \\sin{\\left(4 \\Delta t \\right)} & 0 & 0\\\\0 & 0 & i \\sin{\\left(4 \\Delta t \\right)} & 0 & 0 & 0 & 0 & 0 & \\cos{\\left(4 \\Delta t \\right)} & 0 & 0 & 0 & 0 & 0 & 0 & 0\\\\0 & 0 & 0 & i \\sin{\\left(4 \\Delta t \\right)} & 0 & 0 & 0 & 0 & 0 & \\cos{\\left(4 \\Delta t \\right)} & 0 & 0 & 0 & 0 & 0 & 0\\\\0 & 0 & 0 & 0 & 0 & 0 & 0 & 0 & 0 & 0 & 1 & 0 & 0 & 0 & 0 & 0\\\\0 & 0 & 0 & 0 & 0 & 0 & 0 & 0 & 0 & 0 & 0 & 1 & 0 & 0 & 0 & 0\\\\0 & 0 & 0 & 0 & 0 & 0 & i \\sin{\\left(4 \\Delta t \\right)} & 0 & 0 & 0 & 0 & 0 & \\cos{\\left(4 \\Delta t \\right)} & 0 & 0 & 0\\\\0 & 0 & 0 & 0 & 0 & 0 & 0 & i \\sin{\\left(4 \\Delta t \\right)} & 0 & 0 & 0 & 0 & 0 & \\cos{\\left(4 \\Delta t \\right)} & 0 & 0\\\\0 & 0 & 0 & 0 & 0 & 0 & 0 & 0 & 0 & 0 & 0 & 0 & 0 & 0 & 1 & 0\\\\0 & 0 & 0 & 0 & 0 & 0 & 0 & 0 & 0 & 0 & 0 & 0 & 0 & 0 & 0 & 1\\end{array}\\right]$"
      ],
      "text/plain": [
       "Matrix([\n",
       "[1, 0,                 0,                 0, 0, 0,                 0,                 0,                 0,                 0, 0, 0,                 0,                 0, 0, 0],\n",
       "[0, 1,                 0,                 0, 0, 0,                 0,                 0,                 0,                 0, 0, 0,                 0,                 0, 0, 0],\n",
       "[0, 0,   cos(4*\\Delta t),                 0, 0, 0,                 0,                 0, I*sin(4*\\Delta t),                 0, 0, 0,                 0,                 0, 0, 0],\n",
       "[0, 0,                 0,   cos(4*\\Delta t), 0, 0,                 0,                 0,                 0, I*sin(4*\\Delta t), 0, 0,                 0,                 0, 0, 0],\n",
       "[0, 0,                 0,                 0, 1, 0,                 0,                 0,                 0,                 0, 0, 0,                 0,                 0, 0, 0],\n",
       "[0, 0,                 0,                 0, 0, 1,                 0,                 0,                 0,                 0, 0, 0,                 0,                 0, 0, 0],\n",
       "[0, 0,                 0,                 0, 0, 0,   cos(4*\\Delta t),                 0,                 0,                 0, 0, 0, I*sin(4*\\Delta t),                 0, 0, 0],\n",
       "[0, 0,                 0,                 0, 0, 0,                 0,   cos(4*\\Delta t),                 0,                 0, 0, 0,                 0, I*sin(4*\\Delta t), 0, 0],\n",
       "[0, 0, I*sin(4*\\Delta t),                 0, 0, 0,                 0,                 0,   cos(4*\\Delta t),                 0, 0, 0,                 0,                 0, 0, 0],\n",
       "[0, 0,                 0, I*sin(4*\\Delta t), 0, 0,                 0,                 0,                 0,   cos(4*\\Delta t), 0, 0,                 0,                 0, 0, 0],\n",
       "[0, 0,                 0,                 0, 0, 0,                 0,                 0,                 0,                 0, 1, 0,                 0,                 0, 0, 0],\n",
       "[0, 0,                 0,                 0, 0, 0,                 0,                 0,                 0,                 0, 0, 1,                 0,                 0, 0, 0],\n",
       "[0, 0,                 0,                 0, 0, 0, I*sin(4*\\Delta t),                 0,                 0,                 0, 0, 0,   cos(4*\\Delta t),                 0, 0, 0],\n",
       "[0, 0,                 0,                 0, 0, 0,                 0, I*sin(4*\\Delta t),                 0,                 0, 0, 0,                 0,   cos(4*\\Delta t), 0, 0],\n",
       "[0, 0,                 0,                 0, 0, 0,                 0,                 0,                 0,                 0, 0, 0,                 0,                 0, 1, 0],\n",
       "[0, 0,                 0,                 0, 0, 0,                 0,                 0,                 0,                 0, 0, 0,                 0,                 0, 0, 1]])"
      ]
     },
     "execution_count": 33,
     "metadata": {},
     "output_type": "execute_result"
    }
   ],
   "source": [
    "simplify(exp(I*2*t*(TensorProduct(X,Id,X,Id) + TensorProduct(Y,Id,Y,Id))))"
   ]
  },
  {
   "cell_type": "code",
   "execution_count": 34,
   "metadata": {},
   "outputs": [
    {
     "data": {
      "text/latex": [
       "$\\displaystyle \\left[\\begin{array}{cccccccccccccccc}1 & 0 & 0 & 0 & 0 & 0 & 0 & 0 & 0 & 0 & 0 & 0 & 0 & 0 & 0 & 0\\\\0 & 1 & 0 & 0 & 0 & 0 & 0 & 0 & 0 & 0 & 0 & 0 & 0 & 0 & 0 & 0\\\\0 & 0 & \\cos{\\left(4 \\Delta t \\right)} & 0 & 0 & 0 & 0 & 0 & i \\sin{\\left(4 \\Delta t \\right)} & 0 & 0 & 0 & 0 & 0 & 0 & 0\\\\0 & 0 & 0 & \\cos{\\left(4 \\Delta t \\right)} & 0 & 0 & 0 & 0 & 0 & i \\sin{\\left(4 \\Delta t \\right)} & 0 & 0 & 0 & 0 & 0 & 0\\\\0 & 0 & 0 & 0 & 1 & 0 & 0 & 0 & 0 & 0 & 0 & 0 & 0 & 0 & 0 & 0\\\\0 & 0 & 0 & 0 & 0 & 1 & 0 & 0 & 0 & 0 & 0 & 0 & 0 & 0 & 0 & 0\\\\0 & 0 & 0 & 0 & 0 & 0 & \\cos{\\left(4 \\Delta t \\right)} & 0 & 0 & 0 & 0 & 0 & i \\sin{\\left(4 \\Delta t \\right)} & 0 & 0 & 0\\\\0 & 0 & 0 & 0 & 0 & 0 & 0 & \\cos{\\left(4 \\Delta t \\right)} & 0 & 0 & 0 & 0 & 0 & i \\sin{\\left(4 \\Delta t \\right)} & 0 & 0\\\\0 & 0 & i \\sin{\\left(4 \\Delta t \\right)} & 0 & 0 & 0 & 0 & 0 & \\cos{\\left(4 \\Delta t \\right)} & 0 & 0 & 0 & 0 & 0 & 0 & 0\\\\0 & 0 & 0 & i \\sin{\\left(4 \\Delta t \\right)} & 0 & 0 & 0 & 0 & 0 & \\cos{\\left(4 \\Delta t \\right)} & 0 & 0 & 0 & 0 & 0 & 0\\\\0 & 0 & 0 & 0 & 0 & 0 & 0 & 0 & 0 & 0 & 1 & 0 & 0 & 0 & 0 & 0\\\\0 & 0 & 0 & 0 & 0 & 0 & 0 & 0 & 0 & 0 & 0 & 1 & 0 & 0 & 0 & 0\\\\0 & 0 & 0 & 0 & 0 & 0 & i \\sin{\\left(4 \\Delta t \\right)} & 0 & 0 & 0 & 0 & 0 & \\cos{\\left(4 \\Delta t \\right)} & 0 & 0 & 0\\\\0 & 0 & 0 & 0 & 0 & 0 & 0 & i \\sin{\\left(4 \\Delta t \\right)} & 0 & 0 & 0 & 0 & 0 & \\cos{\\left(4 \\Delta t \\right)} & 0 & 0\\\\0 & 0 & 0 & 0 & 0 & 0 & 0 & 0 & 0 & 0 & 0 & 0 & 0 & 0 & 1 & 0\\\\0 & 0 & 0 & 0 & 0 & 0 & 0 & 0 & 0 & 0 & 0 & 0 & 0 & 0 & 0 & 1\\end{array}\\right]$"
      ],
      "text/plain": [
       "Matrix([\n",
       "[1, 0,                 0,                 0, 0, 0,                 0,                 0,                 0,                 0, 0, 0,                 0,                 0, 0, 0],\n",
       "[0, 1,                 0,                 0, 0, 0,                 0,                 0,                 0,                 0, 0, 0,                 0,                 0, 0, 0],\n",
       "[0, 0,   cos(4*\\Delta t),                 0, 0, 0,                 0,                 0, I*sin(4*\\Delta t),                 0, 0, 0,                 0,                 0, 0, 0],\n",
       "[0, 0,                 0,   cos(4*\\Delta t), 0, 0,                 0,                 0,                 0, I*sin(4*\\Delta t), 0, 0,                 0,                 0, 0, 0],\n",
       "[0, 0,                 0,                 0, 1, 0,                 0,                 0,                 0,                 0, 0, 0,                 0,                 0, 0, 0],\n",
       "[0, 0,                 0,                 0, 0, 1,                 0,                 0,                 0,                 0, 0, 0,                 0,                 0, 0, 0],\n",
       "[0, 0,                 0,                 0, 0, 0,   cos(4*\\Delta t),                 0,                 0,                 0, 0, 0, I*sin(4*\\Delta t),                 0, 0, 0],\n",
       "[0, 0,                 0,                 0, 0, 0,                 0,   cos(4*\\Delta t),                 0,                 0, 0, 0,                 0, I*sin(4*\\Delta t), 0, 0],\n",
       "[0, 0, I*sin(4*\\Delta t),                 0, 0, 0,                 0,                 0,   cos(4*\\Delta t),                 0, 0, 0,                 0,                 0, 0, 0],\n",
       "[0, 0,                 0, I*sin(4*\\Delta t), 0, 0,                 0,                 0,                 0,   cos(4*\\Delta t), 0, 0,                 0,                 0, 0, 0],\n",
       "[0, 0,                 0,                 0, 0, 0,                 0,                 0,                 0,                 0, 1, 0,                 0,                 0, 0, 0],\n",
       "[0, 0,                 0,                 0, 0, 0,                 0,                 0,                 0,                 0, 0, 1,                 0,                 0, 0, 0],\n",
       "[0, 0,                 0,                 0, 0, 0, I*sin(4*\\Delta t),                 0,                 0,                 0, 0, 0,   cos(4*\\Delta t),                 0, 0, 0],\n",
       "[0, 0,                 0,                 0, 0, 0,                 0, I*sin(4*\\Delta t),                 0,                 0, 0, 0,                 0,   cos(4*\\Delta t), 0, 0],\n",
       "[0, 0,                 0,                 0, 0, 0,                 0,                 0,                 0,                 0, 0, 0,                 0,                 0, 1, 0],\n",
       "[0, 0,                 0,                 0, 0, 0,                 0,                 0,                 0,                 0, 0, 0,                 0,                 0, 0, 1]])"
      ]
     },
     "execution_count": 34,
     "metadata": {},
     "output_type": "execute_result"
    }
   ],
   "source": [
    "TensorProduct(Z, Id, Id, Id) * simplify(exp(-I*2*t*(TensorProduct(X,Id,X,Id) + TensorProduct(Y,Id,Y,Id)))) * TensorProduct(Z, Id, Id, Id)"
   ]
  },
  {
   "cell_type": "code",
   "execution_count": 35,
   "metadata": {},
   "outputs": [
    {
     "data": {
      "text/latex": [
       "$\\displaystyle \\left[\\begin{matrix}1 & 0 & 0 & 0\\\\0 & 1 & 0 & 0\\\\0 & 0 & 1 & 0\\\\0 & 0 & 0 & e^{4 i}\\end{matrix}\\right]$"
      ],
      "text/plain": [
       "Matrix([\n",
       "[1, 0, 0,        0],\n",
       "[0, 1, 0,        0],\n",
       "[0, 0, 1,        0],\n",
       "[0, 0, 0, exp(4*I)]])"
      ]
     },
     "execution_count": 35,
     "metadata": {},
     "output_type": "execute_result"
    }
   ],
   "source": [
    "exp(I*TensorProduct(Id-Z, Id-Z))"
   ]
  },
  {
   "cell_type": "code",
   "execution_count": 36,
   "metadata": {},
   "outputs": [
    {
     "data": {
      "text/latex": [
       "$\\displaystyle \\left[\\begin{matrix}1 & 0 & 0 & 0\\\\0 & 1 & 0 & 0\\\\0 & 0 & 1 & 0\\\\0 & 0 & 0 & e^{- 4 i}\\end{matrix}\\right]$"
      ],
      "text/plain": [
       "Matrix([\n",
       "[1, 0, 0,         0],\n",
       "[0, 1, 0,         0],\n",
       "[0, 0, 1,         0],\n",
       "[0, 0, 0, exp(-4*I)]])"
      ]
     },
     "execution_count": 36,
     "metadata": {},
     "output_type": "execute_result"
    }
   ],
   "source": [
    "exp(-I*TensorProduct(Id-Z, Id-Z))"
   ]
  },
  {
   "cell_type": "code",
   "execution_count": 37,
   "metadata": {},
   "outputs": [
    {
     "data": {
      "text/latex": [
       "$\\displaystyle \\left[\\begin{matrix}1 & 0 & 0 & 0\\\\0 & 1 & 0 & 0\\\\0 & 0 & e^{4 i} & 0\\\\0 & 0 & 0 & 1\\end{matrix}\\right]$"
      ],
      "text/plain": [
       "Matrix([\n",
       "[1, 0,        0, 0],\n",
       "[0, 1,        0, 0],\n",
       "[0, 0, exp(4*I), 0],\n",
       "[0, 0,        0, 1]])"
      ]
     },
     "execution_count": 37,
     "metadata": {},
     "output_type": "execute_result"
    }
   ],
   "source": [
    "TensorProduct(Z,X) * exp(I*TensorProduct(Id-Z, Id-Z)) * TensorProduct(Z,X)"
   ]
  },
  {
   "cell_type": "code",
   "execution_count": 38,
   "metadata": {},
   "outputs": [
    {
     "data": {
      "text/latex": [
       "$\\displaystyle \\left[\\begin{matrix}1 & 0 & 0 & 0 & 0 & 0 & 0 & 0\\\\0 & 1 & 0 & 0 & 0 & 0 & 0 & 0\\\\0 & 0 & 1 & 0 & 0 & 0 & 0 & 0\\\\0 & 0 & 0 & e^{4 i} & 0 & 0 & 0 & 0\\\\0 & 0 & 0 & 0 & 1 & 0 & 0 & 0\\\\0 & 0 & 0 & 0 & 0 & 1 & 0 & 0\\\\0 & 0 & 0 & 0 & 0 & 0 & 1 & 0\\\\0 & 0 & 0 & 0 & 0 & 0 & 0 & e^{4 i}\\end{matrix}\\right]$"
      ],
      "text/plain": [
       "Matrix([\n",
       "[1, 0, 0,        0, 0, 0, 0,        0],\n",
       "[0, 1, 0,        0, 0, 0, 0,        0],\n",
       "[0, 0, 1,        0, 0, 0, 0,        0],\n",
       "[0, 0, 0, exp(4*I), 0, 0, 0,        0],\n",
       "[0, 0, 0,        0, 1, 0, 0,        0],\n",
       "[0, 0, 0,        0, 0, 1, 0,        0],\n",
       "[0, 0, 0,        0, 0, 0, 1,        0],\n",
       "[0, 0, 0,        0, 0, 0, 0, exp(4*I)]])"
      ]
     },
     "execution_count": 38,
     "metadata": {},
     "output_type": "execute_result"
    }
   ],
   "source": [
    "exp(I*TensorProduct(Id, Id-Z, Id-Z))"
   ]
  },
  {
   "cell_type": "code",
   "execution_count": 39,
   "metadata": {},
   "outputs": [],
   "source": [
    "t = Symbol(\"t\")\n",
    "delta_t = Symbol(\"\\Delta t\")\n",
    "n = Symbol(\"n\")"
   ]
  },
  {
   "cell_type": "code",
   "execution_count": 40,
   "metadata": {},
   "outputs": [
    {
     "data": {
      "text/latex": [
       "$\\displaystyle \\left[\\begin{matrix}1 & 0 & 0 & 0\\\\0 & \\cos{\\left(\\frac{4 \\Delta t t}{n} \\right)} & i \\sin{\\left(\\frac{4 \\Delta t t}{n} \\right)} & 0\\\\0 & i \\sin{\\left(\\frac{4 \\Delta t t}{n} \\right)} & \\cos{\\left(\\frac{4 \\Delta t t}{n} \\right)} & 0\\\\0 & 0 & 0 & 1\\end{matrix}\\right]$"
      ],
      "text/plain": [
       "Matrix([\n",
       "[1,                     0,                     0, 0],\n",
       "[0,   cos(4*\\Delta t*t/n), I*sin(4*\\Delta t*t/n), 0],\n",
       "[0, I*sin(4*\\Delta t*t/n),   cos(4*\\Delta t*t/n), 0],\n",
       "[0,                     0,                     0, 1]])"
      ]
     },
     "execution_count": 40,
     "metadata": {},
     "output_type": "execute_result"
    }
   ],
   "source": [
    "simplify(exp(-I*(-2*t)*delta_t/n*(TensorProduct(X,X) + TensorProduct(Y,Y))))"
   ]
  },
  {
   "cell_type": "markdown",
   "metadata": {},
   "source": [
    "### fSWAP Decomposition"
   ]
  },
  {
   "cell_type": "code",
   "execution_count": 4,
   "metadata": {},
   "outputs": [
    {
     "data": {
      "text/latex": [
       "$\\displaystyle \\left[\\begin{matrix}1 & 0 & 0 & 0\\\\0 & 0 & 1 & 0\\\\0 & 1 & 0 & 0\\\\0 & 0 & 0 & -1\\end{matrix}\\right]$"
      ],
      "text/plain": [
       "Matrix([\n",
       "[1, 0, 0,  0],\n",
       "[0, 0, 1,  0],\n",
       "[0, 1, 0,  0],\n",
       "[0, 0, 0, -1]])"
      ]
     },
     "execution_count": 4,
     "metadata": {},
     "output_type": "execute_result"
    }
   ],
   "source": [
    "simplify(exp(I*pi/4) * exp(-I*pi/4*(TensorProduct(X,X) + TensorProduct(Y,Y))) * exp(-I*pi/4*(TensorProduct(Z,Z))) * exp(-I*pi/4*(TensorProduct(Id-Z, Id-Z))))"
   ]
  },
  {
   "cell_type": "code",
   "execution_count": 7,
   "metadata": {},
   "outputs": [
    {
     "data": {
      "text/latex": [
       "$\\displaystyle \\left[\\begin{matrix}1 & 0 & 0 & 0\\\\0 & 0 & 1 & 0\\\\0 & 1 & 0 & 0\\\\0 & 0 & 0 & -1\\end{matrix}\\right]$"
      ],
      "text/plain": [
       "Matrix([\n",
       "[1, 0, 0,  0],\n",
       "[0, 0, 1,  0],\n",
       "[0, 1, 0,  0],\n",
       "[0, 0, 0, -1]])"
      ]
     },
     "execution_count": 7,
     "metadata": {},
     "output_type": "execute_result"
    }
   ],
   "source": [
    "simplify(exp(I*pi/4) * exp(-I*pi/4*(TensorProduct(X,X) + TensorProduct(Y,Y))) * exp(-I*pi/4*(TensorProduct(Z,Z))) * exp(-I*pi/4*(TensorProduct(Id,Id) - TensorProduct(Id,Z) - TensorProduct(Z,Id) + TensorProduct(Z,Z))))"
   ]
  },
  {
   "cell_type": "code",
   "execution_count": 10,
   "metadata": {},
   "outputs": [
    {
     "data": {
      "text/latex": [
       "$\\displaystyle \\left[\\begin{matrix}1 & 0 & 0 & 0\\\\0 & 0 & 1 & 0\\\\0 & 1 & 0 & 0\\\\0 & 0 & 0 & -1\\end{matrix}\\right]$"
      ],
      "text/plain": [
       "Matrix([\n",
       "[1, 0, 0,  0],\n",
       "[0, 0, 1,  0],\n",
       "[0, 1, 0,  0],\n",
       "[0, 0, 0, -1]])"
      ]
     },
     "execution_count": 10,
     "metadata": {},
     "output_type": "execute_result"
    }
   ],
   "source": [
    "simplify(exp(I*pi/4) * exp(-I*pi/4*(TensorProduct(X,X) + TensorProduct(Y,Y))) * exp(-I*pi/4*(TensorProduct(Z,Z))) * exp(-I*pi/4*(TensorProduct(Id,Id))) * exp(+I*pi/4*(TensorProduct(Id,Z))) * exp(+I*pi/4*(TensorProduct(Z,Id))) * exp(-I*pi/4*(TensorProduct(Z,Z))))"
   ]
  },
  {
   "cell_type": "code",
   "execution_count": 11,
   "metadata": {},
   "outputs": [
    {
     "data": {
      "text/latex": [
       "$\\displaystyle \\left[\\begin{matrix}1 & 0 & 0 & 0\\\\0 & 0 & 1 & 0\\\\0 & 1 & 0 & 0\\\\0 & 0 & 0 & -1\\end{matrix}\\right]$"
      ],
      "text/plain": [
       "Matrix([\n",
       "[1, 0, 0,  0],\n",
       "[0, 0, 1,  0],\n",
       "[0, 1, 0,  0],\n",
       "[0, 0, 0, -1]])"
      ]
     },
     "execution_count": 11,
     "metadata": {},
     "output_type": "execute_result"
    }
   ],
   "source": [
    "simplify(exp(-I*pi/4*(TensorProduct(X,X) + TensorProduct(Y,Y))) * exp(-I*pi/4*(TensorProduct(Z,Z))) * exp(+I*pi/4*(TensorProduct(Id,Z))) * exp(+I*pi/4*(TensorProduct(Z,Id))) * exp(-I*pi/4*(TensorProduct(Z,Z))))"
   ]
  },
  {
   "cell_type": "markdown",
   "metadata": {},
   "source": [
    "$fSwap = \\exp \\left[ -i \\frac{\\pi}{4} XX + YY \\right] \\cdot \\exp \\left[ -i \\frac{\\pi}{2} ZZ \\right] \\cdot \\exp \\left[ +i \\frac{\\pi}{4} IZ \\right] \\cdot \\exp \\left[ +i \\frac{\\pi}{4} ZI \\right]$"
   ]
  },
  {
   "cell_type": "code",
   "execution_count": 12,
   "metadata": {},
   "outputs": [
    {
     "data": {
      "text/latex": [
       "$\\displaystyle \\left[\\begin{matrix}1 & 0 & 0 & 0\\\\0 & 0 & 1 & 0\\\\0 & 1 & 0 & 0\\\\0 & 0 & 0 & -1\\end{matrix}\\right]$"
      ],
      "text/plain": [
       "Matrix([\n",
       "[1, 0, 0,  0],\n",
       "[0, 0, 1,  0],\n",
       "[0, 1, 0,  0],\n",
       "[0, 0, 0, -1]])"
      ]
     },
     "execution_count": 12,
     "metadata": {},
     "output_type": "execute_result"
    }
   ],
   "source": [
    "simplify(exp(-I*pi/4*(TensorProduct(X,X) + TensorProduct(Y,Y))) * exp(-I*2*pi/4*(TensorProduct(Z,Z))) * exp(+I*pi/4*(TensorProduct(Id,Z))) * exp(+I*pi/4*(TensorProduct(Z,Id))))"
   ]
  },
  {
   "cell_type": "code",
   "execution_count": 24,
   "metadata": {},
   "outputs": [
    {
     "data": {
      "text/latex": [
       "$\\displaystyle \\left[\\begin{matrix}1 & 0 & 0 & 0\\\\0 & 0 & 1 & 0\\\\0 & 1 & 0 & 0\\\\0 & 0 & 0 & -1\\end{matrix}\\right]$"
      ],
      "text/plain": [
       "Matrix([\n",
       "[1, 0, 0,  0],\n",
       "[0, 0, 1,  0],\n",
       "[0, 1, 0,  0],\n",
       "[0, 0, 0, -1]])"
      ]
     },
     "execution_count": 24,
     "metadata": {},
     "output_type": "execute_result"
    }
   ],
   "source": [
    "simplify(exp(+I*pi/4*(TensorProduct(X,X) + TensorProduct(Y,Y))) * exp(+I*2*pi/4*(TensorProduct(Z,Z))) * exp(-I*pi/4*(TensorProduct(Id,Z))) * exp(-I*pi/4*(TensorProduct(Z,Id))))"
   ]
  },
  {
   "cell_type": "code",
   "execution_count": 54,
   "metadata": {},
   "outputs": [],
   "source": [
    "SX = 1/2*Matrix([[1+I, 1-I], [1-I, 1+I]])\n",
    "SY = 1/2*Matrix([[1+I, -1-I], [1+I, 1+I]])"
   ]
  },
  {
   "cell_type": "code",
   "execution_count": 55,
   "metadata": {},
   "outputs": [],
   "source": [
    "lol = simplify(TensorProduct(SX, SX))"
   ]
  },
  {
   "cell_type": "code",
   "execution_count": 56,
   "metadata": {},
   "outputs": [
    {
     "data": {
      "text/latex": [
       "$\\displaystyle \\left[\\begin{matrix}0.5 & - 0.5 i & - 0.5 i & -0.5\\\\- 0.5 i & -0.5 & 0.5 & - 0.5 i\\\\- 0.5 i & 0.5 & -0.5 & - 0.5 i\\\\0.5 & 0.5 i & 0.5 i & -0.5\\end{matrix}\\right]$"
      ],
      "text/plain": [
       "Matrix([\n",
       "[   0.5, -0.5*I, -0.5*I,   -0.5],\n",
       "[-0.5*I,   -0.5,    0.5, -0.5*I],\n",
       "[-0.5*I,    0.5,   -0.5, -0.5*I],\n",
       "[   0.5,  0.5*I,  0.5*I,   -0.5]])"
      ]
     },
     "execution_count": 56,
     "metadata": {},
     "output_type": "execute_result"
    }
   ],
   "source": [
    "simplify(fSwap * -I * lol)"
   ]
  },
  {
   "cell_type": "code",
   "execution_count": 57,
   "metadata": {},
   "outputs": [
    {
     "data": {
      "text/latex": [
       "$\\displaystyle \\left[\\begin{matrix}0.5 + 0.5 i & 0.5 - 0.5 i\\\\0.5 - 0.5 i & 0.5 + 0.5 i\\end{matrix}\\right]$"
      ],
      "text/plain": [
       "Matrix([\n",
       "[0.5 + 0.5*I, 0.5 - 0.5*I],\n",
       "[0.5 - 0.5*I, 0.5 + 0.5*I]])"
      ]
     },
     "execution_count": 57,
     "metadata": {},
     "output_type": "execute_result"
    }
   ],
   "source": [
    "SX"
   ]
  },
  {
   "cell_type": "markdown",
   "metadata": {},
   "source": [
    "### Proof"
   ]
  },
  {
   "cell_type": "code",
   "execution_count": 30,
   "metadata": {},
   "outputs": [],
   "source": [
    "t = Symbol(\"\\Delta t\")"
   ]
  },
  {
   "cell_type": "code",
   "execution_count": 55,
   "metadata": {},
   "outputs": [],
   "source": [
    "fSwap12 = simplify(exp(-I*pi/4*(TensorProduct(X,X,Id,Id) + TensorProduct(Y,Y,Id,Id))) * exp(-I*2*pi/4*(TensorProduct(Z,Z,Id,Id))) * exp(+I*pi/4*(TensorProduct(Id,Z,Id,Id))) * exp(+I*pi/4*(TensorProduct(Z,Id,Id,Id))))\n",
    "fSwap34 = simplify(exp(-I*pi/4*(TensorProduct(Id,Id,X,X) + TensorProduct(Id,Id,Y,Y))) * exp(-I*2*pi/4*(TensorProduct(Id,Id,Z,Z))) * exp(+I*pi/4*(TensorProduct(Id,Id,Id,Z))) * exp(+I*pi/4*(TensorProduct(Id,Id,Z,Id))))\n",
    "\n",
    "fSwap23 = simplify(exp(-I*pi/4*(TensorProduct(Id,X,X,Id) + TensorProduct(Id,Y,Y,Id))) * exp(-I*2*pi/4*(TensorProduct(Id,Z,Z,Id))) * exp(+I*pi/4*(TensorProduct(Id,Z,Id,Id))) * exp(+I*pi/4*(TensorProduct(Id,Id,Z,Id))))\n",
    "\n",
    "\n",
    "fSwap12_ = simplify(exp(+I*pi/4*(TensorProduct(X,X,Id,Id) + TensorProduct(Y,Y,Id,Id))) * exp(+I*2*pi/4*(TensorProduct(Z,Z,Id,Id))) * exp(-I*pi/4*(TensorProduct(Id,Z,Id,Id))) * exp(-I*pi/4*(TensorProduct(Z,Id,Id,Id))))\n",
    "fSwap34_ = simplify(exp(+I*pi/4*(TensorProduct(Id,Id,X,X) + TensorProduct(Id,Id,Y,Y))) * exp(+I*2*pi/4*(TensorProduct(Id,Id,Z,Z))) * exp(-I*pi/4*(TensorProduct(Id,Id,Id,Z))) * exp(-I*pi/4*(TensorProduct(Id,Id,Z,Id))))"
   ]
  },
  {
   "cell_type": "code",
   "execution_count": 58,
   "metadata": {},
   "outputs": [],
   "source": [
    "hop14 = simplify(exp(-I*2*t*(TensorProduct(X,Id,Id,X) + TensorProduct(Y,Id,Id,Y))))\n",
    "hop23 = simplify(exp(-I*2*t*(TensorProduct(Id,X,X,Id) + TensorProduct(Id,Y,Y,Id))))\n",
    "\n",
    "hop12 = simplify(exp(-I*2*t*(TensorProduct(X,X,Id,Id) + TensorProduct(Y,Y,Id,Id))))\n",
    "hop13 = simplify(exp(-I*2*t*(TensorProduct(X,Id,X,Id) + TensorProduct(Y,Id,Y,Id))))"
   ]
  },
  {
   "cell_type": "code",
   "execution_count": 42,
   "metadata": {},
   "outputs": [
    {
     "data": {
      "text/latex": [
       "$\\displaystyle \\left[\\begin{array}{cccccccccccccccc}1 & 0 & 0 & 0 & 0 & 0 & 0 & 0 & 0 & 0 & 0 & 0 & 0 & 0 & 0 & 0\\\\0 & \\cos{\\left(4 \\Delta t \\right)} & 0 & 0 & 0 & 0 & 0 & 0 & - i \\sin{\\left(4 \\Delta t \\right)} & 0 & 0 & 0 & 0 & 0 & 0 & 0\\\\0 & 0 & 1 & 0 & 0 & 0 & 0 & 0 & 0 & 0 & 0 & 0 & 0 & 0 & 0 & 0\\\\0 & 0 & 0 & \\cos{\\left(4 \\Delta t \\right)} & 0 & 0 & 0 & 0 & 0 & 0 & i \\sin{\\left(4 \\Delta t \\right)} & 0 & 0 & 0 & 0 & 0\\\\0 & 0 & 0 & 0 & 1 & 0 & 0 & 0 & 0 & 0 & 0 & 0 & 0 & 0 & 0 & 0\\\\0 & 0 & 0 & 0 & 0 & \\cos{\\left(4 \\Delta t \\right)} & 0 & 0 & 0 & 0 & 0 & 0 & i \\sin{\\left(4 \\Delta t \\right)} & 0 & 0 & 0\\\\0 & 0 & 0 & 0 & 0 & 0 & 1 & 0 & 0 & 0 & 0 & 0 & 0 & 0 & 0 & 0\\\\0 & 0 & 0 & 0 & 0 & 0 & 0 & \\cos{\\left(4 \\Delta t \\right)} & 0 & 0 & 0 & 0 & 0 & 0 & - i \\sin{\\left(4 \\Delta t \\right)} & 0\\\\0 & - i \\sin{\\left(4 \\Delta t \\right)} & 0 & 0 & 0 & 0 & 0 & 0 & \\cos{\\left(4 \\Delta t \\right)} & 0 & 0 & 0 & 0 & 0 & 0 & 0\\\\0 & 0 & 0 & 0 & 0 & 0 & 0 & 0 & 0 & 1 & 0 & 0 & 0 & 0 & 0 & 0\\\\0 & 0 & 0 & i \\sin{\\left(4 \\Delta t \\right)} & 0 & 0 & 0 & 0 & 0 & 0 & \\cos{\\left(4 \\Delta t \\right)} & 0 & 0 & 0 & 0 & 0\\\\0 & 0 & 0 & 0 & 0 & 0 & 0 & 0 & 0 & 0 & 0 & 1 & 0 & 0 & 0 & 0\\\\0 & 0 & 0 & 0 & 0 & i \\sin{\\left(4 \\Delta t \\right)} & 0 & 0 & 0 & 0 & 0 & 0 & \\cos{\\left(4 \\Delta t \\right)} & 0 & 0 & 0\\\\0 & 0 & 0 & 0 & 0 & 0 & 0 & 0 & 0 & 0 & 0 & 0 & 0 & 1 & 0 & 0\\\\0 & 0 & 0 & 0 & 0 & 0 & 0 & - i \\sin{\\left(4 \\Delta t \\right)} & 0 & 0 & 0 & 0 & 0 & 0 & \\cos{\\left(4 \\Delta t \\right)} & 0\\\\0 & 0 & 0 & 0 & 0 & 0 & 0 & 0 & 0 & 0 & 0 & 0 & 0 & 0 & 0 & 1\\end{array}\\right]$"
      ],
      "text/plain": [
       "Matrix([\n",
       "[1,                  0, 0,                 0, 0,                 0, 0,                  0,                  0, 0,                 0, 0,                 0, 0,                  0, 0],\n",
       "[0,    cos(4*\\Delta t), 0,                 0, 0,                 0, 0,                  0, -I*sin(4*\\Delta t), 0,                 0, 0,                 0, 0,                  0, 0],\n",
       "[0,                  0, 1,                 0, 0,                 0, 0,                  0,                  0, 0,                 0, 0,                 0, 0,                  0, 0],\n",
       "[0,                  0, 0,   cos(4*\\Delta t), 0,                 0, 0,                  0,                  0, 0, I*sin(4*\\Delta t), 0,                 0, 0,                  0, 0],\n",
       "[0,                  0, 0,                 0, 1,                 0, 0,                  0,                  0, 0,                 0, 0,                 0, 0,                  0, 0],\n",
       "[0,                  0, 0,                 0, 0,   cos(4*\\Delta t), 0,                  0,                  0, 0,                 0, 0, I*sin(4*\\Delta t), 0,                  0, 0],\n",
       "[0,                  0, 0,                 0, 0,                 0, 1,                  0,                  0, 0,                 0, 0,                 0, 0,                  0, 0],\n",
       "[0,                  0, 0,                 0, 0,                 0, 0,    cos(4*\\Delta t),                  0, 0,                 0, 0,                 0, 0, -I*sin(4*\\Delta t), 0],\n",
       "[0, -I*sin(4*\\Delta t), 0,                 0, 0,                 0, 0,                  0,    cos(4*\\Delta t), 0,                 0, 0,                 0, 0,                  0, 0],\n",
       "[0,                  0, 0,                 0, 0,                 0, 0,                  0,                  0, 1,                 0, 0,                 0, 0,                  0, 0],\n",
       "[0,                  0, 0, I*sin(4*\\Delta t), 0,                 0, 0,                  0,                  0, 0,   cos(4*\\Delta t), 0,                 0, 0,                  0, 0],\n",
       "[0,                  0, 0,                 0, 0,                 0, 0,                  0,                  0, 0,                 0, 1,                 0, 0,                  0, 0],\n",
       "[0,                  0, 0,                 0, 0, I*sin(4*\\Delta t), 0,                  0,                  0, 0,                 0, 0,   cos(4*\\Delta t), 0,                  0, 0],\n",
       "[0,                  0, 0,                 0, 0,                 0, 0,                  0,                  0, 0,                 0, 0,                 0, 1,                  0, 0],\n",
       "[0,                  0, 0,                 0, 0,                 0, 0, -I*sin(4*\\Delta t),                  0, 0,                 0, 0,                 0, 0,    cos(4*\\Delta t), 0],\n",
       "[0,                  0, 0,                 0, 0,                 0, 0,                  0,                  0, 0,                 0, 0,                 0, 0,                  0, 1]])"
      ]
     },
     "execution_count": 42,
     "metadata": {},
     "output_type": "execute_result"
    }
   ],
   "source": [
    "fSwap12 * fSwap34 * hop23 * fSwap34 * fSwap12"
   ]
  },
  {
   "cell_type": "code",
   "execution_count": 62,
   "metadata": {},
   "outputs": [
    {
     "data": {
      "text/latex": [
       "$\\displaystyle \\left[\\begin{array}{cccccccccccccccc}0 & 0 & 0 & 0 & 0 & 0 & 0 & 0 & 0 & 0 & 0 & 0 & 0 & 0 & 0 & 0\\\\0 & 0 & 0 & 0 & 0 & 0 & 0 & 0 & 0 & 0 & 0 & 0 & 0 & 0 & 0 & 0\\\\0 & 0 & 0 & 0 & 0 & 0 & 0 & 0 & 0 & 0 & 0 & 0 & 0 & 0 & 0 & 0\\\\0 & 0 & 0 & 0 & 0 & 0 & 0 & 0 & 0 & 0 & 0 & 0 & 0 & 0 & 0 & 0\\\\0 & 0 & 0 & 0 & 0 & 0 & 0 & 0 & 0 & 0 & 0 & 0 & 0 & 0 & 0 & 0\\\\0 & 0 & 0 & 0 & 0 & 0 & 0 & 0 & 0 & 0 & 0 & 0 & 0 & 0 & 0 & 0\\\\0 & 0 & 0 & 0 & 0 & 0 & 0 & 0 & 0 & 0 & 0 & 0 & 0 & 0 & 0 & 0\\\\0 & 0 & 0 & 0 & 0 & 0 & 0 & 0 & 0 & 0 & 0 & 0 & 0 & 0 & 0 & 0\\\\0 & 0 & 0 & 0 & 0 & 0 & 0 & 0 & 0 & 0 & 0 & 0 & 0 & 0 & 0 & 0\\\\0 & 0 & 0 & 0 & 0 & 0 & 0 & 0 & 0 & 0 & 0 & 0 & 0 & 0 & 0 & 0\\\\0 & 0 & 0 & 0 & 0 & 0 & 0 & 0 & 0 & 0 & 0 & 0 & 0 & 0 & 0 & 0\\\\0 & 0 & 0 & 0 & 0 & 0 & 0 & 0 & 0 & 0 & 0 & 0 & 0 & 0 & 0 & 0\\\\0 & 0 & 0 & 0 & 0 & 0 & 0 & 0 & 0 & 0 & 0 & 0 & 0 & 0 & 0 & 0\\\\0 & 0 & 0 & 0 & 0 & 0 & 0 & 0 & 0 & 0 & 0 & 0 & 0 & 0 & 0 & 0\\\\0 & 0 & 0 & 0 & 0 & 0 & 0 & 0 & 0 & 0 & 0 & 0 & 0 & 0 & 0 & 0\\\\0 & 0 & 0 & 0 & 0 & 0 & 0 & 0 & 0 & 0 & 0 & 0 & 0 & 0 & 0 & 0\\end{array}\\right]$"
      ],
      "text/plain": [
       "Matrix([\n",
       "[0, 0, 0, 0, 0, 0, 0, 0, 0, 0, 0, 0, 0, 0, 0, 0],\n",
       "[0, 0, 0, 0, 0, 0, 0, 0, 0, 0, 0, 0, 0, 0, 0, 0],\n",
       "[0, 0, 0, 0, 0, 0, 0, 0, 0, 0, 0, 0, 0, 0, 0, 0],\n",
       "[0, 0, 0, 0, 0, 0, 0, 0, 0, 0, 0, 0, 0, 0, 0, 0],\n",
       "[0, 0, 0, 0, 0, 0, 0, 0, 0, 0, 0, 0, 0, 0, 0, 0],\n",
       "[0, 0, 0, 0, 0, 0, 0, 0, 0, 0, 0, 0, 0, 0, 0, 0],\n",
       "[0, 0, 0, 0, 0, 0, 0, 0, 0, 0, 0, 0, 0, 0, 0, 0],\n",
       "[0, 0, 0, 0, 0, 0, 0, 0, 0, 0, 0, 0, 0, 0, 0, 0],\n",
       "[0, 0, 0, 0, 0, 0, 0, 0, 0, 0, 0, 0, 0, 0, 0, 0],\n",
       "[0, 0, 0, 0, 0, 0, 0, 0, 0, 0, 0, 0, 0, 0, 0, 0],\n",
       "[0, 0, 0, 0, 0, 0, 0, 0, 0, 0, 0, 0, 0, 0, 0, 0],\n",
       "[0, 0, 0, 0, 0, 0, 0, 0, 0, 0, 0, 0, 0, 0, 0, 0],\n",
       "[0, 0, 0, 0, 0, 0, 0, 0, 0, 0, 0, 0, 0, 0, 0, 0],\n",
       "[0, 0, 0, 0, 0, 0, 0, 0, 0, 0, 0, 0, 0, 0, 0, 0],\n",
       "[0, 0, 0, 0, 0, 0, 0, 0, 0, 0, 0, 0, 0, 0, 0, 0],\n",
       "[0, 0, 0, 0, 0, 0, 0, 0, 0, 0, 0, 0, 0, 0, 0, 0]])"
      ]
     },
     "execution_count": 62,
     "metadata": {},
     "output_type": "execute_result"
    }
   ],
   "source": [
    "fSwap23 * hop12 * fSwap23 - simplify(exp(-I*2*t*(TensorProduct(X,Z,X,Id) + TensorProduct(Y,Z,Y,Id))))"
   ]
  },
  {
   "cell_type": "code",
   "execution_count": 63,
   "metadata": {},
   "outputs": [
    {
     "data": {
      "text/latex": [
       "$\\displaystyle \\left[\\begin{array}{cccccccccccccccc}0 & 0 & 0 & 0 & 0 & 0 & 0 & 0 & 0 & 0 & 0 & 0 & 0 & 0 & 0 & 0\\\\0 & 0 & 0 & 0 & 0 & 0 & 0 & 0 & 0 & 0 & 0 & 0 & 0 & 0 & 0 & 0\\\\0 & 0 & 0 & 0 & 0 & 0 & 0 & 0 & 0 & 0 & 0 & 0 & 0 & 0 & 0 & 0\\\\0 & 0 & 0 & 0 & 0 & 0 & 0 & 0 & 0 & 0 & 0 & 0 & 0 & 0 & 0 & 0\\\\0 & 0 & 0 & 0 & 0 & 0 & 0 & 0 & 0 & 0 & 0 & 0 & 0 & 0 & 0 & 0\\\\0 & 0 & 0 & 0 & 0 & 0 & 0 & 0 & 0 & 0 & 0 & 0 & 0 & 0 & 0 & 0\\\\0 & 0 & 0 & 0 & 0 & 0 & 0 & 0 & 0 & 0 & 0 & 0 & 0 & 0 & 0 & 0\\\\0 & 0 & 0 & 0 & 0 & 0 & 0 & 0 & 0 & 0 & 0 & 0 & 0 & 0 & 0 & 0\\\\0 & 0 & 0 & 0 & 0 & 0 & 0 & 0 & 0 & 0 & 0 & 0 & 0 & 0 & 0 & 0\\\\0 & 0 & 0 & 0 & 0 & 0 & 0 & 0 & 0 & 0 & 0 & 0 & 0 & 0 & 0 & 0\\\\0 & 0 & 0 & 0 & 0 & 0 & 0 & 0 & 0 & 0 & 0 & 0 & 0 & 0 & 0 & 0\\\\0 & 0 & 0 & 0 & 0 & 0 & 0 & 0 & 0 & 0 & 0 & 0 & 0 & 0 & 0 & 0\\\\0 & 0 & 0 & 0 & 0 & 0 & 0 & 0 & 0 & 0 & 0 & 0 & 0 & 0 & 0 & 0\\\\0 & 0 & 0 & 0 & 0 & 0 & 0 & 0 & 0 & 0 & 0 & 0 & 0 & 0 & 0 & 0\\\\0 & 0 & 0 & 0 & 0 & 0 & 0 & 0 & 0 & 0 & 0 & 0 & 0 & 0 & 0 & 0\\\\0 & 0 & 0 & 0 & 0 & 0 & 0 & 0 & 0 & 0 & 0 & 0 & 0 & 0 & 0 & 0\\end{array}\\right]$"
      ],
      "text/plain": [
       "Matrix([\n",
       "[0, 0, 0, 0, 0, 0, 0, 0, 0, 0, 0, 0, 0, 0, 0, 0],\n",
       "[0, 0, 0, 0, 0, 0, 0, 0, 0, 0, 0, 0, 0, 0, 0, 0],\n",
       "[0, 0, 0, 0, 0, 0, 0, 0, 0, 0, 0, 0, 0, 0, 0, 0],\n",
       "[0, 0, 0, 0, 0, 0, 0, 0, 0, 0, 0, 0, 0, 0, 0, 0],\n",
       "[0, 0, 0, 0, 0, 0, 0, 0, 0, 0, 0, 0, 0, 0, 0, 0],\n",
       "[0, 0, 0, 0, 0, 0, 0, 0, 0, 0, 0, 0, 0, 0, 0, 0],\n",
       "[0, 0, 0, 0, 0, 0, 0, 0, 0, 0, 0, 0, 0, 0, 0, 0],\n",
       "[0, 0, 0, 0, 0, 0, 0, 0, 0, 0, 0, 0, 0, 0, 0, 0],\n",
       "[0, 0, 0, 0, 0, 0, 0, 0, 0, 0, 0, 0, 0, 0, 0, 0],\n",
       "[0, 0, 0, 0, 0, 0, 0, 0, 0, 0, 0, 0, 0, 0, 0, 0],\n",
       "[0, 0, 0, 0, 0, 0, 0, 0, 0, 0, 0, 0, 0, 0, 0, 0],\n",
       "[0, 0, 0, 0, 0, 0, 0, 0, 0, 0, 0, 0, 0, 0, 0, 0],\n",
       "[0, 0, 0, 0, 0, 0, 0, 0, 0, 0, 0, 0, 0, 0, 0, 0],\n",
       "[0, 0, 0, 0, 0, 0, 0, 0, 0, 0, 0, 0, 0, 0, 0, 0],\n",
       "[0, 0, 0, 0, 0, 0, 0, 0, 0, 0, 0, 0, 0, 0, 0, 0],\n",
       "[0, 0, 0, 0, 0, 0, 0, 0, 0, 0, 0, 0, 0, 0, 0, 0]])"
      ]
     },
     "execution_count": 63,
     "metadata": {},
     "output_type": "execute_result"
    }
   ],
   "source": [
    "fSwap12 * fSwap34 * hop23 * fSwap34 * fSwap12 - simplify(exp(-I*2*t*(TensorProduct(X,Z,Z,X) + TensorProduct(Y,Z,Z,Y))))\n"
   ]
  },
  {
   "cell_type": "code",
   "execution_count": 64,
   "metadata": {},
   "outputs": [
    {
     "data": {
      "text/latex": [
       "$\\displaystyle \\left[\\begin{array}{cccccccccccccccc}1 - e^{- 2 i \\Delta t} & 0 & 0 & 0 & 0 & 0 & 0 & 0 & 0 & 0 & 0 & 0 & 0 & 0 & 0 & 0\\\\0 & - \\frac{\\left(e^{8 i \\Delta t} + 1\\right) e^{- 6 i \\Delta t}}{2} + \\cos{\\left(4 \\Delta t \\right)} & 0 & 0 & 0 & 0 & 0 & 0 & - \\frac{\\left(1 - e^{8 i \\Delta t}\\right) e^{- 6 i \\Delta t}}{2} - i \\sin{\\left(4 \\Delta t \\right)} & 0 & 0 & 0 & 0 & 0 & 0 & 0\\\\0 & 0 & 1 - e^{2 i \\Delta t} & 0 & 0 & 0 & 0 & 0 & 0 & 0 & 0 & 0 & 0 & 0 & 0 & 0\\\\0 & 0 & 0 & - \\frac{\\left(e^{8 i \\Delta t} + 1\\right) e^{- 2 i \\Delta t}}{2} + \\cos{\\left(4 \\Delta t \\right)} & 0 & 0 & 0 & 0 & 0 & 0 & - \\frac{\\left(1 - e^{8 i \\Delta t}\\right) e^{- 2 i \\Delta t}}{2} + i \\sin{\\left(4 \\Delta t \\right)} & 0 & 0 & 0 & 0 & 0\\\\0 & 0 & 0 & 0 & 1 - e^{2 i \\Delta t} & 0 & 0 & 0 & 0 & 0 & 0 & 0 & 0 & 0 & 0 & 0\\\\0 & 0 & 0 & 0 & 0 & - \\frac{\\left(e^{8 i \\Delta t} + 1\\right) e^{- 2 i \\Delta t}}{2} + \\cos{\\left(4 \\Delta t \\right)} & 0 & 0 & 0 & 0 & 0 & 0 & - \\frac{\\left(1 - e^{8 i \\Delta t}\\right) e^{- 2 i \\Delta t}}{2} + i \\sin{\\left(4 \\Delta t \\right)} & 0 & 0 & 0\\\\0 & 0 & 0 & 0 & 0 & 0 & 1 - e^{- 2 i \\Delta t} & 0 & 0 & 0 & 0 & 0 & 0 & 0 & 0 & 0\\\\0 & 0 & 0 & 0 & 0 & 0 & 0 & - \\frac{\\left(e^{8 i \\Delta t} + 1\\right) e^{- 6 i \\Delta t}}{2} + \\cos{\\left(4 \\Delta t \\right)} & 0 & 0 & 0 & 0 & 0 & 0 & - \\frac{\\left(1 - e^{8 i \\Delta t}\\right) e^{- 6 i \\Delta t}}{2} - i \\sin{\\left(4 \\Delta t \\right)} & 0\\\\0 & - \\frac{\\left(1 - e^{8 i \\Delta t}\\right) e^{- 6 i \\Delta t}}{2} - i \\sin{\\left(4 \\Delta t \\right)} & 0 & 0 & 0 & 0 & 0 & 0 & - \\frac{\\left(e^{8 i \\Delta t} + 1\\right) e^{- 6 i \\Delta t}}{2} + \\cos{\\left(4 \\Delta t \\right)} & 0 & 0 & 0 & 0 & 0 & 0 & 0\\\\0 & 0 & 0 & 0 & 0 & 0 & 0 & 0 & 0 & 1 - e^{- 2 i \\Delta t} & 0 & 0 & 0 & 0 & 0 & 0\\\\0 & 0 & 0 & - \\frac{\\left(1 - e^{8 i \\Delta t}\\right) e^{- 2 i \\Delta t}}{2} + i \\sin{\\left(4 \\Delta t \\right)} & 0 & 0 & 0 & 0 & 0 & 0 & - \\frac{\\left(e^{8 i \\Delta t} + 1\\right) e^{- 2 i \\Delta t}}{2} + \\cos{\\left(4 \\Delta t \\right)} & 0 & 0 & 0 & 0 & 0\\\\0 & 0 & 0 & 0 & 0 & 0 & 0 & 0 & 0 & 0 & 0 & 1 - e^{2 i \\Delta t} & 0 & 0 & 0 & 0\\\\0 & 0 & 0 & 0 & 0 & - \\frac{\\left(1 - e^{8 i \\Delta t}\\right) e^{- 2 i \\Delta t}}{2} + i \\sin{\\left(4 \\Delta t \\right)} & 0 & 0 & 0 & 0 & 0 & 0 & - \\frac{\\left(e^{8 i \\Delta t} + 1\\right) e^{- 2 i \\Delta t}}{2} + \\cos{\\left(4 \\Delta t \\right)} & 0 & 0 & 0\\\\0 & 0 & 0 & 0 & 0 & 0 & 0 & 0 & 0 & 0 & 0 & 0 & 0 & 1 - e^{2 i \\Delta t} & 0 & 0\\\\0 & 0 & 0 & 0 & 0 & 0 & 0 & - \\frac{\\left(1 - e^{8 i \\Delta t}\\right) e^{- 6 i \\Delta t}}{2} - i \\sin{\\left(4 \\Delta t \\right)} & 0 & 0 & 0 & 0 & 0 & 0 & - \\frac{\\left(e^{8 i \\Delta t} + 1\\right) e^{- 6 i \\Delta t}}{2} + \\cos{\\left(4 \\Delta t \\right)} & 0\\\\0 & 0 & 0 & 0 & 0 & 0 & 0 & 0 & 0 & 0 & 0 & 0 & 0 & 0 & 0 & 1 - e^{- 2 i \\Delta t}\\end{array}\\right]$"
      ],
      "text/plain": [
       "Matrix([\n",
       "[1 - exp(-2*I*\\Delta t),                                                                 0,                     0,                                                                 0,                     0,                                                                 0,                      0,                                                                 0,                                                                 0,                      0,                                                                 0,                     0,                                                                 0,                     0,                                                                 0,                      0],\n",
       "[                     0,   -(exp(8*I*\\Delta t) + 1)*exp(-6*I*\\Delta t)/2 + cos(4*\\Delta t),                     0,                                                                 0,                     0,                                                                 0,                      0,                                                                 0, -(1 - exp(8*I*\\Delta t))*exp(-6*I*\\Delta t)/2 - I*sin(4*\\Delta t),                      0,                                                                 0,                     0,                                                                 0,                     0,                                                                 0,                      0],\n",
       "[                     0,                                                                 0, 1 - exp(2*I*\\Delta t),                                                                 0,                     0,                                                                 0,                      0,                                                                 0,                                                                 0,                      0,                                                                 0,                     0,                                                                 0,                     0,                                                                 0,                      0],\n",
       "[                     0,                                                                 0,                     0,   -(exp(8*I*\\Delta t) + 1)*exp(-2*I*\\Delta t)/2 + cos(4*\\Delta t),                     0,                                                                 0,                      0,                                                                 0,                                                                 0,                      0, -(1 - exp(8*I*\\Delta t))*exp(-2*I*\\Delta t)/2 + I*sin(4*\\Delta t),                     0,                                                                 0,                     0,                                                                 0,                      0],\n",
       "[                     0,                                                                 0,                     0,                                                                 0, 1 - exp(2*I*\\Delta t),                                                                 0,                      0,                                                                 0,                                                                 0,                      0,                                                                 0,                     0,                                                                 0,                     0,                                                                 0,                      0],\n",
       "[                     0,                                                                 0,                     0,                                                                 0,                     0,   -(exp(8*I*\\Delta t) + 1)*exp(-2*I*\\Delta t)/2 + cos(4*\\Delta t),                      0,                                                                 0,                                                                 0,                      0,                                                                 0,                     0, -(1 - exp(8*I*\\Delta t))*exp(-2*I*\\Delta t)/2 + I*sin(4*\\Delta t),                     0,                                                                 0,                      0],\n",
       "[                     0,                                                                 0,                     0,                                                                 0,                     0,                                                                 0, 1 - exp(-2*I*\\Delta t),                                                                 0,                                                                 0,                      0,                                                                 0,                     0,                                                                 0,                     0,                                                                 0,                      0],\n",
       "[                     0,                                                                 0,                     0,                                                                 0,                     0,                                                                 0,                      0,   -(exp(8*I*\\Delta t) + 1)*exp(-6*I*\\Delta t)/2 + cos(4*\\Delta t),                                                                 0,                      0,                                                                 0,                     0,                                                                 0,                     0, -(1 - exp(8*I*\\Delta t))*exp(-6*I*\\Delta t)/2 - I*sin(4*\\Delta t),                      0],\n",
       "[                     0, -(1 - exp(8*I*\\Delta t))*exp(-6*I*\\Delta t)/2 - I*sin(4*\\Delta t),                     0,                                                                 0,                     0,                                                                 0,                      0,                                                                 0,   -(exp(8*I*\\Delta t) + 1)*exp(-6*I*\\Delta t)/2 + cos(4*\\Delta t),                      0,                                                                 0,                     0,                                                                 0,                     0,                                                                 0,                      0],\n",
       "[                     0,                                                                 0,                     0,                                                                 0,                     0,                                                                 0,                      0,                                                                 0,                                                                 0, 1 - exp(-2*I*\\Delta t),                                                                 0,                     0,                                                                 0,                     0,                                                                 0,                      0],\n",
       "[                     0,                                                                 0,                     0, -(1 - exp(8*I*\\Delta t))*exp(-2*I*\\Delta t)/2 + I*sin(4*\\Delta t),                     0,                                                                 0,                      0,                                                                 0,                                                                 0,                      0,   -(exp(8*I*\\Delta t) + 1)*exp(-2*I*\\Delta t)/2 + cos(4*\\Delta t),                     0,                                                                 0,                     0,                                                                 0,                      0],\n",
       "[                     0,                                                                 0,                     0,                                                                 0,                     0,                                                                 0,                      0,                                                                 0,                                                                 0,                      0,                                                                 0, 1 - exp(2*I*\\Delta t),                                                                 0,                     0,                                                                 0,                      0],\n",
       "[                     0,                                                                 0,                     0,                                                                 0,                     0, -(1 - exp(8*I*\\Delta t))*exp(-2*I*\\Delta t)/2 + I*sin(4*\\Delta t),                      0,                                                                 0,                                                                 0,                      0,                                                                 0,                     0,   -(exp(8*I*\\Delta t) + 1)*exp(-2*I*\\Delta t)/2 + cos(4*\\Delta t),                     0,                                                                 0,                      0],\n",
       "[                     0,                                                                 0,                     0,                                                                 0,                     0,                                                                 0,                      0,                                                                 0,                                                                 0,                      0,                                                                 0,                     0,                                                                 0, 1 - exp(2*I*\\Delta t),                                                                 0,                      0],\n",
       "[                     0,                                                                 0,                     0,                                                                 0,                     0,                                                                 0,                      0, -(1 - exp(8*I*\\Delta t))*exp(-6*I*\\Delta t)/2 - I*sin(4*\\Delta t),                                                                 0,                      0,                                                                 0,                     0,                                                                 0,                     0,   -(exp(8*I*\\Delta t) + 1)*exp(-6*I*\\Delta t)/2 + cos(4*\\Delta t),                      0],\n",
       "[                     0,                                                                 0,                     0,                                                                 0,                     0,                                                                 0,                      0,                                                                 0,                                                                 0,                      0,                                                                 0,                     0,                                                                 0,                     0,                                                                 0, 1 - exp(-2*I*\\Delta t)]])"
      ]
     },
     "execution_count": 64,
     "metadata": {},
     "output_type": "execute_result"
    }
   ],
   "source": [
    "fSwap12 * fSwap34 * hop23 * fSwap34 * fSwap12 - simplify(exp(-I*2*t*(TensorProduct(X,Id,Id,X) + TensorProduct(Y,Id,Id,Y))) * exp(-I*2*t*(TensorProduct(Id,Z,Z,Id))))\n"
   ]
  },
  {
   "cell_type": "code",
   "execution_count": 68,
   "metadata": {},
   "outputs": [
    {
     "data": {
      "text/latex": [
       "$\\displaystyle \\left[\\begin{matrix}e^{\\frac{i \\pi}{4}} & 0\\\\0 & e^{- \\frac{i \\pi}{4}}\\end{matrix}\\right]$"
      ],
      "text/plain": [
       "Matrix([\n",
       "[exp(I*pi/4),            0],\n",
       "[          0, exp(-I*pi/4)]])"
      ]
     },
     "execution_count": 68,
     "metadata": {},
     "output_type": "execute_result"
    }
   ],
   "source": [
    "exp(+I*pi/4*Z)"
   ]
  },
  {
   "cell_type": "code",
   "execution_count": 73,
   "metadata": {},
   "outputs": [
    {
     "data": {
      "text/latex": [
       "$\\displaystyle \\left[\\begin{matrix}- i & 0 & 0 & 0\\\\0 & i & 0 & 0\\\\0 & 0 & i & 0\\\\0 & 0 & 0 & - i\\end{matrix}\\right]$"
      ],
      "text/plain": [
       "Matrix([\n",
       "[-I, 0, 0,  0],\n",
       "[ 0, I, 0,  0],\n",
       "[ 0, 0, I,  0],\n",
       "[ 0, 0, 0, -I]])"
      ]
     },
     "execution_count": 73,
     "metadata": {},
     "output_type": "execute_result"
    }
   ],
   "source": [
    "exp(-I*pi/2*TensorProduct(Z,Z))"
   ]
  },
  {
   "cell_type": "code",
   "execution_count": 71,
   "metadata": {},
   "outputs": [
    {
     "data": {
      "text/latex": [
       "$\\displaystyle \\left[\\begin{matrix}1 & 0 & 0 & 0\\\\0 & -1 & 0 & 0\\\\0 & 0 & -1 & 0\\\\0 & 0 & 0 & 1\\end{matrix}\\right]$"
      ],
      "text/plain": [
       "Matrix([\n",
       "[1,  0,  0, 0],\n",
       "[0, -1,  0, 0],\n",
       "[0,  0, -1, 0],\n",
       "[0,  0,  0, 1]])"
      ]
     },
     "execution_count": 71,
     "metadata": {},
     "output_type": "execute_result"
    }
   ],
   "source": [
    "TensorProduct(Z,Z)"
   ]
  },
  {
   "cell_type": "code",
   "execution_count": 69,
   "metadata": {},
   "outputs": [
    {
     "data": {
      "text/latex": [
       "$\\displaystyle \\left[\\begin{matrix}0 & -1\\\\1 & 0\\end{matrix}\\right]$"
      ],
      "text/plain": [
       "Matrix([\n",
       "[0, -1],\n",
       "[1,  0]])"
      ]
     },
     "execution_count": 69,
     "metadata": {},
     "output_type": "execute_result"
    }
   ],
   "source": [
    "exp(-I*pi/2*Y)"
   ]
  },
  {
   "cell_type": "markdown",
   "metadata": {},
   "source": [
    "$Y_1 \\otimes Z_2 \\otimes Y_3 \\cdot e^{(X_1 \\otimes X_2 \\otimes X_3)} \\cdot Y_1 \\otimes Z_2 \\otimes Y_3$"
   ]
  },
  {
   "cell_type": "code",
   "execution_count": null,
   "metadata": {},
   "outputs": [],
   "source": []
  },
  {
   "cell_type": "code",
   "execution_count": null,
   "metadata": {},
   "outputs": [],
   "source": []
  },
  {
   "cell_type": "code",
   "execution_count": 39,
   "metadata": {},
   "outputs": [
    {
     "data": {
      "text/latex": [
       "$\\displaystyle \\left[\\begin{matrix}\\cosh{\\left(1 \\right)} & 0 & 0 & 0 & 0 & 0 & 0 & - \\sinh{\\left(1 \\right)}\\\\0 & \\cosh{\\left(1 \\right)} & 0 & 0 & 0 & 0 & - \\sinh{\\left(1 \\right)} & 0\\\\0 & 0 & \\cosh{\\left(1 \\right)} & 0 & 0 & - \\sinh{\\left(1 \\right)} & 0 & 0\\\\0 & 0 & 0 & \\cosh{\\left(1 \\right)} & - \\sinh{\\left(1 \\right)} & 0 & 0 & 0\\\\0 & 0 & 0 & - \\sinh{\\left(1 \\right)} & \\cosh{\\left(1 \\right)} & 0 & 0 & 0\\\\0 & 0 & - \\sinh{\\left(1 \\right)} & 0 & 0 & \\cosh{\\left(1 \\right)} & 0 & 0\\\\0 & - \\sinh{\\left(1 \\right)} & 0 & 0 & 0 & 0 & \\cosh{\\left(1 \\right)} & 0\\\\- \\sinh{\\left(1 \\right)} & 0 & 0 & 0 & 0 & 0 & 0 & \\cosh{\\left(1 \\right)}\\end{matrix}\\right]$"
      ],
      "text/plain": [
       "Matrix([\n",
       "[ cosh(1),        0,        0,        0,        0,        0,        0, -sinh(1)],\n",
       "[       0,  cosh(1),        0,        0,        0,        0, -sinh(1),        0],\n",
       "[       0,        0,  cosh(1),        0,        0, -sinh(1),        0,        0],\n",
       "[       0,        0,        0,  cosh(1), -sinh(1),        0,        0,        0],\n",
       "[       0,        0,        0, -sinh(1),  cosh(1),        0,        0,        0],\n",
       "[       0,        0, -sinh(1),        0,        0,  cosh(1),        0,        0],\n",
       "[       0, -sinh(1),        0,        0,        0,        0,  cosh(1),        0],\n",
       "[-sinh(1),        0,        0,        0,        0,        0,        0,  cosh(1)]])"
      ]
     },
     "execution_count": 39,
     "metadata": {},
     "output_type": "execute_result"
    }
   ],
   "source": [
    "simplify(TensorProduct(Y,Z,Y) * exp(TensorProduct(X,X,X)) * TensorProduct(Y,Z,Y))"
   ]
  },
  {
   "cell_type": "markdown",
   "metadata": {},
   "source": [
    "$Y_1 \\otimes Z_2 \\otimes Y_3 \\cdot \\left( \\cosh(1) (I_1 \\otimes I_2 \\otimes I_3) + \\sinh(1) (X_1 \\otimes X_2 \\otimes X_3) \\right) \\cdot Y_1 \\otimes Z_2 \\otimes Y_3$"
   ]
  },
  {
   "cell_type": "code",
   "execution_count": 38,
   "metadata": {},
   "outputs": [
    {
     "data": {
      "text/latex": [
       "$\\displaystyle \\left[\\begin{matrix}\\cosh{\\left(1 \\right)} & 0 & 0 & 0 & 0 & 0 & 0 & - \\sinh{\\left(1 \\right)}\\\\0 & \\cosh{\\left(1 \\right)} & 0 & 0 & 0 & 0 & - \\sinh{\\left(1 \\right)} & 0\\\\0 & 0 & \\cosh{\\left(1 \\right)} & 0 & 0 & - \\sinh{\\left(1 \\right)} & 0 & 0\\\\0 & 0 & 0 & \\cosh{\\left(1 \\right)} & - \\sinh{\\left(1 \\right)} & 0 & 0 & 0\\\\0 & 0 & 0 & - \\sinh{\\left(1 \\right)} & \\cosh{\\left(1 \\right)} & 0 & 0 & 0\\\\0 & 0 & - \\sinh{\\left(1 \\right)} & 0 & 0 & \\cosh{\\left(1 \\right)} & 0 & 0\\\\0 & - \\sinh{\\left(1 \\right)} & 0 & 0 & 0 & 0 & \\cosh{\\left(1 \\right)} & 0\\\\- \\sinh{\\left(1 \\right)} & 0 & 0 & 0 & 0 & 0 & 0 & \\cosh{\\left(1 \\right)}\\end{matrix}\\right]$"
      ],
      "text/plain": [
       "Matrix([\n",
       "[ cosh(1),        0,        0,        0,        0,        0,        0, -sinh(1)],\n",
       "[       0,  cosh(1),        0,        0,        0,        0, -sinh(1),        0],\n",
       "[       0,        0,  cosh(1),        0,        0, -sinh(1),        0,        0],\n",
       "[       0,        0,        0,  cosh(1), -sinh(1),        0,        0,        0],\n",
       "[       0,        0,        0, -sinh(1),  cosh(1),        0,        0,        0],\n",
       "[       0,        0, -sinh(1),        0,        0,  cosh(1),        0,        0],\n",
       "[       0, -sinh(1),        0,        0,        0,        0,  cosh(1),        0],\n",
       "[-sinh(1),        0,        0,        0,        0,        0,        0,  cosh(1)]])"
      ]
     },
     "execution_count": 38,
     "metadata": {},
     "output_type": "execute_result"
    }
   ],
   "source": [
    "TensorProduct(Y,Z,Y) * (cosh(1)*TensorProduct(Id,Id,Id) + sinh(1)*TensorProduct(X,X,X)) * TensorProduct(Y,Z,Y)"
   ]
  },
  {
   "cell_type": "markdown",
   "metadata": {},
   "source": [
    "$\\cosh(1) (Y_1 \\otimes Z_2 \\otimes Y_3 ) \\cdot (I_1 \\otimes I_2 \\otimes I_3) \\cdot (Y_1 \\otimes Z_2 \\otimes Y_3 )+ \\sinh(1) (Y_1 \\otimes Z_2 \\otimes Y_3 ) \\cdot (X_1 \\otimes X_2 \\otimes X_3) \\cdot (Y_1 \\otimes Z_2 \\otimes Y_3)$"
   ]
  },
  {
   "cell_type": "code",
   "execution_count": 40,
   "metadata": {},
   "outputs": [
    {
     "data": {
      "text/latex": [
       "$\\displaystyle \\left[\\begin{matrix}\\cosh{\\left(1 \\right)} & 0 & 0 & 0 & 0 & 0 & 0 & - \\sinh{\\left(1 \\right)}\\\\0 & \\cosh{\\left(1 \\right)} & 0 & 0 & 0 & 0 & - \\sinh{\\left(1 \\right)} & 0\\\\0 & 0 & \\cosh{\\left(1 \\right)} & 0 & 0 & - \\sinh{\\left(1 \\right)} & 0 & 0\\\\0 & 0 & 0 & \\cosh{\\left(1 \\right)} & - \\sinh{\\left(1 \\right)} & 0 & 0 & 0\\\\0 & 0 & 0 & - \\sinh{\\left(1 \\right)} & \\cosh{\\left(1 \\right)} & 0 & 0 & 0\\\\0 & 0 & - \\sinh{\\left(1 \\right)} & 0 & 0 & \\cosh{\\left(1 \\right)} & 0 & 0\\\\0 & - \\sinh{\\left(1 \\right)} & 0 & 0 & 0 & 0 & \\cosh{\\left(1 \\right)} & 0\\\\- \\sinh{\\left(1 \\right)} & 0 & 0 & 0 & 0 & 0 & 0 & \\cosh{\\left(1 \\right)}\\end{matrix}\\right]$"
      ],
      "text/plain": [
       "Matrix([\n",
       "[ cosh(1),        0,        0,        0,        0,        0,        0, -sinh(1)],\n",
       "[       0,  cosh(1),        0,        0,        0,        0, -sinh(1),        0],\n",
       "[       0,        0,  cosh(1),        0,        0, -sinh(1),        0,        0],\n",
       "[       0,        0,        0,  cosh(1), -sinh(1),        0,        0,        0],\n",
       "[       0,        0,        0, -sinh(1),  cosh(1),        0,        0,        0],\n",
       "[       0,        0, -sinh(1),        0,        0,  cosh(1),        0,        0],\n",
       "[       0, -sinh(1),        0,        0,        0,        0,  cosh(1),        0],\n",
       "[-sinh(1),        0,        0,        0,        0,        0,        0,  cosh(1)]])"
      ]
     },
     "execution_count": 40,
     "metadata": {},
     "output_type": "execute_result"
    }
   ],
   "source": [
    "(cosh(1)*TensorProduct(Y,Z,Y)*TensorProduct(Id,Id,Id)*TensorProduct(Y,Z,Y) + sinh(1)*TensorProduct(Y,Z,Y)*TensorProduct(X,X,X)*TensorProduct(Y,Z,Y))"
   ]
  },
  {
   "cell_type": "code",
   "execution_count": 42,
   "metadata": {},
   "outputs": [
    {
     "data": {
      "text/latex": [
       "$\\displaystyle \\left[\\begin{matrix}\\cosh{\\left(1 \\right)} & 0 & 0 & 0 & 0 & 0 & 0 & - \\sinh{\\left(1 \\right)}\\\\0 & \\cosh{\\left(1 \\right)} & 0 & 0 & 0 & 0 & - \\sinh{\\left(1 \\right)} & 0\\\\0 & 0 & \\cosh{\\left(1 \\right)} & 0 & 0 & - \\sinh{\\left(1 \\right)} & 0 & 0\\\\0 & 0 & 0 & \\cosh{\\left(1 \\right)} & - \\sinh{\\left(1 \\right)} & 0 & 0 & 0\\\\0 & 0 & 0 & - \\sinh{\\left(1 \\right)} & \\cosh{\\left(1 \\right)} & 0 & 0 & 0\\\\0 & 0 & - \\sinh{\\left(1 \\right)} & 0 & 0 & \\cosh{\\left(1 \\right)} & 0 & 0\\\\0 & - \\sinh{\\left(1 \\right)} & 0 & 0 & 0 & 0 & \\cosh{\\left(1 \\right)} & 0\\\\- \\sinh{\\left(1 \\right)} & 0 & 0 & 0 & 0 & 0 & 0 & \\cosh{\\left(1 \\right)}\\end{matrix}\\right]$"
      ],
      "text/plain": [
       "Matrix([\n",
       "[ cosh(1),        0,        0,        0,        0,        0,        0, -sinh(1)],\n",
       "[       0,  cosh(1),        0,        0,        0,        0, -sinh(1),        0],\n",
       "[       0,        0,  cosh(1),        0,        0, -sinh(1),        0,        0],\n",
       "[       0,        0,        0,  cosh(1), -sinh(1),        0,        0,        0],\n",
       "[       0,        0,        0, -sinh(1),  cosh(1),        0,        0,        0],\n",
       "[       0,        0, -sinh(1),        0,        0,  cosh(1),        0,        0],\n",
       "[       0, -sinh(1),        0,        0,        0,        0,  cosh(1),        0],\n",
       "[-sinh(1),        0,        0,        0,        0,        0,        0,  cosh(1)]])"
      ]
     },
     "execution_count": 42,
     "metadata": {},
     "output_type": "execute_result"
    }
   ],
   "source": [
    "cosh(1)*TensorProduct(Id,Id,Id) + sinh(1)*TensorProduct(-X,-X,-X)"
   ]
  },
  {
   "cell_type": "markdown",
   "metadata": {},
   "source": [
    "2.) $Z_1 \\otimes I_2 \\cdot e^{(X_1 \\otimes X_2 + Y_1 \\otimes Y_2)} \\cdot Z_1 \\otimes I_2 = e^{-(X_1 \\otimes X_2 + Y_1 \\otimes Y_2)}$"
   ]
  },
  {
   "cell_type": "code",
   "execution_count": 33,
   "metadata": {},
   "outputs": [],
   "source": [
    "A = simplify(exp(-(TensorProduct(X,X) + TensorProduct(Y,Y))))"
   ]
  },
  {
   "cell_type": "code",
   "execution_count": 34,
   "metadata": {},
   "outputs": [
    {
     "data": {
      "text/plain": [
       "True"
      ]
     },
     "execution_count": 34,
     "metadata": {},
     "output_type": "execute_result"
    }
   ],
   "source": [
    "simplify(TensorProduct(Z,Id) * exp((TensorProduct(X,X) + TensorProduct(Y,Y))) * TensorProduct(Z,Id)) == A"
   ]
  },
  {
   "cell_type": "markdown",
   "metadata": {},
   "source": [
    "$Z_1 \\otimes I_2 \\cdot e^{(X_1 \\otimes X_2)} e^{(Y_1 \\otimes Y_2)} \\cdot Z_1 \\otimes I_2$"
   ]
  },
  {
   "cell_type": "code",
   "execution_count": 35,
   "metadata": {},
   "outputs": [
    {
     "data": {
      "text/plain": [
       "True"
      ]
     },
     "execution_count": 35,
     "metadata": {},
     "output_type": "execute_result"
    }
   ],
   "source": [
    "A == simplify(TensorProduct(Z,Id) * exp(TensorProduct(X,X)) * exp(TensorProduct(Y,Y)) * TensorProduct(Z,Id))"
   ]
  },
  {
   "cell_type": "markdown",
   "metadata": {},
   "source": [
    "$[X \\otimes X, Y \\otimes Y] = 0$"
   ]
  },
  {
   "cell_type": "code",
   "execution_count": 36,
   "metadata": {},
   "outputs": [
    {
     "data": {
      "text/plain": [
       "True"
      ]
     },
     "execution_count": 36,
     "metadata": {},
     "output_type": "execute_result"
    }
   ],
   "source": [
    "TensorProduct(X,X)*TensorProduct(Y,Y) == TensorProduct(Y,Y)*TensorProduct(X,X)"
   ]
  },
  {
   "cell_type": "markdown",
   "metadata": {},
   "source": [
    "$Z_1 \\otimes I_2 \\cdot \\left( \\cosh(1) (I_1 \\otimes I_2) + \\sinh(1) (X_1 \\otimes X_2) \\right) \\left( \\cosh(1) (I_1 \\otimes I_2) + \\sinh(1) (Y_1 \\otimes Y_2) \\right) \\cdot Z_1 \\otimes I_2$"
   ]
  },
  {
   "cell_type": "code",
   "execution_count": 37,
   "metadata": {},
   "outputs": [
    {
     "data": {
      "text/plain": [
       "True"
      ]
     },
     "execution_count": 37,
     "metadata": {},
     "output_type": "execute_result"
    }
   ],
   "source": [
    "A == simplify(TensorProduct(Z,Id) * (cosh(1)*TensorProduct(Id,Id) + sinh(1)*TensorProduct(X,X)) * (cosh(1)*TensorProduct(Id,Id) + sinh(1)*TensorProduct(Y,Y)) * TensorProduct(Z,Id))"
   ]
  },
  {
   "cell_type": "markdown",
   "metadata": {},
   "source": [
    "$Z_1 \\otimes I_2 \\cdot \\left( \\cosh(1)^2 (I_1 \\otimes I_2) + \\cosh(1) \\sinh(1) (Y_1 \\otimes Y_2) + \\sinh(1) \\cosh(1) (X_1 \\otimes X_2) + \\sinh(1)^2 (X_1 Y_1 \\otimes X_2 Y_2) \\right) \\cdot Z_1 \\otimes I_2$"
   ]
  },
  {
   "cell_type": "code",
   "execution_count": 41,
   "metadata": {},
   "outputs": [
    {
     "data": {
      "text/plain": [
       "True"
      ]
     },
     "execution_count": 41,
     "metadata": {},
     "output_type": "execute_result"
    }
   ],
   "source": [
    "A == simplify(TensorProduct(Z,Id) * (cosh(1)*cosh(1)*TensorProduct(Id,Id) + cosh(1)*sinh(1)*TensorProduct(Y,Y) + sinh(1)*cosh(1)*TensorProduct(X,X) + sinh(1)*sinh(1)*TensorProduct(X*Y,X*Y)) * TensorProduct(Z,Id))"
   ]
  },
  {
   "cell_type": "markdown",
   "metadata": {},
   "source": [
    "$\\cosh(1)^2 (I_1 \\otimes I_2) - \\cosh(1) \\sinh(1) (Y_1 \\otimes Y_2) - \\sinh(1) \\cosh(1) (X_1 \\otimes X_2) - \\sinh(1)^2 (Z_1 \\otimes Z_2)$"
   ]
  },
  {
   "cell_type": "code",
   "execution_count": 42,
   "metadata": {},
   "outputs": [
    {
     "data": {
      "text/plain": [
       "True"
      ]
     },
     "execution_count": 42,
     "metadata": {},
     "output_type": "execute_result"
    }
   ],
   "source": [
    "A == simplify(cosh(1)*cosh(1)*TensorProduct(Id,Id) - cosh(1)*sinh(1)*TensorProduct(Y,Y) - sinh(1)*cosh(1)*TensorProduct(X,X) - sinh(1)*sinh(1)*TensorProduct(Z,Z))"
   ]
  },
  {
   "cell_type": "code",
   "execution_count": 43,
   "metadata": {},
   "outputs": [
    {
     "data": {
      "text/plain": [
       "True"
      ]
     },
     "execution_count": 43,
     "metadata": {},
     "output_type": "execute_result"
    }
   ],
   "source": [
    "TensorProduct(Z,Z) * TensorProduct(X,X) == TensorProduct(X,X) * TensorProduct(Z,Z)"
   ]
  },
  {
   "cell_type": "markdown",
   "metadata": {},
   "source": [
    "### pSWAP"
   ]
  },
  {
   "cell_type": "code",
   "execution_count": 13,
   "metadata": {},
   "outputs": [
    {
     "data": {
      "text/latex": [
       "$\\displaystyle \\left[\\begin{matrix}1 & 0 & 0 & 0\\\\0 & \\cos{\\left(\\frac{θ}{4 n} \\right)} & - i \\sin{\\left(\\frac{θ}{4 n} \\right)} & 0\\\\0 & - i \\sin{\\left(\\frac{θ}{4 n} \\right)} & \\cos{\\left(\\frac{θ}{4 n} \\right)} & 0\\\\0 & 0 & 0 & 1\\end{matrix}\\right]$"
      ],
      "text/plain": [
       "Matrix([\n",
       "[1,               0,               0, 0],\n",
       "[0,    cos(θ/(4*n)), -I*sin(θ/(4*n)), 0],\n",
       "[0, -I*sin(θ/(4*n)),    cos(θ/(4*n)), 0],\n",
       "[0,               0,               0, 1]])"
      ]
     },
     "metadata": {},
     "output_type": "display_data"
    }
   ],
   "source": [
    "n = Symbol(\"n\")\n",
    "t = Symbol(\"t\")\n",
    "\n",
    "theta = Symbol(\"θ\")\n",
    "phi = Symbol(\"φ\")\n",
    "fSim = exp(-I*theta/4*(TensorProduct(X,X) + TensorProduct(Y,Y))/(2*n))\n",
    "display(simplify(fSim))"
   ]
  },
  {
   "cell_type": "code",
   "execution_count": 14,
   "metadata": {},
   "outputs": [
    {
     "data": {
      "text/latex": [
       "$\\displaystyle \\left[\\begin{matrix}1 & 0 & 0 & 0\\\\0 & \\cos{\\left(\\frac{θ}{4 n} \\right)} & - i \\sin{\\left(\\frac{θ}{4 n} \\right)} & 0\\\\0 & - i \\sin{\\left(\\frac{θ}{4 n} \\right)} & \\cos{\\left(\\frac{θ}{4 n} \\right)} & 0\\\\0 & 0 & 0 & 1\\end{matrix}\\right]$"
      ],
      "text/plain": [
       "Matrix([\n",
       "[1,               0,               0, 0],\n",
       "[0,    cos(θ/(4*n)), -I*sin(θ/(4*n)), 0],\n",
       "[0, -I*sin(θ/(4*n)),    cos(θ/(4*n)), 0],\n",
       "[0,               0,               0, 1]])"
      ]
     },
     "metadata": {},
     "output_type": "display_data"
    }
   ],
   "source": [
    "fSim = exp(-I*(theta/(2*n))/4*(TensorProduct(X,X) + TensorProduct(Y,Y)))\n",
    "display(simplify(fSim))"
   ]
  },
  {
   "cell_type": "code",
   "execution_count": 15,
   "metadata": {},
   "outputs": [
    {
     "data": {
      "text/latex": [
       "$\\displaystyle \\left[\\begin{matrix}1 & 0 & 0 & 0\\\\0 & \\cos{\\left(\\frac{θ}{2} \\right)} & - i \\sin{\\left(\\frac{θ}{2} \\right)} & 0\\\\0 & - i \\sin{\\left(\\frac{θ}{2} \\right)} & \\cos{\\left(\\frac{θ}{2} \\right)} & 0\\\\0 & 0 & 0 & 1\\end{matrix}\\right]$"
      ],
      "text/plain": [
       "Matrix([\n",
       "[1,           0,           0, 0],\n",
       "[0,    cos(θ/2), -I*sin(θ/2), 0],\n",
       "[0, -I*sin(θ/2),    cos(θ/2), 0],\n",
       "[0,           0,           0, 1]])"
      ]
     },
     "metadata": {},
     "output_type": "display_data"
    }
   ],
   "source": [
    "fSim = exp(-I*(theta)/4*(TensorProduct(X,X) + TensorProduct(Y,Y)))\n",
    "display(simplify(fSim))"
   ]
  },
  {
   "cell_type": "code",
   "execution_count": 17,
   "metadata": {},
   "outputs": [
    {
     "data": {
      "text/latex": [
       "$\\displaystyle \\left[\\begin{matrix}1 & 0 & 0 & 0\\\\0 & \\cos{\\left(\\frac{4 t}{n} \\right)} & i \\sin{\\left(\\frac{4 t}{n} \\right)} & 0\\\\0 & i \\sin{\\left(\\frac{4 t}{n} \\right)} & \\cos{\\left(\\frac{4 t}{n} \\right)} & 0\\\\0 & 0 & 0 & 1\\end{matrix}\\right]$"
      ],
      "text/plain": [
       "Matrix([\n",
       "[1,            0,            0, 0],\n",
       "[0,   cos(4*t/n), I*sin(4*t/n), 0],\n",
       "[0, I*sin(4*t/n),   cos(4*t/n), 0],\n",
       "[0,            0,            0, 1]])"
      ]
     },
     "execution_count": 17,
     "metadata": {},
     "output_type": "execute_result"
    }
   ],
   "source": [
    "simplify(exp(-I*(-2*t)/n*(TensorProduct(X,X) + TensorProduct(Y,Y))))"
   ]
  },
  {
   "cell_type": "markdown",
   "metadata": {},
   "source": [
    "### hopping term"
   ]
  },
  {
   "cell_type": "code",
   "execution_count": 28,
   "metadata": {},
   "outputs": [
    {
     "data": {
      "text/latex": [
       "$\\displaystyle \\left[\\begin{matrix}1 & 0 & 0 & 0\\\\0 & \\cos{\\left(\\frac{4 t}{n} \\right)} & i \\sin{\\left(\\frac{4 t}{n} \\right)} & 0\\\\0 & i \\sin{\\left(\\frac{4 t}{n} \\right)} & \\cos{\\left(\\frac{4 t}{n} \\right)} & 0\\\\0 & 0 & 0 & 1\\end{matrix}\\right]$"
      ],
      "text/plain": [
       "Matrix([\n",
       "[1,            0,            0, 0],\n",
       "[0,   cos(4*t/n), I*sin(4*t/n), 0],\n",
       "[0, I*sin(4*t/n),   cos(4*t/n), 0],\n",
       "[0,            0,            0, 1]])"
      ]
     },
     "metadata": {},
     "output_type": "display_data"
    }
   ],
   "source": [
    "hop = simplify(exp(-I*(-2*t/n*(TensorProduct(X,X) + TensorProduct(Y,Y)))))\n",
    "display(hop)"
   ]
  },
  {
   "cell_type": "code",
   "execution_count": 51,
   "metadata": {},
   "outputs": [
    {
     "data": {
      "text/latex": [
       "$\\displaystyle \\left[\\begin{matrix}1 & 0 & 0 & 0\\\\0 & \\cos{\\left(\\frac{\\theta}{2} \\right)} & - i \\sin{\\left(\\frac{\\theta}{2} \\right)} & 0\\\\0 & - i \\sin{\\left(\\frac{\\theta}{2} \\right)} & \\cos{\\left(\\frac{\\theta}{2} \\right)} & 0\\\\0 & 0 & 0 & 1\\end{matrix}\\right]$"
      ],
      "text/plain": [
       "Matrix([\n",
       "[1,               0,               0, 0],\n",
       "[0,    cos(theta/2), -I*sin(theta/2), 0],\n",
       "[0, -I*sin(theta/2),    cos(theta/2), 0],\n",
       "[0,               0,               0, 1]])"
      ]
     },
     "metadata": {},
     "output_type": "display_data"
    }
   ],
   "source": [
    "#theta = -8*t/n\n",
    "theta = Symbol(\"theta\")\n",
    "iSwap = simplify(exp(-I*theta/4*(TensorProduct(X,X) + TensorProduct(Y,Y))))\n",
    "display(iSwap)"
   ]
  },
  {
   "cell_type": "code",
   "execution_count": 74,
   "metadata": {},
   "outputs": [
    {
     "data": {
      "text/latex": [
       "$\\displaystyle \\left[\\begin{matrix}1 & 0 & 0 & 0\\\\0 & \\cos{\\left(2 \\right)} & - \\sin{\\left(2 \\right)} & 0\\\\0 & \\sin{\\left(2 \\right)} & \\cos{\\left(2 \\right)} & 0\\\\0 & 0 & 0 & 1\\end{matrix}\\right]$"
      ],
      "text/plain": [
       "Matrix([\n",
       "[1,      0,       0, 0],\n",
       "[0, cos(2), -sin(2), 0],\n",
       "[0, sin(2),  cos(2), 0],\n",
       "[0,      0,       0, 1]])"
      ]
     },
     "execution_count": 74,
     "metadata": {},
     "output_type": "execute_result"
    }
   ],
   "source": [
    "eta = Symbol(\"eta\")\n",
    "simplify(exp(-I*(TensorProduct(Y,X) - TensorProduct(X,Y))))"
   ]
  },
  {
   "cell_type": "code",
   "execution_count": 80,
   "metadata": {},
   "outputs": [
    {
     "data": {
      "text/latex": [
       "$\\displaystyle \\left[\\begin{matrix}1 & 0 & 0 & 0\\\\0 & \\cos{\\left(\\frac{\\theta}{2 n} \\right)} & - i \\sin{\\left(\\frac{\\theta}{2 n} \\right)} & 0\\\\0 & - i \\sin{\\left(\\frac{\\theta}{2 n} \\right)} & \\cos{\\left(\\frac{\\theta}{2 n} \\right)} & 0\\\\0 & 0 & 0 & 1\\end{matrix}\\right]$"
      ],
      "text/plain": [
       "Matrix([\n",
       "[1,                   0,                   0, 0],\n",
       "[0,    cos(theta/(2*n)), -I*sin(theta/(2*n)), 0],\n",
       "[0, -I*sin(theta/(2*n)),    cos(theta/(2*n)), 0],\n",
       "[0,                   0,                   0, 1]])"
      ]
     },
     "execution_count": 80,
     "metadata": {},
     "output_type": "execute_result"
    }
   ],
   "source": [
    "simplify(exp(-2*I*theta/4*(TensorProduct(X,X) + TensorProduct(Y,Y))/(2*n)))"
   ]
  },
  {
   "cell_type": "markdown",
   "metadata": {},
   "source": [
    "### Parametric iSWAP"
   ]
  },
  {
   "cell_type": "code",
   "execution_count": 7,
   "metadata": {},
   "outputs": [
    {
     "data": {
      "text/latex": [
       "$\\displaystyle \\left[\\begin{matrix}1 & 0 & 0 & 0\\\\0 & \\cos{\\left(\\frac{\\theta}{2} \\right)} & \\frac{i \\left(1 - e^{i \\theta}\\right) e^{i \\left(\\eta - \\frac{\\theta}{2}\\right)}}{2} & 0\\\\0 & \\frac{i \\left(e^{i \\theta} - 1\\right) e^{- i \\left(\\eta + \\frac{\\theta}{2}\\right)}}{2} & \\cos{\\left(\\frac{\\theta}{2} \\right)} & 0\\\\0 & 0 & 0 & 1\\end{matrix}\\right]$"
      ],
      "text/plain": [
       "Matrix([\n",
       "[1,                                              0,                                             0, 0],\n",
       "[0,                                   cos(theta/2), I*(1 - exp(I*theta))*exp(I*(eta - theta/2))/2, 0],\n",
       "[0, I*(exp(I*theta) - 1)*exp(-I*(eta + theta/2))/2,                                  cos(theta/2), 0],\n",
       "[0,                                              0,                                             0, 1]])"
      ]
     },
     "metadata": {},
     "output_type": "display_data"
    }
   ],
   "source": [
    "theta = Symbol(\"theta\")\n",
    "eta = Symbol(\"eta\")\n",
    "iSWAP = simplify(KroneckerProduct(exp(I*pi/4*Z), exp(-I*eta/2*Z)) * exp(-I*theta/4*(TensorProduct(X,X) + TensorProduct(Y,Y))) * KroneckerProduct(exp(-I*pi/4*Z), exp(I*eta/2*Z)))\n",
    "display(iSWAP)"
   ]
  },
  {
   "cell_type": "code",
   "execution_count": 8,
   "metadata": {},
   "outputs": [
    {
     "data": {
      "text/plain": [
       "False"
      ]
     },
     "execution_count": 8,
     "metadata": {},
     "output_type": "execute_result"
    }
   ],
   "source": [
    "-I*sin(theta/2)*exp(I*eta) == I*(1 - exp(I*theta))*exp(-I*(eta - theta/2))"
   ]
  },
  {
   "cell_type": "code",
   "execution_count": 9,
   "metadata": {},
   "outputs": [
    {
     "data": {
      "text/latex": [
       "$\\displaystyle \\left[\\begin{matrix}i e^{i \\eta} & 0 & 0 & 0\\\\0 & i e^{- i \\eta} & 0 & 0\\\\0 & 0 & - i e^{i \\eta} & 0\\\\0 & 0 & 0 & - i e^{- i \\eta}\\end{matrix}\\right]$"
      ],
      "text/plain": [
       "Matrix([\n",
       "[I*exp(I*eta),             0,             0,              0],\n",
       "[           0, I*exp(-I*eta),             0,              0],\n",
       "[           0,             0, -I*exp(I*eta),              0],\n",
       "[           0,             0,             0, -I*exp(-I*eta)]])"
      ]
     },
     "metadata": {},
     "output_type": "display_data"
    }
   ],
   "source": [
    "from sympy.physics.quantum import State, Bra, Ket, TensorProduct, qapply, tensor_product_simp\n",
    "display(tensor_product_simp((KroneckerProduct(exp(I*pi/4*Z), exp(I*eta/2*Z)))**2))"
   ]
  },
  {
   "cell_type": "code",
   "execution_count": 10,
   "metadata": {},
   "outputs": [
    {
     "data": {
      "text/latex": [
       "$\\displaystyle \\left[\\begin{matrix}1 & 0 & 0 & 0\\\\0 & \\frac{e^{\\frac{i \\theta}{2}}}{2} + \\frac{e^{- \\frac{i \\theta}{2}}}{2} & - \\frac{e^{\\frac{i \\theta}{2}}}{2} + \\frac{e^{- \\frac{i \\theta}{2}}}{2} & 0\\\\0 & - \\frac{e^{\\frac{i \\theta}{2}}}{2} + \\frac{e^{- \\frac{i \\theta}{2}}}{2} & \\frac{e^{\\frac{i \\theta}{2}}}{2} + \\frac{e^{- \\frac{i \\theta}{2}}}{2} & 0\\\\0 & 0 & 0 & 1\\end{matrix}\\right]$"
      ],
      "text/plain": [
       "Matrix([\n",
       "[1,                                     0,                                     0, 0],\n",
       "[0,  exp(I*theta/2)/2 + exp(-I*theta/2)/2, -exp(I*theta/2)/2 + exp(-I*theta/2)/2, 0],\n",
       "[0, -exp(I*theta/2)/2 + exp(-I*theta/2)/2,  exp(I*theta/2)/2 + exp(-I*theta/2)/2, 0],\n",
       "[0,                                     0,                                     0, 1]])"
      ]
     },
     "execution_count": 10,
     "metadata": {},
     "output_type": "execute_result"
    }
   ],
   "source": [
    "exp(-I*theta/4*(TensorProduct(X,X) + TensorProduct(Y,Y)))"
   ]
  },
  {
   "cell_type": "code",
   "execution_count": 11,
   "metadata": {},
   "outputs": [
    {
     "data": {
      "text/latex": [
       "$\\displaystyle 1 - e^{- i \\eta + \\frac{i \\theta}{2}}$"
      ],
      "text/plain": [
       "1 - exp(-I*eta + I*theta/2)"
      ]
     },
     "execution_count": 11,
     "metadata": {},
     "output_type": "execute_result"
    }
   ],
   "source": [
    "simplify((1-exp(I*theta)*exp(-I*(eta+theta/2))))"
   ]
  },
  {
   "cell_type": "code",
   "execution_count": 12,
   "metadata": {},
   "outputs": [
    {
     "data": {
      "text/latex": [
       "$\\displaystyle - i e^{- i \\eta} \\sin{\\left(\\frac{\\theta}{2} \\right)}$"
      ],
      "text/plain": [
       "-I*exp(-I*eta)*sin(theta/2)"
      ]
     },
     "execution_count": 12,
     "metadata": {},
     "output_type": "execute_result"
    }
   ],
   "source": [
    "simplify(-I*sin(theta/2)*exp(-I*eta))"
   ]
  },
  {
   "cell_type": "code",
   "execution_count": 13,
   "metadata": {},
   "outputs": [
    {
     "data": {
      "text/latex": [
       "$\\displaystyle - e^{i \\theta} e^{- i \\left(\\eta + \\frac{\\theta}{2}\\right)} + 1 + i e^{- i \\eta} \\sin{\\left(\\frac{\\theta}{2} \\right)}$"
      ],
      "text/plain": [
       "-exp(I*theta)*exp(-I*(eta + theta/2)) + 1 + I*exp(-I*eta)*sin(theta/2)"
      ]
     },
     "execution_count": 13,
     "metadata": {},
     "output_type": "execute_result"
    }
   ],
   "source": [
    "(1-exp(I*theta)*exp(-I*(eta+theta/2))) - (-I*sin(theta/2)*exp(-I*eta))"
   ]
  },
  {
   "cell_type": "code",
   "execution_count": 14,
   "metadata": {},
   "outputs": [
    {
     "data": {
      "text/latex": [
       "$\\displaystyle \\left[\\begin{matrix}1 & 0 & 0 & 0\\\\0 & \\cos{\\left(2 \\right)} & - i \\sin{\\left(2 \\right)} & 0\\\\0 & - i \\sin{\\left(2 \\right)} & \\cos{\\left(2 \\right)} & 0\\\\0 & 0 & 0 & 1\\end{matrix}\\right]$"
      ],
      "text/plain": [
       "Matrix([\n",
       "[1,         0,         0, 0],\n",
       "[0,    cos(2), -I*sin(2), 0],\n",
       "[0, -I*sin(2),    cos(2), 0],\n",
       "[0,         0,         0, 1]])"
      ]
     },
     "execution_count": 14,
     "metadata": {},
     "output_type": "execute_result"
    }
   ],
   "source": [
    "simplify(exp(-I*(TensorProduct(X,X) + TensorProduct(Y,Y))))"
   ]
  },
  {
   "cell_type": "code",
   "execution_count": 15,
   "metadata": {},
   "outputs": [
    {
     "data": {
      "text/latex": [
       "$\\displaystyle \\left[\\begin{matrix}e^{\\frac{i \\pi}{4}} & 0\\\\0 & e^{- \\frac{i \\pi}{4}}\\end{matrix}\\right]$"
      ],
      "text/plain": [
       "Matrix([\n",
       "[exp(I*pi/4),            0],\n",
       "[          0, exp(-I*pi/4)]])"
      ]
     },
     "execution_count": 15,
     "metadata": {},
     "output_type": "execute_result"
    }
   ],
   "source": [
    "exp(I*pi/4*Z)"
   ]
  },
  {
   "cell_type": "code",
   "execution_count": 16,
   "metadata": {},
   "outputs": [
    {
     "data": {
      "text/latex": [
       "$\\displaystyle \\left[\\begin{matrix}1.0 e^{0.25 i \\left(2.0 \\theta - 3.14159265358979\\right)} & 0 & 0 & 0\\\\0 & 6.12323399573677 \\cdot 10^{-17} i e^{- i \\left(0.5 \\theta + 0.785398163397448\\right)} & \\left(1.0 - 6.12323399573677 \\cdot 10^{-17} i\\right) e^{- i \\left(0.5 \\theta + 0.785398163397448\\right)} & 0\\\\0 & \\left(1.0 - 6.12323399573677 \\cdot 10^{-17} i\\right) e^{- i \\left(0.5 \\theta + 0.785398163397448\\right)} & 6.12323399573677 \\cdot 10^{-17} i e^{- i \\left(0.5 \\theta + 0.785398163397448\\right)} & 0\\\\0 & 0 & 0 & 1.0 e^{0.25 i \\left(2.0 \\theta - 3.14159265358979\\right)}\\end{matrix}\\right]$"
      ],
      "text/plain": [
       "Matrix([\n",
       "[1.0*exp(0.25*I*(2.0*theta - 3.14159265358979)),                                                                      0,                                                                      0,                                              0],\n",
       "[                                             0,         6.12323399573677e-17*I*exp(-I*(0.5*theta + 0.785398163397448)), (1.0 - 6.12323399573677e-17*I)*exp(-I*(0.5*theta + 0.785398163397448)),                                              0],\n",
       "[                                             0, (1.0 - 6.12323399573677e-17*I)*exp(-I*(0.5*theta + 0.785398163397448)),         6.12323399573677e-17*I*exp(-I*(0.5*theta + 0.785398163397448)),                                              0],\n",
       "[                                             0,                                                                      0,                                                                      0, 1.0*exp(0.25*I*(2.0*theta - 3.14159265358979))]])"
      ]
     },
     "execution_count": 16,
     "metadata": {},
     "output_type": "execute_result"
    }
   ],
   "source": [
    "simplify(exp(-I*pi/2*(1/2*TensorProduct(X,X) + 1/2*TensorProduct(Y,Y) + (1/2-theta/pi)*TensorProduct(Z,Z))))"
   ]
  },
  {
   "cell_type": "code",
   "execution_count": 18,
   "metadata": {},
   "outputs": [],
   "source": [
    "phi = Symbol(\"phi\")"
   ]
  },
  {
   "cell_type": "code",
   "execution_count": 19,
   "metadata": {},
   "outputs": [
    {
     "data": {
      "text/latex": [
       "$\\displaystyle \\left[\\begin{matrix}e^{\\frac{i \\left(4 \\phi - 3 \\pi\\right)}{4}} & 0 & 0 & 0\\\\0 & \\frac{\\left(e^{2 i \\theta} + 1\\right) e^{i \\left(- \\phi - \\theta + \\frac{\\pi}{4}\\right)}}{2} & \\frac{\\left(1 - e^{2 i \\theta}\\right) e^{i \\left(- \\theta + \\frac{3 \\pi}{4}\\right)}}{2} & 0\\\\0 & \\frac{\\left(1 - e^{2 i \\theta}\\right) e^{- i \\left(\\theta + \\frac{\\pi}{4}\\right)}}{2} & \\frac{\\left(e^{2 i \\theta} + 1\\right) e^{i \\left(\\phi - \\theta + \\frac{\\pi}{4}\\right)}}{2} & 0\\\\0 & 0 & 0 & e^{\\frac{i \\left(\\pi - 4 \\phi\\right)}{4}}\\end{matrix}\\right]$"
      ],
      "text/plain": [
       "Matrix([\n",
       "[exp(I*(4*phi - 3*pi)/4),                                                   0,                                                  0,                     0],\n",
       "[                      0, (exp(2*I*theta) + 1)*exp(I*(-phi - theta + pi/4))/2,    (1 - exp(2*I*theta))*exp(I*(-theta + 3*pi/4))/2,                     0],\n",
       "[                      0,       (1 - exp(2*I*theta))*exp(-I*(theta + pi/4))/2, (exp(2*I*theta) + 1)*exp(I*(phi - theta + pi/4))/2,                     0],\n",
       "[                      0,                                                   0,                                                  0, exp(I*(pi - 4*phi)/4)]])"
      ]
     },
     "execution_count": 19,
     "metadata": {},
     "output_type": "execute_result"
    }
   ],
   "source": [
    "simplify(exp(-I/2*(pi/2-phi)*TensorProduct(Id,Z)) * exp(-I/2*(theta*TensorProduct(X,X) + theta*TensorProduct(Y,Y) + pi/2*TensorProduct(Z,Z))) * exp(-I/2*(pi/2*TensorProduct(Z,Id) - phi*TensorProduct(Id,Z))))"
   ]
  },
  {
   "cell_type": "code",
   "execution_count": 10,
   "metadata": {},
   "outputs": [
    {
     "data": {
      "text/latex": [
       "$\\displaystyle e^{- \\frac{i \\left(4 φ - \\pi\\right)}{4}}$"
      ],
      "text/plain": [
       "exp(-I*(4*φ - pi)/4)"
      ]
     },
     "execution_count": 10,
     "metadata": {},
     "output_type": "execute_result"
    }
   ],
   "source": [
    "simplify(exp(I*(pi-4*phi)/4))"
   ]
  },
  {
   "cell_type": "code",
   "execution_count": 22,
   "metadata": {},
   "outputs": [
    {
     "data": {
      "text/latex": [
       "$\\displaystyle \\left[\\begin{matrix}0.5 e^{- i \\theta + 0.785398163397448 i} + 0.353553390593274 - 0.353553390593274 i & 0 & 0 & - 0.5 e^{- i \\theta + 0.785398163397448 i} + 0.353553390593274 - 0.353553390593274 i\\\\0 & 0.5 \\cdot \\left(0.707106781186548 - 0.707106781186547 i\\right) \\left(e^{i \\left(\\theta + 1.5707963267949\\right)} + 1\\right) & 0.5 \\cdot \\left(0.707106781186548 - 0.707106781186547 i\\right) \\left(1 - e^{i \\left(\\theta + 1.5707963267949\\right)}\\right) & 0\\\\0 & 0.5 \\cdot \\left(0.707106781186548 - 0.707106781186547 i\\right) \\left(1 - e^{i \\left(\\theta + 1.5707963267949\\right)}\\right) & 0.5 \\cdot \\left(0.707106781186548 - 0.707106781186547 i\\right) \\left(e^{i \\left(\\theta + 1.5707963267949\\right)} + 1\\right) & 0\\\\- 0.5 e^{- i \\theta + 0.785398163397448 i} + 0.353553390593274 - 0.353553390593274 i & 0 & 0 & 0.5 e^{- i \\theta + 0.785398163397448 i} + 0.353553390593274 - 0.353553390593274 i\\end{matrix}\\right]$"
      ],
      "text/plain": [
       "Matrix([\n",
       "[ 0.5*exp(-I*theta + 0.785398163397448*I) + 0.353553390593274 - 0.353553390593274*I,                                                                                    0,                                                                                    0, -0.5*exp(-I*theta + 0.785398163397448*I) + 0.353553390593274 - 0.353553390593274*I],\n",
       "[                                                                                 0, 0.5*(0.707106781186548 - 0.707106781186547*I)*(exp(I*(theta + 1.5707963267949)) + 1), 0.5*(0.707106781186548 - 0.707106781186547*I)*(1 - exp(I*(theta + 1.5707963267949))),                                                                                  0],\n",
       "[                                                                                 0, 0.5*(0.707106781186548 - 0.707106781186547*I)*(1 - exp(I*(theta + 1.5707963267949))), 0.5*(0.707106781186548 - 0.707106781186547*I)*(exp(I*(theta + 1.5707963267949)) + 1),                                                                                  0],\n",
       "[-0.5*exp(-I*theta + 0.785398163397448*I) + 0.353553390593274 - 0.353553390593274*I,                                                                                    0,                                                                                    0,  0.5*exp(-I*theta + 0.785398163397448*I) + 0.353553390593274 - 0.353553390593274*I]])"
      ]
     },
     "execution_count": 22,
     "metadata": {},
     "output_type": "execute_result"
    }
   ],
   "source": [
    "simplify(exp(-I*pi/2*(1/2*TensorProduct(X,X) + theta/pi*TensorProduct(Y,Y) + theta/pi*TensorProduct(Z,Z))))"
   ]
  },
  {
   "cell_type": "code",
   "execution_count": 25,
   "metadata": {},
   "outputs": [
    {
     "data": {
      "text/latex": [
       "$\\displaystyle \\left[\\begin{matrix}0.5 \\cdot \\left(1.0 - 1.0 i\\right) e^{- 2.35619449019234 i} & 0 & 0 & 0.5 \\cdot \\left(1.0 + 1.0 i\\right) e^{- 2.35619449019234 i}\\\\0 & 0.5 \\left(-0.707106781186548 + 0.707106781186547 i\\right) \\left(1.0 + 1.0 i\\right) & 0.5 \\left(-1.0 + 1.0 i\\right) \\left(-0.707106781186548 + 0.707106781186547 i\\right) & 0\\\\0 & 0.5 \\left(-1.0 + 1.0 i\\right) \\left(-0.707106781186548 + 0.707106781186547 i\\right) & 0.5 \\left(-0.707106781186548 + 0.707106781186547 i\\right) \\left(1.0 + 1.0 i\\right) & 0\\\\0.5 \\cdot \\left(1.0 + 1.0 i\\right) e^{- 2.35619449019234 i} & 0 & 0 & 0.5 \\cdot \\left(1.0 - 1.0 i\\right) e^{- 2.35619449019234 i}\\end{matrix}\\right]$"
      ],
      "text/plain": [
       "Matrix([\n",
       "[0.5*(1.0 - 1.0*I)*exp(-2.35619449019234*I),                                                             0,                                                             0, 0.5*(1.0 + 1.0*I)*exp(-2.35619449019234*I)],\n",
       "[                                         0,  0.5*(-0.707106781186548 + 0.707106781186547*I)*(1.0 + 1.0*I), 0.5*(-1.0 + 1.0*I)*(-0.707106781186548 + 0.707106781186547*I),                                          0],\n",
       "[                                         0, 0.5*(-1.0 + 1.0*I)*(-0.707106781186548 + 0.707106781186547*I),  0.5*(-0.707106781186548 + 0.707106781186547*I)*(1.0 + 1.0*I),                                          0],\n",
       "[0.5*(1.0 + 1.0*I)*exp(-2.35619449019234*I),                                                             0,                                                             0, 0.5*(1.0 - 1.0*I)*exp(-2.35619449019234*I)]])"
      ]
     },
     "execution_count": 25,
     "metadata": {},
     "output_type": "execute_result"
    }
   ],
   "source": [
    "simplify(exp(-I*pi/2*(-1/2*TensorProduct(X,X) + -1*(2*TensorProduct(Y,Y) + 0*TensorProduct(Z,Z)))))"
   ]
  },
  {
   "cell_type": "code",
   "execution_count": 27,
   "metadata": {},
   "outputs": [
    {
     "data": {
      "text/latex": [
       "$\\displaystyle \\left[\\begin{matrix}\\frac{\\sqrt[4]{-1} \\cdot \\left(1 - i\\right)}{2} & 0 & 0 & \\frac{\\left(-1\\right)^{\\frac{3}{4}} \\left(-1 + i\\right)}{2}\\\\0 & \\frac{\\sqrt[4]{-1} \\cdot \\left(1 - i\\right)}{2} & \\frac{\\left(-1\\right)^{\\frac{3}{4}} \\left(-1 + i\\right)}{2} & 0\\\\0 & \\frac{\\left(-1\\right)^{\\frac{3}{4}} \\left(-1 + i\\right)}{2} & \\frac{\\sqrt[4]{-1} \\cdot \\left(1 - i\\right)}{2} & 0\\\\\\frac{\\left(-1\\right)^{\\frac{3}{4}} \\left(-1 + i\\right)}{2} & 0 & 0 & \\frac{\\sqrt[4]{-1} \\cdot \\left(1 - i\\right)}{2}\\end{matrix}\\right]$"
      ],
      "text/plain": [
       "Matrix([\n",
       "[ (-1)**(1/4)*(1 - I)/2,                      0,                      0, (-1)**(3/4)*(-1 + I)/2],\n",
       "[                     0,  (-1)**(1/4)*(1 - I)/2, (-1)**(3/4)*(-1 + I)/2,                      0],\n",
       "[                     0, (-1)**(3/4)*(-1 + I)/2,  (-1)**(1/4)*(1 - I)/2,                      0],\n",
       "[(-1)**(3/4)*(-1 + I)/2,                      0,                      0,  (-1)**(1/4)*(1 - I)/2]])"
      ]
     },
     "execution_count": 27,
     "metadata": {},
     "output_type": "execute_result"
    }
   ],
   "source": [
    "simplify(exp(-I*pi/4*TensorProduct(X,X)))"
   ]
  },
  {
   "cell_type": "code",
   "execution_count": 29,
   "metadata": {},
   "outputs": [
    {
     "data": {
      "text/latex": [
       "$\\displaystyle \\left[\\begin{matrix}e^{\\frac{i \\left(2 \\phi - \\pi\\right)}{4}} & 0 & 0 & 0\\\\0 & e^{- \\frac{i \\left(2 \\phi - \\pi\\right)}{4}} & 0 & 0\\\\0 & 0 & e^{\\frac{i \\left(2 \\phi - \\pi\\right)}{4}} & 0\\\\0 & 0 & 0 & e^{- \\frac{i \\left(2 \\phi - \\pi\\right)}{4}}\\end{matrix}\\right]$"
      ],
      "text/plain": [
       "Matrix([\n",
       "[exp(I*(2*phi - pi)/4),                      0,                     0,                      0],\n",
       "[                    0, exp(-I*(2*phi - pi)/4),                     0,                      0],\n",
       "[                    0,                      0, exp(I*(2*phi - pi)/4),                      0],\n",
       "[                    0,                      0,                     0, exp(-I*(2*phi - pi)/4)]])"
      ]
     },
     "execution_count": 29,
     "metadata": {},
     "output_type": "execute_result"
    }
   ],
   "source": [
    "simplify(exp(-I/2*(pi/2-phi)*TensorProduct(Id,Z)))"
   ]
  },
  {
   "cell_type": "code",
   "execution_count": 30,
   "metadata": {},
   "outputs": [
    {
     "data": {
      "text/latex": [
       "$\\displaystyle \\left[\\begin{matrix}e^{\\frac{i \\left(2 \\phi - \\pi\\right)}{4}} & 0 & 0 & 0\\\\0 & e^{- \\frac{i \\left(2 \\phi + \\pi\\right)}{4}} & 0 & 0\\\\0 & 0 & e^{\\frac{i \\left(2 \\phi + \\pi\\right)}{4}} & 0\\\\0 & 0 & 0 & e^{- \\frac{i \\left(2 \\phi - \\pi\\right)}{4}}\\end{matrix}\\right]$"
      ],
      "text/plain": [
       "Matrix([\n",
       "[exp(I*(2*phi - pi)/4),                      0,                     0,                      0],\n",
       "[                    0, exp(-I*(2*phi + pi)/4),                     0,                      0],\n",
       "[                    0,                      0, exp(I*(2*phi + pi)/4),                      0],\n",
       "[                    0,                      0,                     0, exp(-I*(2*phi - pi)/4)]])"
      ]
     },
     "execution_count": 30,
     "metadata": {},
     "output_type": "execute_result"
    }
   ],
   "source": [
    "simplify(exp(-I/2*(pi/2*TensorProduct(Z,Id)-phi*TensorProduct(Id,Z))))"
   ]
  },
  {
   "cell_type": "code",
   "execution_count": 36,
   "metadata": {},
   "outputs": [
    {
     "data": {
      "text/latex": [
       "$\\displaystyle \\left[\\begin{matrix}1 & 0 & 0 & 0\\\\0 & \\cos{\\left(\\theta \\right)} & - i \\sin{\\left(\\theta \\right)} & 0\\\\0 & - i \\sin{\\left(\\theta \\right)} & \\cos{\\left(\\theta \\right)} & 0\\\\0 & 0 & 0 & 1\\end{matrix}\\right]$"
      ],
      "text/plain": [
       "Matrix([\n",
       "[1,             0,             0, 0],\n",
       "[0,    cos(theta), -I*sin(theta), 0],\n",
       "[0, -I*sin(theta),    cos(theta), 0],\n",
       "[0,             0,             0, 1]])"
      ]
     },
     "execution_count": 36,
     "metadata": {},
     "output_type": "execute_result"
    }
   ],
   "source": [
    "simplify(exp(-I/2*(theta*TensorProduct(X,X) + theta*TensorProduct(Y,Y))))"
   ]
  },
  {
   "cell_type": "code",
   "execution_count": 39,
   "metadata": {},
   "outputs": [
    {
     "data": {
      "text/latex": [
       "$\\displaystyle \\left[\\begin{matrix}0.5 \\cdot \\left(0.968912421710645 - 0.247403959254523 i\\right) \\left(1.87758256189037 + 0.479425538604203 i\\right) & 0 & 0 & 0.5 \\cdot \\left(0.122417438109627 - 0.479425538604203 i\\right) \\left(0.968912421710645 - 0.247403959254523 i\\right)\\\\0 & 0.5 \\cdot \\left(0.968912421710645 - 0.247403959254523 i\\right) \\left(1.87758256189037 + 0.479425538604203 i\\right) & 0.5 \\cdot \\left(0.122417438109627 - 0.479425538604203 i\\right) \\left(0.968912421710645 - 0.247403959254523 i\\right) & 0\\\\0 & 0.5 \\cdot \\left(0.122417438109627 - 0.479425538604203 i\\right) \\left(0.968912421710645 - 0.247403959254523 i\\right) & 0.5 \\cdot \\left(0.968912421710645 - 0.247403959254523 i\\right) \\left(1.87758256189037 + 0.479425538604203 i\\right) & 0\\\\0.5 \\cdot \\left(0.122417438109627 - 0.479425538604203 i\\right) \\left(0.968912421710645 - 0.247403959254523 i\\right) & 0 & 0 & 0.5 \\cdot \\left(0.968912421710645 - 0.247403959254523 i\\right) \\left(1.87758256189037 + 0.479425538604203 i\\right)\\end{matrix}\\right]$"
      ],
      "text/plain": [
       "Matrix([\n",
       "[ 0.5*(0.968912421710645 - 0.247403959254523*I)*(1.87758256189037 + 0.479425538604203*I),                                                                                       0,                                                                                       0, 0.5*(0.122417438109627 - 0.479425538604203*I)*(0.968912421710645 - 0.247403959254523*I)],\n",
       "[                                                                                      0,  0.5*(0.968912421710645 - 0.247403959254523*I)*(1.87758256189037 + 0.479425538604203*I), 0.5*(0.122417438109627 - 0.479425538604203*I)*(0.968912421710645 - 0.247403959254523*I),                                                                                       0],\n",
       "[                                                                                      0, 0.5*(0.122417438109627 - 0.479425538604203*I)*(0.968912421710645 - 0.247403959254523*I),  0.5*(0.968912421710645 - 0.247403959254523*I)*(1.87758256189037 + 0.479425538604203*I),                                                                                       0],\n",
       "[0.5*(0.122417438109627 - 0.479425538604203*I)*(0.968912421710645 - 0.247403959254523*I),                                                                                       0,                                                                                       0,  0.5*(0.968912421710645 - 0.247403959254523*I)*(1.87758256189037 + 0.479425538604203*I)]])"
      ]
     },
     "execution_count": 39,
     "metadata": {},
     "output_type": "execute_result"
    }
   ],
   "source": [
    "simplify(exp(-I/2*(1/2*TensorProduct(X,X) )))"
   ]
  },
  {
   "cell_type": "code",
   "execution_count": 49,
   "metadata": {},
   "outputs": [
    {
     "data": {
      "text/latex": [
       "$\\displaystyle \\left[\\begin{matrix}e^{\\frac{i \\theta}{2 \\pi} - \\frac{i}{4}} & 0 & 0 & 0\\\\0 & \\frac{\\left(1 + e^{i}\\right) e^{- \\frac{i \\left(\\frac{2 \\theta}{\\pi} + 1\\right)}{4}}}{2} & \\frac{\\left(1 - e^{i}\\right) e^{- \\frac{i \\left(\\frac{2 \\theta}{\\pi} + 1\\right)}{4}}}{2} & 0\\\\0 & \\frac{\\left(1 - e^{i}\\right) e^{- \\frac{i \\left(\\frac{2 \\theta}{\\pi} + 1\\right)}{4}}}{2} & \\frac{\\left(1 + e^{i}\\right) e^{- \\frac{i \\left(\\frac{2 \\theta}{\\pi} + 1\\right)}{4}}}{2} & 0\\\\0 & 0 & 0 & e^{\\frac{i \\theta}{2 \\pi} - \\frac{i}{4}}\\end{matrix}\\right]$"
      ],
      "text/plain": [
       "Matrix([\n",
       "[exp(I*theta/(2*pi) - I/4),                                         0,                                         0,                         0],\n",
       "[                        0, (1 + exp(I))*exp(-I*(2*theta/pi + 1)/4)/2, (1 - exp(I))*exp(-I*(2*theta/pi + 1)/4)/2,                         0],\n",
       "[                        0, (1 - exp(I))*exp(-I*(2*theta/pi + 1)/4)/2, (1 + exp(I))*exp(-I*(2*theta/pi + 1)/4)/2,                         0],\n",
       "[                        0,                                         0,                                         0, exp(I*theta/(2*pi) - I/4)]])"
      ]
     },
     "execution_count": 49,
     "metadata": {},
     "output_type": "execute_result"
    }
   ],
   "source": [
    "simplify(exp(-I/4*(TensorProduct(X,X))) * exp(-I/4*(TensorProduct(Y,Y))) * exp(-I/4*(TensorProduct(Z,Z))) * exp(I*theta/(2*pi)*(TensorProduct(Z,Z))))"
   ]
  },
  {
   "cell_type": "code",
   "execution_count": 55,
   "metadata": {},
   "outputs": [
    {
     "data": {
      "text/latex": [
       "$\\displaystyle \\sin{\\left(\\left[\\begin{matrix}0 & 0 & 0 & 0\\\\0 & 0 & 2 i & 0\\\\0 & - 2 i & 0 & 0\\\\0 & 0 & 0 & 0\\end{matrix}\\right] \\right)}$"
      ],
      "text/plain": [
       "sin(Matrix([\n",
       "[0,    0,   0, 0],\n",
       "[0,    0, 2*I, 0],\n",
       "[0, -2*I,   0, 0],\n",
       "[0,    0,   0, 0]]))"
      ]
     },
     "execution_count": 55,
     "metadata": {},
     "output_type": "execute_result"
    }
   ],
   "source": [
    "simplify(sin(TensorProduct(X,Y) - TensorProduct(Y,X)))"
   ]
  },
  {
   "cell_type": "code",
   "execution_count": 62,
   "metadata": {},
   "outputs": [
    {
     "data": {
      "text/latex": [
       "$\\displaystyle \\left[\\begin{matrix}-1 & 0 & 0 & 0\\\\0 & \\cos{\\left(\\theta \\right)} & - i \\sin{\\left(\\theta \\right)} & 0\\\\0 & - i \\sin{\\left(\\theta \\right)} & \\cos{\\left(\\theta \\right)} & 0\\\\0 & 0 & 0 & -1\\end{matrix}\\right]$"
      ],
      "text/plain": [
       "Matrix([\n",
       "[-1,             0,             0,  0],\n",
       "[ 0,    cos(theta), -I*sin(theta),  0],\n",
       "[ 0, -I*sin(theta),    cos(theta),  0],\n",
       "[ 0,             0,             0, -1]])"
      ]
     },
     "execution_count": 62,
     "metadata": {},
     "output_type": "execute_result"
    }
   ],
   "source": [
    "simplify(exp(-I/2*(theta*TensorProduct(X,X) + theta*TensorProduct(Y,Y))) * exp(-I*pi/2*(TensorProduct(X,Y) +TensorProduct(Y,X))))"
   ]
  },
  {
   "cell_type": "code",
   "execution_count": 65,
   "metadata": {},
   "outputs": [
    {
     "data": {
      "text/latex": [
       "$\\displaystyle \\left[\\begin{matrix}1 & 0 & 0 & 0\\\\0 & \\cos{\\left(\\frac{\\theta}{2} \\right)} & - i \\sin{\\left(\\frac{\\theta}{2} \\right)} & 0\\\\0 & - i \\sin{\\left(\\frac{\\theta}{2} \\right)} & \\cos{\\left(\\frac{\\theta}{2} \\right)} & 0\\\\0 & 0 & 0 & 1\\end{matrix}\\right]$"
      ],
      "text/plain": [
       "Matrix([\n",
       "[1,               0,               0, 0],\n",
       "[0,    cos(theta/2), -I*sin(theta/2), 0],\n",
       "[0, -I*sin(theta/2),    cos(theta/2), 0],\n",
       "[0,               0,               0, 1]])"
      ]
     },
     "execution_count": 65,
     "metadata": {},
     "output_type": "execute_result"
    }
   ],
   "source": [
    "simplify( exp(-I * theta / 2 * ((TensorProduct(X,X) + TensorProduct(Y,Y)) / 2)) )"
   ]
  },
  {
   "cell_type": "code",
   "execution_count": 83,
   "metadata": {},
   "outputs": [
    {
     "data": {
      "text/latex": [
       "$\\displaystyle \\left[\\begin{matrix}1 & 0 & 0 & 0\\\\0 & \\cos{\\left(\\frac{\\theta}{2} \\right)} & - i \\sin{\\left(\\frac{\\theta}{2} \\right)} & 0\\\\0 & - i \\sin{\\left(\\frac{\\theta}{2} \\right)} & \\cos{\\left(\\frac{\\theta}{2} \\right)} & 0\\\\0 & 0 & 0 & 1\\end{matrix}\\right]$"
      ],
      "text/plain": [
       "Matrix([\n",
       "[1,               0,               0, 0],\n",
       "[0,    cos(theta/2), -I*sin(theta/2), 0],\n",
       "[0, -I*sin(theta/2),    cos(theta/2), 0],\n",
       "[0,               0,               0, 1]])"
      ]
     },
     "execution_count": 83,
     "metadata": {},
     "output_type": "execute_result"
    }
   ],
   "source": [
    "simplify( exp(-I * theta / 2 * ((TensorProduct(X,X) + TensorProduct(Y,Y)) / 2)) )"
   ]
  },
  {
   "cell_type": "code",
   "execution_count": 5,
   "metadata": {},
   "outputs": [
    {
     "data": {
      "text/latex": [
       "$\\displaystyle \\left[\\begin{matrix}1.0 e^{- 1.5707963267949 i t} & 0 & 0 & 0\\\\0 & 0.5 e^{1.5707963267949 i \\left(t - 1\\right)} + 0.5 e^{1.5707963267949 i \\left(t + 1\\right)} & 0.5 e^{1.5707963267949 i \\left(t - 1\\right)} - 0.5 e^{1.5707963267949 i \\left(t + 1\\right)} & 0\\\\0 & 0.5 e^{1.5707963267949 i \\left(t - 1\\right)} - 0.5 e^{1.5707963267949 i \\left(t + 1\\right)} & 0.5 e^{1.5707963267949 i \\left(t - 1\\right)} + 0.5 e^{1.5707963267949 i \\left(t + 1\\right)} & 0\\\\0 & 0 & 0 & 1.0 e^{- 1.5707963267949 i t}\\end{matrix}\\right]$"
      ],
      "text/plain": [
       "Matrix([\n",
       "[1.0*exp(-1.5707963267949*I*t),                                                                       0,                                                                       0,                             0],\n",
       "[                            0, 0.5*exp(1.5707963267949*I*(t - 1)) + 0.5*exp(1.5707963267949*I*(t + 1)), 0.5*exp(1.5707963267949*I*(t - 1)) - 0.5*exp(1.5707963267949*I*(t + 1)),                             0],\n",
       "[                            0, 0.5*exp(1.5707963267949*I*(t - 1)) - 0.5*exp(1.5707963267949*I*(t + 1)), 0.5*exp(1.5707963267949*I*(t - 1)) + 0.5*exp(1.5707963267949*I*(t + 1)),                             0],\n",
       "[                            0,                                                                       0,                                                                       0, 1.0*exp(-1.5707963267949*I*t)]])"
      ]
     },
     "execution_count": 5,
     "metadata": {},
     "output_type": "execute_result"
    }
   ],
   "source": [
    "t1 = 1/2\n",
    "t2 = 1/2\n",
    "t3 = Symbol(\"t\")\n",
    "simplify( exp(-I*pi/2*(t1*TensorProduct(X,X) + t2*TensorProduct(Y,Y) + t3*TensorProduct(Z,Z))) )"
   ]
  },
  {
   "cell_type": "code",
   "execution_count": 7,
   "metadata": {},
   "outputs": [],
   "source": [
    "eta = Symbol(\"eta\")"
   ]
  },
  {
   "cell_type": "code",
   "execution_count": 8,
   "metadata": {},
   "outputs": [
    {
     "data": {
      "text/latex": [
       "$\\displaystyle \\left[\\begin{matrix}e^{- \\frac{i \\eta}{2}} & 0\\\\0 & e^{\\frac{i \\eta}{2}}\\end{matrix}\\right]$"
      ],
      "text/plain": [
       "Matrix([\n",
       "[exp(-I*eta/2),            0],\n",
       "[            0, exp(I*eta/2)]])"
      ]
     },
     "execution_count": 8,
     "metadata": {},
     "output_type": "execute_result"
    }
   ],
   "source": [
    "exp(-I*eta/2*Z)"
   ]
  },
  {
   "cell_type": "code",
   "execution_count": 17,
   "metadata": {},
   "outputs": [
    {
     "data": {
      "text/latex": [
       "$\\displaystyle \\left[\\begin{matrix}1 & 0 & 0 & 0\\\\0 & 0 & -1 & 0\\\\0 & 1 & 0 & 0\\\\0 & 0 & 0 & 1\\end{matrix}\\right]$"
      ],
      "text/plain": [
       "Matrix([\n",
       "[1, 0,  0, 0],\n",
       "[0, 0, -1, 0],\n",
       "[0, 1,  0, 0],\n",
       "[0, 0,  0, 1]])"
      ]
     },
     "execution_count": 17,
     "metadata": {},
     "output_type": "execute_result"
    }
   ],
   "source": [
    "simplify( exp(-I*pi/4*(TensorProduct(Y,X)-TensorProduct(X,Y))) )"
   ]
  },
  {
   "cell_type": "code",
   "execution_count": 36,
   "metadata": {},
   "outputs": [
    {
     "data": {
      "text/latex": [
       "$\\displaystyle \\left[\\begin{matrix}1 & 0 & 0 & 0\\\\0 & \\cos{\\left(2 \\right)} & \\sin{\\left(2 \\right)} & 0\\\\0 & - \\sin{\\left(2 \\right)} & \\cos{\\left(2 \\right)} & 0\\\\0 & 0 & 0 & 1\\end{matrix}\\right]$"
      ],
      "text/plain": [
       "Matrix([\n",
       "[1,       0,      0, 0],\n",
       "[0,  cos(2), sin(2), 0],\n",
       "[0, -sin(2), cos(2), 0],\n",
       "[0,       0,      0, 1]])"
      ]
     },
     "execution_count": 36,
     "metadata": {},
     "output_type": "execute_result"
    }
   ],
   "source": [
    "simplify( exp(I*(TensorProduct(Y,X)-TensorProduct(X,Y))) )"
   ]
  },
  {
   "cell_type": "code",
   "execution_count": 34,
   "metadata": {},
   "outputs": [
    {
     "data": {
      "text/latex": [
       "$\\displaystyle \\left[\\begin{matrix}1 & 0 & 0 & 0\\\\0 & 1 & 0 & 0\\\\0 & 0 & 1 & 0\\\\0 & 0 & 0 & e^{- 4 i}\\end{matrix}\\right]$"
      ],
      "text/plain": [
       "Matrix([\n",
       "[1, 0, 0,         0],\n",
       "[0, 1, 0,         0],\n",
       "[0, 0, 1,         0],\n",
       "[0, 0, 0, exp(-4*I)]])"
      ]
     },
     "execution_count": 34,
     "metadata": {},
     "output_type": "execute_result"
    }
   ],
   "source": [
    "simplify( exp(-I*(TensorProduct((Id-Z),(Id-Z)))) )"
   ]
  },
  {
   "cell_type": "code",
   "execution_count": 42,
   "metadata": {},
   "outputs": [
    {
     "data": {
      "text/latex": [
       "$\\displaystyle \\left[\\begin{matrix}1 & 0 & 0 & 0\\\\0 & 1 & 0 & 0\\\\0 & 0 & -1 & 0\\\\0 & 0 & 0 & -1\\end{matrix}\\right]$"
      ],
      "text/plain": [
       "Matrix([\n",
       "[1, 0,  0,  0],\n",
       "[0, 1,  0,  0],\n",
       "[0, 0, -1,  0],\n",
       "[0, 0,  0, -1]])"
      ]
     },
     "execution_count": 42,
     "metadata": {},
     "output_type": "execute_result"
    }
   ],
   "source": [
    "TensorProduct(Z,Id)"
   ]
  },
  {
   "cell_type": "code",
   "execution_count": 52,
   "metadata": {},
   "outputs": [
    {
     "data": {
      "text/latex": [
       "$\\displaystyle \\left[\\begin{matrix}0 & 0\\\\0 & 1.0\\end{matrix}\\right]$"
      ],
      "text/plain": [
       "Matrix([\n",
       "[0,   0],\n",
       "[0, 1.0]])"
      ]
     },
     "execution_count": 52,
     "metadata": {},
     "output_type": "execute_result"
    }
   ],
   "source": [
    "1/2*(Id-Z)"
   ]
  },
  {
   "cell_type": "code",
   "execution_count": 60,
   "metadata": {},
   "outputs": [
    {
     "data": {
      "text/latex": [
       "$\\displaystyle \\left[\\begin{matrix}\\cos{\\left(\\frac{\\sqrt{2} \\pi θ}{4} \\right)} & \\frac{\\sqrt{2} \\cdot \\left(1 - i\\right) \\sin{\\left(\\frac{\\sqrt{2} \\pi θ}{4} \\right)}}{2}\\\\- \\frac{\\sqrt{2} i \\left(1 - i\\right) \\sin{\\left(\\frac{\\sqrt{2} \\pi θ}{4} \\right)}}{2} & \\cos{\\left(\\frac{\\sqrt{2} \\pi θ}{4} \\right)}\\end{matrix}\\right]$"
      ],
      "text/plain": [
       "Matrix([\n",
       "[                     cos(sqrt(2)*pi*θ/4), sqrt(2)*(1 - I)*sin(sqrt(2)*pi*θ/4)/2],\n",
       "[-sqrt(2)*I*(1 - I)*sin(sqrt(2)*pi*θ/4)/2,                   cos(sqrt(2)*pi*θ/4)]])"
      ]
     },
     "execution_count": 60,
     "metadata": {},
     "output_type": "execute_result"
    }
   ],
   "source": [
    "simplify( exp(-I*theta*pi/4*(X-Y)) )"
   ]
  },
  {
   "cell_type": "code",
   "execution_count": 69,
   "metadata": {},
   "outputs": [
    {
     "data": {
      "text/latex": [
       "$\\displaystyle \\left[\\begin{matrix}\\cos{\\left(θ \\right)} & - i \\sin{\\left(θ \\right)}\\\\- i \\sin{\\left(θ \\right)} & \\cos{\\left(θ \\right)}\\end{matrix}\\right]$"
      ],
      "text/plain": [
       "Matrix([\n",
       "[   cos(θ), -I*sin(θ)],\n",
       "[-I*sin(θ),    cos(θ)]])"
      ]
     },
     "execution_count": 69,
     "metadata": {},
     "output_type": "execute_result"
    }
   ],
   "source": [
    "simplify( exp(-I*theta*X) )"
   ]
  },
  {
   "cell_type": "code",
   "execution_count": 91,
   "metadata": {},
   "outputs": [
    {
     "data": {
      "text/latex": [
       "$\\displaystyle \\left[\\begin{matrix}1 & 0 & 0 & 0\\\\0 & \\cos{\\left(\\frac{θ}{2} \\right)} & i \\sin{\\left(\\frac{θ}{2} \\right)} & 0\\\\0 & i \\sin{\\left(\\frac{θ}{2} \\right)} & \\cos{\\left(\\frac{θ}{2} \\right)} & 0\\\\0 & 0 & 0 & 1\\end{matrix}\\right]$"
      ],
      "text/plain": [
       "Matrix([\n",
       "[1,          0,          0, 0],\n",
       "[0,   cos(θ/2), I*sin(θ/2), 0],\n",
       "[0, I*sin(θ/2),   cos(θ/2), 0],\n",
       "[0,          0,          0, 1]])"
      ]
     },
     "execution_count": 91,
     "metadata": {},
     "output_type": "execute_result"
    }
   ],
   "source": [
    "simplify( exp(I * theta / 2 * ((TensorProduct(X,X) + TensorProduct(Y,Y)) / 2)) )"
   ]
  },
  {
   "cell_type": "code",
   "execution_count": 119,
   "metadata": {},
   "outputs": [
    {
     "data": {
      "text/latex": [
       "$\\displaystyle \\left[\\begin{matrix}e^{- \\frac{i \\eta}{4}} & 0\\\\0 & e^{\\frac{i \\eta}{4}}\\end{matrix}\\right] \\otimes \\left[\\begin{matrix}e^{- \\frac{i \\eta}{4}} & 0\\\\0 & e^{\\frac{i \\eta}{4}}\\end{matrix}\\right]$"
      ],
      "text/plain": [
       "KroneckerProduct(Matrix([\n",
       "[exp(-I*eta/4),            0],\n",
       "[            0, exp(I*eta/4)]]), Matrix([\n",
       "[exp(-I*eta/4),            0],\n",
       "[            0, exp(I*eta/4)]]))"
      ]
     },
     "execution_count": 119,
     "metadata": {},
     "output_type": "execute_result"
    }
   ],
   "source": [
    "simplify( KroneckerProduct(exp(-I*eta/4*Z), exp(-I*eta/4*Z)) )"
   ]
  },
  {
   "cell_type": "code",
   "execution_count": 111,
   "metadata": {},
   "outputs": [
    {
     "data": {
      "text/latex": [
       "$\\displaystyle e^{- \\frac{i \\eta}{2}}$"
      ],
      "text/plain": [
       "exp(-I*eta/2)"
      ]
     },
     "execution_count": 111,
     "metadata": {},
     "output_type": "execute_result"
    }
   ],
   "source": [
    "exp(-I*eta/4) * exp(-I*eta/4)"
   ]
  },
  {
   "cell_type": "code",
   "execution_count": 116,
   "metadata": {},
   "outputs": [
    {
     "data": {
      "text/latex": [
       "$\\displaystyle \\left[\\begin{matrix}1 & 0 & 0 & 0\\\\0 & \\cos{\\left(\\frac{θ}{2} \\right)} & i \\sin{\\left(\\frac{θ}{2} \\right)} & 0\\\\0 & i \\sin{\\left(\\frac{θ}{2} \\right)} & \\cos{\\left(\\frac{θ}{2} \\right)} & 0\\\\0 & 0 & 0 & 1\\end{matrix}\\right]$"
      ],
      "text/plain": [
       "Matrix([\n",
       "[1,          0,          0, 0],\n",
       "[0,   cos(θ/2), I*sin(θ/2), 0],\n",
       "[0, I*sin(θ/2),   cos(θ/2), 0],\n",
       "[0,          0,          0, 1]])"
      ]
     },
     "execution_count": 116,
     "metadata": {},
     "output_type": "execute_result"
    }
   ],
   "source": [
    "simplify( diag(exp(-I*eta/2), 1, 1, exp(I*eta/2))  *  exp(I * theta / 2 * ((TensorProduct(X,X) + TensorProduct(Y,Y)) / 2))  *  diag(exp(I*eta/2), 1, 1, exp(-I*eta/2)) )"
   ]
  },
  {
   "cell_type": "code",
   "execution_count": 125,
   "metadata": {},
   "outputs": [],
   "source": [
    "beta1 = Symbol(\"beta_1\")\n",
    "beta2 = Symbol(\"beta_2\")"
   ]
  },
  {
   "cell_type": "code",
   "execution_count": 137,
   "metadata": {},
   "outputs": [
    {
     "data": {
      "text/latex": [
       "$\\displaystyle \\left[\\begin{matrix}1 & 0 & 0 & 0\\\\0 & \\cos{\\left(\\frac{θ}{2} \\right)} & \\frac{\\left(e^{i θ} - 1\\right) e^{- i \\left(\\beta_{1} + \\frac{θ}{2}\\right)}}{2} & 0\\\\0 & \\frac{\\left(e^{i θ} - 1\\right) e^{i \\left(\\beta_{1} - \\frac{θ}{2}\\right)}}{2} & \\cos{\\left(\\frac{θ}{2} \\right)} & 0\\\\0 & 0 & 0 & 1\\end{matrix}\\right]$"
      ],
      "text/plain": [
       "Matrix([\n",
       "[1,                                      0,                                       0, 0],\n",
       "[0,                               cos(θ/2), (exp(I*θ) - 1)*exp(-I*(beta_1 + θ/2))/2, 0],\n",
       "[0, (exp(I*θ) - 1)*exp(I*(beta_1 - θ/2))/2,                                cos(θ/2), 0],\n",
       "[0,                                      0,                                       0, 1]])"
      ]
     },
     "execution_count": 137,
     "metadata": {},
     "output_type": "execute_result"
    }
   ],
   "source": [
    "simplify( KroneckerProduct(exp(-I*(beta1/2)/2*Z), exp(-I*(-beta1/2)/2*Z)).doit() * exp(I * theta / 2 * ((TensorProduct(X,X) + TensorProduct(Y,Y)) / 2)) * KroneckerProduct(exp(-I*(-beta1/2)/2*Z), exp(-I*(beta1/2)/2*Z)).doit() )"
   ]
  },
  {
   "cell_type": "code",
   "execution_count": 130,
   "metadata": {},
   "outputs": [
    {
     "data": {
      "text/latex": [
       "$\\displaystyle \\left[\\begin{matrix}e^{- \\frac{i \\beta_{1}}{2}} e^{- \\frac{i \\beta_{2}}{2}} & 0 & 0 & 0\\\\0 & e^{- \\frac{i \\beta_{1}}{2}} e^{\\frac{i \\beta_{2}}{2}} & 0 & 0\\\\0 & 0 & e^{\\frac{i \\beta_{1}}{2}} e^{- \\frac{i \\beta_{2}}{2}} & 0\\\\0 & 0 & 0 & e^{\\frac{i \\beta_{1}}{2}} e^{\\frac{i \\beta_{2}}{2}}\\end{matrix}\\right]$"
      ],
      "text/plain": [
       "Matrix([\n",
       "[exp(-I*beta_1/2)*exp(-I*beta_2/2),                                0,                                0,                               0],\n",
       "[                                0, exp(-I*beta_1/2)*exp(I*beta_2/2),                                0,                               0],\n",
       "[                                0,                                0, exp(I*beta_1/2)*exp(-I*beta_2/2),                               0],\n",
       "[                                0,                                0,                                0, exp(I*beta_1/2)*exp(I*beta_2/2)]])"
      ]
     },
     "execution_count": 130,
     "metadata": {},
     "output_type": "execute_result"
    }
   ],
   "source": [
    "KroneckerProduct(exp(-I*(beta1)/2*Z), exp(-I*(beta2)/2*Z)).doit()"
   ]
  },
  {
   "cell_type": "code",
   "execution_count": 158,
   "metadata": {},
   "outputs": [
    {
     "data": {
      "text/plain": [
       "False"
      ]
     },
     "execution_count": 158,
     "metadata": {},
     "output_type": "execute_result"
    }
   ],
   "source": [
    "((exp(I*theta)-1)*exp(-I*(theta/2+beta1)))/2 == I*sin(theta/2)*exp(I*beta1)"
   ]
  },
  {
   "cell_type": "code",
   "execution_count": 154,
   "metadata": {},
   "outputs": [
    {
     "data": {
      "text/latex": [
       "$\\displaystyle i e^{i \\beta_{1}} \\sin{\\left(\\frac{θ}{2} \\right)}$"
      ],
      "text/plain": [
       "I*exp(I*beta_1)*sin(θ/2)"
      ]
     },
     "execution_count": 154,
     "metadata": {},
     "output_type": "execute_result"
    }
   ],
   "source": [
    "I*sin(theta/2)*exp(I*beta1)"
   ]
  },
  {
   "cell_type": "code",
   "execution_count": 164,
   "metadata": {},
   "outputs": [
    {
     "data": {
      "text/latex": [
       "$\\displaystyle \\left[\\begin{matrix}1.0 e^{0.25 i \\left(2.0 θ - 3.14159265358979\\right)} & 0 & 0 & 0\\\\0 & 6.12323399573677 \\cdot 10^{-17} i e^{- i \\left(0.5 θ + 0.785398163397448\\right)} & \\left(1.0 - 6.12323399573677 \\cdot 10^{-17} i\\right) e^{- i \\left(0.5 θ + 0.785398163397448\\right)} & 0\\\\0 & \\left(1.0 - 6.12323399573677 \\cdot 10^{-17} i\\right) e^{- i \\left(0.5 θ + 0.785398163397448\\right)} & 6.12323399573677 \\cdot 10^{-17} i e^{- i \\left(0.5 θ + 0.785398163397448\\right)} & 0\\\\0 & 0 & 0 & 1.0 e^{0.25 i \\left(2.0 θ - 3.14159265358979\\right)}\\end{matrix}\\right]$"
      ],
      "text/plain": [
       "Matrix([\n",
       "[1.0*exp(0.25*I*(2.0*θ - 3.14159265358979)),                                                                  0,                                                                  0,                                          0],\n",
       "[                                         0,         6.12323399573677e-17*I*exp(-I*(0.5*θ + 0.785398163397448)), (1.0 - 6.12323399573677e-17*I)*exp(-I*(0.5*θ + 0.785398163397448)),                                          0],\n",
       "[                                         0, (1.0 - 6.12323399573677e-17*I)*exp(-I*(0.5*θ + 0.785398163397448)),         6.12323399573677e-17*I*exp(-I*(0.5*θ + 0.785398163397448)),                                          0],\n",
       "[                                         0,                                                                  0,                                                                  0, 1.0*exp(0.25*I*(2.0*θ - 3.14159265358979))]])"
      ]
     },
     "execution_count": 164,
     "metadata": {},
     "output_type": "execute_result"
    }
   ],
   "source": [
    "simplify( exp(-I*pi/2*(1/2*TensorProduct(X,X) + 1/2*TensorProduct(Y,Y) + (1/2-theta/pi)*TensorProduct(Z,Z))) )"
   ]
  },
  {
   "cell_type": "code",
   "execution_count": 163,
   "metadata": {},
   "outputs": [
    {
     "data": {
      "text/latex": [
       "$\\displaystyle \\left[\\begin{matrix}1 & 0 & 0 & 0\\\\0 & 0 & e^{- \\frac{i \\pi θ}{4}} & 0\\\\0 & e^{- \\frac{i \\pi θ}{4}} & 0 & 0\\\\0 & 0 & 0 & 1\\end{matrix}\\right]$"
      ],
      "text/plain": [
       "Matrix([\n",
       "[1,              0,              0, 0],\n",
       "[0,              0, exp(-I*pi*θ/4), 0],\n",
       "[0, exp(-I*pi*θ/4),              0, 0],\n",
       "[0,              0,              0, 1]])"
      ]
     },
     "execution_count": 163,
     "metadata": {},
     "output_type": "execute_result"
    }
   ],
   "source": [
    "simplify( exp(-I*pi/4*TensorProduct(X,X) -I*pi/4*TensorProduct(Y,Y) -I*pi/4*TensorProduct(Z,Z) + I*pi*theta/8*TensorProduct(Z,Z)) / exp(I*pi*(theta-2)/8))"
   ]
  },
  {
   "cell_type": "code",
   "execution_count": 166,
   "metadata": {},
   "outputs": [
    {
     "data": {
      "text/latex": [
       "$\\displaystyle \\left[\\begin{matrix}1 & 0 & 0 & 0\\\\0 & 0 & e^{- i θ} & 0\\\\0 & e^{- i θ} & 0 & 0\\\\0 & 0 & 0 & 1\\end{matrix}\\right]$"
      ],
      "text/plain": [
       "Matrix([\n",
       "[1,         0,         0, 0],\n",
       "[0,         0, exp(-I*θ), 0],\n",
       "[0, exp(-I*θ),         0, 0],\n",
       "[0,         0,         0, 1]])"
      ]
     },
     "execution_count": 166,
     "metadata": {},
     "output_type": "execute_result"
    }
   ],
   "source": [
    "simplify( exp(-I*pi/4*TensorProduct(X,X) -I*pi/4*TensorProduct(Y,Y) -I*pi/4*TensorProduct(Z,Z) + I*theta/2*TensorProduct(Z,Z)) / exp(I*(2*theta-pi)/4) )"
   ]
  },
  {
   "cell_type": "code",
   "execution_count": 175,
   "metadata": {},
   "outputs": [
    {
     "data": {
      "text/latex": [
       "$\\displaystyle \\left[\\begin{matrix}\\frac{\\left(e^{i θ} + i\\right) e^{- i \\left(θ + \\frac{\\pi}{4}\\right)}}{2} & 0 & 0 & \\frac{\\left(e^{\\frac{i \\left(4 θ - \\pi\\right)}{4}} - \\sqrt[4]{-1}\\right) e^{- i θ}}{2}\\\\0 & \\frac{\\sqrt[4]{-1} \\left(e^{i θ} - i\\right)}{2} & \\frac{\\left(-1\\right)^{\\frac{3}{4}} \\left(i e^{i θ} - 1\\right)}{2} & 0\\\\0 & \\frac{\\left(-1\\right)^{\\frac{3}{4}} \\left(i e^{i θ} - 1\\right)}{2} & \\frac{\\sqrt[4]{-1} \\left(e^{i θ} - i\\right)}{2} & 0\\\\\\frac{\\left(e^{\\frac{i \\left(4 θ - \\pi\\right)}{4}} - \\sqrt[4]{-1}\\right) e^{- i θ}}{2} & 0 & 0 & \\frac{\\left(e^{i θ} + i\\right) e^{- i \\left(θ + \\frac{\\pi}{4}\\right)}}{2}\\end{matrix}\\right]$"
      ],
      "text/plain": [
       "Matrix([\n",
       "[            (exp(I*θ) + I)*exp(-I*(θ + pi/4))/2,                              0,                              0, (exp(I*(4*θ - pi)/4) - (-1)**(1/4))*exp(-I*θ)/2],\n",
       "[                                              0,   (-1)**(1/4)*(exp(I*θ) - I)/2, (-1)**(3/4)*(I*exp(I*θ) - 1)/2,                                               0],\n",
       "[                                              0, (-1)**(3/4)*(I*exp(I*θ) - 1)/2,   (-1)**(1/4)*(exp(I*θ) - I)/2,                                               0],\n",
       "[(exp(I*(4*θ - pi)/4) - (-1)**(1/4))*exp(-I*θ)/2,                              0,                              0,             (exp(I*θ) + I)*exp(-I*(θ + pi/4))/2]])"
      ]
     },
     "execution_count": 175,
     "metadata": {},
     "output_type": "execute_result"
    }
   ],
   "source": [
    "simplify( exp(-I*pi/4*TensorProduct(X,X) -I*theta/2*TensorProduct(Y,Y) -I*theta/2*TensorProduct(Z,Z) ) )"
   ]
  },
  {
   "cell_type": "code",
   "execution_count": 173,
   "metadata": {},
   "outputs": [
    {
     "data": {
      "text/latex": [
       "$\\displaystyle \\frac{\\left(e^{i θ} + i\\right) e^{- i \\left(θ + \\frac{\\pi}{4}\\right)}}{2}$"
      ],
      "text/plain": [
       "(exp(I*θ) + I)*exp(-I*(θ + pi/4))/2"
      ]
     },
     "execution_count": 173,
     "metadata": {},
     "output_type": "execute_result"
    }
   ],
   "source": [
    "((exp(I*theta)+I)*exp(-I*(theta+pi/4)))/2"
   ]
  },
  {
   "cell_type": "code",
   "execution_count": 176,
   "metadata": {},
   "outputs": [
    {
     "data": {
      "text/latex": [
       "$\\displaystyle \\left[\\begin{matrix}1 & 0 & 0 & 0\\\\0 & \\cos{\\left(\\frac{θ}{2} \\right)} & \\frac{\\left(e^{i θ} - 1\\right) e^{- i \\left(\\beta_{1} + \\frac{θ}{2}\\right)}}{2} & 0\\\\0 & \\frac{\\left(e^{i θ} - 1\\right) e^{i \\left(\\beta_{1} - \\frac{θ}{2}\\right)}}{2} & \\cos{\\left(\\frac{θ}{2} \\right)} & 0\\\\0 & 0 & 0 & 1\\end{matrix}\\right]$"
      ],
      "text/plain": [
       "Matrix([\n",
       "[1,                                      0,                                       0, 0],\n",
       "[0,                               cos(θ/2), (exp(I*θ) - 1)*exp(-I*(beta_1 + θ/2))/2, 0],\n",
       "[0, (exp(I*θ) - 1)*exp(I*(beta_1 - θ/2))/2,                                cos(θ/2), 0],\n",
       "[0,                                      0,                                       0, 1]])"
      ]
     },
     "execution_count": 176,
     "metadata": {},
     "output_type": "execute_result"
    }
   ],
   "source": [
    "simplify( KroneckerProduct(exp(-I*(beta1/2)/2*Z), exp(-I*(-beta1/2)/2*Z)).doit() * exp(I * theta / 2 * ((TensorProduct(X,X) + TensorProduct(Y,Y)) / 2)) * KroneckerProduct(exp(-I*(-beta1/2)/2*Z), exp(-I*(beta1/2)/2*Z)).doit() )"
   ]
  },
  {
   "cell_type": "code",
   "execution_count": 177,
   "metadata": {},
   "outputs": [
    {
     "data": {
      "text/latex": [
       "$\\displaystyle \\left[\\begin{matrix}1 & 0 & 0 & 0\\\\0 & \\cos{\\left(\\frac{θ}{2} \\right)} & i \\sin{\\left(\\frac{θ}{2} \\right)} & 0\\\\0 & i \\sin{\\left(\\frac{θ}{2} \\right)} & \\cos{\\left(\\frac{θ}{2} \\right)} & 0\\\\0 & 0 & 0 & 1\\end{matrix}\\right]$"
      ],
      "text/plain": [
       "Matrix([\n",
       "[1,          0,          0, 0],\n",
       "[0,   cos(θ/2), I*sin(θ/2), 0],\n",
       "[0, I*sin(θ/2),   cos(θ/2), 0],\n",
       "[0,          0,          0, 1]])"
      ]
     },
     "execution_count": 177,
     "metadata": {},
     "output_type": "execute_result"
    }
   ],
   "source": [
    "simplify( exp(I * theta / 2 * ((TensorProduct(X,X) + TensorProduct(Y,Y)) / 2))  )"
   ]
  },
  {
   "cell_type": "code",
   "execution_count": 346,
   "metadata": {},
   "outputs": [],
   "source": [
    "beta = Symbol(\"beta\")\n",
    "theta = Symbol(\"theta\")"
   ]
  },
  {
   "cell_type": "code",
   "execution_count": 249,
   "metadata": {},
   "outputs": [
    {
     "data": {
      "text/latex": [
       "$\\displaystyle \\left[\\begin{matrix}1 & 0 & 0 & 0\\\\0 & \\cos{\\left(\\frac{\\theta}{2} \\right)} & \\frac{\\left(e^{i \\theta} - 1\\right) e^{i \\left(\\beta - \\frac{\\theta}{2}\\right)}}{2} & 0\\\\0 & \\frac{\\left(e^{i \\theta} - 1\\right) e^{- i \\left(\\beta + \\frac{\\theta}{2}\\right)}}{2} & \\cos{\\left(\\frac{\\theta}{2} \\right)} & 0\\\\0 & 0 & 0 & 1\\end{matrix}\\right]$"
      ],
      "text/plain": [
       "Matrix([\n",
       "[1,                                             0,                                            0, 0],\n",
       "[0,                                  cos(theta/2), (exp(I*theta) - 1)*exp(I*(beta - theta/2))/2, 0],\n",
       "[0, (exp(I*theta) - 1)*exp(-I*(beta + theta/2))/2,                                 cos(theta/2), 0],\n",
       "[0,                                             0,                                            0, 1]])"
      ]
     },
     "execution_count": 249,
     "metadata": {},
     "output_type": "execute_result"
    }
   ],
   "source": [
    "simplify( KroneckerProduct(exp(-I*(-beta/2)/2*Z), exp(-I*(beta/2)/2*Z)).doit() * exp(I * theta / 2 * ((TensorProduct(X,X) + TensorProduct(Y,Y)) / 2)) * KroneckerProduct(exp(-I*(beta/2)/2*Z), exp(-I*(-beta/2)/2*Z)).doit() )"
   ]
  },
  {
   "cell_type": "code",
   "execution_count": 333,
   "metadata": {},
   "outputs": [],
   "source": [
    "import numpy as np"
   ]
  },
  {
   "cell_type": "code",
   "execution_count": 334,
   "metadata": {},
   "outputs": [],
   "source": [
    "theta = 3/4*np.pi\n",
    "beta = 0.564"
   ]
  },
  {
   "cell_type": "code",
   "execution_count": 335,
   "metadata": {},
   "outputs": [
    {
     "data": {
      "text/plain": [
       "(-0.493879168474451+0.7807923908058136j)"
      ]
     },
     "execution_count": 335,
     "metadata": {},
     "output_type": "execute_result"
    }
   ],
   "source": [
    "1j*np.sin(theta/2)*np.exp(1j*beta)"
   ]
  },
  {
   "cell_type": "code",
   "execution_count": 338,
   "metadata": {},
   "outputs": [
    {
     "data": {
      "text/plain": [
       "(-0.493879168474451+0.7807923908058136j)"
      ]
     },
     "execution_count": 338,
     "metadata": {},
     "output_type": "execute_result"
    }
   ],
   "source": [
    "((np.exp(1j*theta/2)-np.exp(-1j*theta/2))/2)*np.exp(1j*beta)"
   ]
  },
  {
   "cell_type": "code",
   "execution_count": 342,
   "metadata": {},
   "outputs": [
    {
     "data": {
      "text/plain": [
       "(0.2142338888918505+0.4517785307540347j)"
      ]
     },
     "execution_count": 342,
     "metadata": {},
     "output_type": "execute_result"
    }
   ],
   "source": [
    "np.exp(1j*(beta+beta))/2"
   ]
  },
  {
   "cell_type": "code",
   "execution_count": 343,
   "metadata": {},
   "outputs": [
    {
     "data": {
      "text/plain": [
       "(0.2142338888918505+0.4517785307540347j)"
      ]
     },
     "execution_count": 343,
     "metadata": {},
     "output_type": "execute_result"
    }
   ],
   "source": [
    "np.exp(1j*beta)*np.exp(1j*beta)/2"
   ]
  },
  {
   "cell_type": "code",
   "execution_count": 344,
   "metadata": {},
   "outputs": [
    {
     "data": {
      "text/plain": [
       "(0.8451235938558634+0.534570959843639j)"
      ]
     },
     "execution_count": 344,
     "metadata": {},
     "output_type": "execute_result"
    }
   ],
   "source": [
    "2*np.exp(1j*beta)/2"
   ]
  },
  {
   "cell_type": "code",
   "execution_count": 396,
   "metadata": {},
   "outputs": [
    {
     "data": {
      "text/latex": [
       "$\\displaystyle \\left[\\begin{matrix}1 & 0 & 0 & 0\\\\0 & \\frac{\\left(e^{i \\theta} + 1\\right) e^{\\frac{i \\left(- 2 \\eta - \\theta + \\pi\\right)}{2}}}{2} & \\frac{\\left(1 - e^{i \\theta}\\right) e^{\\frac{i \\left(- 2 \\eta - \\theta + \\pi\\right)}{2}}}{2} & 0\\\\0 & \\frac{\\left(1 - e^{i \\theta}\\right) e^{\\frac{i \\left(- 2 \\eta - \\theta + \\pi\\right)}{2}}}{2} & \\frac{\\left(e^{i \\theta} + 1\\right) e^{\\frac{i \\left(- 2 \\eta - \\theta + \\pi\\right)}{2}}}{2} & 0\\\\0 & 0 & 0 & 1\\end{matrix}\\right]$"
      ],
      "text/plain": [
       "Matrix([\n",
       "[1,                                                   0,                                                   0, 0],\n",
       "[0, (exp(I*theta) + 1)*exp(I*(-2*eta - theta + pi)/2)/2, (1 - exp(I*theta))*exp(I*(-2*eta - theta + pi)/2)/2, 0],\n",
       "[0, (1 - exp(I*theta))*exp(I*(-2*eta - theta + pi)/2)/2, (exp(I*theta) + 1)*exp(I*(-2*eta - theta + pi)/2)/2, 0],\n",
       "[0,                                                   0,                                                   0, 1]])"
      ]
     },
     "execution_count": 396,
     "metadata": {},
     "output_type": "execute_result"
    }
   ],
   "source": [
    "simplify( exp(-I*theta/4*TensorProduct(X,X) -I*theta/4*TensorProduct(Y,Y) -I*pi/4*TensorProduct(Z,Z) + I*eta/2*TensorProduct(Z,Z)) / exp(I*(2*eta-pi)/4) )"
   ]
  },
  {
   "cell_type": "code",
   "execution_count": 393,
   "metadata": {},
   "outputs": [
    {
     "data": {
      "text/latex": [
       "$\\displaystyle \\left[\\begin{matrix}1 & 0 & 0 & 0\\\\0 & \\cos{\\left(\\frac{\\theta}{2} \\right)} & - i \\sin{\\left(\\frac{\\theta}{2} \\right)} & 0\\\\0 & - i \\sin{\\left(\\frac{\\theta}{2} \\right)} & \\cos{\\left(\\frac{\\theta}{2} \\right)} & 0\\\\0 & 0 & 0 & 1\\end{matrix}\\right]$"
      ],
      "text/plain": [
       "Matrix([\n",
       "[1,               0,               0, 0],\n",
       "[0,    cos(theta/2), -I*sin(theta/2), 0],\n",
       "[0, -I*sin(theta/2),    cos(theta/2), 0],\n",
       "[0,               0,               0, 1]])"
      ]
     },
     "execution_count": 393,
     "metadata": {},
     "output_type": "execute_result"
    }
   ],
   "source": [
    "simplify( exp(-I*theta/4*TensorProduct(X,X) -I*theta/4*TensorProduct(Y,Y) ) )"
   ]
  },
  {
   "cell_type": "code",
   "execution_count": 398,
   "metadata": {},
   "outputs": [
    {
     "data": {
      "text/latex": [
       "$\\displaystyle \\left[\\begin{matrix}e^{\\frac{i \\eta}{2}} & 0 & 0 & 0\\\\0 & \\frac{\\left(e^{i \\theta} + 1\\right) e^{- \\frac{i \\left(\\eta + \\theta\\right)}{2}}}{2} & \\frac{\\left(1 - e^{i \\theta}\\right) e^{- \\frac{i \\left(\\eta + \\theta\\right)}{2}}}{2} & 0\\\\0 & \\frac{\\left(1 - e^{i \\theta}\\right) e^{- \\frac{i \\left(\\eta + \\theta\\right)}{2}}}{2} & \\frac{\\left(e^{i \\theta} + 1\\right) e^{- \\frac{i \\left(\\eta + \\theta\\right)}{2}}}{2} & 0\\\\0 & 0 & 0 & e^{\\frac{i \\eta}{2}}\\end{matrix}\\right]$"
      ],
      "text/plain": [
       "Matrix([\n",
       "[exp(I*eta/2),                                            0,                                            0,            0],\n",
       "[           0, (exp(I*theta) + 1)*exp(-I*(eta + theta)/2)/2, (1 - exp(I*theta))*exp(-I*(eta + theta)/2)/2,            0],\n",
       "[           0, (1 - exp(I*theta))*exp(-I*(eta + theta)/2)/2, (exp(I*theta) + 1)*exp(-I*(eta + theta)/2)/2,            0],\n",
       "[           0,                                            0,                                            0, exp(I*eta/2)]])"
      ]
     },
     "execution_count": 398,
     "metadata": {},
     "output_type": "execute_result"
    }
   ],
   "source": [
    "simplify( exp(-I*theta/4*TensorProduct(X,X) -I*theta/4*TensorProduct(Y,Y) +I*eta/2*TensorProduct(Z,Z) ) )"
   ]
  },
  {
   "cell_type": "code",
   "execution_count": 26,
   "metadata": {},
   "outputs": [
    {
     "data": {
      "text/latex": [
       "$\\displaystyle \\left[\\begin{matrix}1 & 0 & 0 & 0\\\\0 & \\cos{\\left(2 \\Delta t t \\right)} & i \\sin{\\left(2 \\Delta t t \\right)} & 0\\\\0 & i \\sin{\\left(2 \\Delta t t \\right)} & \\cos{\\left(2 \\Delta t t \\right)} & 0\\\\0 & 0 & 0 & 1\\end{matrix}\\right]$"
      ],
      "text/plain": [
       "Matrix([\n",
       "[1,                   0,                   0, 0],\n",
       "[0,   cos(2*\\Delta t*t), I*sin(2*\\Delta t*t), 0],\n",
       "[0, I*sin(2*\\Delta t*t),   cos(2*\\Delta t*t), 0],\n",
       "[0,                   0,                   0, 1]])"
      ]
     },
     "execution_count": 26,
     "metadata": {},
     "output_type": "execute_result"
    }
   ],
   "source": [
    "theta = Symbol(\"theta\")\n",
    "eta = Symbol(\"eta\")\n",
    "t = Symbol(\"t\")\n",
    "delta_t = Symbol(\"\\Delta t\")\n",
    "\n",
    "#theta = 8*t*delta_t\n",
    "theta = 4*t*delta_t\n",
    "eta = 0\n",
    "\n",
    "simplify( exp(I*theta/4*(TensorProduct(X,X) + TensorProduct(Y,Y))) )"
   ]
  },
  {
   "cell_type": "code",
   "execution_count": 19,
   "metadata": {},
   "outputs": [
    {
     "data": {
      "text/latex": [
       "$\\displaystyle \\left[\\begin{matrix}1 & 0 & 0 & 0\\\\0 & \\cos{\\left(\\frac{4 \\Delta t t}{n} \\right)} & i \\sin{\\left(\\frac{4 \\Delta t t}{n} \\right)} & 0\\\\0 & i \\sin{\\left(\\frac{4 \\Delta t t}{n} \\right)} & \\cos{\\left(\\frac{4 \\Delta t t}{n} \\right)} & 0\\\\0 & 0 & 0 & 1\\end{matrix}\\right]$"
      ],
      "text/plain": [
       "Matrix([\n",
       "[1,                     0,                     0, 0],\n",
       "[0,   cos(4*\\Delta t*t/n), I*sin(4*\\Delta t*t/n), 0],\n",
       "[0, I*sin(4*\\Delta t*t/n),   cos(4*\\Delta t*t/n), 0],\n",
       "[0,                     0,                     0, 1]])"
      ]
     },
     "execution_count": 19,
     "metadata": {},
     "output_type": "execute_result"
    }
   ],
   "source": [
    "simplify( exp(-I*(-2*t*delta_t/n)*(TensorProduct(X,X) + TensorProduct(Y,Y))) )"
   ]
  },
  {
   "cell_type": "code",
   "execution_count": 18,
   "metadata": {},
   "outputs": [
    {
     "data": {
      "text/latex": [
       "$\\displaystyle \\left[\\begin{matrix}1 & 0 & 0 & 0\\\\0 & \\cos{\\left(\\frac{2 \\Delta t t}{n} \\right)} & i \\sin{\\left(\\frac{2 \\Delta t t}{n} \\right)} & 0\\\\0 & i \\sin{\\left(\\frac{2 \\Delta t t}{n} \\right)} & \\cos{\\left(\\frac{2 \\Delta t t}{n} \\right)} & 0\\\\0 & 0 & 0 & 1\\end{matrix}\\right]$"
      ],
      "text/plain": [
       "Matrix([\n",
       "[1,                     0,                     0, 0],\n",
       "[0,   cos(2*\\Delta t*t/n), I*sin(2*\\Delta t*t/n), 0],\n",
       "[0, I*sin(2*\\Delta t*t/n),   cos(2*\\Delta t*t/n), 0],\n",
       "[0,                     0,                     0, 1]])"
      ]
     },
     "execution_count": 18,
     "metadata": {},
     "output_type": "execute_result"
    }
   ],
   "source": [
    "n = Symbol(\"n\")\n",
    "simplify( exp(-I*(-2*t*delta_t/(2*n))*(TensorProduct(X,X) + TensorProduct(Y,Y))) )"
   ]
  },
  {
   "cell_type": "code",
   "execution_count": 9,
   "metadata": {},
   "outputs": [
    {
     "data": {
      "text/latex": [
       "$\\displaystyle \\left[\\begin{matrix}e^{- \\frac{i}{4}} & 0 & 0 & 0\\\\0 & e^{\\frac{i}{4}} & 0 & 0\\\\0 & 0 & e^{\\frac{i}{4}} & 0\\\\0 & 0 & 0 & e^{- \\frac{i}{4}}\\end{matrix}\\right]$"
      ],
      "text/plain": [
       "Matrix([\n",
       "[exp(-I/4),        0,        0,         0],\n",
       "[        0, exp(I/4),        0,         0],\n",
       "[        0,        0, exp(I/4),         0],\n",
       "[        0,        0,        0, exp(-I/4)]])"
      ]
     },
     "execution_count": 9,
     "metadata": {},
     "output_type": "execute_result"
    }
   ],
   "source": [
    "exp(-I*1/4*TensorProduct(Z,Z))"
   ]
  },
  {
   "cell_type": "code",
   "execution_count": 6,
   "metadata": {},
   "outputs": [],
   "source": [
    "t = Symbol(\"t\")\n",
    "delta_t = Symbol(\"\\Delta t\")\n",
    "n = Symbol(\"n\")"
   ]
  },
  {
   "cell_type": "code",
   "execution_count": 12,
   "metadata": {},
   "outputs": [
    {
     "data": {
      "text/latex": [
       "$\\displaystyle \\left[\\begin{matrix}1 & 0 & 0 & 0 & 0 & 0 & 0 & 0\\\\0 & \\cos{\\left(\\frac{4 \\Delta t t}{n} \\right)} & i \\sin{\\left(\\frac{4 \\Delta t t}{n} \\right)} & 0 & 0 & 0 & 0 & 0\\\\0 & i \\sin{\\left(\\frac{4 \\Delta t t}{n} \\right)} & \\cos{\\left(\\frac{4 \\Delta t t}{n} \\right)} & 0 & 0 & 0 & 0 & 0\\\\0 & 0 & 0 & 1 & 0 & 0 & 0 & 0\\\\0 & 0 & 0 & 0 & 1 & 0 & 0 & 0\\\\0 & 0 & 0 & 0 & 0 & \\cos{\\left(\\frac{4 \\Delta t t}{n} \\right)} & i \\sin{\\left(\\frac{4 \\Delta t t}{n} \\right)} & 0\\\\0 & 0 & 0 & 0 & 0 & i \\sin{\\left(\\frac{4 \\Delta t t}{n} \\right)} & \\cos{\\left(\\frac{4 \\Delta t t}{n} \\right)} & 0\\\\0 & 0 & 0 & 0 & 0 & 0 & 0 & 1\\end{matrix}\\right]$"
      ],
      "text/plain": [
       "Matrix([\n",
       "[1,                     0,                     0, 0, 0,                     0,                     0, 0],\n",
       "[0,   cos(4*\\Delta t*t/n), I*sin(4*\\Delta t*t/n), 0, 0,                     0,                     0, 0],\n",
       "[0, I*sin(4*\\Delta t*t/n),   cos(4*\\Delta t*t/n), 0, 0,                     0,                     0, 0],\n",
       "[0,                     0,                     0, 1, 0,                     0,                     0, 0],\n",
       "[0,                     0,                     0, 0, 1,                     0,                     0, 0],\n",
       "[0,                     0,                     0, 0, 0,   cos(4*\\Delta t*t/n), I*sin(4*\\Delta t*t/n), 0],\n",
       "[0,                     0,                     0, 0, 0, I*sin(4*\\Delta t*t/n),   cos(4*\\Delta t*t/n), 0],\n",
       "[0,                     0,                     0, 0, 0,                     0,                     0, 1]])"
      ]
     },
     "execution_count": 12,
     "metadata": {},
     "output_type": "execute_result"
    }
   ],
   "source": [
    "simplify( exp(+I*2*t*delta_t/n*(TensorProduct(Id,X,X) + TensorProduct(Id,Y,Y))) )"
   ]
  },
  {
   "cell_type": "code",
   "execution_count": 105,
   "metadata": {},
   "outputs": [
    {
     "data": {
      "text/latex": [
       "$\\displaystyle \\left[\\begin{matrix}1 & 0 & 0 & 0 & 0 & 0 & 0 & 0\\\\0 & \\cos{\\left(\\frac{4 \\Delta t t}{n} \\right)} & i \\sin{\\left(\\frac{4 \\Delta t t}{n} \\right)} & 0 & 0 & 0 & 0 & 0\\\\0 & i \\sin{\\left(\\frac{4 \\Delta t t}{n} \\right)} & \\cos{\\left(\\frac{4 \\Delta t t}{n} \\right)} & 0 & 0 & 0 & 0 & 0\\\\0 & 0 & 0 & 1 & 0 & 0 & 0 & 0\\\\0 & 0 & 0 & 0 & 1 & 0 & 0 & 0\\\\0 & 0 & 0 & 0 & 0 & \\cos{\\left(\\frac{4 \\Delta t t}{n} \\right)} & i \\sin{\\left(\\frac{4 \\Delta t t}{n} \\right)} & 0\\\\0 & 0 & 0 & 0 & 0 & i \\sin{\\left(\\frac{4 \\Delta t t}{n} \\right)} & \\cos{\\left(\\frac{4 \\Delta t t}{n} \\right)} & 0\\\\0 & 0 & 0 & 0 & 0 & 0 & 0 & 1\\end{matrix}\\right]$"
      ],
      "text/plain": [
       "Matrix([\n",
       "[1,                     0,                     0, 0, 0,                     0,                     0, 0],\n",
       "[0,   cos(4*\\Delta t*t/n), I*sin(4*\\Delta t*t/n), 0, 0,                     0,                     0, 0],\n",
       "[0, I*sin(4*\\Delta t*t/n),   cos(4*\\Delta t*t/n), 0, 0,                     0,                     0, 0],\n",
       "[0,                     0,                     0, 1, 0,                     0,                     0, 0],\n",
       "[0,                     0,                     0, 0, 1,                     0,                     0, 0],\n",
       "[0,                     0,                     0, 0, 0,   cos(4*\\Delta t*t/n), I*sin(4*\\Delta t*t/n), 0],\n",
       "[0,                     0,                     0, 0, 0, I*sin(4*\\Delta t*t/n),   cos(4*\\Delta t*t/n), 0],\n",
       "[0,                     0,                     0, 0, 0,                     0,                     0, 1]])"
      ]
     },
     "execution_count": 105,
     "metadata": {},
     "output_type": "execute_result"
    }
   ],
   "source": [
    "simplify( exp(+I*pi/4*TensorProduct(Z,Id,Id)) * exp(+I*2*t*delta_t/n*(TensorProduct(Id,X,X) + TensorProduct(Id,Y,Y))) * exp(-I*pi/4*TensorProduct(Z,Id,Id)) )"
   ]
  },
  {
   "cell_type": "code",
   "execution_count": 106,
   "metadata": {},
   "outputs": [
    {
     "data": {
      "text/latex": [
       "$\\displaystyle \\left[\\begin{matrix}1 & 0 & 0 & 0 & 0 & 0 & 0 & 0\\\\0 & \\cos{\\left(\\frac{4 \\Delta t t}{n} \\right)} & - \\sin{\\left(\\frac{4 \\Delta t t}{n} \\right)} & 0 & 0 & 0 & 0 & 0\\\\0 & \\sin{\\left(\\frac{4 \\Delta t t}{n} \\right)} & \\cos{\\left(\\frac{4 \\Delta t t}{n} \\right)} & 0 & 0 & 0 & 0 & 0\\\\0 & 0 & 0 & 1 & 0 & 0 & 0 & 0\\\\0 & 0 & 0 & 0 & 1 & 0 & 0 & 0\\\\0 & 0 & 0 & 0 & 0 & \\cos{\\left(\\frac{4 \\Delta t t}{n} \\right)} & - \\sin{\\left(\\frac{4 \\Delta t t}{n} \\right)} & 0\\\\0 & 0 & 0 & 0 & 0 & \\sin{\\left(\\frac{4 \\Delta t t}{n} \\right)} & \\cos{\\left(\\frac{4 \\Delta t t}{n} \\right)} & 0\\\\0 & 0 & 0 & 0 & 0 & 0 & 0 & 1\\end{matrix}\\right]$"
      ],
      "text/plain": [
       "Matrix([\n",
       "[1,                   0,                    0, 0, 0,                   0,                    0, 0],\n",
       "[0, cos(4*\\Delta t*t/n), -sin(4*\\Delta t*t/n), 0, 0,                   0,                    0, 0],\n",
       "[0, sin(4*\\Delta t*t/n),  cos(4*\\Delta t*t/n), 0, 0,                   0,                    0, 0],\n",
       "[0,                   0,                    0, 1, 0,                   0,                    0, 0],\n",
       "[0,                   0,                    0, 0, 1,                   0,                    0, 0],\n",
       "[0,                   0,                    0, 0, 0, cos(4*\\Delta t*t/n), -sin(4*\\Delta t*t/n), 0],\n",
       "[0,                   0,                    0, 0, 0, sin(4*\\Delta t*t/n),  cos(4*\\Delta t*t/n), 0],\n",
       "[0,                   0,                    0, 0, 0,                   0,                    0, 1]])"
      ]
     },
     "execution_count": 106,
     "metadata": {},
     "output_type": "execute_result"
    }
   ],
   "source": [
    "simplify( exp(+I*pi/4*TensorProduct(Id,Z,Id)) * exp(+I*2*t*delta_t/n*(TensorProduct(Id,X,X) + TensorProduct(Id,Y,Y))) * exp(-I*pi/4*TensorProduct(Id,Z,Id)) )"
   ]
  },
  {
   "cell_type": "code",
   "execution_count": 107,
   "metadata": {},
   "outputs": [
    {
     "data": {
      "text/latex": [
       "$\\displaystyle \\left[\\begin{matrix}1 & 0 & 0 & 0 & 0 & 0 & 0 & 0\\\\0 & \\cos{\\left(\\frac{4 \\Delta t t}{n} \\right)} & - \\sin{\\left(\\frac{4 \\Delta t t}{n} \\right)} & 0 & 0 & 0 & 0 & 0\\\\0 & \\sin{\\left(\\frac{4 \\Delta t t}{n} \\right)} & \\cos{\\left(\\frac{4 \\Delta t t}{n} \\right)} & 0 & 0 & 0 & 0 & 0\\\\0 & 0 & 0 & 1 & 0 & 0 & 0 & 0\\\\0 & 0 & 0 & 0 & 1 & 0 & 0 & 0\\\\0 & 0 & 0 & 0 & 0 & \\cos{\\left(\\frac{4 \\Delta t t}{n} \\right)} & - \\sin{\\left(\\frac{4 \\Delta t t}{n} \\right)} & 0\\\\0 & 0 & 0 & 0 & 0 & \\sin{\\left(\\frac{4 \\Delta t t}{n} \\right)} & \\cos{\\left(\\frac{4 \\Delta t t}{n} \\right)} & 0\\\\0 & 0 & 0 & 0 & 0 & 0 & 0 & 1\\end{matrix}\\right]$"
      ],
      "text/plain": [
       "Matrix([\n",
       "[1,                   0,                    0, 0, 0,                   0,                    0, 0],\n",
       "[0, cos(4*\\Delta t*t/n), -sin(4*\\Delta t*t/n), 0, 0,                   0,                    0, 0],\n",
       "[0, sin(4*\\Delta t*t/n),  cos(4*\\Delta t*t/n), 0, 0,                   0,                    0, 0],\n",
       "[0,                   0,                    0, 1, 0,                   0,                    0, 0],\n",
       "[0,                   0,                    0, 0, 1,                   0,                    0, 0],\n",
       "[0,                   0,                    0, 0, 0, cos(4*\\Delta t*t/n), -sin(4*\\Delta t*t/n), 0],\n",
       "[0,                   0,                    0, 0, 0, sin(4*\\Delta t*t/n),  cos(4*\\Delta t*t/n), 0],\n",
       "[0,                   0,                    0, 0, 0,                   0,                    0, 1]])"
      ]
     },
     "execution_count": 107,
     "metadata": {},
     "output_type": "execute_result"
    }
   ],
   "source": [
    "simplify(  exp(+I*2*t*delta_t/n*(TensorProduct(Id,-Y,X) + TensorProduct(Id,X,Y)))  )"
   ]
  },
  {
   "cell_type": "code",
   "execution_count": 102,
   "metadata": {},
   "outputs": [
    {
     "data": {
      "text/latex": [
       "$\\displaystyle \\left[\\begin{matrix}\\cos{\\left(\\frac{2 \\Delta t t}{n} \\right)} & 0 & 0 & - \\sin{\\left(\\frac{2 \\Delta t t}{n} \\right)} & 0 & 0 & 0 & 0\\\\0 & \\cos{\\left(\\frac{2 \\Delta t t}{n} \\right)} & - \\sin{\\left(\\frac{2 \\Delta t t}{n} \\right)} & 0 & 0 & 0 & 0 & 0\\\\0 & \\sin{\\left(\\frac{2 \\Delta t t}{n} \\right)} & \\cos{\\left(\\frac{2 \\Delta t t}{n} \\right)} & 0 & 0 & 0 & 0 & 0\\\\\\sin{\\left(\\frac{2 \\Delta t t}{n} \\right)} & 0 & 0 & \\cos{\\left(\\frac{2 \\Delta t t}{n} \\right)} & 0 & 0 & 0 & 0\\\\0 & 0 & 0 & 0 & \\cos{\\left(\\frac{2 \\Delta t t}{n} \\right)} & 0 & 0 & - \\sin{\\left(\\frac{2 \\Delta t t}{n} \\right)}\\\\0 & 0 & 0 & 0 & 0 & \\cos{\\left(\\frac{2 \\Delta t t}{n} \\right)} & - \\sin{\\left(\\frac{2 \\Delta t t}{n} \\right)} & 0\\\\0 & 0 & 0 & 0 & 0 & \\sin{\\left(\\frac{2 \\Delta t t}{n} \\right)} & \\cos{\\left(\\frac{2 \\Delta t t}{n} \\right)} & 0\\\\0 & 0 & 0 & 0 & \\sin{\\left(\\frac{2 \\Delta t t}{n} \\right)} & 0 & 0 & \\cos{\\left(\\frac{2 \\Delta t t}{n} \\right)}\\end{matrix}\\right]$"
      ],
      "text/plain": [
       "Matrix([\n",
       "[cos(2*\\Delta t*t/n),                   0,                    0, -sin(2*\\Delta t*t/n),                   0,                   0,                    0,                    0],\n",
       "[                  0, cos(2*\\Delta t*t/n), -sin(2*\\Delta t*t/n),                    0,                   0,                   0,                    0,                    0],\n",
       "[                  0, sin(2*\\Delta t*t/n),  cos(2*\\Delta t*t/n),                    0,                   0,                   0,                    0,                    0],\n",
       "[sin(2*\\Delta t*t/n),                   0,                    0,  cos(2*\\Delta t*t/n),                   0,                   0,                    0,                    0],\n",
       "[                  0,                   0,                    0,                    0, cos(2*\\Delta t*t/n),                   0,                    0, -sin(2*\\Delta t*t/n)],\n",
       "[                  0,                   0,                    0,                    0,                   0, cos(2*\\Delta t*t/n), -sin(2*\\Delta t*t/n),                    0],\n",
       "[                  0,                   0,                    0,                    0,                   0, sin(2*\\Delta t*t/n),  cos(2*\\Delta t*t/n),                    0],\n",
       "[                  0,                   0,                    0,                    0, sin(2*\\Delta t*t/n),                   0,                    0,  cos(2*\\Delta t*t/n)]])"
      ]
     },
     "execution_count": 102,
     "metadata": {},
     "output_type": "execute_result"
    }
   ],
   "source": [
    "simplify( exp(+I*pi/4*TensorProduct(Id,Z,Id)) * exp(+I*2*t*delta_t/n*(TensorProduct(Id,X,X))) * exp(-I*pi/4*TensorProduct(Id,Z,Id)) )"
   ]
  },
  {
   "cell_type": "code",
   "execution_count": 108,
   "metadata": {},
   "outputs": [
    {
     "data": {
      "text/latex": [
       "$\\displaystyle \\left[\\begin{matrix}1 & 0 & 0 & 0 & 0 & 0 & 0 & 0\\\\0 & \\cos{\\left(\\frac{4 \\Delta t t}{n} \\right)} & \\sin{\\left(\\frac{4 \\Delta t t}{n} \\right)} & 0 & 0 & 0 & 0 & 0\\\\0 & - \\sin{\\left(\\frac{4 \\Delta t t}{n} \\right)} & \\cos{\\left(\\frac{4 \\Delta t t}{n} \\right)} & 0 & 0 & 0 & 0 & 0\\\\0 & 0 & 0 & 1 & 0 & 0 & 0 & 0\\\\0 & 0 & 0 & 0 & 1 & 0 & 0 & 0\\\\0 & 0 & 0 & 0 & 0 & \\cos{\\left(\\frac{4 \\Delta t t}{n} \\right)} & \\sin{\\left(\\frac{4 \\Delta t t}{n} \\right)} & 0\\\\0 & 0 & 0 & 0 & 0 & - \\sin{\\left(\\frac{4 \\Delta t t}{n} \\right)} & \\cos{\\left(\\frac{4 \\Delta t t}{n} \\right)} & 0\\\\0 & 0 & 0 & 0 & 0 & 0 & 0 & 1\\end{matrix}\\right]$"
      ],
      "text/plain": [
       "Matrix([\n",
       "[1,                    0,                   0, 0, 0,                    0,                   0, 0],\n",
       "[0,  cos(4*\\Delta t*t/n), sin(4*\\Delta t*t/n), 0, 0,                    0,                   0, 0],\n",
       "[0, -sin(4*\\Delta t*t/n), cos(4*\\Delta t*t/n), 0, 0,                    0,                   0, 0],\n",
       "[0,                    0,                   0, 1, 0,                    0,                   0, 0],\n",
       "[0,                    0,                   0, 0, 1,                    0,                   0, 0],\n",
       "[0,                    0,                   0, 0, 0,  cos(4*\\Delta t*t/n), sin(4*\\Delta t*t/n), 0],\n",
       "[0,                    0,                   0, 0, 0, -sin(4*\\Delta t*t/n), cos(4*\\Delta t*t/n), 0],\n",
       "[0,                    0,                   0, 0, 0,                    0,                   0, 1]])"
      ]
     },
     "execution_count": 108,
     "metadata": {},
     "output_type": "execute_result"
    }
   ],
   "source": [
    "simplify( exp(-I*pi/2*TensorProduct(Z,Z,Id)) * exp(+I*2*t*delta_t/n*(TensorProduct(Id,-Y,X) + TensorProduct(Id,X,Y))) * exp(+I*pi/2*TensorProduct(Z,Z,Id)))"
   ]
  },
  {
   "cell_type": "code",
   "execution_count": 111,
   "metadata": {},
   "outputs": [
    {
     "data": {
      "text/latex": [
       "$\\displaystyle \\left[\\begin{matrix}1 & 0 & 0 & 0 & 0 & 0 & 0 & 0\\\\0 & \\cos{\\left(\\frac{4 \\Delta t t}{n} \\right)} & \\sin{\\left(\\frac{4 \\Delta t t}{n} \\right)} & 0 & 0 & 0 & 0 & 0\\\\0 & - \\sin{\\left(\\frac{4 \\Delta t t}{n} \\right)} & \\cos{\\left(\\frac{4 \\Delta t t}{n} \\right)} & 0 & 0 & 0 & 0 & 0\\\\0 & 0 & 0 & 1 & 0 & 0 & 0 & 0\\\\0 & 0 & 0 & 0 & 1 & 0 & 0 & 0\\\\0 & 0 & 0 & 0 & 0 & \\cos{\\left(\\frac{4 \\Delta t t}{n} \\right)} & \\sin{\\left(\\frac{4 \\Delta t t}{n} \\right)} & 0\\\\0 & 0 & 0 & 0 & 0 & - \\sin{\\left(\\frac{4 \\Delta t t}{n} \\right)} & \\cos{\\left(\\frac{4 \\Delta t t}{n} \\right)} & 0\\\\0 & 0 & 0 & 0 & 0 & 0 & 0 & 1\\end{matrix}\\right]$"
      ],
      "text/plain": [
       "Matrix([\n",
       "[1,                    0,                   0, 0, 0,                    0,                   0, 0],\n",
       "[0,  cos(4*\\Delta t*t/n), sin(4*\\Delta t*t/n), 0, 0,                    0,                   0, 0],\n",
       "[0, -sin(4*\\Delta t*t/n), cos(4*\\Delta t*t/n), 0, 0,                    0,                   0, 0],\n",
       "[0,                    0,                   0, 1, 0,                    0,                   0, 0],\n",
       "[0,                    0,                   0, 0, 1,                    0,                   0, 0],\n",
       "[0,                    0,                   0, 0, 0,  cos(4*\\Delta t*t/n), sin(4*\\Delta t*t/n), 0],\n",
       "[0,                    0,                   0, 0, 0, -sin(4*\\Delta t*t/n), cos(4*\\Delta t*t/n), 0],\n",
       "[0,                    0,                   0, 0, 0,                    0,                   0, 1]])"
      ]
     },
     "execution_count": 111,
     "metadata": {},
     "output_type": "execute_result"
    }
   ],
   "source": [
    "simplify( exp(+I*2*t*delta_t/n*(TensorProduct(Id,Y,X) + TensorProduct(Id,-X,Y))) )"
   ]
  },
  {
   "cell_type": "code",
   "execution_count": 112,
   "metadata": {},
   "outputs": [
    {
     "data": {
      "text/latex": [
       "$\\displaystyle \\left[\\begin{matrix}\\frac{\\cos{\\left(\\frac{4 \\Delta t t}{n} \\right)}}{2} + \\frac{1}{2} & 0 & 0 & \\frac{\\sin{\\left(\\frac{4 \\Delta t t}{n} \\right)}}{2} & 0 & - \\frac{i \\sin{\\left(\\frac{4 \\Delta t t}{n} \\right)}}{2} & \\frac{i e^{\\frac{4 i \\Delta t t}{n}}}{4} - \\frac{i}{2} + \\frac{i e^{- \\frac{4 i \\Delta t t}{n}}}{4} & 0\\\\0 & \\frac{\\cos{\\left(\\frac{4 \\Delta t t}{n} \\right)}}{2} + \\frac{1}{2} & \\frac{\\sin{\\left(\\frac{4 \\Delta t t}{n} \\right)}}{2} & 0 & \\frac{i \\sin{\\left(\\frac{4 \\Delta t t}{n} \\right)}}{2} & 0 & 0 & - \\frac{i e^{\\frac{4 i \\Delta t t}{n}}}{4} + \\frac{i}{2} - \\frac{i e^{- \\frac{4 i \\Delta t t}{n}}}{4}\\\\0 & - \\frac{\\sin{\\left(\\frac{4 \\Delta t t}{n} \\right)}}{2} & \\frac{\\cos{\\left(\\frac{4 \\Delta t t}{n} \\right)}}{2} + \\frac{1}{2} & 0 & \\frac{i e^{\\frac{4 i \\Delta t t}{n}}}{4} - \\frac{i}{2} + \\frac{i e^{- \\frac{4 i \\Delta t t}{n}}}{4} & 0 & 0 & \\frac{i \\sin{\\left(\\frac{4 \\Delta t t}{n} \\right)}}{2}\\\\- \\frac{\\sin{\\left(\\frac{4 \\Delta t t}{n} \\right)}}{2} & 0 & 0 & \\frac{\\cos{\\left(\\frac{4 \\Delta t t}{n} \\right)}}{2} + \\frac{1}{2} & 0 & - \\frac{i e^{\\frac{4 i \\Delta t t}{n}}}{4} + \\frac{i}{2} - \\frac{i e^{- \\frac{4 i \\Delta t t}{n}}}{4} & - \\frac{i \\sin{\\left(\\frac{4 \\Delta t t}{n} \\right)}}{2} & 0\\\\0 & \\frac{i \\sin{\\left(\\frac{4 \\Delta t t}{n} \\right)}}{2} & - \\frac{i e^{\\frac{4 i \\Delta t t}{n}}}{4} + \\frac{i}{2} - \\frac{i e^{- \\frac{4 i \\Delta t t}{n}}}{4} & 0 & \\frac{\\cos{\\left(\\frac{4 \\Delta t t}{n} \\right)}}{2} + \\frac{1}{2} & 0 & 0 & \\frac{\\sin{\\left(\\frac{4 \\Delta t t}{n} \\right)}}{2}\\\\- \\frac{i \\sin{\\left(\\frac{4 \\Delta t t}{n} \\right)}}{2} & 0 & 0 & \\frac{i e^{\\frac{4 i \\Delta t t}{n}}}{4} - \\frac{i}{2} + \\frac{i e^{- \\frac{4 i \\Delta t t}{n}}}{4} & 0 & \\frac{\\cos{\\left(\\frac{4 \\Delta t t}{n} \\right)}}{2} + \\frac{1}{2} & \\frac{\\sin{\\left(\\frac{4 \\Delta t t}{n} \\right)}}{2} & 0\\\\- \\frac{i e^{\\frac{4 i \\Delta t t}{n}}}{4} + \\frac{i}{2} - \\frac{i e^{- \\frac{4 i \\Delta t t}{n}}}{4} & 0 & 0 & - \\frac{i \\sin{\\left(\\frac{4 \\Delta t t}{n} \\right)}}{2} & 0 & - \\frac{\\sin{\\left(\\frac{4 \\Delta t t}{n} \\right)}}{2} & \\frac{\\cos{\\left(\\frac{4 \\Delta t t}{n} \\right)}}{2} + \\frac{1}{2} & 0\\\\0 & \\frac{i e^{\\frac{4 i \\Delta t t}{n}}}{4} - \\frac{i}{2} + \\frac{i e^{- \\frac{4 i \\Delta t t}{n}}}{4} & \\frac{i \\sin{\\left(\\frac{4 \\Delta t t}{n} \\right)}}{2} & 0 & - \\frac{\\sin{\\left(\\frac{4 \\Delta t t}{n} \\right)}}{2} & 0 & 0 & \\frac{\\cos{\\left(\\frac{4 \\Delta t t}{n} \\right)}}{2} + \\frac{1}{2}\\end{matrix}\\right]$"
      ],
      "text/plain": [
       "Matrix([\n",
       "[                                  cos(4*\\Delta t*t/n)/2 + 1/2,                                                            0,                                                             0,                                        sin(4*\\Delta t*t/n)/2,                                                            0,                                      -I*sin(4*\\Delta t*t/n)/2, I*exp(4*I*\\Delta t*t/n)/4 - I/2 + I*exp(-4*I*\\Delta t*t/n)/4,                                                             0],\n",
       "[                                                            0,                                  cos(4*\\Delta t*t/n)/2 + 1/2,                                         sin(4*\\Delta t*t/n)/2,                                                            0,                                      I*sin(4*\\Delta t*t/n)/2,                                                             0,                                                            0, -I*exp(4*I*\\Delta t*t/n)/4 + I/2 - I*exp(-4*I*\\Delta t*t/n)/4],\n",
       "[                                                            0,                                       -sin(4*\\Delta t*t/n)/2,                                   cos(4*\\Delta t*t/n)/2 + 1/2,                                                            0, I*exp(4*I*\\Delta t*t/n)/4 - I/2 + I*exp(-4*I*\\Delta t*t/n)/4,                                                             0,                                                            0,                                       I*sin(4*\\Delta t*t/n)/2],\n",
       "[                                       -sin(4*\\Delta t*t/n)/2,                                                            0,                                                             0,                                  cos(4*\\Delta t*t/n)/2 + 1/2,                                                            0, -I*exp(4*I*\\Delta t*t/n)/4 + I/2 - I*exp(-4*I*\\Delta t*t/n)/4,                                     -I*sin(4*\\Delta t*t/n)/2,                                                             0],\n",
       "[                                                            0,                                      I*sin(4*\\Delta t*t/n)/2, -I*exp(4*I*\\Delta t*t/n)/4 + I/2 - I*exp(-4*I*\\Delta t*t/n)/4,                                                            0,                                  cos(4*\\Delta t*t/n)/2 + 1/2,                                                             0,                                                            0,                                         sin(4*\\Delta t*t/n)/2],\n",
       "[                                     -I*sin(4*\\Delta t*t/n)/2,                                                            0,                                                             0, I*exp(4*I*\\Delta t*t/n)/4 - I/2 + I*exp(-4*I*\\Delta t*t/n)/4,                                                            0,                                   cos(4*\\Delta t*t/n)/2 + 1/2,                                        sin(4*\\Delta t*t/n)/2,                                                             0],\n",
       "[-I*exp(4*I*\\Delta t*t/n)/4 + I/2 - I*exp(-4*I*\\Delta t*t/n)/4,                                                            0,                                                             0,                                     -I*sin(4*\\Delta t*t/n)/2,                                                            0,                                        -sin(4*\\Delta t*t/n)/2,                                  cos(4*\\Delta t*t/n)/2 + 1/2,                                                             0],\n",
       "[                                                            0, I*exp(4*I*\\Delta t*t/n)/4 - I/2 + I*exp(-4*I*\\Delta t*t/n)/4,                                       I*sin(4*\\Delta t*t/n)/2,                                                            0,                                       -sin(4*\\Delta t*t/n)/2,                                                             0,                                                            0,                                   cos(4*\\Delta t*t/n)/2 + 1/2]])"
      ]
     },
     "execution_count": 112,
     "metadata": {},
     "output_type": "execute_result"
    }
   ],
   "source": [
    "simplify( exp(-I*pi/4*TensorProduct(Y,Y,Id)) * exp(+I*2*t*delta_t/n*(TensorProduct(Id,Y,X) + TensorProduct(Id,-X,Y))) * exp(+I*pi/4*TensorProduct(Y,Y,Id)) )"
   ]
  },
  {
   "cell_type": "code",
   "execution_count": 148,
   "metadata": {},
   "outputs": [
    {
     "data": {
      "text/latex": [
       "$\\displaystyle \\left[\\begin{matrix}\\frac{\\cos{\\left(\\frac{4 \\Delta t t}{n} \\right)}}{2} + \\frac{1}{2} & 0 & 0 & \\frac{\\sin{\\left(\\frac{4 \\Delta t t}{n} \\right)}}{2} & 0 & - \\frac{i \\sin{\\left(\\frac{4 \\Delta t t}{n} \\right)}}{2} & \\frac{i e^{\\frac{4 i \\Delta t t}{n}}}{4} - \\frac{i}{2} + \\frac{i e^{- \\frac{4 i \\Delta t t}{n}}}{4} & 0\\\\0 & \\frac{\\cos{\\left(\\frac{4 \\Delta t t}{n} \\right)}}{2} + \\frac{1}{2} & \\frac{\\sin{\\left(\\frac{4 \\Delta t t}{n} \\right)}}{2} & 0 & \\frac{i \\sin{\\left(\\frac{4 \\Delta t t}{n} \\right)}}{2} & 0 & 0 & - \\frac{i e^{\\frac{4 i \\Delta t t}{n}}}{4} + \\frac{i}{2} - \\frac{i e^{- \\frac{4 i \\Delta t t}{n}}}{4}\\\\0 & - \\frac{\\sin{\\left(\\frac{4 \\Delta t t}{n} \\right)}}{2} & \\frac{\\cos{\\left(\\frac{4 \\Delta t t}{n} \\right)}}{2} + \\frac{1}{2} & 0 & \\frac{i e^{\\frac{4 i \\Delta t t}{n}}}{4} - \\frac{i}{2} + \\frac{i e^{- \\frac{4 i \\Delta t t}{n}}}{4} & 0 & 0 & \\frac{i \\sin{\\left(\\frac{4 \\Delta t t}{n} \\right)}}{2}\\\\- \\frac{\\sin{\\left(\\frac{4 \\Delta t t}{n} \\right)}}{2} & 0 & 0 & \\frac{\\cos{\\left(\\frac{4 \\Delta t t}{n} \\right)}}{2} + \\frac{1}{2} & 0 & - \\frac{i e^{\\frac{4 i \\Delta t t}{n}}}{4} + \\frac{i}{2} - \\frac{i e^{- \\frac{4 i \\Delta t t}{n}}}{4} & - \\frac{i \\sin{\\left(\\frac{4 \\Delta t t}{n} \\right)}}{2} & 0\\\\0 & \\frac{i \\sin{\\left(\\frac{4 \\Delta t t}{n} \\right)}}{2} & - \\frac{i e^{\\frac{4 i \\Delta t t}{n}}}{4} + \\frac{i}{2} - \\frac{i e^{- \\frac{4 i \\Delta t t}{n}}}{4} & 0 & \\frac{\\cos{\\left(\\frac{4 \\Delta t t}{n} \\right)}}{2} + \\frac{1}{2} & 0 & 0 & \\frac{\\sin{\\left(\\frac{4 \\Delta t t}{n} \\right)}}{2}\\\\- \\frac{i \\sin{\\left(\\frac{4 \\Delta t t}{n} \\right)}}{2} & 0 & 0 & \\frac{i e^{\\frac{4 i \\Delta t t}{n}}}{4} - \\frac{i}{2} + \\frac{i e^{- \\frac{4 i \\Delta t t}{n}}}{4} & 0 & \\frac{\\cos{\\left(\\frac{4 \\Delta t t}{n} \\right)}}{2} + \\frac{1}{2} & \\frac{\\sin{\\left(\\frac{4 \\Delta t t}{n} \\right)}}{2} & 0\\\\- \\frac{i e^{\\frac{4 i \\Delta t t}{n}}}{4} + \\frac{i}{2} - \\frac{i e^{- \\frac{4 i \\Delta t t}{n}}}{4} & 0 & 0 & - \\frac{i \\sin{\\left(\\frac{4 \\Delta t t}{n} \\right)}}{2} & 0 & - \\frac{\\sin{\\left(\\frac{4 \\Delta t t}{n} \\right)}}{2} & \\frac{\\cos{\\left(\\frac{4 \\Delta t t}{n} \\right)}}{2} + \\frac{1}{2} & 0\\\\0 & \\frac{i e^{\\frac{4 i \\Delta t t}{n}}}{4} - \\frac{i}{2} + \\frac{i e^{- \\frac{4 i \\Delta t t}{n}}}{4} & \\frac{i \\sin{\\left(\\frac{4 \\Delta t t}{n} \\right)}}{2} & 0 & - \\frac{\\sin{\\left(\\frac{4 \\Delta t t}{n} \\right)}}{2} & 0 & 0 & \\frac{\\cos{\\left(\\frac{4 \\Delta t t}{n} \\right)}}{2} + \\frac{1}{2}\\end{matrix}\\right]$"
      ],
      "text/plain": [
       "Matrix([\n",
       "[                                  cos(4*\\Delta t*t/n)/2 + 1/2,                                                            0,                                                             0,                                        sin(4*\\Delta t*t/n)/2,                                                            0,                                      -I*sin(4*\\Delta t*t/n)/2, I*exp(4*I*\\Delta t*t/n)/4 - I/2 + I*exp(-4*I*\\Delta t*t/n)/4,                                                             0],\n",
       "[                                                            0,                                  cos(4*\\Delta t*t/n)/2 + 1/2,                                         sin(4*\\Delta t*t/n)/2,                                                            0,                                      I*sin(4*\\Delta t*t/n)/2,                                                             0,                                                            0, -I*exp(4*I*\\Delta t*t/n)/4 + I/2 - I*exp(-4*I*\\Delta t*t/n)/4],\n",
       "[                                                            0,                                       -sin(4*\\Delta t*t/n)/2,                                   cos(4*\\Delta t*t/n)/2 + 1/2,                                                            0, I*exp(4*I*\\Delta t*t/n)/4 - I/2 + I*exp(-4*I*\\Delta t*t/n)/4,                                                             0,                                                            0,                                       I*sin(4*\\Delta t*t/n)/2],\n",
       "[                                       -sin(4*\\Delta t*t/n)/2,                                                            0,                                                             0,                                  cos(4*\\Delta t*t/n)/2 + 1/2,                                                            0, -I*exp(4*I*\\Delta t*t/n)/4 + I/2 - I*exp(-4*I*\\Delta t*t/n)/4,                                     -I*sin(4*\\Delta t*t/n)/2,                                                             0],\n",
       "[                                                            0,                                      I*sin(4*\\Delta t*t/n)/2, -I*exp(4*I*\\Delta t*t/n)/4 + I/2 - I*exp(-4*I*\\Delta t*t/n)/4,                                                            0,                                  cos(4*\\Delta t*t/n)/2 + 1/2,                                                             0,                                                            0,                                         sin(4*\\Delta t*t/n)/2],\n",
       "[                                     -I*sin(4*\\Delta t*t/n)/2,                                                            0,                                                             0, I*exp(4*I*\\Delta t*t/n)/4 - I/2 + I*exp(-4*I*\\Delta t*t/n)/4,                                                            0,                                   cos(4*\\Delta t*t/n)/2 + 1/2,                                        sin(4*\\Delta t*t/n)/2,                                                             0],\n",
       "[-I*exp(4*I*\\Delta t*t/n)/4 + I/2 - I*exp(-4*I*\\Delta t*t/n)/4,                                                            0,                                                             0,                                     -I*sin(4*\\Delta t*t/n)/2,                                                            0,                                        -sin(4*\\Delta t*t/n)/2,                                  cos(4*\\Delta t*t/n)/2 + 1/2,                                                             0],\n",
       "[                                                            0, I*exp(4*I*\\Delta t*t/n)/4 - I/2 + I*exp(-4*I*\\Delta t*t/n)/4,                                       I*sin(4*\\Delta t*t/n)/2,                                                            0,                                       -sin(4*\\Delta t*t/n)/2,                                                             0,                                                            0,                                   cos(4*\\Delta t*t/n)/2 + 1/2]])"
      ]
     },
     "execution_count": 148,
     "metadata": {},
     "output_type": "execute_result"
    }
   ],
   "source": [
    "simplify( exp(+I*2*t*delta_t/n*(TensorProduct(Id,Y,X) + TensorProduct(Y,Z,Y))) )"
   ]
  },
  {
   "cell_type": "code",
   "execution_count": 127,
   "metadata": {},
   "outputs": [
    {
     "data": {
      "text/latex": [
       "$\\displaystyle \\left[\\begin{matrix}\\cos{\\left(\\frac{2 \\Delta t t}{n} \\right)} & 0 & 0 & 0 & 0 & - i \\sin{\\left(\\frac{2 \\Delta t t}{n} \\right)} & 0 & 0\\\\0 & \\cos{\\left(\\frac{2 \\Delta t t}{n} \\right)} & 0 & 0 & i \\sin{\\left(\\frac{2 \\Delta t t}{n} \\right)} & 0 & 0 & 0\\\\0 & 0 & \\cos{\\left(\\frac{2 \\Delta t t}{n} \\right)} & 0 & 0 & 0 & 0 & i \\sin{\\left(\\frac{2 \\Delta t t}{n} \\right)}\\\\0 & 0 & 0 & \\cos{\\left(\\frac{2 \\Delta t t}{n} \\right)} & 0 & 0 & - i \\sin{\\left(\\frac{2 \\Delta t t}{n} \\right)} & 0\\\\0 & i \\sin{\\left(\\frac{2 \\Delta t t}{n} \\right)} & 0 & 0 & \\cos{\\left(\\frac{2 \\Delta t t}{n} \\right)} & 0 & 0 & 0\\\\- i \\sin{\\left(\\frac{2 \\Delta t t}{n} \\right)} & 0 & 0 & 0 & 0 & \\cos{\\left(\\frac{2 \\Delta t t}{n} \\right)} & 0 & 0\\\\0 & 0 & 0 & - i \\sin{\\left(\\frac{2 \\Delta t t}{n} \\right)} & 0 & 0 & \\cos{\\left(\\frac{2 \\Delta t t}{n} \\right)} & 0\\\\0 & 0 & i \\sin{\\left(\\frac{2 \\Delta t t}{n} \\right)} & 0 & 0 & 0 & 0 & \\cos{\\left(\\frac{2 \\Delta t t}{n} \\right)}\\end{matrix}\\right]$"
      ],
      "text/plain": [
       "Matrix([\n",
       "[   cos(2*\\Delta t*t/n),                     0,                     0,                      0,                     0, -I*sin(2*\\Delta t*t/n),                      0,                     0],\n",
       "[                     0,   cos(2*\\Delta t*t/n),                     0,                      0, I*sin(2*\\Delta t*t/n),                      0,                      0,                     0],\n",
       "[                     0,                     0,   cos(2*\\Delta t*t/n),                      0,                     0,                      0,                      0, I*sin(2*\\Delta t*t/n)],\n",
       "[                     0,                     0,                     0,    cos(2*\\Delta t*t/n),                     0,                      0, -I*sin(2*\\Delta t*t/n),                     0],\n",
       "[                     0, I*sin(2*\\Delta t*t/n),                     0,                      0,   cos(2*\\Delta t*t/n),                      0,                      0,                     0],\n",
       "[-I*sin(2*\\Delta t*t/n),                     0,                     0,                      0,                     0,    cos(2*\\Delta t*t/n),                      0,                     0],\n",
       "[                     0,                     0,                     0, -I*sin(2*\\Delta t*t/n),                     0,                      0,    cos(2*\\Delta t*t/n),                     0],\n",
       "[                     0,                     0, I*sin(2*\\Delta t*t/n),                      0,                     0,                      0,                      0,   cos(2*\\Delta t*t/n)]])"
      ]
     },
     "execution_count": 127,
     "metadata": {},
     "output_type": "execute_result"
    }
   ],
   "source": [
    "simplify(  exp(-I*pi/4*TensorProduct(Y,Y,Id)) * exp(+I*2*t*delta_t/n*(TensorProduct(Id,-X,Y))) * exp(+I*pi/4*TensorProduct(Y,Y,Id)) )"
   ]
  },
  {
   "cell_type": "code",
   "execution_count": 146,
   "metadata": {},
   "outputs": [
    {
     "data": {
      "text/latex": [
       "$\\displaystyle \\left[\\begin{matrix}\\cos{\\left(\\frac{2 \\Delta t t}{n} \\right)} & 0 & 0 & 0 & 0 & - i \\sin{\\left(\\frac{2 \\Delta t t}{n} \\right)} & 0 & 0\\\\0 & \\cos{\\left(\\frac{2 \\Delta t t}{n} \\right)} & 0 & 0 & i \\sin{\\left(\\frac{2 \\Delta t t}{n} \\right)} & 0 & 0 & 0\\\\0 & 0 & \\cos{\\left(\\frac{2 \\Delta t t}{n} \\right)} & 0 & 0 & 0 & 0 & i \\sin{\\left(\\frac{2 \\Delta t t}{n} \\right)}\\\\0 & 0 & 0 & \\cos{\\left(\\frac{2 \\Delta t t}{n} \\right)} & 0 & 0 & - i \\sin{\\left(\\frac{2 \\Delta t t}{n} \\right)} & 0\\\\0 & i \\sin{\\left(\\frac{2 \\Delta t t}{n} \\right)} & 0 & 0 & \\cos{\\left(\\frac{2 \\Delta t t}{n} \\right)} & 0 & 0 & 0\\\\- i \\sin{\\left(\\frac{2 \\Delta t t}{n} \\right)} & 0 & 0 & 0 & 0 & \\cos{\\left(\\frac{2 \\Delta t t}{n} \\right)} & 0 & 0\\\\0 & 0 & 0 & - i \\sin{\\left(\\frac{2 \\Delta t t}{n} \\right)} & 0 & 0 & \\cos{\\left(\\frac{2 \\Delta t t}{n} \\right)} & 0\\\\0 & 0 & i \\sin{\\left(\\frac{2 \\Delta t t}{n} \\right)} & 0 & 0 & 0 & 0 & \\cos{\\left(\\frac{2 \\Delta t t}{n} \\right)}\\end{matrix}\\right]$"
      ],
      "text/plain": [
       "Matrix([\n",
       "[   cos(2*\\Delta t*t/n),                     0,                     0,                      0,                     0, -I*sin(2*\\Delta t*t/n),                      0,                     0],\n",
       "[                     0,   cos(2*\\Delta t*t/n),                     0,                      0, I*sin(2*\\Delta t*t/n),                      0,                      0,                     0],\n",
       "[                     0,                     0,   cos(2*\\Delta t*t/n),                      0,                     0,                      0,                      0, I*sin(2*\\Delta t*t/n)],\n",
       "[                     0,                     0,                     0,    cos(2*\\Delta t*t/n),                     0,                      0, -I*sin(2*\\Delta t*t/n),                     0],\n",
       "[                     0, I*sin(2*\\Delta t*t/n),                     0,                      0,   cos(2*\\Delta t*t/n),                      0,                      0,                     0],\n",
       "[-I*sin(2*\\Delta t*t/n),                     0,                     0,                      0,                     0,    cos(2*\\Delta t*t/n),                      0,                     0],\n",
       "[                     0,                     0,                     0, -I*sin(2*\\Delta t*t/n),                     0,                      0,    cos(2*\\Delta t*t/n),                     0],\n",
       "[                     0,                     0, I*sin(2*\\Delta t*t/n),                      0,                     0,                      0,                      0,   cos(2*\\Delta t*t/n)]])"
      ]
     },
     "execution_count": 146,
     "metadata": {},
     "output_type": "execute_result"
    }
   ],
   "source": [
    "simplify( exp(+I*2*t*delta_t/n*(TensorProduct(Y,-Z,-Y))) )"
   ]
  },
  {
   "cell_type": "code",
   "execution_count": 35,
   "metadata": {},
   "outputs": [
    {
     "data": {
      "text/latex": [
       "$\\displaystyle \\left[\\begin{matrix}1 & 0 & 0 & 0 & 0 & 0 & 0 & 0\\\\0 & \\cos{\\left(\\frac{4 \\Delta t t}{n} \\right)} & 0 & 0 & i \\sin{\\left(\\frac{4 \\Delta t t}{n} \\right)} & 0 & 0 & 0\\\\0 & 0 & 1 & 0 & 0 & 0 & 0 & 0\\\\0 & 0 & 0 & \\cos{\\left(\\frac{4 \\Delta t t}{n} \\right)} & 0 & 0 & - i \\sin{\\left(\\frac{4 \\Delta t t}{n} \\right)} & 0\\\\0 & i \\sin{\\left(\\frac{4 \\Delta t t}{n} \\right)} & 0 & 0 & \\cos{\\left(\\frac{4 \\Delta t t}{n} \\right)} & 0 & 0 & 0\\\\0 & 0 & 0 & 0 & 0 & 1 & 0 & 0\\\\0 & 0 & 0 & - i \\sin{\\left(\\frac{4 \\Delta t t}{n} \\right)} & 0 & 0 & \\cos{\\left(\\frac{4 \\Delta t t}{n} \\right)} & 0\\\\0 & 0 & 0 & 0 & 0 & 0 & 0 & 1\\end{matrix}\\right]$"
      ],
      "text/plain": [
       "Matrix([\n",
       "[1,                     0, 0,                      0,                     0, 0,                      0, 0],\n",
       "[0,   cos(4*\\Delta t*t/n), 0,                      0, I*sin(4*\\Delta t*t/n), 0,                      0, 0],\n",
       "[0,                     0, 1,                      0,                     0, 0,                      0, 0],\n",
       "[0,                     0, 0,    cos(4*\\Delta t*t/n),                     0, 0, -I*sin(4*\\Delta t*t/n), 0],\n",
       "[0, I*sin(4*\\Delta t*t/n), 0,                      0,   cos(4*\\Delta t*t/n), 0,                      0, 0],\n",
       "[0,                     0, 0,                      0,                     0, 1,                      0, 0],\n",
       "[0,                     0, 0, -I*sin(4*\\Delta t*t/n),                     0, 0,    cos(4*\\Delta t*t/n), 0],\n",
       "[0,                     0, 0,                      0,                     0, 0,                      0, 1]])"
      ]
     },
     "execution_count": 35,
     "metadata": {},
     "output_type": "execute_result"
    }
   ],
   "source": [
    "simplify( KroneckerProduct(FSWAP,Id) * exp(+I*2*t*delta_t/n*(TensorProduct(Id,X,X) + TensorProduct(Id,Y,Y))) * KroneckerProduct(FSWAP,Id))"
   ]
  },
  {
   "cell_type": "code",
   "execution_count": 36,
   "metadata": {},
   "outputs": [
    {
     "data": {
      "text/latex": [
       "$\\displaystyle \\left[\\begin{matrix}1 & 0 & 0 & 0 & 0 & 0 & 0 & 0\\\\0 & \\cos{\\left(\\frac{4 \\Delta t t}{n} \\right)} & 0 & 0 & i \\sin{\\left(\\frac{4 \\Delta t t}{n} \\right)} & 0 & 0 & 0\\\\0 & 0 & 1 & 0 & 0 & 0 & 0 & 0\\\\0 & 0 & 0 & \\cos{\\left(\\frac{4 \\Delta t t}{n} \\right)} & 0 & 0 & - i \\sin{\\left(\\frac{4 \\Delta t t}{n} \\right)} & 0\\\\0 & i \\sin{\\left(\\frac{4 \\Delta t t}{n} \\right)} & 0 & 0 & \\cos{\\left(\\frac{4 \\Delta t t}{n} \\right)} & 0 & 0 & 0\\\\0 & 0 & 0 & 0 & 0 & 1 & 0 & 0\\\\0 & 0 & 0 & - i \\sin{\\left(\\frac{4 \\Delta t t}{n} \\right)} & 0 & 0 & \\cos{\\left(\\frac{4 \\Delta t t}{n} \\right)} & 0\\\\0 & 0 & 0 & 0 & 0 & 0 & 0 & 1\\end{matrix}\\right]$"
      ],
      "text/plain": [
       "Matrix([\n",
       "[1,                     0, 0,                      0,                     0, 0,                      0, 0],\n",
       "[0,   cos(4*\\Delta t*t/n), 0,                      0, I*sin(4*\\Delta t*t/n), 0,                      0, 0],\n",
       "[0,                     0, 1,                      0,                     0, 0,                      0, 0],\n",
       "[0,                     0, 0,    cos(4*\\Delta t*t/n),                     0, 0, -I*sin(4*\\Delta t*t/n), 0],\n",
       "[0, I*sin(4*\\Delta t*t/n), 0,                      0,   cos(4*\\Delta t*t/n), 0,                      0, 0],\n",
       "[0,                     0, 0,                      0,                     0, 1,                      0, 0],\n",
       "[0,                     0, 0, -I*sin(4*\\Delta t*t/n),                     0, 0,    cos(4*\\Delta t*t/n), 0],\n",
       "[0,                     0, 0,                      0,                     0, 0,                      0, 1]])"
      ]
     },
     "execution_count": 36,
     "metadata": {},
     "output_type": "execute_result"
    }
   ],
   "source": [
    "simplify( exp(+I*2*t*delta_t/n*(TensorProduct(X,Z,X) + TensorProduct(Y,Z,Y))) )"
   ]
  },
  {
   "cell_type": "code",
   "execution_count": 149,
   "metadata": {},
   "outputs": [
    {
     "data": {
      "text/latex": [
       "$\\displaystyle \\left[\\begin{matrix}1 & 0 & 0 & 0 & 0 & 0 & 0 & 0\\\\0 & \\cos{\\left(\\frac{4 \\Delta t t}{n} \\right)} & 0 & 0 & i \\sin{\\left(\\frac{4 \\Delta t t}{n} \\right)} & 0 & 0 & 0\\\\0 & 0 & 1 & 0 & 0 & 0 & 0 & 0\\\\0 & 0 & 0 & \\cos{\\left(\\frac{4 \\Delta t t}{n} \\right)} & 0 & 0 & - i \\sin{\\left(\\frac{4 \\Delta t t}{n} \\right)} & 0\\\\0 & i \\sin{\\left(\\frac{4 \\Delta t t}{n} \\right)} & 0 & 0 & \\cos{\\left(\\frac{4 \\Delta t t}{n} \\right)} & 0 & 0 & 0\\\\0 & 0 & 0 & 0 & 0 & 1 & 0 & 0\\\\0 & 0 & 0 & - i \\sin{\\left(\\frac{4 \\Delta t t}{n} \\right)} & 0 & 0 & \\cos{\\left(\\frac{4 \\Delta t t}{n} \\right)} & 0\\\\0 & 0 & 0 & 0 & 0 & 0 & 0 & 1\\end{matrix}\\right]$"
      ],
      "text/plain": [
       "Matrix([\n",
       "[1,                     0, 0,                      0,                     0, 0,                      0, 0],\n",
       "[0,   cos(4*\\Delta t*t/n), 0,                      0, I*sin(4*\\Delta t*t/n), 0,                      0, 0],\n",
       "[0,                     0, 1,                      0,                     0, 0,                      0, 0],\n",
       "[0,                     0, 0,    cos(4*\\Delta t*t/n),                     0, 0, -I*sin(4*\\Delta t*t/n), 0],\n",
       "[0, I*sin(4*\\Delta t*t/n), 0,                      0,   cos(4*\\Delta t*t/n), 0,                      0, 0],\n",
       "[0,                     0, 0,                      0,                     0, 1,                      0, 0],\n",
       "[0,                     0, 0, -I*sin(4*\\Delta t*t/n),                     0, 0,    cos(4*\\Delta t*t/n), 0],\n",
       "[0,                     0, 0,                      0,                     0, 0,                      0, 1]])"
      ]
     },
     "execution_count": 149,
     "metadata": {},
     "output_type": "execute_result"
    }
   ],
   "source": [
    "simplify( exp(-I*pi/4*TensorProduct(X,X,Id)) * exp(+I*2*t*delta_t/n*(TensorProduct(Id,Y,X) + TensorProduct(Y,Z,Y))) * exp(+I*pi/4*TensorProduct(X,X,Id)) )"
   ]
  },
  {
   "cell_type": "code",
   "execution_count": 150,
   "metadata": {},
   "outputs": [
    {
     "data": {
      "text/latex": [
       "$\\displaystyle \\left[\\begin{matrix}1 & 0 & 0 & 0 & 0 & 0 & 0 & 0\\\\0 & \\cos{\\left(\\frac{4 \\Delta t t}{n} \\right)} & 0 & 0 & i \\sin{\\left(\\frac{4 \\Delta t t}{n} \\right)} & 0 & 0 & 0\\\\0 & 0 & 1 & 0 & 0 & 0 & 0 & 0\\\\0 & 0 & 0 & \\cos{\\left(\\frac{4 \\Delta t t}{n} \\right)} & 0 & 0 & - i \\sin{\\left(\\frac{4 \\Delta t t}{n} \\right)} & 0\\\\0 & i \\sin{\\left(\\frac{4 \\Delta t t}{n} \\right)} & 0 & 0 & \\cos{\\left(\\frac{4 \\Delta t t}{n} \\right)} & 0 & 0 & 0\\\\0 & 0 & 0 & 0 & 0 & 1 & 0 & 0\\\\0 & 0 & 0 & - i \\sin{\\left(\\frac{4 \\Delta t t}{n} \\right)} & 0 & 0 & \\cos{\\left(\\frac{4 \\Delta t t}{n} \\right)} & 0\\\\0 & 0 & 0 & 0 & 0 & 0 & 0 & 1\\end{matrix}\\right]$"
      ],
      "text/plain": [
       "Matrix([\n",
       "[1,                     0, 0,                      0,                     0, 0,                      0, 0],\n",
       "[0,   cos(4*\\Delta t*t/n), 0,                      0, I*sin(4*\\Delta t*t/n), 0,                      0, 0],\n",
       "[0,                     0, 1,                      0,                     0, 0,                      0, 0],\n",
       "[0,                     0, 0,    cos(4*\\Delta t*t/n),                     0, 0, -I*sin(4*\\Delta t*t/n), 0],\n",
       "[0, I*sin(4*\\Delta t*t/n), 0,                      0,   cos(4*\\Delta t*t/n), 0,                      0, 0],\n",
       "[0,                     0, 0,                      0,                     0, 1,                      0, 0],\n",
       "[0,                     0, 0, -I*sin(4*\\Delta t*t/n),                     0, 0,    cos(4*\\Delta t*t/n), 0],\n",
       "[0,                     0, 0,                      0,                     0, 0,                      0, 1]])"
      ]
     },
     "execution_count": 150,
     "metadata": {},
     "output_type": "execute_result"
    }
   ],
   "source": [
    "simplify(  exp(+I*2*t*delta_t/n*(TensorProduct(X,Z,X) + TensorProduct(Y,Z,Y))) )"
   ]
  },
  {
   "cell_type": "code",
   "execution_count": null,
   "metadata": {},
   "outputs": [],
   "source": []
  },
  {
   "cell_type": "code",
   "execution_count": 52,
   "metadata": {},
   "outputs": [
    {
     "data": {
      "text/latex": [
       "$\\displaystyle \\left[\\begin{matrix}e^{- \\frac{i θ}{2}} & 0 & 0 & 0\\\\0 & e^{\\frac{i θ}{2}} & 0 & 0\\\\0 & 0 & e^{\\frac{i θ}{2}} & 0\\\\0 & 0 & 0 & e^{- \\frac{i θ}{2}}\\end{matrix}\\right]$"
      ],
      "text/plain": [
       "Matrix([\n",
       "[exp(-I*θ/2),          0,          0,           0],\n",
       "[          0, exp(I*θ/2),          0,           0],\n",
       "[          0,          0, exp(I*θ/2),           0],\n",
       "[          0,          0,          0, exp(-I*θ/2)]])"
      ]
     },
     "metadata": {},
     "output_type": "display_data"
    }
   ],
   "source": [
    "RZZ = exp(-I*theta/2*TensorProduct(Z,Z))\n",
    "\n",
    "display(RZZ)"
   ]
  },
  {
   "cell_type": "code",
   "execution_count": 60,
   "metadata": {},
   "outputs": [],
   "source": [
    "RZ = exp(-I*theta/2*Z)\n",
    "\n",
    "RZ0 = KroneckerProduct(RZ, Id)\n",
    "RZ1 = KroneckerProduct(Id, RZ)"
   ]
  },
  {
   "cell_type": "code",
   "execution_count": 61,
   "metadata": {},
   "outputs": [],
   "source": [
    "CP = diag(1, 1, 1, exp(I*-2*theta))"
   ]
  },
  {
   "cell_type": "code",
   "execution_count": 65,
   "metadata": {},
   "outputs": [
    {
     "data": {
      "text/latex": [
       "$\\displaystyle \\left[\\begin{matrix}e^{- \\frac{i θ}{2}} & 0 & 0 & 0\\\\0 & e^{\\frac{i θ}{2}} & 0 & 0\\\\0 & 0 & e^{\\frac{i θ}{2}} & 0\\\\0 & 0 & 0 & e^{- \\frac{i θ}{2}}\\end{matrix}\\right]$"
      ],
      "text/plain": [
       "Matrix([\n",
       "[exp(-I*θ/2),          0,          0,           0],\n",
       "[          0, exp(I*θ/2),          0,           0],\n",
       "[          0,          0, exp(I*θ/2),           0],\n",
       "[          0,          0,          0, exp(-I*θ/2)]])"
      ]
     },
     "execution_count": 65,
     "metadata": {},
     "output_type": "execute_result"
    }
   ],
   "source": [
    "simplify(CP * RZ0 * RZ1) * exp(I*theta/2)"
   ]
  },
  {
   "cell_type": "code",
   "execution_count": 16,
   "metadata": {},
   "outputs": [
    {
     "data": {
      "text/latex": [
       "$\\displaystyle \\left[\\begin{matrix}e^{i c_{2}} & 0\\\\0 & e^{- i c_{2}}\\end{matrix}\\right]$"
      ],
      "text/plain": [
       "Matrix([\n",
       "[exp(I*c2),          0],\n",
       "[        0, exp(-I*c2)]])"
      ]
     },
     "execution_count": 16,
     "metadata": {},
     "output_type": "execute_result"
    }
   ],
   "source": [
    "c2 = Symbol(\"c2\")\n",
    "lam = -2*c2\n",
    "exp(-I*lam/2*Z)"
   ]
  },
  {
   "cell_type": "code",
   "execution_count": null,
   "metadata": {},
   "outputs": [],
   "source": []
  }
 ],
 "metadata": {
  "kernelspec": {
   "display_name": "base",
   "language": "python",
   "name": "python3"
  },
  "language_info": {
   "codemirror_mode": {
    "name": "ipython",
    "version": 3
   },
   "file_extension": ".py",
   "mimetype": "text/x-python",
   "name": "python",
   "nbconvert_exporter": "python",
   "pygments_lexer": "ipython3",
   "version": "3.11.5"
  }
 },
 "nbformat": 4,
 "nbformat_minor": 2
}
