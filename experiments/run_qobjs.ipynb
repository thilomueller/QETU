{
 "cells": [
  {
   "cell_type": "code",
   "execution_count": 1,
   "metadata": {},
   "outputs": [],
   "source": [
    "from qetu_sim import *\n",
    "\n",
    "from qiskit import *\n",
    "from qiskit.assembler.disassemble import disassemble\n",
    "from qiskit.qobj import QasmQobj\n",
    "\n",
    "import json"
   ]
  },
  {
   "cell_type": "code",
   "execution_count": 11,
   "metadata": {},
   "outputs": [],
   "source": [
    "degree = 30\n",
    "trotter_steps = 1\n",
    "u = 1\n",
    "t = 1\n",
    "\n",
    "H_ref = ref_fh_hamiltonian(u=u, t=t, WMI_qubit_layout=True, include_aux=True)\n",
    "λ, v = np.linalg.eigh(H_ref)\n",
    "ground_state_energy = λ[0]\n",
    "ground_state_vector = v[:,0]"
   ]
  },
  {
   "cell_type": "code",
   "execution_count": 12,
   "metadata": {},
   "outputs": [
    {
     "name": "stdout",
     "output_type": "stream",
     "text": [
      "\n",
      "starting matlab engine..\n",
      "\n",
      "stopping matlab engine..\n"
     ]
    }
   ],
   "source": [
    "sim_ideal = AerSimulator()\n",
    "simulator = sim_ideal\n",
    "\n",
    "E_min, E_mu_m, E_mu_p, E_max = calculate_qsp_params(u, t)\n",
    "qsp = QSPPhase()\n",
    "phi_seq_su2 = qsp.cvx_qsp_heaviside(\n",
    "    degree,\n",
    "    E_min,\n",
    "    E_mu_m, \n",
    "    E_mu_p, \n",
    "    E_max\n",
    ")\n",
    "#phi_vec = convert_Zrot_to_Xrot(phi_seq_su2)\n",
    "phi_vec = phi_seq_su2\n",
    "\n",
    "# Construct quantum circuit\n",
    "QETU_circ = construct_QETU_circ(u, t, trotter_steps, phi_vec)\n",
    "QETU_circ_WMI = transpile_QETU_to_WMI(QETU_circ)\n",
    "onsite_circ_WMI, hop_1_circ_WMI, hop_2_circ_WMI = create_energy_estimation_circuits(QETU_circ_WMI)       "
   ]
  },
  {
   "cell_type": "code",
   "execution_count": 13,
   "metadata": {},
   "outputs": [],
   "source": [
    "onsite_qobj = assemble(onsite_circ_WMI)\n",
    "f = open(\"onsite_circ.qobj\", \"w+\")\n",
    "f.write(json.dumps(onsite_qobj.to_dict(), cls=QobjEncoder))\n",
    "f.close()\n",
    "\n",
    "hop_1_qobj = assemble(hop_1_circ_WMI)\n",
    "f = open(\"hop_1_circ.qobj\", \"w+\")\n",
    "f.write(json.dumps(hop_1_qobj.to_dict(), cls=QobjEncoder))\n",
    "f.close()\n",
    "\n",
    "hop_2_qobj = assemble(hop_2_circ_WMI)\n",
    "f = open(\"hop_2_circ.qobj\", \"w+\")\n",
    "f.write(json.dumps(hop_2_qobj.to_dict(), cls=QobjEncoder))\n",
    "f.close()"
   ]
  },
  {
   "cell_type": "code",
   "execution_count": 14,
   "metadata": {},
   "outputs": [],
   "source": [
    "onsite_circ_WMI = add_pswap_labels(onsite_circ_WMI)\n",
    "onsite_circ_WMI = add_sy_labels(onsite_circ_WMI)\n",
    "\n",
    "hop_1_circ_WMI = add_pswap_labels(hop_1_circ_WMI)\n",
    "hop_1_circ_WMI = add_sy_labels(hop_1_circ_WMI)\n",
    "\n",
    "hop_2_circ_WMI = add_pswap_labels(hop_2_circ_WMI)\n",
    "hop_2_circ_WMI = add_sy_labels(hop_2_circ_WMI)"
   ]
  },
  {
   "cell_type": "code",
   "execution_count": 15,
   "metadata": {},
   "outputs": [
    {
     "name": "stdout",
     "output_type": "stream",
     "text": [
      "E0_meas: -22.61919894959143\n",
      "|E0 - E0_meas|: 0.024792877235348953\n"
     ]
    }
   ],
   "source": [
    "# estimate ground state\n",
    "E0_meas = estimate_ground_state_energy_from_circ(onsite_circ_WMI, hop_1_circ_WMI, hop_2_circ_WMI, u=1, t=1, num_shots=10_000)\n",
    "print(\"E0_meas: \" + str(E0_meas))\n",
    "print(\"|E0 - E0_meas|: \" + str(abs(ground_state_energy - E0_meas))) "
   ]
  },
  {
   "cell_type": "code",
   "execution_count": 16,
   "metadata": {},
   "outputs": [],
   "source": [
    "with open('onsite_circ.qobj') as fd:\n",
    "    qobj_dict = json.load(fd)\n",
    "qobj = QasmQobj.from_dict(qobj_dict)\n",
    "circuits, run_config, headers = disassemble(qobj)\n",
    "onsite_circuit = circuits[0]\n",
    "\n",
    "with open('hop_1_circ.qobj') as fd:\n",
    "    qobj_dict = json.load(fd)\n",
    "qobj = QasmQobj.from_dict(qobj_dict)\n",
    "circuits, run_config, headers = disassemble(qobj)\n",
    "hop_1_circuit = circuits[0]\n",
    "\n",
    "with open('hop_2_circ.qobj') as fd:\n",
    "    qobj_dict = json.load(fd)\n",
    "qobj = QasmQobj.from_dict(qobj_dict)\n",
    "circuits, run_config, headers = disassemble(qobj)\n",
    "hop_2_circuit = circuits[0]"
   ]
  },
  {
   "cell_type": "code",
   "execution_count": 17,
   "metadata": {},
   "outputs": [],
   "source": [
    "onsite_circuit = add_pswap_labels(onsite_circuit)\n",
    "onsite_circuit = add_sy_labels(onsite_circuit)   \n",
    "\n",
    "hop_1_circuit = add_pswap_labels(hop_1_circuit)\n",
    "hop_1_circuit = add_sy_labels(hop_1_circuit)   \n",
    "\n",
    "hop_2_circuit = add_pswap_labels(hop_2_circuit)\n",
    "hop_2_circuit = add_sy_labels(hop_2_circuit)   "
   ]
  },
  {
   "cell_type": "code",
   "execution_count": 18,
   "metadata": {},
   "outputs": [
    {
     "name": "stdout",
     "output_type": "stream",
     "text": [
      "E0_meas: -22.708450219106737\n",
      "|E0 - E0_meas|: 0.06445839227995975\n"
     ]
    }
   ],
   "source": [
    "E0_meas = estimate_ground_state_energy_from_circ(onsite_circuit, hop_1_circuit, hop_2_circuit, u=1, t=1, num_shots=10_000)\n",
    "print(\"E0_meas: \" + str(E0_meas))\n",
    "print(\"|E0 - E0_meas|: \" + str(abs(ground_state_energy - E0_meas)))"
   ]
  },
  {
   "cell_type": "code",
   "execution_count": 23,
   "metadata": {},
   "outputs": [
    {
     "name": "stdout",
     "output_type": "stream",
     "text": [
      "circuit depth: \t\t\t1916\n",
      "circuit depth w/o Z-gates: \t1304\n"
     ]
    }
   ],
   "source": [
    "print(\"circuit depth: \\t\\t\\t\" + str(hop_2_circuit.depth()))\n",
    "print(\"circuit depth w/o Z-gates: \\t\" + str(compute_depth_no_rz(hop_2_circuit)))"
   ]
  }
 ],
 "metadata": {
  "kernelspec": {
   "display_name": "Python 3",
   "language": "python",
   "name": "python3"
  },
  "language_info": {
   "codemirror_mode": {
    "name": "ipython",
    "version": 3
   },
   "file_extension": ".py",
   "mimetype": "text/x-python",
   "name": "python",
   "nbconvert_exporter": "python",
   "pygments_lexer": "ipython3",
   "version": "3.11.0"
  }
 },
 "nbformat": 4,
 "nbformat_minor": 2
}
