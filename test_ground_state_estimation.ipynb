{
 "cells": [
  {
   "cell_type": "code",
   "execution_count": 1,
   "metadata": {},
   "outputs": [],
   "source": [
    "from qiskit import *\n",
    "\n",
    "import numpy as np\n",
    "import scipy.linalg\n",
    "import scipy.io\n",
    "import itertools\n",
    "import matplotlib.pyplot as plt\n",
    "\n",
    "from qiskit.visualization import *\n",
    "from qiskit.extensions import UnitaryGate\n",
    "\n",
    "# custom utility functions\n",
    "from util import *\n",
    "from qetu import *"
   ]
  },
  {
   "cell_type": "code",
   "execution_count": 2,
   "metadata": {},
   "outputs": [],
   "source": [
    "mat_step_func_02 = scipy.io.loadmat('phase_angles/step_function_02.mat')['phi_proc']\n",
    "step_function_02_qsp_angles = list(itertools.chain.from_iterable(mat_step_func_02))"
   ]
  },
  {
   "cell_type": "code",
   "execution_count": 3,
   "metadata": {},
   "outputs": [
    {
     "data": {
      "text/latex": [
       "$$\n",
       "\n",
       "\\begin{bmatrix}\n",
       "1.4706289056 & 0 & 0 & 0  \\\\\n",
       " 0 & 1.2661036728 & 0 & 0  \\\\\n",
       " 0 & 0 & 0.927295218 & 0  \\\\\n",
       " 0 & 0 & 0 & 0.4510268118  \\\\\n",
       " \\end{bmatrix}\n",
       "$$"
      ],
      "text/plain": [
       "<IPython.core.display.Latex object>"
      ]
     },
     "execution_count": 3,
     "metadata": {},
     "output_type": "execute_result"
    }
   ],
   "source": [
    "H = np.diag(np.array([np.arccos(0.1), np.arccos(0.3), np.arccos(0.6), np.arccos(0.9)]))\n",
    "array_to_latex(H)"
   ]
  },
  {
   "cell_type": "code",
   "execution_count": 3,
   "metadata": {},
   "outputs": [
    {
     "data": {
      "text/latex": [
       "$$\n",
       "\n",
       "\\begin{bmatrix}\n",
       "1.23 & 0 & \\frac{2}{25} + \\frac{i}{5} & - \\frac{11 i}{50}  \\\\\n",
       " 0 & 1.23 & \\frac{11 i}{50} & - \\frac{2}{25} - \\frac{i}{5}  \\\\\n",
       " \\frac{2}{25} - \\frac{i}{5} & - \\frac{11 i}{50} & \\frac{19}{20} & 0  \\\\\n",
       " \\frac{11 i}{50} & - \\frac{2}{25} + \\frac{i}{5} & 0 & \\frac{19}{20}  \\\\\n",
       " \\end{bmatrix}\n",
       "$$"
      ],
      "text/plain": [
       "<IPython.core.display.Latex object>"
      ]
     },
     "execution_count": 3,
     "metadata": {},
     "output_type": "execute_result"
    }
   ],
   "source": [
    "import scipy as sp\n",
    "import numpy as np\n",
    "\n",
    "I = sp.sparse.csr_array(np.array([[1, 0], [0, 1]])).toarray()\n",
    "X = sp.sparse.csr_array(np.array([[0, 1], [1, 0]])).toarray()\n",
    "Y = sp.sparse.csr_array(np.array([[0, -1j], [1j, 0]])).toarray()\n",
    "Z = sp.sparse.csr_array(np.array([[1, 0], [0, -1]])).toarray()\n",
    "\n",
    "H = 1.09*np.kron(I,I) + 0.08*np.kron(X,Z) + 0.22*np.kron(X,Y) + 0.14*np.kron(Z,I) -0.2*np.kron(Y,Z)\n",
    "array_to_latex(H)"
   ]
  },
  {
   "cell_type": "code",
   "execution_count": 4,
   "metadata": {},
   "outputs": [
    {
     "data": {
      "text/plain": [
       "<qiskit.circuit.instructionset.InstructionSet at 0x283a7fc35b0>"
      ]
     },
     "execution_count": 4,
     "metadata": {},
     "output_type": "execute_result"
    }
   ],
   "source": [
    "U = expm(-1j*H)\n",
    "V = scipy.linalg.block_diag(U.conjugate().transpose(), U)\n",
    "V_gate = UnitaryGate(V)\n",
    "q = QuantumRegister(3, 'q')\n",
    "V_qc = QuantumCircuit(q)\n",
    "V_qc.append(V_gate, q)"
   ]
  },
  {
   "cell_type": "code",
   "execution_count": 5,
   "metadata": {},
   "outputs": [
    {
     "name": "stdout",
     "output_type": "stream",
     "text": [
      "actual eigenvalues: [ 8.99999910e-01  3.26074872e-07 -3.45269638e-09 -3.58924318e-07]\n"
     ]
    },
    {
     "name": "stderr",
     "output_type": "stream",
     "text": [
      "C:\\Users\\thilo\\AppData\\Roaming\\Python\\Python311\\site-packages\\matplotlib\\cbook\\__init__.py:1335: ComplexWarning: Casting complex values to real discards the imaginary part\n",
      "  return np.asarray(x, float)\n",
      "C:\\Users\\thilo\\AppData\\Roaming\\Python\\Python311\\site-packages\\matplotlib\\collections.py:192: ComplexWarning: Casting complex values to real discards the imaginary part\n",
      "  offsets = np.asanyarray(offsets, float)\n"
     ]
    },
    {
     "data": {
      "text/plain": [
       "Text(0, 0.5, 'U = F(cos(λ))')"
      ]
     },
     "execution_count": 5,
     "metadata": {},
     "output_type": "execute_result"
    },
    {
     "data": {
      "image/png": "[encoded data removed]",
      "text/plain": [
       "<Figure size 640x480 with 1 Axes>"
      ]
     },
     "metadata": {},
     "output_type": "display_data"
    }
   ],
   "source": [
    "U_qc = QETU(V_qc, convert_Zrot_to_Xrot(step_function_02_qsp_angles))\n",
    "U_qetu = get_matrix(U_qc)[0:4, 0:4]\n",
    "λ = np.linalg.eigvals(H)\n",
    "F_λ = np.linalg.eigvals(U_qetu).real * -1\n",
    "print(\"actual eigenvalues: \" + str(F_λ))\n",
    "\n",
    "x_list = np.linspace(-1, 1, 201)\n",
    "QSP_list = []\n",
    "for x in x_list:\n",
    "    QSP_circuit = QSP(step_function_02_qsp_angles, x)\n",
    "    result = get_matrix(QSP_circuit)[0,0]\n",
    "    QSP_list.append(result)\n",
    "\n",
    "plt.plot(x_list, QSP_list, \"g\", label=\"Re[Poly(a)]\")\n",
    "plt.scatter(x=np.cos(λ), y=F_λ)\n",
    "plt.xlabel(\"cos(λ)\")\n",
    "plt.ylabel(\"U = F(cos(λ))\")"
   ]
  },
  {
   "cell_type": "code",
   "execution_count": 6,
   "metadata": {},
   "outputs": [
    {
     "data": {
      "text/latex": [
       "$$\\begin{align}\\frac{1}{2} |000\\rangle+\\frac{1}{2} |001\\rangle+\\frac{1}{2} |010\\rangle+\\frac{1}{2} |011\\rangle\\end{align}$$"
      ],
      "text/plain": [
       "<IPython.core.display.Latex object>"
      ]
     },
     "execution_count": 6,
     "metadata": {},
     "output_type": "execute_result"
    }
   ],
   "source": [
    "num_qubits = U_qc.num_qubits - 1\n",
    "initial_state = Statevector.from_label(\"0++\")\n",
    "final_state = initial_state.evolve(U_qc)\n",
    "final_state = final_state.data.real * -1\n",
    "#final_state = final_state.data[::-1]\n",
    "final_state = final_state[0:2**num_qubits]\n",
    "\n",
    "from IPython.display import Latex\n",
    "from qiskit.visualization import state_visualization\n",
    "\n",
    "prefix = \"$$\\\\begin{align}\"\n",
    "suffix = \"\\\\end{align}$$\"\n",
    "state_to_latex = state_visualization._state_to_latex_ket(initial_state.data, max_size = 128)\n",
    "\n",
    "Latex(prefix + state_to_latex + suffix)"
   ]
  },
  {
   "cell_type": "code",
   "execution_count": 7,
   "metadata": {},
   "outputs": [
    {
     "data": {
      "text/latex": [
       "$$\\begin{align}0.304632813 |00\\rangle+0.2854018212 |01\\rangle+0.0004513898 |10\\rangle-0.0004517242 |11\\rangle\\end{align}$$"
      ],
      "text/plain": [
       "<IPython.core.display.Latex object>"
      ]
     },
     "execution_count": 7,
     "metadata": {},
     "output_type": "execute_result"
    }
   ],
   "source": [
    "prefix = \"$$\\\\begin{align}\"\n",
    "suffix = \"\\\\end{align}$$\"\n",
    "state_to_latex = state_visualization._state_to_latex_ket(final_state, max_size = 128)\n",
    "\n",
    "Latex(prefix + state_to_latex + suffix)"
   ]
  },
  {
   "cell_type": "code",
   "execution_count": 21,
   "metadata": {},
   "outputs": [
    {
     "name": "stdout",
     "output_type": "stream",
     "text": [
      "Ground state energy: 1.5398888751680806\n",
      "Ground state vector: [-0.57253558+0.00000000e+00j -0.57253558-3.46944695e-17j\n",
      " -0.07764657+4.07644479e-01j  0.07764657-4.07644479e-01j]\n"
     ]
    }
   ],
   "source": [
    "# Diagonalize the Hamiltonian\n",
    "λ, v = np.linalg.eigh(H)\n",
    "# Find the ground state\n",
    "ground_state_index = np.argmin(np.cos(λ))\n",
    "ground_state_energy = λ[ground_state_index]\n",
    "ground_state_vector = v[:, ground_state_index]\n",
    "\n",
    "print(\"Ground state energy:\", ground_state_energy)\n",
    "print(\"Ground state vector:\", ground_state_vector)"
   ]
  },
  {
   "cell_type": "code",
   "execution_count": 22,
   "metadata": {},
   "outputs": [
    {
     "data": {
      "text/latex": [
       "$$\\begin{align}-0.5725355791 |00\\rangle-0.5725355791 |01\\rangle+(-0.0776465674 + 0.407644479 i) |10\\rangle+(0.0776465674 - 0.407644479 i) |11\\rangle\\end{align}$$"
      ],
      "text/plain": [
       "<IPython.core.display.Latex object>"
      ]
     },
     "execution_count": 22,
     "metadata": {},
     "output_type": "execute_result"
    }
   ],
   "source": [
    "prefix = \"$$\\\\begin{align}\"\n",
    "suffix = \"\\\\end{align}$$\"\n",
    "state_to_latex = state_visualization._state_to_latex_ket(ground_state_vector, max_size = 128)\n",
    "\n",
    "Latex(prefix + state_to_latex + suffix)"
   ]
  },
  {
   "cell_type": "code",
   "execution_count": 23,
   "metadata": {},
   "outputs": [
    {
     "name": "stdout",
     "output_type": "stream",
     "text": [
      "0.32779698928301704\n"
     ]
    }
   ],
   "source": [
    "initial_overlap = abs(np.vdot(initial_state.data[0:2**num_qubits] / scipy.linalg.norm(initial_state.data[0:2**num_qubits]), ground_state_vector))**2\n",
    "print(initial_overlap)"
   ]
  },
  {
   "cell_type": "markdown",
   "metadata": {},
   "source": [
    "Calculate the success probability"
   ]
  },
  {
   "cell_type": "code",
   "execution_count": 24,
   "metadata": {},
   "outputs": [
    {
     "name": "stdout",
     "output_type": "stream",
     "text": [
      "0.17425575810192306\n"
     ]
    }
   ],
   "source": [
    "success_probability = scipy.linalg.norm(final_state)**2\n",
    "print(success_probability)"
   ]
  },
  {
   "cell_type": "markdown",
   "metadata": {},
   "source": [
    "Calculate the overlap between the ground state vector and the prepared state: $\\lvert \\braket{\\psi|\\psi_0} \\rvert^2$"
   ]
  },
  {
   "cell_type": "code",
   "execution_count": 25,
   "metadata": {},
   "outputs": [
    {
     "name": "stdout",
     "output_type": "stream",
     "text": [
      "0.6551694381184837\n"
     ]
    }
   ],
   "source": [
    "overlap = abs(np.vdot(final_state / scipy.linalg.norm(final_state), ground_state_vector))**2\n",
    "print(overlap)"
   ]
  },
  {
   "cell_type": "code",
   "execution_count": 26,
   "metadata": {},
   "outputs": [
    {
     "data": {
      "text/latex": [
       "$$\\begin{align}-0.5725355791 |00\\rangle-0.5725355791 |01\\rangle+(-0.0776465674 + 0.407644479 i) |10\\rangle+(0.0776465674 - 0.407644479 i) |11\\rangle\\end{align}$$"
      ],
      "text/plain": [
       "<IPython.core.display.Latex object>"
      ]
     },
     "execution_count": 26,
     "metadata": {},
     "output_type": "execute_result"
    }
   ],
   "source": [
    "from IPython.display import Latex\n",
    "from qiskit.visualization import state_visualization\n",
    "\n",
    "prefix = \"$$\\\\begin{align}\"\n",
    "suffix = \"\\\\end{align}$$\"\n",
    "state_to_latex = state_visualization._state_to_latex_ket(ground_state_vector.data, max_size = 128)\n",
    "\n",
    "Latex(prefix + state_to_latex + suffix)"
   ]
  },
  {
   "cell_type": "code",
   "execution_count": 27,
   "metadata": {},
   "outputs": [
    {
     "data": {
      "text/latex": [
       "$$\\begin{align}0.304632813 |00\\rangle+0.2854018212 |01\\rangle+0.0004513898 |10\\rangle-0.0004517242 |11\\rangle\\end{align}$$"
      ],
      "text/plain": [
       "<IPython.core.display.Latex object>"
      ]
     },
     "execution_count": 27,
     "metadata": {},
     "output_type": "execute_result"
    }
   ],
   "source": [
    "from IPython.display import Latex\n",
    "from qiskit.visualization import state_visualization\n",
    "\n",
    "prefix = \"$$\\\\begin{align}\"\n",
    "suffix = \"\\\\end{align}$$\"\n",
    "state_to_latex = state_visualization._state_to_latex_ket(final_state.data, max_size = 128)\n",
    "\n",
    "Latex(prefix + state_to_latex + suffix)"
   ]
  },
  {
   "cell_type": "code",
   "execution_count": null,
   "metadata": {},
   "outputs": [],
   "source": []
  }
 ],
 "metadata": {
  "kernelspec": {
   "display_name": "Python 3",
   "language": "python",
   "name": "python3"
  },
  "language_info": {
   "codemirror_mode": {
    "name": "ipython",
    "version": 3
   },
   "file_extension": ".py",
   "mimetype": "text/x-python",
   "name": "python",
   "nbconvert_exporter": "python",
   "pygments_lexer": "ipython3",
   "version": "3.11.0"
  }
 },
 "nbformat": 4,
 "nbformat_minor": 2
}
