{
 "cells": [
  {
   "cell_type": "code",
   "execution_count": 2,
   "metadata": {},
   "outputs": [],
   "source": [
    "import numpy as np\n",
    "from qiskit import *\n",
    "from scipy import linalg\n",
    "\n",
    "from qiskit.visualization import *\n",
    "from qiskit.quantum_info.operators import Operator\n",
    "from util import *"
   ]
  },
  {
   "cell_type": "code",
   "execution_count": 3,
   "metadata": {},
   "outputs": [],
   "source": [
    "X = np.array([[0, 1], [1, 0]], dtype = 'complex_')\n",
    "Y = np.array([[0, -1j], [1j, 0]], dtype = 'complex_')\n",
    "Z = np.array([[1, 0], [0, -1]], dtype = 'complex_')"
   ]
  },
  {
   "cell_type": "code",
   "execution_count": 4,
   "metadata": {},
   "outputs": [],
   "source": [
    "fSWAP = np.array([[1, 0, 0, 0],\n",
    "                  [0, 0, 1, 0],\n",
    "                  [0, 1, 0, 0],\n",
    "                  [0, 0, 0, -1]])\n",
    "\n",
    "theta = np.pi\n",
    "eta = 1\n",
    "pSWAP = np.array([[1, 0,                                  0,                                 0],\n",
    "                  [0, np.cos(theta/2),                    1j*np.exp(1j*eta)*np.sin(theta/2), 0],\n",
    "                  [0, 1j*np.exp(-1j*eta)*np.sin(theta/2), np.cos(theta/2),                   0],\n",
    "                  [0, 0,                                  0,                                 1]])"
   ]
  },
  {
   "cell_type": "code",
   "execution_count": 5,
   "metadata": {},
   "outputs": [
    {
     "data": {
      "image/png": "[encoded data removed]",
      "text/plain": [
       "<Figure size 639.969x284.278 with 1 Axes>"
      ]
     },
     "execution_count": 5,
     "metadata": {},
     "output_type": "execute_result"
    }
   ],
   "source": [
    "q = QuantumRegister(3)\n",
    "qc = QuantumCircuit(q)\n",
    "\n",
    "fswap = Operator(fSWAP)\n",
    "pswap = Operator(pSWAP)\n",
    "\n",
    "\n",
    "qc.unitary(pswap, [0, 1], label=\"pSWAP\")\n",
    "qc.unitary(pswap, [1, 2], label=\"pSWAP\")\n",
    "qc.unitary(pswap, [0, 1], label=\"pSWAP\")\n",
    "\n",
    "\n",
    "qc.draw(\"mpl\")"
   ]
  },
  {
   "cell_type": "code",
   "execution_count": 6,
   "metadata": {},
   "outputs": [
    {
     "data": {
      "text/latex": [
       "$$\n",
       "\n",
       "\\begin{bmatrix}\n",
       "1 & 0 & 0 & 0 & 0 & 0 & 0 & 0  \\\\\n",
       " 0 & 0 & 0 & 0 & 0.4161468365 + 0.9092974268 i & 0 & 0 & 0  \\\\\n",
       " 0 & 0 & -1 & 0 & 0 & 0 & 0 & 0  \\\\\n",
       " 0 & 0 & 0 & 0 & 0 & 0 & 0.4161468365 + 0.9092974268 i & 0  \\\\\n",
       " 0 & 0.4161468365 - 0.9092974268 i & 0 & 0 & 0 & 0 & 0 & 0  \\\\\n",
       " 0 & 0 & 0 & 0 & 0 & -1 & 0 & 0  \\\\\n",
       " 0 & 0 & 0 & 0.4161468365 - 0.9092974268 i & 0 & 0 & 0 & 0  \\\\\n",
       " 0 & 0 & 0 & 0 & 0 & 0 & 0 & 1  \\\\\n",
       " \\end{bmatrix}\n",
       "$$"
      ],
      "text/plain": [
       "<IPython.core.display.Latex object>"
      ]
     },
     "execution_count": 6,
     "metadata": {},
     "output_type": "execute_result"
    }
   ],
   "source": [
    "array_to_latex(circuit2matrix(qc, keep_qiskit_ordering=False))"
   ]
  },
  {
   "cell_type": "code",
   "execution_count": 68,
   "metadata": {},
   "outputs": [],
   "source": [
    "from sympy import *\n",
    "from sympy.physics.quantum import TensorProduct\n",
    "from IPython.display import display\n",
    "from sympy import re, im, I, E, symbols\n",
    "\n",
    "J = symbols(\"J\")\n",
    "X = Matrix([[0, 1], [1, 0]])\n",
    "Y = Matrix([[0, -I], [I, 0]])\n",
    "Z = Matrix([[1, 0], [0, -1]])\n",
    "Id = Matrix([[1, 0], [0, 1]])\n",
    "\n",
    "H = exp(-I*(TensorProduct(X,Z,Z,X) + TensorProduct(Y,Z,Z,Y)))"
   ]
  },
  {
   "cell_type": "code",
   "execution_count": 69,
   "metadata": {},
   "outputs": [
    {
     "data": {
      "text/latex": [
       "$\\displaystyle \\left[\\begin{array}{cccccccccccccccc}1 & 0 & 0 & 0 & 0 & 0 & 0 & 0 & 0 & 0 & 0 & 0 & 0 & 0 & 0 & 0\\\\0 & \\frac{e^{- 2 i}}{2} + \\frac{e^{2 i}}{2} & 0 & 0 & 0 & 0 & 0 & 0 & \\frac{e^{- 2 i}}{2} - \\frac{e^{2 i}}{2} & 0 & 0 & 0 & 0 & 0 & 0 & 0\\\\0 & 0 & 1 & 0 & 0 & 0 & 0 & 0 & 0 & 0 & 0 & 0 & 0 & 0 & 0 & 0\\\\0 & 0 & 0 & \\frac{e^{- 2 i}}{2} + \\frac{e^{2 i}}{2} & 0 & 0 & 0 & 0 & 0 & 0 & \\frac{e^{2 i}}{2} - \\frac{e^{- 2 i}}{2} & 0 & 0 & 0 & 0 & 0\\\\0 & 0 & 0 & 0 & 1 & 0 & 0 & 0 & 0 & 0 & 0 & 0 & 0 & 0 & 0 & 0\\\\0 & 0 & 0 & 0 & 0 & \\frac{e^{- 2 i}}{2} + \\frac{e^{2 i}}{2} & 0 & 0 & 0 & 0 & 0 & 0 & \\frac{e^{2 i}}{2} - \\frac{e^{- 2 i}}{2} & 0 & 0 & 0\\\\0 & 0 & 0 & 0 & 0 & 0 & 1 & 0 & 0 & 0 & 0 & 0 & 0 & 0 & 0 & 0\\\\0 & 0 & 0 & 0 & 0 & 0 & 0 & \\frac{e^{- 2 i}}{2} + \\frac{e^{2 i}}{2} & 0 & 0 & 0 & 0 & 0 & 0 & \\frac{e^{- 2 i}}{2} - \\frac{e^{2 i}}{2} & 0\\\\0 & \\frac{e^{- 2 i}}{2} - \\frac{e^{2 i}}{2} & 0 & 0 & 0 & 0 & 0 & 0 & \\frac{e^{- 2 i}}{2} + \\frac{e^{2 i}}{2} & 0 & 0 & 0 & 0 & 0 & 0 & 0\\\\0 & 0 & 0 & 0 & 0 & 0 & 0 & 0 & 0 & 1 & 0 & 0 & 0 & 0 & 0 & 0\\\\0 & 0 & 0 & \\frac{e^{2 i}}{2} - \\frac{e^{- 2 i}}{2} & 0 & 0 & 0 & 0 & 0 & 0 & \\frac{e^{- 2 i}}{2} + \\frac{e^{2 i}}{2} & 0 & 0 & 0 & 0 & 0\\\\0 & 0 & 0 & 0 & 0 & 0 & 0 & 0 & 0 & 0 & 0 & 1 & 0 & 0 & 0 & 0\\\\0 & 0 & 0 & 0 & 0 & \\frac{e^{2 i}}{2} - \\frac{e^{- 2 i}}{2} & 0 & 0 & 0 & 0 & 0 & 0 & \\frac{e^{- 2 i}}{2} + \\frac{e^{2 i}}{2} & 0 & 0 & 0\\\\0 & 0 & 0 & 0 & 0 & 0 & 0 & 0 & 0 & 0 & 0 & 0 & 0 & 1 & 0 & 0\\\\0 & 0 & 0 & 0 & 0 & 0 & 0 & \\frac{e^{- 2 i}}{2} - \\frac{e^{2 i}}{2} & 0 & 0 & 0 & 0 & 0 & 0 & \\frac{e^{- 2 i}}{2} + \\frac{e^{2 i}}{2} & 0\\\\0 & 0 & 0 & 0 & 0 & 0 & 0 & 0 & 0 & 0 & 0 & 0 & 0 & 0 & 0 & 1\\end{array}\\right]$"
      ],
      "text/plain": [
       "Matrix([\n",
       "[1,                        0, 0,                        0, 0,                        0, 0,                        0,                        0, 0,                        0, 0,                        0, 0,                        0, 0],\n",
       "[0, exp(-2*I)/2 + exp(2*I)/2, 0,                        0, 0,                        0, 0,                        0, exp(-2*I)/2 - exp(2*I)/2, 0,                        0, 0,                        0, 0,                        0, 0],\n",
       "[0,                        0, 1,                        0, 0,                        0, 0,                        0,                        0, 0,                        0, 0,                        0, 0,                        0, 0],\n",
       "[0,                        0, 0, exp(-2*I)/2 + exp(2*I)/2, 0,                        0, 0,                        0,                        0, 0, exp(2*I)/2 - exp(-2*I)/2, 0,                        0, 0,                        0, 0],\n",
       "[0,                        0, 0,                        0, 1,                        0, 0,                        0,                        0, 0,                        0, 0,                        0, 0,                        0, 0],\n",
       "[0,                        0, 0,                        0, 0, exp(-2*I)/2 + exp(2*I)/2, 0,                        0,                        0, 0,                        0, 0, exp(2*I)/2 - exp(-2*I)/2, 0,                        0, 0],\n",
       "[0,                        0, 0,                        0, 0,                        0, 1,                        0,                        0, 0,                        0, 0,                        0, 0,                        0, 0],\n",
       "[0,                        0, 0,                        0, 0,                        0, 0, exp(-2*I)/2 + exp(2*I)/2,                        0, 0,                        0, 0,                        0, 0, exp(-2*I)/2 - exp(2*I)/2, 0],\n",
       "[0, exp(-2*I)/2 - exp(2*I)/2, 0,                        0, 0,                        0, 0,                        0, exp(-2*I)/2 + exp(2*I)/2, 0,                        0, 0,                        0, 0,                        0, 0],\n",
       "[0,                        0, 0,                        0, 0,                        0, 0,                        0,                        0, 1,                        0, 0,                        0, 0,                        0, 0],\n",
       "[0,                        0, 0, exp(2*I)/2 - exp(-2*I)/2, 0,                        0, 0,                        0,                        0, 0, exp(-2*I)/2 + exp(2*I)/2, 0,                        0, 0,                        0, 0],\n",
       "[0,                        0, 0,                        0, 0,                        0, 0,                        0,                        0, 0,                        0, 1,                        0, 0,                        0, 0],\n",
       "[0,                        0, 0,                        0, 0, exp(2*I)/2 - exp(-2*I)/2, 0,                        0,                        0, 0,                        0, 0, exp(-2*I)/2 + exp(2*I)/2, 0,                        0, 0],\n",
       "[0,                        0, 0,                        0, 0,                        0, 0,                        0,                        0, 0,                        0, 0,                        0, 1,                        0, 0],\n",
       "[0,                        0, 0,                        0, 0,                        0, 0, exp(-2*I)/2 - exp(2*I)/2,                        0, 0,                        0, 0,                        0, 0, exp(-2*I)/2 + exp(2*I)/2, 0],\n",
       "[0,                        0, 0,                        0, 0,                        0, 0,                        0,                        0, 0,                        0, 0,                        0, 0,                        0, 1]])"
      ]
     },
     "metadata": {},
     "output_type": "display_data"
    }
   ],
   "source": [
    "display(H)"
   ]
  },
  {
   "cell_type": "code",
   "execution_count": 79,
   "metadata": {},
   "outputs": [],
   "source": [
    "theta = pi\n",
    "eta = 1\n",
    "pSWAP = Matrix([[1, 0,                           0,                          0],\n",
    "                [0, cos(theta/2),                I*exp(1j*eta)*sin(theta/2), 0],\n",
    "                [0, I*exp(-1j*eta)*sin(theta/2), cos(theta/2),               0],\n",
    "                [0, 0,                           0,                          1]])"
   ]
  },
  {
   "cell_type": "code",
   "execution_count": 80,
   "metadata": {},
   "outputs": [
    {
     "data": {
      "text/latex": [
       "$\\displaystyle \\left[\\begin{matrix}1 & 0 & 0 & 0\\\\0 & 0 & i e^{1.0 i} & 0\\\\0 & i e^{- 1.0 i} & 0 & 0\\\\0 & 0 & 0 & 1\\end{matrix}\\right]$"
      ],
      "text/plain": [
       "Matrix([\n",
       "[1,             0,            0, 0],\n",
       "[0,             0, I*exp(1.0*I), 0],\n",
       "[0, I*exp(-1.0*I),            0, 0],\n",
       "[0,             0,            0, 1]])"
      ]
     },
     "metadata": {},
     "output_type": "display_data"
    }
   ],
   "source": [
    "display(pSWAP)"
   ]
  },
  {
   "cell_type": "code",
   "execution_count": 81,
   "metadata": {},
   "outputs": [],
   "source": [
    "P1 = TensorProduct(pSWAP, Id, Id)*TensorProduct(Id,pSWAP,Id)*TensorProduct(Id,Id,pSWAP)*TensorProduct(Id,pSWAP,Id)*TensorProduct(pSWAP, Id,Id)"
   ]
  },
  {
   "cell_type": "code",
   "execution_count": 82,
   "metadata": {},
   "outputs": [],
   "source": [
    "theta = 2*pi\n",
    "eta = 1\n",
    "pSWAP = Matrix([[1, 0,                           0,                          0],\n",
    "                [0, cos(theta/2),                I*exp(1j*eta)*sin(theta/2), 0],\n",
    "                [0, I*exp(-1j*eta)*sin(theta/2), cos(theta/2),               0],\n",
    "                [0, 0,                           0,                          1]])"
   ]
  },
  {
   "cell_type": "code",
   "execution_count": 83,
   "metadata": {},
   "outputs": [
    {
     "data": {
      "text/latex": [
       "$\\displaystyle \\left[\\begin{matrix}1 & 0 & 0 & 0\\\\0 & -1 & 0 & 0\\\\0 & 0 & -1 & 0\\\\0 & 0 & 0 & 1\\end{matrix}\\right]$"
      ],
      "text/plain": [
       "Matrix([\n",
       "[1,  0,  0, 0],\n",
       "[0, -1,  0, 0],\n",
       "[0,  0, -1, 0],\n",
       "[0,  0,  0, 1]])"
      ]
     },
     "metadata": {},
     "output_type": "display_data"
    }
   ],
   "source": [
    "display(pSWAP)"
   ]
  },
  {
   "cell_type": "code",
   "execution_count": 84,
   "metadata": {},
   "outputs": [],
   "source": [
    "P2 = TensorProduct(pSWAP, Id, Id)*TensorProduct(Id,pSWAP,Id)*TensorProduct(Id,Id,pSWAP)*TensorProduct(Id,pSWAP,Id)*TensorProduct(pSWAP, Id,Id)"
   ]
  },
  {
   "cell_type": "code",
   "execution_count": 85,
   "metadata": {},
   "outputs": [
    {
     "data": {
      "text/latex": [
       "$\\displaystyle \\left[\\begin{array}{cccccccccccccccc}1 & 0 & 0 & 0 & 0 & 0 & 0 & 0 & 0 & 0 & 0 & 0 & 0 & 0 & 0 & 0\\\\0 & 0 & 0 & 0 & 0 & 0 & 0 & 0 & i e^{3.0 i} & 0 & 0 & 0 & 0 & 0 & 0 & 0\\\\0 & 0 & 1 & 0 & 0 & 0 & 0 & 0 & 0 & 0 & 0 & 0 & 0 & 0 & 0 & 0\\\\0 & 0 & 0 & 0 & 0 & 0 & 0 & 0 & 0 & 0 & - i e^{3.0 i} & 0 & 0 & 0 & 0 & 0\\\\0 & 0 & 0 & 0 & -1 & 0 & 0 & 0 & 0 & 0 & 0 & 0 & 0 & 0 & 0 & 0\\\\0 & 0 & 0 & 0 & 0 & 0 & 0 & 0 & 0 & 0 & 0 & 0 & i e^{3.0 i} & 0 & 0 & 0\\\\0 & 0 & 0 & 0 & 0 & 0 & -1 & 0 & 0 & 0 & 0 & 0 & 0 & 0 & 0 & 0\\\\0 & 0 & 0 & 0 & 0 & 0 & 0 & 0 & 0 & 0 & 0 & 0 & 0 & 0 & - i e^{3.0 i} & 0\\\\0 & - i e^{- 3.0 i} & 0 & 0 & 0 & 0 & 0 & 0 & 0 & 0 & 0 & 0 & 0 & 0 & 0 & 0\\\\0 & 0 & 0 & 0 & 0 & 0 & 0 & 0 & 0 & -1 & 0 & 0 & 0 & 0 & 0 & 0\\\\0 & 0 & 0 & i e^{- 3.0 i} & 0 & 0 & 0 & 0 & 0 & 0 & 0 & 0 & 0 & 0 & 0 & 0\\\\0 & 0 & 0 & 0 & 0 & 0 & 0 & 0 & 0 & 0 & 0 & -1 & 0 & 0 & 0 & 0\\\\0 & 0 & 0 & 0 & 0 & - i e^{- 3.0 i} & 0 & 0 & 0 & 0 & 0 & 0 & 0 & 0 & 0 & 0\\\\0 & 0 & 0 & 0 & 0 & 0 & 0 & 0 & 0 & 0 & 0 & 0 & 0 & 1 & 0 & 0\\\\0 & 0 & 0 & 0 & 0 & 0 & 0 & i e^{- 3.0 i} & 0 & 0 & 0 & 0 & 0 & 0 & 0 & 0\\\\0 & 0 & 0 & 0 & 0 & 0 & 0 & 0 & 0 & 0 & 0 & 0 & 0 & 0 & 0 & 1\\end{array}\\right]$"
      ],
      "text/plain": [
       "Matrix([\n",
       "[1,              0, 0,             0,  0,              0,  0,             0,            0,  0,             0,  0,            0, 0,             0, 0],\n",
       "[0,              0, 0,             0,  0,              0,  0,             0, I*exp(3.0*I),  0,             0,  0,            0, 0,             0, 0],\n",
       "[0,              0, 1,             0,  0,              0,  0,             0,            0,  0,             0,  0,            0, 0,             0, 0],\n",
       "[0,              0, 0,             0,  0,              0,  0,             0,            0,  0, -I*exp(3.0*I),  0,            0, 0,             0, 0],\n",
       "[0,              0, 0,             0, -1,              0,  0,             0,            0,  0,             0,  0,            0, 0,             0, 0],\n",
       "[0,              0, 0,             0,  0,              0,  0,             0,            0,  0,             0,  0, I*exp(3.0*I), 0,             0, 0],\n",
       "[0,              0, 0,             0,  0,              0, -1,             0,            0,  0,             0,  0,            0, 0,             0, 0],\n",
       "[0,              0, 0,             0,  0,              0,  0,             0,            0,  0,             0,  0,            0, 0, -I*exp(3.0*I), 0],\n",
       "[0, -I*exp(-3.0*I), 0,             0,  0,              0,  0,             0,            0,  0,             0,  0,            0, 0,             0, 0],\n",
       "[0,              0, 0,             0,  0,              0,  0,             0,            0, -1,             0,  0,            0, 0,             0, 0],\n",
       "[0,              0, 0, I*exp(-3.0*I),  0,              0,  0,             0,            0,  0,             0,  0,            0, 0,             0, 0],\n",
       "[0,              0, 0,             0,  0,              0,  0,             0,            0,  0,             0, -1,            0, 0,             0, 0],\n",
       "[0,              0, 0,             0,  0, -I*exp(-3.0*I),  0,             0,            0,  0,             0,  0,            0, 0,             0, 0],\n",
       "[0,              0, 0,             0,  0,              0,  0,             0,            0,  0,             0,  0,            0, 1,             0, 0],\n",
       "[0,              0, 0,             0,  0,              0,  0, I*exp(-3.0*I),            0,  0,             0,  0,            0, 0,             0, 0],\n",
       "[0,              0, 0,             0,  0,              0,  0,             0,            0,  0,             0,  0,            0, 0,             0, 1]])"
      ]
     },
     "metadata": {},
     "output_type": "display_data"
    }
   ],
   "source": [
    "display(P2*P1)"
   ]
  },
  {
   "cell_type": "code",
   "execution_count": 95,
   "metadata": {},
   "outputs": [
    {
     "data": {
      "text/latex": [
       "$\\displaystyle \\left[\\begin{array}{cccccccccccccccc}1 & 0 & 0 & 0 & 0 & 0 & 0 & 0 & 0 & 0 & 0 & 0 & 0 & 0 & 0 & 0\\\\0 & \\frac{1}{2 e^{2}} + \\frac{e^{2}}{2} & 0 & 0 & 0 & 0 & 0 & 0 & - \\frac{1}{2 e^{2}} + \\frac{e^{2}}{2} & 0 & 0 & 0 & 0 & 0 & 0 & 0\\\\0 & 0 & 1 & 0 & 0 & 0 & 0 & 0 & 0 & 0 & 0 & 0 & 0 & 0 & 0 & 0\\\\0 & 0 & 0 & \\frac{1}{2 e^{2}} + \\frac{e^{2}}{2} & 0 & 0 & 0 & 0 & 0 & 0 & - \\frac{e^{2}}{2} + \\frac{1}{2 e^{2}} & 0 & 0 & 0 & 0 & 0\\\\0 & 0 & 0 & 0 & 1 & 0 & 0 & 0 & 0 & 0 & 0 & 0 & 0 & 0 & 0 & 0\\\\0 & 0 & 0 & 0 & 0 & \\frac{1}{2 e^{2}} + \\frac{e^{2}}{2} & 0 & 0 & 0 & 0 & 0 & 0 & - \\frac{e^{2}}{2} + \\frac{1}{2 e^{2}} & 0 & 0 & 0\\\\0 & 0 & 0 & 0 & 0 & 0 & 1 & 0 & 0 & 0 & 0 & 0 & 0 & 0 & 0 & 0\\\\0 & 0 & 0 & 0 & 0 & 0 & 0 & \\frac{1}{2 e^{2}} + \\frac{e^{2}}{2} & 0 & 0 & 0 & 0 & 0 & 0 & - \\frac{1}{2 e^{2}} + \\frac{e^{2}}{2} & 0\\\\0 & - \\frac{1}{2 e^{2}} + \\frac{e^{2}}{2} & 0 & 0 & 0 & 0 & 0 & 0 & \\frac{1}{2 e^{2}} + \\frac{e^{2}}{2} & 0 & 0 & 0 & 0 & 0 & 0 & 0\\\\0 & 0 & 0 & 0 & 0 & 0 & 0 & 0 & 0 & 1 & 0 & 0 & 0 & 0 & 0 & 0\\\\0 & 0 & 0 & - \\frac{e^{2}}{2} + \\frac{1}{2 e^{2}} & 0 & 0 & 0 & 0 & 0 & 0 & \\frac{1}{2 e^{2}} + \\frac{e^{2}}{2} & 0 & 0 & 0 & 0 & 0\\\\0 & 0 & 0 & 0 & 0 & 0 & 0 & 0 & 0 & 0 & 0 & 1 & 0 & 0 & 0 & 0\\\\0 & 0 & 0 & 0 & 0 & - \\frac{e^{2}}{2} + \\frac{1}{2 e^{2}} & 0 & 0 & 0 & 0 & 0 & 0 & \\frac{1}{2 e^{2}} + \\frac{e^{2}}{2} & 0 & 0 & 0\\\\0 & 0 & 0 & 0 & 0 & 0 & 0 & 0 & 0 & 0 & 0 & 0 & 0 & 1 & 0 & 0\\\\0 & 0 & 0 & 0 & 0 & 0 & 0 & - \\frac{1}{2 e^{2}} + \\frac{e^{2}}{2} & 0 & 0 & 0 & 0 & 0 & 0 & \\frac{1}{2 e^{2}} + \\frac{e^{2}}{2} & 0\\\\0 & 0 & 0 & 0 & 0 & 0 & 0 & 0 & 0 & 0 & 0 & 0 & 0 & 0 & 0 & 1\\end{array}\\right]$"
      ],
      "text/plain": [
       "Matrix([\n",
       "[1,                     0, 0,                     0, 0,                     0, 0,                     0,                     0, 0,                     0, 0,                     0, 0,                     0, 0],\n",
       "[0,  exp(-2)/2 + exp(2)/2, 0,                     0, 0,                     0, 0,                     0, -exp(-2)/2 + exp(2)/2, 0,                     0, 0,                     0, 0,                     0, 0],\n",
       "[0,                     0, 1,                     0, 0,                     0, 0,                     0,                     0, 0,                     0, 0,                     0, 0,                     0, 0],\n",
       "[0,                     0, 0,  exp(-2)/2 + exp(2)/2, 0,                     0, 0,                     0,                     0, 0, -exp(2)/2 + exp(-2)/2, 0,                     0, 0,                     0, 0],\n",
       "[0,                     0, 0,                     0, 1,                     0, 0,                     0,                     0, 0,                     0, 0,                     0, 0,                     0, 0],\n",
       "[0,                     0, 0,                     0, 0,  exp(-2)/2 + exp(2)/2, 0,                     0,                     0, 0,                     0, 0, -exp(2)/2 + exp(-2)/2, 0,                     0, 0],\n",
       "[0,                     0, 0,                     0, 0,                     0, 1,                     0,                     0, 0,                     0, 0,                     0, 0,                     0, 0],\n",
       "[0,                     0, 0,                     0, 0,                     0, 0,  exp(-2)/2 + exp(2)/2,                     0, 0,                     0, 0,                     0, 0, -exp(-2)/2 + exp(2)/2, 0],\n",
       "[0, -exp(-2)/2 + exp(2)/2, 0,                     0, 0,                     0, 0,                     0,  exp(-2)/2 + exp(2)/2, 0,                     0, 0,                     0, 0,                     0, 0],\n",
       "[0,                     0, 0,                     0, 0,                     0, 0,                     0,                     0, 1,                     0, 0,                     0, 0,                     0, 0],\n",
       "[0,                     0, 0, -exp(2)/2 + exp(-2)/2, 0,                     0, 0,                     0,                     0, 0,  exp(-2)/2 + exp(2)/2, 0,                     0, 0,                     0, 0],\n",
       "[0,                     0, 0,                     0, 0,                     0, 0,                     0,                     0, 0,                     0, 1,                     0, 0,                     0, 0],\n",
       "[0,                     0, 0,                     0, 0, -exp(2)/2 + exp(-2)/2, 0,                     0,                     0, 0,                     0, 0,  exp(-2)/2 + exp(2)/2, 0,                     0, 0],\n",
       "[0,                     0, 0,                     0, 0,                     0, 0,                     0,                     0, 0,                     0, 0,                     0, 1,                     0, 0],\n",
       "[0,                     0, 0,                     0, 0,                     0, 0, -exp(-2)/2 + exp(2)/2,                     0, 0,                     0, 0,                     0, 0,  exp(-2)/2 + exp(2)/2, 0],\n",
       "[0,                     0, 0,                     0, 0,                     0, 0,                     0,                     0, 0,                     0, 0,                     0, 0,                     0, 1]])"
      ]
     },
     "metadata": {},
     "output_type": "display_data"
    }
   ],
   "source": [
    "display(exp(TensorProduct(X,Z,Z,X) + TensorProduct(Y,Z,Z,Y)))"
   ]
  },
  {
   "cell_type": "code",
   "execution_count": null,
   "metadata": {},
   "outputs": [],
   "source": []
  }
 ],
 "metadata": {
  "kernelspec": {
   "display_name": "base",
   "language": "python",
   "name": "python3"
  },
  "language_info": {
   "codemirror_mode": {
    "name": "ipython",
    "version": 3
   },
   "file_extension": ".py",
   "mimetype": "text/x-python",
   "name": "python",
   "nbconvert_exporter": "python",
   "pygments_lexer": "ipython3",
   "version": "3.11.5"
  }
 },
 "nbformat": 4,
 "nbformat_minor": 2
}
