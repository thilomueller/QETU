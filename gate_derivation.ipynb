{
 "cells": [
  {
   "cell_type": "code",
   "execution_count": 1,
   "metadata": {},
   "outputs": [],
   "source": [
    "import numpy as np\n",
    "import scipy as sp\n",
    "\n",
    "from qiskit.visualization import *"
   ]
  },
  {
   "cell_type": "code",
   "execution_count": 2,
   "metadata": {},
   "outputs": [],
   "source": [
    "I = sp.sparse.csr_array(np.array([[1, 0], [0, 1]]))\n",
    "X = sp.sparse.csr_array(np.array([[0, 1], [1, 0]]))\n",
    "Y = sp.sparse.csr_array(np.array([[0, -1j], [1j, 0]]))\n",
    "Z = sp.sparse.csr_array(np.array([[1, 0], [0, -1]]))"
   ]
  },
  {
   "cell_type": "code",
   "execution_count": 3,
   "metadata": {},
   "outputs": [],
   "source": [
    "op_1 = sp.sparse.kron(X, sp.sparse.kron(I, sp.sparse.kron(X, sp.sparse.kron(I, sp.sparse.kron(I, sp.sparse.kron(I, sp.sparse.kron(I, I))))))) # X_1 X_3\n",
    "op_2 = sp.sparse.kron(Y, sp.sparse.kron(I, sp.sparse.kron(Y, sp.sparse.kron(I, sp.sparse.kron(I, sp.sparse.kron(I, sp.sparse.kron(I, I))))))) # Y_1 Y_3\n",
    "op_3 = sp.sparse.kron(I, sp.sparse.kron(X, sp.sparse.kron(I, sp.sparse.kron(X, sp.sparse.kron(I, sp.sparse.kron(I, sp.sparse.kron(I, I))))))) # X_2 X_4\n",
    "op_4 = sp.sparse.kron(I, sp.sparse.kron(Y, sp.sparse.kron(I, sp.sparse.kron(Y, sp.sparse.kron(I, sp.sparse.kron(I, sp.sparse.kron(I, I))))))) # Y_2 Y_4\n",
    "op_5 = sp.sparse.kron(I, sp.sparse.kron(I, sp.sparse.kron(I, sp.sparse.kron(I, sp.sparse.kron(X, sp.sparse.kron(X, sp.sparse.kron(I, I))))))) # X_5 X_6\n",
    "op_6 = sp.sparse.kron(I, sp.sparse.kron(I, sp.sparse.kron(I, sp.sparse.kron(I, sp.sparse.kron(Y, sp.sparse.kron(Y, sp.sparse.kron(I, I))))))) # Y_5 Y_6\n",
    "op_7 = sp.sparse.kron(I, sp.sparse.kron(I, sp.sparse.kron(I, sp.sparse.kron(I, sp.sparse.kron(I, sp.sparse.kron(I, sp.sparse.kron(X, X))))))) # X_7 X_8\n",
    "op_8 = sp.sparse.kron(I, sp.sparse.kron(I, sp.sparse.kron(I, sp.sparse.kron(I, sp.sparse.kron(I, sp.sparse.kron(I, sp.sparse.kron(Y, Y))))))) # Y_7 Y_8\n",
    "op_9 = sp.sparse.kron(X, sp.sparse.kron(X, sp.sparse.kron(I, sp.sparse.kron(I, sp.sparse.kron(Z, sp.sparse.kron(Z, sp.sparse.kron(I, I))))))) # X_1 X_2 Z_5 Z_6\n",
    "op_10 = sp.sparse.kron(Y, sp.sparse.kron(Y, sp.sparse.kron(I, sp.sparse.kron(I, sp.sparse.kron(Z, sp.sparse.kron(Z, sp.sparse.kron(I, I))))))) # Y_1 Y_2 Z_5 Z_6\n",
    "op_11 = sp.sparse.kron(I, sp.sparse.kron(I, sp.sparse.kron(X, sp.sparse.kron(X, sp.sparse.kron(I, sp.sparse.kron(I, sp.sparse.kron(Z, Z))))))) # X_3 X_4 Z_7 Z_8\n",
    "op_12 = sp.sparse.kron(I, sp.sparse.kron(I, sp.sparse.kron(Y, sp.sparse.kron(Y, sp.sparse.kron(I, sp.sparse.kron(I, sp.sparse.kron(Z, Z))))))) # Y_3 Y_4 Z_7 Z_8\n",
    "op_13 = sp.sparse.kron(Z, sp.sparse.kron(I, sp.sparse.kron(Z, sp.sparse.kron(I, sp.sparse.kron(X, sp.sparse.kron(I, sp.sparse.kron(X, I))))))) # Z_1 Z_3 X_5 X_7\n",
    "op_14 = sp.sparse.kron(Z, sp.sparse.kron(I, sp.sparse.kron(Z, sp.sparse.kron(I, sp.sparse.kron(Y, sp.sparse.kron(I, sp.sparse.kron(Y, I))))))) # Z_1 Z_3 Y_5 Y_7\n",
    "op_15 = sp.sparse.kron(I, sp.sparse.kron(Z, sp.sparse.kron(I, sp.sparse.kron(Z, sp.sparse.kron(I, sp.sparse.kron(X, sp.sparse.kron(I, X))))))) # Z_2 Z_4 X_6 X_8\n",
    "op_16 = sp.sparse.kron(I, sp.sparse.kron(Z, sp.sparse.kron(I, sp.sparse.kron(Z, sp.sparse.kron(I, sp.sparse.kron(Y, sp.sparse.kron(I, Y))))))) # Z_2 Z_4 Y_6 Y_8"
   ]
  },
  {
   "cell_type": "code",
   "execution_count": 4,
   "metadata": {},
   "outputs": [],
   "source": [
    "t = 1\n",
    "delta_t = 2\n",
    "n = 1"
   ]
  },
  {
   "cell_type": "markdown",
   "metadata": {},
   "source": [
    "\\begin{align}\n",
    "\\exp \\left[-i \\frac{-2t \\Delta t}{n} \\left( X_1 X_3 + Y_1 Y_3 + X_2 X_4 + Y_2 Y_4 + X_5 X_6 + Y_5 Y_6 + X_7 X_8 + Y_7 Y_8 + X_1 X_2 Z_5 Z_6 + Y_1 Y_2 Z_5 Z_6 + X_3 X_4 Z_7 Z_8 + Y_3 Y_4 Z_7 Z_8 + Z_1 Z_3 X_5 X_7 + Z_1 Z_3 Y_5 Y_7 + Z_2 Z_4 X_6 X_8 + Z_2 Z_4 Y_6 Y_8 \\right) \\right]\n",
    "\\end{align}"
   ]
  },
  {
   "cell_type": "code",
   "execution_count": 5,
   "metadata": {},
   "outputs": [
    {
     "name": "stderr",
     "output_type": "stream",
     "text": [
      "c:\\Users\\thilo\\anaconda3\\Lib\\site-packages\\scipy\\sparse\\linalg\\_dsolve\\linsolve.py:214: SparseEfficiencyWarning: spsolve requires A be CSC or CSR matrix format\n",
      "  warn('spsolve requires A be CSC or CSR matrix format',\n",
      "c:\\Users\\thilo\\anaconda3\\Lib\\site-packages\\scipy\\sparse\\linalg\\_dsolve\\linsolve.py:285: SparseEfficiencyWarning: spsolve is more efficient when sparse b is in the CSC matrix format\n",
      "  warn('spsolve is more efficient when sparse b '\n"
     ]
    }
   ],
   "source": [
    "Eq_1 = sp.sparse.linalg.expm(-1j*-2*t*delta_t/n*(op_1 + op_2 + op_3 + op_4 + op_5 + op_6 + op_7 + op_8 + op_9 + op_10 + op_11 + op_12 + op_13 + op_14 + op_15 + op_16))"
   ]
  },
  {
   "cell_type": "code",
   "execution_count": 6,
   "metadata": {},
   "outputs": [],
   "source": [
    "exp_op_1 = sp.sparse.linalg.expm(-1j*op_1)\n",
    "exp_op_2 = sp.sparse.linalg.expm(-1j*op_2)\n",
    "exp_op_3 = sp.sparse.linalg.expm(-1j*op_3)\n",
    "exp_op_4 = sp.sparse.linalg.expm(-1j*op_4)\n",
    "exp_op_5 = sp.sparse.linalg.expm(-1j*op_5)\n",
    "exp_op_6 = sp.sparse.linalg.expm(-1j*op_6)\n",
    "exp_op_7 = sp.sparse.linalg.expm(-1j*op_7)\n",
    "exp_op_8 = sp.sparse.linalg.expm(-1j*op_8)\n",
    "exp_op_9 = sp.sparse.linalg.expm(-1j*op_9)\n",
    "exp_op_10 = sp.sparse.linalg.expm(-1j*op_10)\n",
    "exp_op_11 = sp.sparse.linalg.expm(-1j*op_11)\n",
    "exp_op_12 = sp.sparse.linalg.expm(-1j*op_12)\n",
    "exp_op_13 = sp.sparse.linalg.expm(-1j*op_13)\n",
    "exp_op_14 = sp.sparse.linalg.expm(-1j*op_14)\n",
    "exp_op_15 = sp.sparse.linalg.expm(-1j*op_15)\n",
    "exp_op_16 = sp.sparse.linalg.expm(-1j*op_16)"
   ]
  },
  {
   "cell_type": "markdown",
   "metadata": {},
   "source": [
    "### Suzuki-Trotter approximation"
   ]
  },
  {
   "cell_type": "markdown",
   "metadata": {},
   "source": [
    "\\begin{align}\n",
    "\\approx& \\exp \\left[-i \\frac{-2t \\Delta t}{2n} \\left( X_1 X_3 + Y_1 Y_3 + X_2 X_4 + Y_2 Y_4 + X_5 X_6 + Y_5 Y_6 + X_7 X_8 + Y_7 Y_8 \\right) \\right] \\\\\n",
    "&\\cdot \\exp \\left[-i \\frac{-2t \\Delta t}{2} \\left( X_1 X_2 Z_5 Z_6 + Y_1 Y_2 Z_5 Z_6 + X_3 X_4 Z_7 Z_8 + Y_3 Y_4 Z_7 Z_8 + Z_1 Z_3 X_5 X_7 + Z_1 Z_3 Y_5 Y_7 + Z_2 Z_4 X_6 X_8 + Z_2 Z_4 Y_6 Y_8 \\right) \\right] \\\\\n",
    "&\\cdot \\exp \\left[-i \\frac{-2t \\Delta t}{2n} \\left( X_1 X_3 + Y_1 Y_3 + X_2 X_4 + Y_2 Y_4 + X_5 X_6 + Y_5 Y_6 + X_7 X_8 + Y_7 Y_8 \\right) \\right]\n",
    "\\end{align}"
   ]
  },
  {
   "cell_type": "code",
   "execution_count": 7,
   "metadata": {},
   "outputs": [],
   "source": [
    "n = 100\n",
    "Eq_suzuki = sp.sparse.linalg.expm(-1j*-2*t*delta_t*(op_1 + op_2 + op_3 + op_4 + op_5 + op_6 + op_7 + op_8)/(2*n)) * sp.sparse.linalg.expm(-1j*-2*t*delta_t*(op_9 + op_10 + op_11 + op_12 + op_13 + op_14 + op_15 + op_16)/n) * sp.sparse.linalg.expm(-1j*-2*t*delta_t*(op_1 + op_2 + op_3 + op_4 + op_5 + op_6 + op_7 + op_8)/(2*n))\n",
    "for _ in range(n-1):\n",
    "    Eq_suzuki *= sp.sparse.linalg.expm(-1j*-2*t*delta_t*(op_1 + op_2 + op_3 + op_4 + op_5 + op_6 + op_7 + op_8)/(2*n)) * sp.sparse.linalg.expm(-1j*-2*t*delta_t*(op_9 + op_10 + op_11 + op_12 + op_13 + op_14 + op_15 + op_16)/n) * sp.sparse.linalg.expm(-1j*-2*t*delta_t*(op_1 + op_2 + op_3 + op_4 + op_5 + op_6 + op_7 + op_8)/(2*n))"
   ]
  },
  {
   "cell_type": "code",
   "execution_count": 8,
   "metadata": {},
   "outputs": [
    {
     "name": "stdout",
     "output_type": "stream",
     "text": [
      "Error: 0.02491828559151971\n"
     ]
    }
   ],
   "source": [
    "print(\"Error: \" + str(np.linalg.norm(Eq_1.toarray() - Eq_suzuki.toarray(), 2)))"
   ]
  },
  {
   "cell_type": "markdown",
   "metadata": {},
   "source": [
    "### Lie-Trotter approximation"
   ]
  },
  {
   "cell_type": "markdown",
   "metadata": {},
   "source": [
    "\\begin{align}\n",
    "\\approx& \\exp \\left[-i \\frac{-2t \\Delta t}{n} \\left( X_1 X_3 + Y_1 Y_3 + X_2 X_4 + Y_2 Y_4 + X_5 X_6 + Y_5 Y_6 + X_7 X_8 + Y_7 Y_8 \\right) \\right] \\\\\n",
    "&\\cdot \\exp \\left[-i \\frac{-2t \\Delta t}{n} \\left( X_1 X_2 Z_5 Z_6 + Y_1 Y_2 Z_5 Z_6 + X_3 X_4 Z_7 Z_8 + Y_3 Y_4 Z_7 Z_8 + Z_1 Z_3 X_5 X_7 + Z_1 Z_3 Y_5 Y_7 + Z_2 Z_4 X_6 X_8 + Z_2 Z_4 Y_6 Y_8 \\right) \\right] \\\\\n",
    "\\end{align}"
   ]
  },
  {
   "cell_type": "code",
   "execution_count": 9,
   "metadata": {},
   "outputs": [],
   "source": [
    "n = 100\n",
    "Eq_lie = sp.sparse.linalg.expm(-1j*-2*t*delta_t*(op_1 + op_2 + op_3 + op_4 + op_5 + op_6 + op_7 + op_8)/(n)) * sp.sparse.linalg.expm(-1j*-2*t*delta_t*(op_9 + op_10 + op_11 + op_12 + op_13 + op_14 + op_15 + op_16)/n)\n",
    "for _ in range(n-1):\n",
    "    Eq_lie *= sp.sparse.linalg.expm(-1j*-2*t*delta_t*(op_1 + op_2 + op_3 + op_4 + op_5 + op_6 + op_7 + op_8)/(n)) * sp.sparse.linalg.expm(-1j*-2*t*delta_t*(op_9 + op_10 + op_11 + op_12 + op_13 + op_14 + op_15 + op_16)/n)"
   ]
  },
  {
   "cell_type": "code",
   "execution_count": 10,
   "metadata": {},
   "outputs": [
    {
     "name": "stdout",
     "output_type": "stream",
     "text": [
      "Error: 0.2162865763548615\n"
     ]
    }
   ],
   "source": [
    "print(\"Error: \" + str(np.linalg.norm(Eq_1.toarray() - Eq_lie.toarray(), 2)))"
   ]
  },
  {
   "cell_type": "markdown",
   "metadata": {},
   "source": [
    "### Lie-Trotter convergence"
   ]
  },
  {
   "cell_type": "code",
   "execution_count": 11,
   "metadata": {},
   "outputs": [],
   "source": [
    "t = 1\n",
    "num_steps = [x*5 for x in range(1,10)]\n",
    "error_list = []\n",
    "for n in num_steps:\n",
    "    trotter = sp.sparse.linalg.expm(-1j*-2*t*delta_t*(op_1 + op_2 + op_3 + op_4 + op_5 + op_6 + op_7 + op_8)/(n)) * sp.sparse.linalg.expm(-1j*-2*t*delta_t*(op_9 + op_10 + op_11 + op_12 + op_13 + op_14 + op_15 + op_16)/n)\n",
    "    for _ in range(n-1):\n",
    "        trotter *= sp.sparse.linalg.expm(-1j*-2*t*delta_t*(op_1 + op_2 + op_3 + op_4 + op_5 + op_6 + op_7 + op_8)/(n)) * sp.sparse.linalg.expm(-1j*-2*t*delta_t*(op_9 + op_10 + op_11 + op_12 + op_13 + op_14 + op_15 + op_16)/n)\n",
    "    error = np.linalg.norm(Eq_1.toarray() - trotter.toarray(), 2)\n",
    "    error_list.append(error)"
   ]
  },
  {
   "cell_type": "code",
   "execution_count": 12,
   "metadata": {},
   "outputs": [
    {
     "name": "stdout",
     "output_type": "stream",
     "text": [
      "[1.9983559436521716, 1.9344912934535647, 1.636950164748036, 1.1996081658800588, 0.9326259834590721, 0.7613813274280675, 0.6434254571171647, 0.5574252374303673, 0.4919509560691832]\n",
      "[5, 10, 15, 20, 25, 30, 35, 40, 45]\n"
     ]
    },
    {
     "data": {
      "image/png": "[encoded data removed]",
      "text/plain": [
       "<Figure size 640x480 with 1 Axes>"
      ]
     },
     "metadata": {},
     "output_type": "display_data"
    }
   ],
   "source": [
    "from matplotlib import pyplot as plt\n",
    "\n",
    "plt.plot(num_steps, error_list, linestyle='-', marker='s', color='r', label='Trotter error')\n",
    "plt.xlabel(\"step size\")\n",
    "plt.ylabel(\"error\")\n",
    "#plt.xscale(\"log\", base=2)\n",
    "#plt.yscale(\"log\",base=10)\n",
    "plt.title(\"Convergence of the Trotter splitting error\")\n",
    "plt.legend()\n",
    "print(error_list)\n",
    "print(num_steps)"
   ]
  },
  {
   "cell_type": "markdown",
   "metadata": {},
   "source": [
    "\\begin{align}\n",
    "\\approx \\prod_{n} &\\exp \\left[-i \\frac{-2t \\Delta t}{2n} (X_1 X_3 + Y_1 Y_3 + X_2 X_4 + Y_2 Y_4 + X_5 X_6 + Y_5 Y_6 + X_7 X_8 + Y_7 Y_8) \\right] \\\\ &\\cdot \\exp \\left[-i \\frac{-2t \\Delta t}{n} (X_1 X_2 Z_5 Z_6 + Y_1 Y_2 Z_5 Z_6 + X_3 X_4 Z_7 Z_8 + Y_3 Y_4 Z_7 Z_8 + Z_1 Z_3 X_5 X_7 + Z_1 Z_3 Y_5 Y_7 + Z_2 Z_4 X_6 X_8 + Z_2 Z_4 Y_6 Y_8) \\right] \\\\ &\\cdot \\exp \\left[-i \\frac{-2t \\Delta t}{2n} (X_1 X_3 + Y_1 Y_3 + X_2 X_4 + Y_2 Y_4 + X_5 X_6 + Y_5 Y_6 + X_7 X_8 + Y_7 Y_8) \\right]\n",
    "\\end{align}"
   ]
  },
  {
   "cell_type": "markdown",
   "metadata": {},
   "source": [
    "### Trotter splitting is equal to gate decomposition"
   ]
  },
  {
   "cell_type": "code",
   "execution_count": 13,
   "metadata": {},
   "outputs": [],
   "source": [
    "op_17 = sp.sparse.kron(X, sp.sparse.kron(I, sp.sparse.kron(I, sp.sparse.kron(I, sp.sparse.kron(X, sp.sparse.kron(I, sp.sparse.kron(I, I))))))) # X_1 X_5\n",
    "op_18 = sp.sparse.kron(Y, sp.sparse.kron(I, sp.sparse.kron(I, sp.sparse.kron(I, sp.sparse.kron(Y, sp.sparse.kron(I, sp.sparse.kron(I, I))))))) # Y_1 Y_5\n",
    "op_19 = sp.sparse.kron(Z, sp.sparse.kron(I, sp.sparse.kron(I, sp.sparse.kron(I, sp.sparse.kron(Z, sp.sparse.kron(I, sp.sparse.kron(I, I))))))) # Z_1 Z_5\n",
    "op_20 = sp.sparse.kron(Z, sp.sparse.kron(I, sp.sparse.kron(I, sp.sparse.kron(I, sp.sparse.kron(I, sp.sparse.kron(I, sp.sparse.kron(I, I))))))) # Z_1\n",
    "op_21 = sp.sparse.kron(I, sp.sparse.kron(I, sp.sparse.kron(I, sp.sparse.kron(I, sp.sparse.kron(Z, sp.sparse.kron(I, sp.sparse.kron(I, I))))))) # Z_5\n",
    "\n",
    "op_22 = sp.sparse.kron(I, sp.sparse.kron(X, sp.sparse.kron(I, sp.sparse.kron(I, sp.sparse.kron(I, sp.sparse.kron(X, sp.sparse.kron(I, I))))))) # X_2 X_6\n",
    "op_23 = sp.sparse.kron(I, sp.sparse.kron(Y, sp.sparse.kron(I, sp.sparse.kron(I, sp.sparse.kron(I, sp.sparse.kron(Y, sp.sparse.kron(I, I))))))) # Y_2 Y_6\n",
    "op_24 = sp.sparse.kron(I, sp.sparse.kron(Z, sp.sparse.kron(I, sp.sparse.kron(I, sp.sparse.kron(I, sp.sparse.kron(Z, sp.sparse.kron(I, I))))))) # Z_2 Z_6\n",
    "op_25 = sp.sparse.kron(I, sp.sparse.kron(Z, sp.sparse.kron(I, sp.sparse.kron(I, sp.sparse.kron(I, sp.sparse.kron(I, sp.sparse.kron(I, I))))))) # Z_2\n",
    "op_26 = sp.sparse.kron(I, sp.sparse.kron(I, sp.sparse.kron(I, sp.sparse.kron(I, sp.sparse.kron(I, sp.sparse.kron(Z, sp.sparse.kron(I, I))))))) # Z_6\n",
    "\n",
    "op_27 = sp.sparse.kron(I, sp.sparse.kron(I, sp.sparse.kron(X, sp.sparse.kron(I, sp.sparse.kron(I, sp.sparse.kron(I, sp.sparse.kron(X, I))))))) # X_3 X_7\n",
    "op_28 = sp.sparse.kron(I, sp.sparse.kron(I, sp.sparse.kron(Y, sp.sparse.kron(I, sp.sparse.kron(I, sp.sparse.kron(I, sp.sparse.kron(Y, I))))))) # Y_3 Y_7\n",
    "op_29 = sp.sparse.kron(I, sp.sparse.kron(I, sp.sparse.kron(Z, sp.sparse.kron(I, sp.sparse.kron(I, sp.sparse.kron(I, sp.sparse.kron(Z, I))))))) # Z_3 Z_7\n",
    "op_30 = sp.sparse.kron(I, sp.sparse.kron(I, sp.sparse.kron(Z, sp.sparse.kron(I, sp.sparse.kron(I, sp.sparse.kron(I, sp.sparse.kron(I, I))))))) # Z_3\n",
    "op_31 = sp.sparse.kron(I, sp.sparse.kron(I, sp.sparse.kron(I, sp.sparse.kron(I, sp.sparse.kron(I, sp.sparse.kron(I, sp.sparse.kron(Z, I))))))) # Z_7\n",
    "\n",
    "op_32 = sp.sparse.kron(I, sp.sparse.kron(I, sp.sparse.kron(I, sp.sparse.kron(X, sp.sparse.kron(I, sp.sparse.kron(I, sp.sparse.kron(I, X))))))) # X_4 X_8\n",
    "op_33 = sp.sparse.kron(I, sp.sparse.kron(I, sp.sparse.kron(I, sp.sparse.kron(Y, sp.sparse.kron(I, sp.sparse.kron(I, sp.sparse.kron(I, Y))))))) # Y_4 Y_8\n",
    "op_34 = sp.sparse.kron(I, sp.sparse.kron(I, sp.sparse.kron(I, sp.sparse.kron(Z, sp.sparse.kron(I, sp.sparse.kron(I, sp.sparse.kron(I, Z))))))) # Z_4 Z_8\n",
    "op_35 = sp.sparse.kron(I, sp.sparse.kron(I, sp.sparse.kron(I, sp.sparse.kron(Z, sp.sparse.kron(I, sp.sparse.kron(I, sp.sparse.kron(I, I))))))) # Z_4\n",
    "op_36 = sp.sparse.kron(I, sp.sparse.kron(I, sp.sparse.kron(I, sp.sparse.kron(I, sp.sparse.kron(I, sp.sparse.kron(I, sp.sparse.kron(I, Z))))))) # Z_8"
   ]
  },
  {
   "cell_type": "code",
   "execution_count": 14,
   "metadata": {},
   "outputs": [
    {
     "name": "stderr",
     "output_type": "stream",
     "text": [
      "c:\\Users\\thilo\\anaconda3\\Lib\\site-packages\\scipy\\sparse\\linalg\\_dsolve\\linsolve.py:214: SparseEfficiencyWarning: spsolve requires A be CSC or CSR matrix format\n",
      "  warn('spsolve requires A be CSC or CSR matrix format',\n",
      "c:\\Users\\thilo\\anaconda3\\Lib\\site-packages\\scipy\\sparse\\linalg\\_dsolve\\linsolve.py:285: SparseEfficiencyWarning: spsolve is more efficient when sparse b is in the CSC matrix format\n",
      "  warn('spsolve is more efficient when sparse b '\n"
     ]
    }
   ],
   "source": [
    "t = 1\n",
    "delta_t = 1\n",
    "theta = 8*t*delta_t\n",
    "n = 1\n",
    "\n",
    "pSwap13 = sp.sparse.linalg.expm(+1j*theta/4*(op_1 + op_2)/(1*n))\n",
    "pSwap24 = sp.sparse.linalg.expm(+1j*theta/4*(op_3 + op_4)/(1*n))\n",
    "pSwap56 = sp.sparse.linalg.expm(+1j*theta/4*(op_5 + op_6)/(1*n))\n",
    "pSwap78 = sp.sparse.linalg.expm(+1j*theta/4*(op_7 + op_8)/(1*n))\n",
    "\n",
    "fSwap15 = sp.sparse.linalg.expm(-1j*np.pi/4*(op_17 + op_18)) * sp.sparse.linalg.expm(-1j*np.pi/2*(op_19)) * sp.sparse.linalg.expm(+1j*np.pi/4*(op_20)) * sp.sparse.linalg.expm(+1j*np.pi/4*(op_21))\n",
    "fSwap26 = sp.sparse.linalg.expm(-1j*np.pi/4*(op_22 + op_23)) * sp.sparse.linalg.expm(-1j*np.pi/2*(op_24)) * sp.sparse.linalg.expm(+1j*np.pi/4*(op_25)) * sp.sparse.linalg.expm(+1j*np.pi/4*(op_26))\n",
    "fSwap37 = sp.sparse.linalg.expm(-1j*np.pi/4*(op_27 + op_28)) * sp.sparse.linalg.expm(-1j*np.pi/2*(op_29)) * sp.sparse.linalg.expm(+1j*np.pi/4*(op_30)) * sp.sparse.linalg.expm(+1j*np.pi/4*(op_31))\n",
    "fSwap48 = sp.sparse.linalg.expm(-1j*np.pi/4*(op_32 + op_33)) * sp.sparse.linalg.expm(-1j*np.pi/2*(op_34)) * sp.sparse.linalg.expm(+1j*np.pi/4*(op_35)) * sp.sparse.linalg.expm(+1j*np.pi/4*(op_36))"
   ]
  },
  {
   "cell_type": "code",
   "execution_count": 15,
   "metadata": {},
   "outputs": [
    {
     "name": "stdout",
     "output_type": "stream",
     "text": [
      "Error: 0.0\n"
     ]
    }
   ],
   "source": [
    "lel = sp.sparse.linalg.expm(-1j*-2*t*delta_t/n*(op_1 + op_2))\n",
    "print(\"Error: \" + str(np.linalg.norm(lel.toarray() - pSwap13.toarray(), 2)))"
   ]
  },
  {
   "cell_type": "code",
   "execution_count": 16,
   "metadata": {},
   "outputs": [
    {
     "name": "stdout",
     "output_type": "stream",
     "text": [
      "Error: 2.259847507637017e-15\n"
     ]
    }
   ],
   "source": [
    "a = sp.sparse.linalg.expm(-1j*(-2*t*delta_t)*(op_1 + op_2 + op_3 + op_4 + op_5 + op_6 + op_7 + op_8)/(n)) * sp.sparse.linalg.expm(-1j*(-2*t*delta_t)*(op_9 + op_10 + op_11 + op_12 + op_13 + op_14 + op_15 + op_16)/n)\n",
    "b = (pSwap13 * pSwap24 * pSwap56 * pSwap78) * (fSwap15 * fSwap26 * fSwap37 * fSwap48) * (pSwap13 * pSwap24 * pSwap56 * pSwap78) * (fSwap15 * fSwap26 * fSwap37 * fSwap48)\n",
    "print(\"Error: \" + str(np.linalg.norm(a.toarray() - b.toarray(), 2)))"
   ]
  },
  {
   "cell_type": "markdown",
   "metadata": {},
   "source": [
    "\\begin{align}\n",
    "&= \\prod_n \\exp \\left[ -i \\frac{-2t \\Delta t}{n} \\left( X_1 X_3 + Y_1 Y_3 + X_2 X_4 + Y_2 Y_4 + X_5 X_6 + Y_5 Y_6 + X_7 X_8 + Y_7 Y_8 \\right) \\right] \\\\ &\\qquad \\cdot \\exp \\left[ -i \\frac{-2t \\Delta t}{n} \\left( X_1 X_2 Z_5 Z_6 + Y_1 Y_2 Z_5 Z_6 + X_3 X_4 Z_7 Z_8 + Y_3 Y_4 Z_7 Z_8 + Z_1 Z_3 X_5 X_7 + Z_1 Z_3 Y_5 Y_7 + Z_2 Z_4 X_6 X_8 + Z_2 Z_4 Y_6 Y_8 \\right) \\right]\n",
    "\\\\\n",
    "&= \\prod_n \\left( pSwap_{1,3} \\cdot pSwap_{2,4} \\cdot pSwap_{5,6} \\cdot pSwap_{7,8} \\right) \\cdot \\left( fSwap_{1,5} \\cdot fSwap_{2,6} \\cdot fSwap_{3,7} \\cdot fSwap_{4,8} \\right) \\cdot \\left( pSwap_{1,3} \\cdot pSwap_{2,4} \\cdot pSwap_{5,6} \\cdot pSwap_{7,8} \\right) \\cdot \\left( fSwap_{1,5} \\cdot fSwap_{2,6} \\cdot fSwap_{3,7} \\cdot fSwap_{4,8} \\right)\n",
    "\\end{align}"
   ]
  },
  {
   "cell_type": "markdown",
   "metadata": {},
   "source": [
    "### Pauli string to change sign"
   ]
  },
  {
   "cell_type": "markdown",
   "metadata": {},
   "source": [
    "\\begin{align}\n",
    "&= Z_2 Z_3 Z_5 Z_8 \\cdot \\exp \\left[ -i \\frac{-2t \\Delta t}{n} \\left( X_1 X_3 + Y_1 Y_3 + X_2 X_4 + Y_2 Y_4 + X_5 X_6 + Y_5 Y_6 + X_7 X_8 + Y_7 Y_8 \\right) \\right] \\\\ &\\qquad \\cdot \\exp \\left[ -i \\frac{-2t \\Delta t}{n} \\left( X_1 X_2 Z_5 Z_6 + Y_1 Y_2 Z_5 Z_6 + X_3 X_4 Z_7 Z_8 + Y_3 Y_4 Z_7 Z_8 + Z_1 Z_3 X_5 X_7 + Z_1 Z_3 Y_5 Y_7 + Z_2 Z_4 X_6 X_8 + Z_2 Z_4 Y_6 Y_8 \\right) \\right] \\cdot Z_2 Z_3 Z_5 Z_8 \\\\\n",
    "&= \\exp \\left[ +i \\frac{-2t \\Delta t}{n} \\left( X_1 X_3 + Y_1 Y_3 + X_2 X_4 + Y_2 Y_4 + X_5 X_6 + Y_5 Y_6 + X_7 X_8 + Y_7 Y_8 \\right) \\right] \\\\ &\\qquad \\cdot \\exp \\left[ +i \\frac{-2t \\Delta t}{n} \\left( X_1 X_2 Z_5 Z_6 + Y_1 Y_2 Z_5 Z_6 + X_3 X_4 Z_7 Z_8 + Y_3 Y_4 Z_7 Z_8 + Z_1 Z_3 X_5 X_7 + Z_1 Z_3 Y_5 Y_7 + Z_2 Z_4 X_6 X_8 + Z_2 Z_4 Y_6 Y_8 \\right) \\right]\n",
    "\\\\\n",
    "\\end{align}"
   ]
  },
  {
   "cell_type": "code",
   "execution_count": 17,
   "metadata": {},
   "outputs": [
    {
     "name": "stdout",
     "output_type": "stream",
     "text": [
      "Error: 1.9787164932467658\n"
     ]
    }
   ],
   "source": [
    "K = sp.sparse.kron(I, sp.sparse.kron(Z, sp.sparse.kron(Z, sp.sparse.kron(I, sp.sparse.kron(Z, sp.sparse.kron(I, sp.sparse.kron(I, Z))))))) # Z_2 Z_3 Z_5 Z_8\n",
    "Eq_ctrl = sp.sparse.linalg.expm(+1j*(-2*t*delta_t)*(op_1 + op_2 + op_3 + op_4 + op_5 + op_6 + op_7 + op_8 + op_9 + op_10 + op_11 + op_12 + op_13 + op_14 + op_15 + op_16))\n",
    "c = K * Eq_1 * K\n",
    "print(\"Error: \" + str(np.linalg.norm(Eq_ctrl.toarray() - c.toarray(), 2)))"
   ]
  },
  {
   "cell_type": "markdown",
   "metadata": {},
   "source": [
    "### Pauli string on Trotter Lie"
   ]
  },
  {
   "cell_type": "markdown",
   "metadata": {},
   "source": [
    "\\begin{align}\n",
    "&\\exp \\left[+i \\frac{-2t \\Delta t}{n} \\left( X_1 X_3 + Y_1 Y_3 + X_2 X_4 + Y_2 Y_4 + X_5 X_6 + Y_5 Y_6 + X_7 X_8 + Y_7 Y_8 + X_1 X_2 Z_5 Z_6 + Y_1 Y_2 Z_5 Z_6 + X_3 X_4 Z_7 Z_8 + Y_3 Y_4 Z_7 Z_8 + Z_1 Z_3 X_5 X_7 + Z_1 Z_3 Y_5 Y_7 + Z_2 Z_4 X_6 X_8 + Z_2 Z_4 Y_6 Y_8 \\right) \\right] \\\\\n",
    "&\\approx Z_2 Z_3 Z_5 Z_8 \\cdot \\prod_n \\exp \\left[ -i \\frac{-2t \\Delta t}{n} \\left( X_1 X_3 + Y_1 Y_3 + X_2 X_4 + Y_2 Y_4 + X_5 X_6 + Y_5 Y_6 + X_7 X_8 + Y_7 Y_8 \\right) \\right] \\\\ &\\qquad \\cdot \\exp \\left[ -i \\frac{-2t \\Delta t}{n} \\left( X_1 X_2 Z_5 Z_6 + Y_1 Y_2 Z_5 Z_6 + X_3 X_4 Z_7 Z_8 + Y_3 Y_4 Z_7 Z_8 + Z_1 Z_3 X_5 X_7 + Z_1 Z_3 Y_5 Y_7 + Z_2 Z_4 X_6 X_8 + Z_2 Z_4 Y_6 Y_8 \\right) \\right] \\cdot Z_2 Z_3 Z_5 Z_8\n",
    "\\end{align}"
   ]
  },
  {
   "cell_type": "code",
   "execution_count": 18,
   "metadata": {},
   "outputs": [
    {
     "name": "stdout",
     "output_type": "stream",
     "text": [
      "Error: 1.9787164932467614\n"
     ]
    }
   ],
   "source": [
    "Eq_lie_ctrl = K * Eq_lie * K\n",
    "print(\"Error: \" + str(np.linalg.norm(Eq_ctrl.toarray() - Eq_lie_ctrl.toarray(), 2)))"
   ]
  },
  {
   "cell_type": "markdown",
   "metadata": {},
   "source": [
    "### Pauli string on gate decomposition"
   ]
  },
  {
   "cell_type": "code",
   "execution_count": 19,
   "metadata": {},
   "outputs": [],
   "source": [
    "t = 1\n",
    "delta_t = 1\n",
    "theta = 8*t*delta_t\n",
    "n = 10\n",
    "\n",
    "pSwap13 = sp.sparse.linalg.expm(+1j*theta/4*(op_1 + op_2)/(1*n))\n",
    "pSwap24 = sp.sparse.linalg.expm(+1j*theta/4*(op_3 + op_4)/(1*n))\n",
    "pSwap56 = sp.sparse.linalg.expm(+1j*theta/4*(op_5 + op_6)/(1*n))\n",
    "pSwap78 = sp.sparse.linalg.expm(+1j*theta/4*(op_7 + op_8)/(1*n))\n",
    "\n",
    "fSwap15 = sp.sparse.linalg.expm(-1j*np.pi/4*(op_17 + op_18)) * sp.sparse.linalg.expm(-1j*np.pi/2*(op_19)) * sp.sparse.linalg.expm(+1j*np.pi/4*(op_20)) * sp.sparse.linalg.expm(+1j*np.pi/4*(op_21))\n",
    "fSwap26 = sp.sparse.linalg.expm(-1j*np.pi/4*(op_22 + op_23)) * sp.sparse.linalg.expm(-1j*np.pi/2*(op_24)) * sp.sparse.linalg.expm(+1j*np.pi/4*(op_25)) * sp.sparse.linalg.expm(+1j*np.pi/4*(op_26))\n",
    "fSwap37 = sp.sparse.linalg.expm(-1j*np.pi/4*(op_27 + op_28)) * sp.sparse.linalg.expm(-1j*np.pi/2*(op_29)) * sp.sparse.linalg.expm(+1j*np.pi/4*(op_30)) * sp.sparse.linalg.expm(+1j*np.pi/4*(op_31))\n",
    "fSwap48 = sp.sparse.linalg.expm(-1j*np.pi/4*(op_32 + op_33)) * sp.sparse.linalg.expm(-1j*np.pi/2*(op_34)) * sp.sparse.linalg.expm(+1j*np.pi/4*(op_35)) * sp.sparse.linalg.expm(+1j*np.pi/4*(op_36))\n",
    "\n",
    "decomp = K * (pSwap13 * pSwap24 * pSwap56 * pSwap78) * (fSwap15 * fSwap26 * fSwap37 * fSwap48) * (pSwap13 * pSwap24 * pSwap56 * pSwap78) * (fSwap15 * fSwap26 * fSwap37 * fSwap48) * K\n",
    "\n",
    "\n",
    "Eq_lie_decomp = decomp\n",
    "for _ in range(n-1):\n",
    "    Eq_lie_decomp *= decomp"
   ]
  },
  {
   "cell_type": "code",
   "execution_count": 20,
   "metadata": {},
   "outputs": [
    {
     "name": "stdout",
     "output_type": "stream",
     "text": [
      "Error: 0.7594161995747599\n"
     ]
    }
   ],
   "source": [
    "Eq_lie_decomp_ctrl = Eq_lie_decomp\n",
    "print(\"Error: \" + str(np.linalg.norm(Eq_ctrl.toarray() - Eq_lie_decomp.toarray(), 2)))"
   ]
  },
  {
   "cell_type": "markdown",
   "metadata": {},
   "source": [
    "### Overall circuit"
   ]
  },
  {
   "cell_type": "markdown",
   "metadata": {},
   "source": [
    "\\begin{align}\n",
    "\\exp \\left[-i \\frac{\\Delta t}{n} \\left( \\frac{1}{4}u \\left( Z_1 Z_5 + Z_2 Z_6 + Z_3 Z_7 + Z_4 Z_8 \\right) -2t \\left( X_1 X_3 + Y_1 Y_3 + X_2 X_4 + Y_2 Y_4 + X_5 X_6 + Y_5 Y_6 + X_7 X_8 + Y_7 Y_8 + X_1 X_2 Z_5 Z_6 + Y_1 Y_2 Z_5 Z_6 + X_3 X_4 Z_7 Z_8 + Y_3 Y_4 Z_7 Z_8 + Z_1 Z_3 X_5 X_7 + Z_1 Z_3 Y_5 Y_7 + Z_2 Z_4 X_6 X_8 + Z_2 Z_4 Y_6 Y_8 \\right) \\right) \\right]\n",
    "\\end{align}"
   ]
  },
  {
   "cell_type": "code",
   "execution_count": 21,
   "metadata": {},
   "outputs": [],
   "source": [
    "Eq_overall = sp.sparse.linalg.expm(0.25j*(op_19 + op_24 + op_29 + op_34) -1j*-2*t*delta_t*(op_1 + op_2 + op_3 + op_4 + op_5 + op_6 + op_7 + op_8 + op_9 + op_10 + op_11 + op_12 + op_13 + op_14 + op_15 + op_16))"
   ]
  },
  {
   "cell_type": "code",
   "execution_count": 22,
   "metadata": {},
   "outputs": [],
   "source": [
    "n = 100\n",
    "H_1 = sp.sparse.linalg.expm(0.25j*(op_19 + op_24 + op_29 + op_34)/(2*n))\n",
    "H_2 = sp.sparse.linalg.expm(-1j*-2*t*delta_t*(op_1 + op_2 + op_3 + op_4 + op_5 + op_6 + op_7 + op_8)/(2*n))\n",
    "H_3 = sp.sparse.linalg.expm(-1j*-2*t*delta_t*(op_9 + op_10 + op_11 + op_12 + op_13 + op_14 + op_15 + op_16)/(n))\n",
    "strang_step = H_1 * H_2 * H_3 * H_2 * H_1"
   ]
  },
  {
   "cell_type": "code",
   "execution_count": 23,
   "metadata": {},
   "outputs": [],
   "source": [
    "Eq_strang = strang_step\n",
    "for _ in range(n-1):\n",
    "    Eq_strang *= strang_step"
   ]
  },
  {
   "cell_type": "code",
   "execution_count": 24,
   "metadata": {},
   "outputs": [
    {
     "name": "stdout",
     "output_type": "stream",
     "text": [
      "Error: 0.0032387556376643\n"
     ]
    }
   ],
   "source": [
    "print(\"Error: \" + str(np.linalg.norm(Eq_strang.toarray() - Eq_overall.toarray(), 2)))"
   ]
  },
  {
   "cell_type": "markdown",
   "metadata": {},
   "source": [
    "### Pauli string on overall"
   ]
  },
  {
   "cell_type": "code",
   "execution_count": 25,
   "metadata": {},
   "outputs": [],
   "source": [
    "K1 = sp.sparse.kron(I, sp.sparse.kron(Z, sp.sparse.kron(Z, sp.sparse.kron(I, sp.sparse.kron(Z, sp.sparse.kron(I, sp.sparse.kron(I, Z))))))) # Z_2 Z_3 Z_5 Z_8\n",
    "K2 = sp.sparse.kron(I, sp.sparse.kron(X, sp.sparse.kron(X, sp.sparse.kron(I, sp.sparse.kron(X, sp.sparse.kron(I, sp.sparse.kron(I, X))))))) # X_2 X_3 X_5 X_8"
   ]
  },
  {
   "cell_type": "code",
   "execution_count": 26,
   "metadata": {},
   "outputs": [],
   "source": [
    "n = 100\n",
    "H_1 = sp.sparse.linalg.expm(0.25j*(op_19 + op_24 + op_29 + op_34)/(2*n))\n",
    "H_2 = sp.sparse.linalg.expm(-1j*-2*t*delta_t*(op_1 + op_2 + op_3 + op_4 + op_5 + op_6 + op_7 + op_8)/(2*n))\n",
    "H_3 = sp.sparse.linalg.expm(-1j*-2*t*delta_t*(op_9 + op_10 + op_11 + op_12 + op_13 + op_14 + op_15 + op_16)/(n))\n",
    "\n",
    "ctrl_free_strang_step = K2 * H_1 *K2 * K1 * H_2 * H_3 * H_2 * K1 * K2 * H_1 * K2\n",
    "Eq_ctrl_free_strang = ctrl_free_strang_step\n",
    "for _ in range(n-1):\n",
    "    Eq_ctrl_free_strang *= ctrl_free_strang_step"
   ]
  },
  {
   "cell_type": "code",
   "execution_count": 27,
   "metadata": {},
   "outputs": [],
   "source": [
    "Eq_overall_inv = sp.sparse.linalg.expm(-0.25j*(op_19 + op_24 + op_29 + op_34) +1j*-2*t*delta_t*(op_1 + op_2 + op_3 + op_4 + op_5 + op_6 + op_7 + op_8 + op_9 + op_10 + op_11 + op_12 + op_13 + op_14 + op_15 + op_16))"
   ]
  },
  {
   "cell_type": "code",
   "execution_count": 28,
   "metadata": {},
   "outputs": [
    {
     "name": "stdout",
     "output_type": "stream",
     "text": [
      "Error: 0.00323875563766443\n"
     ]
    }
   ],
   "source": [
    "print(\"Error: \" + str(np.linalg.norm(Eq_overall_inv.toarray() - Eq_ctrl_free_strang.toarray(), 2)))"
   ]
  },
  {
   "cell_type": "markdown",
   "metadata": {},
   "source": [
    "### Shift"
   ]
  },
  {
   "cell_type": "code",
   "execution_count": 30,
   "metadata": {},
   "outputs": [],
   "source": [
    "import scipy\n",
    "H = 0.25*(op_19 + op_24 + op_29 + op_34) -2*t*delta_t*(op_1 + op_2 + op_3 + op_4 + op_5 + op_6 + op_7 + op_8 + op_9 + op_10 + op_11 + op_12 + op_13 + op_14 + op_15 + op_16)\n",
    "U = scipy.linalg.expm(-1j*delta_t*H.toarray())\n",
    "U_inv = scipy.linalg.expm(1j*delta_t*H.toarray())\n",
    "V = scipy.linalg.block_diag(U.conjugate().transpose(), U)"
   ]
  },
  {
   "cell_type": "code",
   "execution_count": 31,
   "metadata": {},
   "outputs": [],
   "source": [
    "import scipy.linalg"
   ]
  },
  {
   "cell_type": "code",
   "execution_count": 32,
   "metadata": {},
   "outputs": [
    {
     "data": {
      "text/plain": [
       "True"
      ]
     },
     "execution_count": 32,
     "metadata": {},
     "output_type": "execute_result"
    }
   ],
   "source": [
    "scipy.linalg.ishermitian(H.toarray())"
   ]
  },
  {
   "cell_type": "code",
   "execution_count": 33,
   "metadata": {},
   "outputs": [],
   "source": [
    "λ, v = np.linalg.eigh(H.toarray())\n",
    "λ = λ.real\n",
    "λ_min = λ.min()\n",
    "λ_max = λ.max()\n",
    "\n",
    "η = 0.05\n",
    "c1 = (np.pi/2 - 2*η) / (λ_max - λ_min)\n",
    "c2 = η - c1 * λ_min\n",
    "\n",
    "H_sh = c1*H.toarray() + c2*np.eye(H.shape[0])\n",
    "U_sh = scipy.linalg.expm(-1j*delta_t*H_sh)\n",
    "U_sh_inv = scipy.linalg.expm(1j*delta_t*H_sh)\n",
    "V_sh = scipy.linalg.block_diag(U_sh.conjugate().transpose(), U_sh)"
   ]
  },
  {
   "cell_type": "code",
   "execution_count": 34,
   "metadata": {},
   "outputs": [
    {
     "name": "stdout",
     "output_type": "stream",
     "text": [
      "Error: 0.7653668647301802\n"
     ]
    }
   ],
   "source": [
    "Eq_sh = scipy.linalg.expm(-1j*delta_t*c1*H.toarray()) # * scipy.linalg.expm(-1j*c2*delta_t)*\n",
    "print(\"Error: \" + str(np.linalg.norm(U_sh - Eq_sh, 2)))"
   ]
  },
  {
   "cell_type": "code",
   "execution_count": 35,
   "metadata": {},
   "outputs": [],
   "source": [
    "scipy.linalg.expm(-1j*c2*delta_t)\n",
    "shift = 0.70710678-0.70710678j"
   ]
  },
  {
   "cell_type": "code",
   "execution_count": 36,
   "metadata": {},
   "outputs": [
    {
     "name": "stderr",
     "output_type": "stream",
     "text": [
      "c:\\Users\\thilo\\anaconda3\\Lib\\site-packages\\scipy\\sparse\\linalg\\_dsolve\\linsolve.py:214: SparseEfficiencyWarning: spsolve requires A be CSC or CSR matrix format\n",
      "  warn('spsolve requires A be CSC or CSR matrix format',\n",
      "c:\\Users\\thilo\\anaconda3\\Lib\\site-packages\\scipy\\sparse\\linalg\\_dsolve\\linsolve.py:285: SparseEfficiencyWarning: spsolve is more efficient when sparse b is in the CSC matrix format\n",
      "  warn('spsolve is more efficient when sparse b '\n"
     ]
    }
   ],
   "source": [
    "n = 100\n",
    "tau = delta_t * c1\n",
    "H_1 = sp.sparse.linalg.expm(-1j*tau*0.25*(op_19 + op_24 + op_29 + op_34)/(2*n))\n",
    "H_2 = sp.sparse.linalg.expm(-1j*tau*-2*t*(op_1 + op_2 + op_3 + op_4 + op_5 + op_6 + op_7 + op_8)/(2*n))\n",
    "H_3 = sp.sparse.linalg.expm(-1j*tau*-2*t*(op_9 + op_10 + op_11 + op_12 + op_13 + op_14 + op_15 + op_16)/(n))\n",
    "\n",
    "ctrl_free_strang_step_sh = K2 * H_1 * K2 * K1 * H_2 * H_3 * H_2 * K1 * K2 * H_1 * K2\n",
    "#ctrl_free_strang_step_sh = H_1 * H_2 * H_3 * H_2 * H_1\n",
    "Eq_ctrl_free_strang_sh = ctrl_free_strang_step_sh\n",
    "#Eq_ctrl_free_strang_sh = shift\n",
    "for _ in range(n-1):\n",
    "    Eq_ctrl_free_strang_sh *= ctrl_free_strang_step_sh\n",
    "Eq_ctrl_free_strang_sh *= scipy.linalg.expm(-1j*c2*np.eye(H.shape[0]))"
   ]
  },
  {
   "cell_type": "code",
   "execution_count": 37,
   "metadata": {},
   "outputs": [
    {
     "name": "stdout",
     "output_type": "stream",
     "text": [
      "Error: 1.4142137975767326\n"
     ]
    }
   ],
   "source": [
    "print(\"Error: \" + str(np.linalg.norm(U_sh_inv - Eq_ctrl_free_strang_sh, 2)))"
   ]
  },
  {
   "cell_type": "code",
   "execution_count": 38,
   "metadata": {},
   "outputs": [],
   "source": [
    "U_1 = scipy.linalg.expm(-1j*delta_t*c1*H.toarray())\n",
    "V_1 = scipy.linalg.block_diag(U_1.conjugate().transpose(), U_1)\n",
    "res = np.kron(np.array([[np.exp(1j*c2), 0.0], [0.0, np.exp(-1j*c2)]]), np.eye(U.shape[0])) @ V_1"
   ]
  },
  {
   "cell_type": "code",
   "execution_count": 39,
   "metadata": {},
   "outputs": [
    {
     "name": "stdout",
     "output_type": "stream",
     "text": [
      "Error: 5.252860380586805e-16\n"
     ]
    }
   ],
   "source": [
    "print(\"Error: \" + str(np.linalg.norm(V_sh - res, 2)))"
   ]
  },
  {
   "cell_type": "code",
   "execution_count": null,
   "metadata": {},
   "outputs": [],
   "source": []
  }
 ],
 "metadata": {
  "kernelspec": {
   "display_name": "base",
   "language": "python",
   "name": "python3"
  },
  "language_info": {
   "codemirror_mode": {
    "name": "ipython",
    "version": 3
   },
   "file_extension": ".py",
   "mimetype": "text/x-python",
   "name": "python",
   "nbconvert_exporter": "python",
   "pygments_lexer": "ipython3",
   "version": "3.11.5"
  }
 },
 "nbformat": 4,
 "nbformat_minor": 2
}
