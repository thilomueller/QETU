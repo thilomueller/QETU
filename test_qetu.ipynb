{
 "cells": [
  {
   "cell_type": "code",
   "execution_count": 1,
   "metadata": {},
   "outputs": [],
   "source": [
    "import numpy as np\n",
    "import scipy.linalg\n",
    "import matplotlib.pyplot as plt\n",
    "\n",
    "from qiskit.visualization import *\n",
    "\n",
    "# custom utility functions\n",
    "from util import *\n",
    "from qetu import *\n",
    "from tfim import *\n",
    "from fermi_hubbard import *"
   ]
  },
  {
   "cell_type": "markdown",
   "metadata": {},
   "source": [
    "### Test TFIM Implementation"
   ]
  },
  {
   "cell_type": "code",
   "execution_count": 2,
   "metadata": {},
   "outputs": [
    {
     "name": "stdout",
     "output_type": "stream",
     "text": [
      "second order Trotter error 7.73817e-06\n",
      "controlled Trotter error 1.99522e+00\n"
     ]
    }
   ],
   "source": [
    "delta_t = 0.00012345\n",
    "tfim = TFIM(4, 1.43535)\n",
    "H = tfim.Hamiltonian\n",
    "U = expm(-1j*delta_t*H)\n",
    "\n",
    "qc = tfim.Trotterization(delta_t, 100)\n",
    "trotter = get_matrix(qc)\n",
    "\n",
    "print(\"second order Trotter error {:.5e}\".format(np.linalg.norm(U - trotter, 2)))\n",
    "\n",
    "ctrl_U = scipy.linalg.block_diag(U.conjugate().transpose(), U)\n",
    "ctrl_free_qc = tfim.Control_free_Trotter(2)\n",
    "ctrl_free_trotter = get_matrix(ctrl_free_qc)\n",
    "\n",
    "print(\"controlled Trotter error {:.5e}\".format(np.linalg.norm(ctrl_U - ctrl_free_trotter, 2)))"
   ]
  },
  {
   "cell_type": "markdown",
   "metadata": {},
   "source": [
    "### Test Fermi Hubbard Implementation"
   ]
  },
  {
   "cell_type": "code",
   "execution_count": 3,
   "metadata": {},
   "outputs": [
    {
     "name": "stdout",
     "output_type": "stream",
     "text": [
      "second order Trotter error 9.87600e-04\n",
      "controlled Trotter error 1.05785e-03\n"
     ]
    }
   ],
   "source": [
    "delta_t = 0.00012345\n",
    "fh = FermiHubbard(2, 0.5, 6, 1)\n",
    "H = fh.Hamiltonian\n",
    "U = expm(-1j*delta_t*H)\n",
    "\n",
    "qc = fh.Trotterization(delta_t, 100)\n",
    "trotter = get_matrix(qc)\n",
    "\n",
    "print(\"second order Trotter error {:.5e}\".format(np.linalg.norm(U - trotter, 2)))\n",
    "\n",
    "ctrl_U = scipy.linalg.block_diag(U.conjugate().transpose(), U)\n",
    "ctrl_free_qc = fh.Trotterization(delta_t, 100, True)\n",
    "ctrl_free_trotter = get_matrix(ctrl_free_qc)\n",
    "\n",
    "print(\"controlled Trotter error {:.5e}\".format(np.linalg.norm(ctrl_U - ctrl_free_trotter, 2)))"
   ]
  },
  {
   "cell_type": "markdown",
   "metadata": {},
   "source": [
    "### Test QSP Implementation"
   ]
  },
  {
   "cell_type": "code",
   "execution_count": 4,
   "metadata": {},
   "outputs": [],
   "source": [
    "step_function_qsp_angles = [\n",
    "     0.7854,  0.0000, -0.0000, -0.0000,  0.0000, -0.0000, -0.0000,  0.0000,\n",
    "    -0.0000, -0.0000,  0.0000, -0.0000, -0.0000,  0.0000, -0.0000, -0.0000,\n",
    "     0.0000, -0.0000, -0.0000,  0.0000, -0.0000, -0.0000,  0.0000, -0.0000,\n",
    "    -0.0000,  0.0000, -0.0000, -0.0000,  0.0000, -0.0000, -0.0000,  0.0000,\n",
    "    -0.0000, -0.0000,  0.0001, -0.0001, -0.0000,  0.0001, -0.0001, -0.0000,\n",
    "     0.0001, -0.0001, -0.0000,  0.0002, -0.0002, -0.0000,  0.0002, -0.0002,\n",
    "    -0.0000,  0.0003, -0.0003, -0.0000,  0.0004, -0.0004, -0.0000,  0.0005,\n",
    "    -0.0005, -0.0001,  0.0007, -0.0006, -0.0001,  0.0008, -0.0008, -0.0001,\n",
    "     0.0011, -0.0010, -0.0001,  0.0013, -0.0013, -0.0001,  0.0016, -0.0016,\n",
    "    -0.0002,  0.0020, -0.0020, -0.0002,  0.0025, -0.0024, -0.0003,  0.0030,\n",
    "    -0.0029, -0.0003,  0.0036, -0.0035, -0.0004,  0.0044, -0.0042, -0.0005,\n",
    "     0.0053, -0.0050, -0.0007,  0.0063, -0.0059, -0.0009,  0.0076, -0.0070,\n",
    "    -0.0011,  0.0091, -0.0083, -0.0014,  0.0109, -0.0099, -0.0019,  0.0132,\n",
    "    -0.0119, -0.0025,  0.0163, -0.0144, -0.0035,  0.0204, -0.0176, -0.0051,\n",
    "     0.0262, -0.0221, -0.0079,  0.0355, -0.0287, -0.0137,  0.0525, -0.0400,\n",
    "    -0.0288,  0.0938, -0.0648, -0.1037,  0.3454, -0.4677,  0.3454, -0.1037,\n",
    "    -0.0648,  0.0938, -0.0288, -0.0400,  0.0525, -0.0137, -0.0287,  0.0355,\n",
    "    -0.0079, -0.0221,  0.0262, -0.0051, -0.0176,  0.0204, -0.0035, -0.0144,\n",
    "     0.0163, -0.0025, -0.0119,  0.0132, -0.0019, -0.0099,  0.0109, -0.0014,\n",
    "    -0.0083,  0.0091, -0.0011, -0.0070,  0.0076, -0.0009, -0.0059,  0.0063,\n",
    "    -0.0007, -0.0050,  0.0053, -0.0005, -0.0042,  0.0044, -0.0004, -0.0035,\n",
    "     0.0036, -0.0003, -0.0029,  0.0030, -0.0003, -0.0024,  0.0025, -0.0002,\n",
    "    -0.0020,  0.0020, -0.0002, -0.0016,  0.0016, -0.0001, -0.0013,  0.0013,\n",
    "    -0.0001, -0.0010,  0.0011, -0.0001, -0.0008,  0.0008, -0.0001, -0.0006,\n",
    "     0.0007, -0.0001, -0.0005,  0.0005, -0.0000, -0.0004,  0.0004, -0.0000,\n",
    "    -0.0003,  0.0003, -0.0000, -0.0002,  0.0002, -0.0000, -0.0002,  0.0002,\n",
    "    -0.0000, -0.0001,  0.0001, -0.0000, -0.0001,  0.0001, -0.0000, -0.0001,\n",
    "     0.0001, -0.0000, -0.0000,  0.0000, -0.0000, -0.0000,  0.0000, -0.0000,\n",
    "    -0.0000,  0.0000, -0.0000, -0.0000,  0.0000, -0.0000, -0.0000,  0.0000,\n",
    "    -0.0000, -0.0000,  0.0000, -0.0000, -0.0000,  0.0000, -0.0000, -0.0000,\n",
    "     0.0000, -0.0000, -0.0000,  0.0000, -0.0000, -0.0000,  0.0000, -0.0000,\n",
    "    -0.0000,  0.0000,  0.7854]"
   ]
  },
  {
   "cell_type": "code",
   "execution_count": 5,
   "metadata": {},
   "outputs": [
    {
     "name": "stderr",
     "output_type": "stream",
     "text": [
      "C:\\Users\\thilo\\AppData\\Roaming\\Python\\Python311\\site-packages\\matplotlib\\cbook\\__init__.py:1335: ComplexWarning: Casting complex values to real discards the imaginary part\n",
      "  return np.asarray(x, float)\n"
     ]
    },
    {
     "data": {
      "text/plain": [
       "<matplotlib.legend.Legend at 0x178dbd83010>"
      ]
     },
     "execution_count": 5,
     "metadata": {},
     "output_type": "execute_result"
    },
    {
     "data": {
      "image/png": "[encoded data removed]",
      "text/plain": [
       "<Figure size 640x480 with 1 Axes>"
      ]
     },
     "metadata": {},
     "output_type": "display_data"
    }
   ],
   "source": [
    "def target_heaviside(x, scale=1):\n",
    "    \"\"\"\n",
    "        Target function for eigenvalue filtering.\n",
    "    \"\"\"\n",
    "    return scale * np.heaviside(-x+0.5, 0.5)\n",
    "\n",
    "x_vec = np.linspace(0, 1, 201)\n",
    "y_vec = []\n",
    "for x in x_vec:\n",
    "    qsp_circuit = QSP(step_function_qsp_angles, x)\n",
    "    y = get_matrix(qsp_circuit)[0,0]\n",
    "    y_vec.append(y)\n",
    "\n",
    "plt.plot(x_vec, y_vec, \"r\", label=\"QSP approximation\")\n",
    "plt.plot(x_vec, target_heaviside(x_vec, scale=0.9), \"--\", label=\"target function\")\n",
    "plt.legend()"
   ]
  },
  {
   "cell_type": "markdown",
   "metadata": {},
   "source": [
    "### Test QETU Implementation"
   ]
  },
  {
   "cell_type": "code",
   "execution_count": 6,
   "metadata": {},
   "outputs": [
    {
     "data": {
      "text/latex": [
       "$$\n",
       "\n",
       "\\begin{bmatrix}\n",
       "2.9412578113 & 0 & 0 & 0  \\\\\n",
       " 0 & 2.5322073456 & 0 & 0  \\\\\n",
       " 0 & 0 & 1.854590436 & 0  \\\\\n",
       " 0 & 0 & 0 & 0.9020536236  \\\\\n",
       " \\end{bmatrix}\n",
       "$$"
      ],
      "text/plain": [
       "<IPython.core.display.Latex object>"
      ]
     },
     "execution_count": 6,
     "metadata": {},
     "output_type": "execute_result"
    }
   ],
   "source": [
    "H = np.diag(np.array([2*np.arccos(0.1), 2*np.arccos(0.3), 2*np.arccos(0.6), 2*np.arccos(0.9)]))\n",
    "array_to_latex(H)"
   ]
  },
  {
   "cell_type": "code",
   "execution_count": 7,
   "metadata": {},
   "outputs": [
    {
     "name": "stdout",
     "output_type": "stream",
     "text": [
      "expected eigenvalues: [0. 0. 1. 1.]\n",
      "actual eigenvalues: [0.4650173  0.46537306 1.33545046 1.33557438]\n"
     ]
    },
    {
     "data": {
      "text/plain": [
       "Text(0, 0.5, 'U = F(cos(λ/2))')"
      ]
     },
     "execution_count": 7,
     "metadata": {},
     "output_type": "execute_result"
    },
    {
     "data": {
      "image/png": "[encoded data removed]",
      "text/plain": [
       "<Figure size 640x480 with 1 Axes>"
      ]
     },
     "metadata": {},
     "output_type": "display_data"
    }
   ],
   "source": [
    "from qiskit.extensions import UnitaryGate\n",
    "\n",
    "V = UnitaryGate(expm(-1j*H), label=\"$e^{-iH}$\").control(1, ctrl_state='1')\n",
    "q = QuantumRegister(3, 'q')\n",
    "V_qc = QuantumCircuit(q)\n",
    "V_qc.append(V, q)\n",
    "\n",
    "U_qc = get_matrix(QETU(V_qc, convert_SU2_to_Xrot(step_function_qsp_angles)))[0:4,0:4]\n",
    "λ, v = np.linalg.eigh(H)\n",
    "print(\"expected eigenvalues: \" + str(target_heaviside(np.cos(λ/2))))\n",
    "F_λ, F_v = np.linalg.eigh(U_qc)\n",
    "print(\"actual eigenvalues: \" + str(F_λ))\n",
    "\n",
    "x_list = np.linspace(0, 1, 201)\n",
    "QSP_list = []\n",
    "for x in x_list:\n",
    "    QSP_circuit = QSP(step_function_qsp_angles, x)\n",
    "    result = get_matrix(QSP_circuit)[0,0]\n",
    "    QSP_list.append(result)\n",
    "\n",
    "#plt.plot(x_list, target_filt(x_list, scale=0.9), \"--\", label=\"target function\")\n",
    "plt.plot(x_list, QSP_list, \"g\", label=\"Re[Poly(a)]\")\n",
    "plt.scatter(x=np.cos(λ/2), y=F_λ-0.4650173)\n",
    "plt.xlabel(\"cos(λ/2)\")\n",
    "plt.ylabel(\"U = F(cos(λ/2))\")"
   ]
  },
  {
   "cell_type": "markdown",
   "metadata": {},
   "source": [
    "### Test QETU Ground State Estimation"
   ]
  },
  {
   "cell_type": "code",
   "execution_count": 8,
   "metadata": {},
   "outputs": [
    {
     "name": "stdout",
     "output_type": "stream",
     "text": [
      "Ground state energy: -74.76394203685358\n",
      "Ground state vector: [ 0.00000000e+00+0.j  0.00000000e+00+0.j  0.00000000e+00+0.j\n",
      "  0.00000000e+00+0.j  0.00000000e+00+0.j  4.94192433e-01+0.j\n",
      "  5.05740882e-01+0.j -1.11022302e-16+0.j  0.00000000e+00+0.j\n",
      "  5.05740882e-01+0.j  4.94192433e-01+0.j -8.86827467e-17+0.j\n",
      "  0.00000000e+00+0.j  0.00000000e+00+0.j  0.00000000e+00+0.j\n",
      "  0.00000000e+00+0.j]\n"
     ]
    }
   ],
   "source": [
    "delta_t = 0.00012345\n",
    "fh = FermiHubbard(2, 2.343, 3.4534, 9.343)\n",
    "H = fh.Hamiltonian\n",
    "U = expm(-1j*delta_t*H)\n",
    "\n",
    "# Diagonalize the Hamiltonian\n",
    "λ, v = np.linalg.eigh(H)\n",
    "# Find the ground state\n",
    "ground_state_index = np.argmin(λ)\n",
    "ground_state_energy = λ[ground_state_index]\n",
    "ground_state_vector = v[:, ground_state_index]\n",
    "\n",
    "print(\"Ground state energy:\", ground_state_energy)\n",
    "print(\"Ground state vector:\", ground_state_vector)"
   ]
  },
  {
   "cell_type": "code",
   "execution_count": 9,
   "metadata": {},
   "outputs": [],
   "source": [
    "V = fh.Trotterization(delta_t, 100, True)\n",
    "qetu_cirtuit = QETU(V, step_function_qsp_angles)\n"
   ]
  }
 ],
 "metadata": {
  "kernelspec": {
   "display_name": "Python 3",
   "language": "python",
   "name": "python3"
  },
  "language_info": {
   "codemirror_mode": {
    "name": "ipython",
    "version": 3
   },
   "file_extension": ".py",
   "mimetype": "text/x-python",
   "name": "python",
   "nbconvert_exporter": "python",
   "pygments_lexer": "ipython3",
   "version": "3.11.0"
  }
 },
 "nbformat": 4,
 "nbformat_minor": 2
}
